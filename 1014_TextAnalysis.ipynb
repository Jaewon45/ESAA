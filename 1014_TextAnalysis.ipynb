{
 "cells": [
  {
   "cell_type": "markdown",
   "id": "f045b25a",
   "metadata": {},
   "source": [
    "# Chapter 8. 텍스트분석\n",
    "\n",
    "### NLP이냐 텍스트분석이냐?\n",
    "- NLP는 머신이 인간의 언어를 이해하고 해석하는 데 중점\n",
    " - 언어 해석을 위한 기계 번역, 자동으로 질문을 해석하는 질의응답 시스템 등\n",
    "- 텍스트분석 (텍스트마이닝)은 비정형 텍스트에서 의미 있는 정보를 추출하는 것에 중점\n",
    " - 머신러닝, 언어이해, 통계 등을 활용해 모델을 수립하고 정보를 추출해 비즈니스 인텔리전스 (business intelligene)나 예측 분석 등의 분석 작업을 주로 수행\n",
    "\n",
    "- 차원 축소\n",
    " - 일부 정보 유실, 일반적으로는 훈련 속도만 빨라지고 시스템의 성능은 조금 나빠질 수 있음\n",
    " - 어떤 경우에는 잡음이나 불필요한 세부사항을 걸러내므로 성능을 높일 수 있음\n",
    " - 시각화에 유용하며 군집 같은 시각적인 패턴을 감지해 중요한 통찰을 얻는 경우가 많음\n",
    "\n",
    "----\n",
    "1. 텍스트 분류(text classification) : text categorization. 문서가 특정 분류 또는 카테고리에 속하는 것을 예측하는 기법을 통칭, 지도학습 적용\n",
    "2. 감성 분석(sentiment analysis) : 텍스트에서 나타나는 감정/판단/믿음/의견/기분 등의 주관적인 요소를 분석하는 기법. 지도학습 및 비지도학습 적용\n",
    "3. 텍스트 요약(summarization) : 텍스트 내에서 중요한 주제나 중심 사상을 추출하는 기법. 토픽 모델링 등\n",
    "4. 텍스트 군집화(clustering)와 유사도 측정 : 비슷한 유형의 문서에 대해 군집화를 수행하는 기법. 텍스트 분류를 비지도학습으로 수행하는 방법의 일환으로 사용될 수 있음. 유사도 측정은 문서들간의 유사도를 측정해 비슷한 문서끼리 모을 수 있는 방법\n",
    "\n",
    "## 01. 텍스트 분석 이해\n",
    "- 비정형 데이터인 텍스트를 분석함\n",
    "- 텍스트를 word(또는 word의 일부분) 기반의 다수의 피처로 추출하고, 피처에 단어 빈도수와 같은 숫자 값을 부여하면 텍스트는 단어의 조합인 벡터값으로 표현됨\n",
    " - 피처 벡터화(feature vectorization) 또는 피처 추출(feature extraction)\n",
    " - BOW(bag of words)와 Word2Vec 방법\n",
    " \n",
    "### 텍스트 분석 수행 프로세스\n",
    "1. 텍스트 사전 준비작업(텍스트 전처리) : 클렌징, 대/소문자 변경, 특수문자 삭제 등의 클렌징 작업, 단어 등의 토큰화 작업, 의미 없는 단어(stop word) 제거 작업, 어근 추출(stemming/lemmatization) 등의 텍스트 정규화 작업을 수행\n",
    "2. 피처 벡터화/추출 : 가공된 텍스트에서 피처를 추출하고 벡터값을 할당. BOW(count기반, TF-IDF기반)와 Word2Vec이 대표적\n",
    "3. ML 모델 수립 및 학습/예측/평가 : 피처 벡터화된 데이터세트에 학습/예측/평가 수행\n",
    "\n",
    "### 파이썬 기반의 NLP, 텍스트 분석 패키지\n",
    "- NTLK : 방대한 데이터세트와 서브 모듈, 다양한 데이터 세트를 지원, 수행 속도 측면에서 단점\n",
    "- Genism : 토픽 모델링 분야에서 두각 \n",
    "- SpaCy : 뛰어난 수행 성능\n",
    "\n",
    "## 02. 텍스트 사전 준비작업(텍스트 전처리) - 텍스트 정규화\n",
    "### 클렌징(cleansing)\n",
    "- 분석에 방해가 되는 불필요한 문자, 기호 등을 사전에 제거 (ex. html, xml 태그)\n",
    "### 텍스트 토큰화(tokenization)\n",
    "#### 문장 토큰화\n",
    "- 문서에서 문장을 분리\n",
    "- 문장의 마침표, 개행문자(\\n)등 문장의 마지막을 뜻하는 기호에 따라 분리하는 것이 일반적\n",
    "- 정규표현식에 따른 문장 토큰화\n",
    "- NTLK는 일반적응로 sent_tokenize 이용"
   ]
  },
  {
   "cell_type": "code",
   "execution_count": 16,
   "id": "03373584",
   "metadata": {},
   "outputs": [],
   "source": [
    "import numpy as np\n",
    "import pandas as pd\n",
    "\n",
    "import matplotlib as mpl\n",
    "import matplotlib.pyplot as plt\n",
    "import seaborn as sns\n",
    "\n",
    "import warnings"
   ]
  },
  {
   "cell_type": "code",
   "execution_count": 17,
   "id": "e186f98b",
   "metadata": {},
   "outputs": [
    {
     "name": "stderr",
     "output_type": "stream",
     "text": [
      "[nltk_data] Downloading package punkt to /Users/jaewon/nltk_data...\n",
      "[nltk_data]   Unzipping tokenizers/punkt.zip.\n"
     ]
    },
    {
     "data": {
      "text/plain": [
       "True"
      ]
     },
     "execution_count": 17,
     "metadata": {},
     "output_type": "execute_result"
    }
   ],
   "source": [
    "from nltk import sent_tokenize\n",
    "import nltk\n",
    "nltk.download('punkt')"
   ]
  },
  {
   "cell_type": "code",
   "execution_count": 23,
   "id": "b808943d",
   "metadata": {},
   "outputs": [],
   "source": [
    "# 3개의 문장으로 이루어진 텍스트 문서를 문장으로 각각 분리\n",
    "text_sample = 'The Matrix is everywhere its all around us, here even in this room. \\\n",
    "               You can see it out your window or on your television. \\\n",
    "               You feel it when you go to work, or go to church or pay your taxes.'\n",
    "sentences = sent_tokenize(text=text_sample)"
   ]
  },
  {
   "cell_type": "code",
   "execution_count": 24,
   "id": "16ca57c1",
   "metadata": {},
   "outputs": [
    {
     "name": "stdout",
     "output_type": "stream",
     "text": [
      "<class 'list'> 3\n",
      "['The Matrix is everywhere its all around us, here even in this room.', 'You can see it out your window or on your television.', 'You feel it when you go to work, or go to church or pay your taxes.']\n"
     ]
    }
   ],
   "source": [
    "print(type(sentences),len(sentences))\n",
    "print(sentences)"
   ]
  },
  {
   "cell_type": "markdown",
   "id": "e2878792",
   "metadata": {},
   "source": [
    "- 각각의 문장으로 구성된 List 객체 반환\n",
    "\n",
    "#### 단어 토큰화\n",
    "- 문장에서 단어를 분리\n",
    "- 공백, 콤마, 마침표, 개행문자 등으로 분리, 정규표현식을 이용하기도 함\n",
    "- BOW와 같이 단어의 순서가 중요하지 않은 경우 문장 토큰화를 사용하지 않고 단어 토큰화만 사용해도 충분함"
   ]
  },
  {
   "cell_type": "code",
   "execution_count": 25,
   "id": "8b23900b",
   "metadata": {},
   "outputs": [
    {
     "name": "stdout",
     "output_type": "stream",
     "text": [
      "<class 'list'> 15\n",
      "['The', 'Matrix', 'is', 'everywhere', 'its', 'all', 'around', 'us', ',', 'here', 'even', 'in', 'this', 'room', '.']\n"
     ]
    }
   ],
   "source": [
    "from nltk import word_tokenize\n",
    "sentence = \"The Matrix is everywhere its all around us, here even in this room.\"\n",
    "words = word_tokenize(sentence)\n",
    "print(type(words), len(words))\n",
    "print(words)"
   ]
  },
  {
   "cell_type": "code",
   "execution_count": 30,
   "id": "2040e2b5",
   "metadata": {},
   "outputs": [
    {
     "name": "stdout",
     "output_type": "stream",
     "text": [
      "<class 'list'> 3\n",
      "[['The', 'Matrix', 'is', 'everywhere', 'its', 'all', 'around', 'us', ',', 'here', 'even', 'in', 'this', 'room', '.'], ['You', 'can', 'see', 'it', 'out', 'your', 'window', 'or', 'on', 'your', 'television', '.'], ['You', 'feel', 'it', 'when', 'you', 'go', 'to', 'work', ',', 'or', 'go', 'to', 'church', 'or', 'pay', 'your', 'taxes', '.']]\n"
     ]
    }
   ],
   "source": [
    "# sent_tokenize와 word_tokenize 조합해 문서에 대해서 모든 단어를 토큰화\n",
    "from nltk import word_tokenize, sent_tokenize\n",
    "\n",
    "# 여러개의 문장으로 된 입력 데이터를 문장별로 단어 토큰화하게 만드는 함수 생성\n",
    "def tokenize_text(text):\n",
    "    # 문장별로 분리 토큰\n",
    "    sentences = sent_tokenize(text)\n",
    "    # 분리된 문장별 단어 토큰화\n",
    "    word_tokens = [word_tokenize(sentence) for sentence in sentences]\n",
    "    return word_tokens\n",
    "\n",
    "# 여러 문장에 대해 문장별 단어 토큰화 수행\n",
    "word_tokens = tokenize_text(text_sample)\n",
    "print(type(word_tokens), len(word_tokens))\n",
    "print(word_tokens)"
   ]
  },
  {
   "cell_type": "markdown",
   "id": "765af6b3",
   "metadata": {},
   "source": [
    "- 문장을 단어별로 하나씩 토큰화할 경우 문맥적인 의미는 무시될 수밖에 없음\n",
    "\n",
    "- n_gram : 연속된 n개의 단어를 하나의 토큰화 단위로 분리해냄\n",
    "- n개 단어 크기의 윈도우를 만들어 문장의 처음부터 오른쪽으로 움직이면서 토큰화 수행\n",
    "\n",
    "#### 스톱 워드 제거\n",
    "- 스톱 워드(stop word) : 분석에 큰 의미가 없는 단어 지칭\n",
    " - 문장을 구성하는 필수 문법 요소지만 문맥적으로 큰 의미가 없는 단어\n",
    " - 문법적인 특성으로 인해 빈번하게 텍스트에 나타나므로 사전에 제거하지 않으면 중요한 단어로 인지될 수 있음"
   ]
  },
  {
   "cell_type": "code",
   "execution_count": 33,
   "id": "873e70a5",
   "metadata": {},
   "outputs": [
    {
     "name": "stderr",
     "output_type": "stream",
     "text": [
      "[nltk_data] Downloading package stopwords to\n",
      "[nltk_data]     /Users/jaewon/nltk_data...\n",
      "[nltk_data]   Unzipping corpora/stopwords.zip.\n"
     ]
    },
    {
     "data": {
      "text/plain": [
       "True"
      ]
     },
     "execution_count": 33,
     "metadata": {},
     "output_type": "execute_result"
    }
   ],
   "source": [
    "# nltk의 stopwords 목록 다운\n",
    "import nltk\n",
    "nltk.download('stopwords')"
   ]
  },
  {
   "cell_type": "code",
   "execution_count": 34,
   "id": "4a5b3637",
   "metadata": {},
   "outputs": [
    {
     "name": "stdout",
     "output_type": "stream",
     "text": [
      "영어 stop words 개수: 179\n",
      "['i', 'me', 'my', 'myself', 'we', 'our', 'ours', 'ourselves', 'you', \"you're\", \"you've\", \"you'll\", \"you'd\", 'your', 'yours', 'yourself', 'yourselves', 'he', 'him', 'his', 'himself', 'she', \"she's\", 'her', 'hers', 'herself', 'it', \"it's\", 'its', 'itself', 'they', 'them', 'their', 'theirs', 'themselves', 'what', 'which', 'who', 'whom', 'this', 'that', \"that'll\", 'these', 'those', 'am', 'is', 'are', 'was', 'were', 'be', 'been', 'being', 'have', 'has', 'had', 'having', 'do', 'does', 'did', 'doing', 'a', 'an', 'the', 'and', 'but', 'if', 'or', 'because', 'as', 'until', 'while', 'of', 'at', 'by', 'for', 'with', 'about', 'against', 'between', 'into', 'through', 'during', 'before', 'after', 'above', 'below', 'to', 'from', 'up', 'down', 'in', 'out', 'on', 'off', 'over', 'under', 'again', 'further', 'then', 'once', 'here', 'there', 'when', 'where', 'why', 'how', 'all', 'any', 'both', 'each', 'few', 'more', 'most', 'other', 'some', 'such', 'no', 'nor', 'not', 'only', 'own', 'same', 'so', 'than', 'too', 'very', 's', 't', 'can', 'will', 'just', 'don', \"don't\", 'should', \"should've\", 'now', 'd', 'll', 'm', 'o', 're', 've', 'y', 'ain', 'aren', \"aren't\", 'couldn', \"couldn't\", 'didn', \"didn't\", 'doesn', \"doesn't\", 'hadn', \"hadn't\", 'hasn', \"hasn't\", 'haven', \"haven't\", 'isn', \"isn't\", 'ma', 'mightn', \"mightn't\", 'mustn', \"mustn't\", 'needn', \"needn't\", 'shan', \"shan't\", 'shouldn', \"shouldn't\", 'wasn', \"wasn't\", 'weren', \"weren't\", 'won', \"won't\", 'wouldn', \"wouldn't\"]\n"
     ]
    }
   ],
   "source": [
    "print('영어 stop words 개수:', len(nltk.corpus.stopwords.words('english')))\n",
    "print(nltk.corpus.stopwords.words('english'))"
   ]
  },
  {
   "cell_type": "code",
   "execution_count": 35,
   "id": "e419ea13",
   "metadata": {},
   "outputs": [
    {
     "name": "stdout",
     "output_type": "stream",
     "text": [
      "[['matrix', 'everywhere', 'around', 'us', ',', 'even', 'room', '.'], ['see', 'window', 'television', '.'], ['feel', 'go', 'work', ',', 'go', 'church', 'pay', 'taxes', '.']]\n"
     ]
    }
   ],
   "source": [
    "# word_token 리스트에서 stopwords를 필터링으로 제거해 의미 있는 단어만 추출\n",
    "import nltk\n",
    "stopwords = nltk.corpus.stopwords.words('english')\n",
    "all_tokens=[]\n",
    "# 위 예제의 3개의 문장별로 얻은 word_tokens list 에 대해 stop word 제거 Loop\n",
    "for sentence in word_tokens:\n",
    "    filtered_words=[]\n",
    "    # 개별 문장별로 tokenize된 sentence list에 대해 stop word 제거 Loop\n",
    "    for word in sentence:\n",
    "        # 소문자로 모두 변환합니다. \n",
    "        word = word.lower()\n",
    "        # tokenize 된 개별 word가 stop words 들의 단어에 포함되지 않으면 word_tokens에 추가\n",
    "        if word not in stopwords:\n",
    "            filtered_words.append(word)\n",
    "    all_tokens.append(filtered_words)\n",
    "\n",
    "print(all_tokens)"
   ]
  },
  {
   "cell_type": "markdown",
   "id": "2e5dbbd0",
   "metadata": {},
   "source": [
    "#### Stemming과 Lemmatization\n",
    "- 문법적, 또는 의미적으로 변화하는 단어의 원형을 찾음\n",
    "- Lemmatization \n",
    " - Stemming보다 정교하며 의미론적인 기반에서 단어의 원형을 찾음\n",
    " - 품사와 같은 문법적인 요소와 더 의미적인 부분을 감안해 정확한 철자로 된 어근 단어를 찾아줌\n",
    " - 변환에 더 오랜 시간 필요\n",
    " - `WordNetLemmatizer`\n",
    "- Stemming \n",
    " - 원형 단어로 변환시 일반적인 방법을 적용하거나 더 단순화된 방법을 적용해 원래 단어에서 일부 철자가 훼손된 어근 단어를 추출하는 경향이 있음\n",
    " - `Porter`,`Lancaster`,`Snowball Stemmer`\n",
    "  - 진행형, 3인칭 단수, 과거형에 따른 동사, 비교, 최상에 따른 형용사의 변화에 따라 원형 단어를 찾아줌"
   ]
  },
  {
   "cell_type": "code",
   "execution_count": 36,
   "id": "486dbea9",
   "metadata": {
    "scrolled": true
   },
   "outputs": [
    {
     "name": "stdout",
     "output_type": "stream",
     "text": [
      "work work work\n",
      "amus amus amus\n",
      "happy happiest\n",
      "fant fanciest\n",
      "was wer\n"
     ]
    }
   ],
   "source": [
    "from nltk.stem import LancasterStemmer\n",
    "stemmer = LancasterStemmer() \n",
    "\n",
    "# 객체의 stem 메서드 호출해 원하는 단어의 stemming\n",
    "print(stemmer.stem('working'),stemmer.stem('works'),stemmer.stem('worked'))\n",
    "print(stemmer.stem('amusing'),stemmer.stem('amuses'),stemmer.stem('amused'))\n",
    "print(stemmer.stem('happier'),stemmer.stem('happiest'))\n",
    "print(stemmer.stem('fancier'),stemmer.stem('fanciest'))\n",
    "print(stemmer.stem('was'), stemmer.stem('were'))"
   ]
  },
  {
   "cell_type": "markdown",
   "id": "b3a5869f",
   "metadata": {},
   "source": [
    "- amuse : 변형된 단어의 정확한 어근을 찾지 못하고 원형 단어에서 철자가 다른 어근 단어로 인식하는 경우 발생"
   ]
  },
  {
   "cell_type": "code",
   "execution_count": 55,
   "id": "37a8368b",
   "metadata": {},
   "outputs": [
    {
     "name": "stdout",
     "output_type": "stream",
     "text": [
      "amuse amuse amuse\n",
      "happy happy\n",
      "fancy fancy\n"
     ]
    }
   ],
   "source": [
    "# WordNetLemmatizer 이용\n",
    "# 단어의 품사 입력 필요 (동사는 v, 형용사는 a)\n",
    "lemma = WordNetLemmatizer()\n",
    "print(lemma.lemmatize('amusing','v'),lemma.lemmatize('amuses','v'),lemma.lemmatize('amused','v'))\n",
    "print(lemma.lemmatize('happier','a'),lemma.lemmatize('happiest','a'))\n",
    "print(lemma.lemmatize('fancier','a'),lemma.lemmatize('fanciest','a'))"
   ]
  },
  {
   "cell_type": "markdown",
   "id": "c6be7cc6",
   "metadata": {},
   "source": [
    "## 02. Bag of Words - BOW\n",
    "- 문서가 가지는 모든 단어를 문맥이나 순서를 무시하고 일괄적으로 단어에 대해 빈도값을 부여해 피처 값 추출\n",
    "- 장점 \n",
    " - 쉽고 빠른 구축. 문서의 특징을 잘 나타낼 수 있는 모델이어서 전통적으로 여러 분야에서 활용도가 높음\n",
    "- 단점 \n",
    " 1. 문맥 의미(semantic context)반영 부족\n",
    "   - 단어의 순서를 고려하지 않기 때문에 문장 내에서 단어의 문맥적인 의미가 무시됨\n",
    "   - n_gram 기법 활용도 제한적인 부분에 그침\n",
    " 2. 희소 행렬 문제(희소성, 희소 행렬) \n",
    "   - 희소 행렬 현태의 데이터세트가 만들어지기 쉬움. 문서마다 서로 다른 단어로 구성되기에 단어가 문서마다 나타나지 않는 경우가 많음\n",
    "   - 대규모의 칼럼으로 구성된 행렬에서 대부분의 값이 0으로 채워짐 (희소 행렬)\n",
    "   \n",
    "### BOW 피처 벡터화\n",
    "- 텍스트를 특정 의미를 가지는 숫자형 값인 벡터 값으로 변환\n",
    "- ex. 각 문서의 텍스트를 단어로 추출해 피처로 할당하고, 각 단어의 발생 빈도와 같은 피처에 값으로 부여해 문서를 단어 피처의 발생 빈도 값으로 구성된 벡터로 만드는 기법\n",
    "- 기존 텍스트 데이터를 또 다른 형태의 피처 조합으로 변경하기 때문에 넓은 범위의 피처 추출에 포함됨\n",
    "- BOW의 피처 벡터화\n",
    " 1. 카운트 기반의 벡터화 : 피처값에 해당 단어가 나타나는 횟수를 부여 \n",
    " 2. TF-IDF(term frequency - inverse document frequency) : 개별 문서에서 자주 나타나는 단어에 높은 가중치를 주되, 모든 문서에서 전반적으로 자주 타나타는 단어에 대해서는 페널티를 주는 방식으로 값을 부여\n",
    " - 문서마다 텍스트가 길고 문서의 개수가 많은 경우 count방식보다 tf-idf방식을 사용하는 것이 더 좋은 예측성능을 보장\n",
    " \n",
    "### 사이킷런의 Count 및 TF-IDF 벡터화 구현: CountVectorizer, TfidfVectorizer\n",
    "- 사이킷런 CountVectorizer 클래스\n",
    "- 피처 벡터화 + 소문자 일괄 변환, 토큰화, 스톱워드 필터링 등의 전처리도 함께 수행\n",
    "|파라미터명|파라미터 설명|\n",
    "|max_df|전체 문서에 걸쳐 너무 높은 빈도수를 가지는 단어 피처를 제외하기 위한 파라미터|\n",
    "|min_df|전체 문서에 걸쳐서 너무 낮은 빈도수를 가지는 단어 피처|\n",
    "|max_features|추출하는 피처의 개수를 제한하며 정수로 값을 지정|\n",
    "|stop_words|'english'로 지정하면 영어의 스톱 워드로 지정된 단어는 추출에서 제외|\n",
    "|n_gram_range|Bag of Words 모델의 단어 순서를 어느정도 보강하기 위한 n_gram 범위를 설정|\n",
    "|analyzer|피처 추출을 수행한 단위 지정 (word, character)|\n",
    "|token_patter|토큰화를 수행하는 정규 표현식 패턴 지정|\n",
    "|tokenizer|토큰화를 별도의 커스텀 함수로 이용시 적용|\n",
    "\n",
    "- 사이킷런 클래스를 이용한 카운트 기반의 피처 벡터화 방법\n",
    "1. 영어의 경우 모든 문자를 소문자로 변경하는 등의 전처리 작업 수행\n",
    "2. 디폴트로 단어 기준으로 n_gram_range를 반영해 각 단어를 토큰화\n",
    "3. 텍스트 정규화 수행\n",
    "- Stemming과 Lemmatization 같은 어근 변환 tokenizer 파라미터에 적용 가능\n",
    "\n",
    "### BOW 벡터화를 통한 희소 행렬\n",
    "- 사이킷런 CountVectorizer/TfidfVectorizer를 이용해 텍스트를 피처 단위로 벡터화해 변환하고 CSR 형태의 희소 행렬 반환\n",
    "- BOW 형태를 가진 언어모델의 피처 벡터화는 대부분 희소 행렬\n",
    " - 너무 많은 불필요한 0값이 메모리 공간에 할당되어 메모리 공간이 많이 필요하며, 행렬의 크기가 커서 연산 시에도 데이터 액세스를 위한 시간이 많이 소모됨\n",
    " - 물리적으로 적은 메모리 공간을 차지할 수 있도록 변환 : COO 형식, CSR 형식\n",
    "\n",
    "### 희소행렬 - COO 형식\n",
    "- COO(Coordinate) 형식은 0이 아닌 데이터만 별도의 데이터 배열에 저장하고, 그 데이터가 가리키는 행과 열의 위치를 별도의 배열로 저장"
   ]
  },
  {
   "cell_type": "code",
   "execution_count": 44,
   "id": "4a67e1a3",
   "metadata": {},
   "outputs": [
    {
     "data": {
      "text/plain": [
       "array([[3, 0, 1],\n",
       "       [0, 2, 0]])"
      ]
     },
     "execution_count": 44,
     "metadata": {},
     "output_type": "execute_result"
    }
   ],
   "source": [
    "# 사이파이로 COO 형식 희소 행렬 변환\n",
    "import numpy as np\n",
    "dense = np.array([[3,0,1],[0,2,0]])\n",
    "\n",
    "from scipy import sparse\n",
    "# 0이 아닌 데이터 추출\n",
    "data = np.array([3,1,2])\n",
    "\n",
    "# 행 위치와 열 위치를 각각 배열로 생성\n",
    "row_pos = np.array([0,0,1])\n",
    "col_pos = np.array([0,2,1])\n",
    "\n",
    "# sparse 패키지의 coo_matrix를 이용해 COO 형식으로 희소 행렬 생성\n",
    "sparse_coo = sparse.coo_matrix((data, (row_pos, col_pos)))\n",
    "\n",
    "# COO 형식의 희소 행렬 객체 변수 -> 밀집 형태의 행렬로 출력\n",
    "sparse_coo.toarray()"
   ]
  },
  {
   "cell_type": "markdown",
   "id": "a615c2ec",
   "metadata": {},
   "source": [
    "### 희소 행렬 - CSR 형식\n",
    "- CSR(Compressed Sparse Row) 형식은 COO 형식이 행과 열의 위치를 나타내기 위해서 반복적인 위치 데이터를 사용해야 하는 문제점을 해결한 방식\n",
    "- COO 형식에서 행 위치 배열이 0부터 순차적으로 증가하는 값으로 이뤄졌다는 특성을 고려해 행 위치 배열의 고유한 값의 시작 위치만 표기하는 방법으로 반복을 제거 (위치의 위치를 표기)\n",
    "- COO 방식보다 메모리가 적게 들고 빠른 연산이 가능"
   ]
  },
  {
   "cell_type": "code",
   "execution_count": 45,
   "id": "47a78b91",
   "metadata": {},
   "outputs": [
    {
     "name": "stdout",
     "output_type": "stream",
     "text": [
      "COO 변환된 데이터가 제대로 되었는지 다시 Dense로 출력 확인\n",
      "[[0 0 1 0 0 5]\n",
      " [1 4 0 3 2 5]\n",
      " [0 6 0 3 0 0]\n",
      " [2 0 0 0 0 0]\n",
      " [0 0 0 7 0 8]\n",
      " [1 0 0 0 0 0]]\n",
      "CSR 변환된 데이터가 제대로 되었는지 다시 Dense로 출력 확인\n",
      "[[0 0 1 0 0 5]\n",
      " [1 4 0 3 2 5]\n",
      " [0 6 0 3 0 0]\n",
      " [2 0 0 0 0 0]\n",
      " [0 0 0 7 0 8]\n",
      " [1 0 0 0 0 0]]\n"
     ]
    }
   ],
   "source": [
    "from scipy import sparse\n",
    "\n",
    "dense2 = np.array([[0,0,1,0,0,5],\n",
    "             [1,4,0,3,2,5],\n",
    "             [0,6,0,3,0,0],\n",
    "             [2,0,0,0,0,0],\n",
    "             [0,0,0,7,0,8],\n",
    "             [1,0,0,0,0,0]])\n",
    "\n",
    "# 0 이 아닌 데이터 추출\n",
    "data2 = np.array([1, 5, 1, 4, 3, 2, 5, 6, 3, 2, 7, 8, 1]) # 데이터 값 배열\n",
    "\n",
    "# 행 위치와 열 위치를 각각 array로 생성 \n",
    "row_pos = np.array([0, 0, 1, 1, 1, 1, 1, 2, 2, 3, 4, 4, 5]) # 행 위치 배열\n",
    "col_pos = np.array([2, 5, 0, 1, 3, 4, 5, 1, 3, 0, 3, 5, 0]) # 열 위치 배열\n",
    "\n",
    "# COO 형식으로 변환 \n",
    "sparse_coo = sparse.coo_matrix((data2, (row_pos,col_pos)))\n",
    "\n",
    "# 행 위치 배열의 고유한 값들의 시작 위치 인덱스를 배열로 생성\n",
    "row_pos_ind = np.array([0, 2, 7, 9, 10, 12, 13]) \n",
    "## 마지막에 총 항목 개수 배열을 추가\n",
    "\n",
    "# CSR 형식으로 변환 \n",
    "sparse_csr = sparse.csr_matrix((data2, col_pos, row_pos_ind))\n",
    "\n",
    "print('COO 변환된 데이터가 제대로 되었는지 다시 Dense로 출력 확인')\n",
    "print(sparse_coo.toarray())\n",
    "print('CSR 변환된 데이터가 제대로 되었는지 다시 Dense로 출력 확인')\n",
    "print(sparse_csr.toarray())"
   ]
  },
  {
   "cell_type": "markdown",
   "id": "b455be99",
   "metadata": {},
   "source": [
    "- 사이킷런의 CountVectorizer나 TfidVectorizer 클래스로 변환된 피처 벡터화 행렬은 모두 CSR 형태의 희소 행렬"
   ]
  }
 ],
 "metadata": {
  "kernelspec": {
   "display_name": "Python 3 (ipykernel)",
   "language": "python",
   "name": "python3"
  },
  "language_info": {
   "codemirror_mode": {
    "name": "ipython",
    "version": 3
   },
   "file_extension": ".py",
   "mimetype": "text/x-python",
   "name": "python",
   "nbconvert_exporter": "python",
   "pygments_lexer": "ipython3",
   "version": "3.9.12"
  }
 },
 "nbformat": 4,
 "nbformat_minor": 5
}
