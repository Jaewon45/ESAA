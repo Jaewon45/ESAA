{
 "cells": [
  {
   "cell_type": "code",
   "execution_count": 2,
   "metadata": {
    "id": "t-RMDKJB7CyJ"
   },
   "outputs": [],
   "source": [
    "# 데이터 로드\n",
    "from sklearn.datasets import fetch_openml\n",
    "mnist=fetch_openml('mnist_784', version=1)"
   ]
  },
  {
   "cell_type": "code",
   "execution_count": 3,
   "metadata": {
    "id": "itFJcmUSkBrK"
   },
   "outputs": [],
   "source": [
    "# train, test split\n",
    "X_train = mnist['data'][:60000]\n",
    "y_train = mnist['target'][:60000]\n",
    "X_test = mnist['data'][60000:]\n",
    "y_test = mnist['target'][60000:]"
   ]
  },
  {
   "cell_type": "markdown",
   "metadata": {
    "id": "RbkbV_ZWkSPc"
   },
   "source": [
    "* 랜덤포레스트에 적용"
   ]
  },
  {
   "cell_type": "code",
   "execution_count": 5,
   "metadata": {
    "id": "xmeHyXmKkLN1"
   },
   "outputs": [
    {
     "data": {
      "text/plain": [
       "RandomForestClassifier(n_estimators=10, random_state=42)"
      ]
     },
     "execution_count": 5,
     "metadata": {},
     "output_type": "execute_result"
    }
   ],
   "source": [
    "# 랜덤포레스트에 적용 (n_estimators=10, random_state=42)\n",
    "from sklearn.ensemble import RandomForestClassifier\n",
    "rfc = RandomForestClassifier(n_estimators=10, random_state=42)\n",
    "rfc.fit(X_train, y_train)"
   ]
  },
  {
   "cell_type": "code",
   "execution_count": 6,
   "metadata": {
    "id": "WXjOor-jknmH"
   },
   "outputs": [
    {
     "data": {
      "text/plain": [
       "0.9492"
      ]
     },
     "execution_count": 6,
     "metadata": {},
     "output_type": "execute_result"
    }
   ],
   "source": [
    "# 정확도 결과\n",
    "from sklearn.metrics import accuracy_score\n",
    "y_pred = rfc.predict(X_test)\n",
    "accuracy_score(y_test, y_pred)"
   ]
  },
  {
   "cell_type": "markdown",
   "metadata": {
    "id": "yetHtlIxcCcY"
   },
   "source": [
    "# 1. PCA"
   ]
  },
  {
   "cell_type": "markdown",
   "metadata": {
    "id": "Lw4KuER0lAGA"
   },
   "source": [
    "* PCA로 변환한 데이터 세트에 랜덤 포레스트 적용"
   ]
  },
  {
   "cell_type": "code",
   "execution_count": 7,
   "metadata": {
    "id": "1BLMGOa2VQuj"
   },
   "outputs": [],
   "source": [
    "# PCA 라이브러리 불러오기\n",
    "from sklearn.decomposition import PCA"
   ]
  },
  {
   "cell_type": "code",
   "execution_count": 8,
   "metadata": {
    "id": "u_w8te9tlDsr"
   },
   "outputs": [],
   "source": [
    "# PCA 적용 95% : n_components=0.95\n",
    "pca = PCA(n_components=0.95)"
   ]
  },
  {
   "cell_type": "code",
   "execution_count": 9,
   "metadata": {
    "id": "aFezNneClV8u"
   },
   "outputs": [
    {
     "data": {
      "text/plain": [
       "RandomForestClassifier(n_estimators=10, random_state=42)"
      ]
     },
     "execution_count": 9,
     "metadata": {},
     "output_type": "execute_result"
    }
   ],
   "source": [
    "# PCA 이후 랜덤포레스트 훈련\n",
    "X_train_pca = pca.fit_transform(X_train)\n",
    "rfc = RandomForestClassifier(n_estimators=10, random_state=42)\n",
    "rfc.fit(X_train_pca, y_train)"
   ]
  },
  {
   "cell_type": "code",
   "execution_count": 10,
   "metadata": {
    "id": "PrsoPgs-lzYj"
   },
   "outputs": [
    {
     "data": {
      "text/plain": [
       "0.9009"
      ]
     },
     "execution_count": 10,
     "metadata": {},
     "output_type": "execute_result"
    }
   ],
   "source": [
    "# 정확도 결과 (X_test도 PCA 적용해야합니다.)\n",
    "X_test_pca = pca.transform(X_test)\n",
    "y_pred = rfc.predict(X_test_pca)\n",
    "accuracy_score(y_pred, y_test)"
   ]
  },
  {
   "cell_type": "markdown",
   "metadata": {
    "id": "A0ZWH3uVb3zW"
   },
   "source": [
    "# 2. LDA"
   ]
  },
  {
   "cell_type": "markdown",
   "metadata": {
    "id": "t-FBfbZ2b94z"
   },
   "source": [
    "- LDA로 변환한 데이터 세트에 랜덤 포레스트 적용"
   ]
  },
  {
   "cell_type": "code",
   "execution_count": 11,
   "metadata": {
    "id": "WxQG2ep9VCo4"
   },
   "outputs": [],
   "source": [
    "# LDA 라이브러리 불러오기\n",
    "from sklearn.discriminant_analysis import LinearDiscriminantAnalysis"
   ]
  },
  {
   "cell_type": "code",
   "execution_count": 16,
   "metadata": {
    "id": "SYvLRl5qYTsn"
   },
   "outputs": [],
   "source": [
    "# LDA 적용 : n_components=5\n",
    "lda = LinearDiscriminantAnalysis(n_components=5)\n",
    "X_train_lda = lda.fit_transform(X_train, y_train)"
   ]
  },
  {
   "cell_type": "code",
   "execution_count": 17,
   "metadata": {
    "id": "xggC9VrVZO3f"
   },
   "outputs": [
    {
     "data": {
      "text/plain": [
       "RandomForestClassifier(n_estimators=10, random_state=42)"
      ]
     },
     "execution_count": 17,
     "metadata": {},
     "output_type": "execute_result"
    }
   ],
   "source": [
    "# LDA 이후 랜덤포레스트 훈련\n",
    "rfc=RandomForestClassifier(n_estimators=10, random_state=42)\n",
    "rfc.fit(X_train_lda, y_train)"
   ]
  },
  {
   "cell_type": "code",
   "execution_count": 18,
   "metadata": {
    "id": "_oVckjoyY4Ly"
   },
   "outputs": [
    {
     "data": {
      "text/plain": [
       "0.8291"
      ]
     },
     "execution_count": 18,
     "metadata": {},
     "output_type": "execute_result"
    }
   ],
   "source": [
    "# 정확도 결과 (X_test도 LDA 적용해야합니다.)\n",
    "X_test_lda = lda.transform(X_test)\n",
    "y_pred = rfc.predict(X_test_lda)\n",
    "accuracy_score(y_pred, y_test)"
   ]
  }
 ],
 "metadata": {
  "colab": {
   "collapsed_sections": [],
   "name": "차원축소_수정.ipynb",
   "provenance": []
  },
  "kernelspec": {
   "display_name": "Python 3 (ipykernel)",
   "language": "python",
   "name": "python3"
  },
  "language_info": {
   "codemirror_mode": {
    "name": "ipython",
    "version": 3
   },
   "file_extension": ".py",
   "mimetype": "text/x-python",
   "name": "python",
   "nbconvert_exporter": "python",
   "pygments_lexer": "ipython3",
   "version": "3.9.7"
  }
 },
 "nbformat": 4,
 "nbformat_minor": 1
}
