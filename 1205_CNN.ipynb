{
  "nbformat": 4,
  "nbformat_minor": 0,
  "metadata": {
    "colab": {
      "provenance": [],
      "toc_visible": true,
      "authorship_tag": "ABX9TyPo9l0XoQpALzwz73j/Gyzu",
      "include_colab_link": true
    },
    "kernelspec": {
      "name": "python3",
      "display_name": "Python 3"
    },
    "language_info": {
      "name": "python"
    }
  },
  "cells": [
    {
      "cell_type": "markdown",
      "metadata": {
        "id": "view-in-github",
        "colab_type": "text"
      },
      "source": [
        "<a href=\"https://colab.research.google.com/github/Jaewon45/ESAA_2022/blob/main/1205_CNN.ipynb\" target=\"_parent\"><img src=\"https://colab.research.google.com/assets/colab-badge.svg\" alt=\"Open In Colab\"/></a>"
      ]
    },
    {
      "cell_type": "markdown",
      "source": [
        "*1. 파이썬 딥러닝 텐서플로 ch4. 1-3, pg. 142~181\n",
        "# Part 04. 합성곱 신경망(CNN)\n",
        "## 01. 합성곱 신경망\n",
        "- 데이터가 가진 특징들의 패턴을 학습하는 알고리즘으로 컴퓨터비전 분야에서 많이 사용됨\n",
        "- 이미지분류, 객체 탐지, 스타일 전이 등\n",
        "  - 객체탐지 : 경계 박스(bounding box) 문제는 회귀분석, 클래스 예측 문제는 분류\n",
        "  - 스타일 전이 : 콘텐츠 이미지와 스타일 참조 이미지를 이용해 콘텐츠의 기본 형태를 유지하고 스타일을 입혀 새로운 이미지를 생성하는 기술\n",
        "\n",
        "### 1-1. 이미지 표현\n",
        "- 화소를 나타내는 숫자가 이미지의 강도를 나타내며 숫자가 클수록 더 강한 특성\n",
        " - 흑백 : 0~255사이의 숫자로 각 픽셀의 화소 값 표현, 0은 검은색, 255는 흰색\n",
        " - 컬러 : R, G, B 채널로 구성된 3장의 이미지를 하나로 결합해 표현, 0~255 사이의 숫자가 클수록 해당 색상을 강하게 표현\n",
        "\n",
        "### 1-2. 합성곱(convolution)\n",
        "- 입력 이미지에 대해 일반적으로 정방형 크기를 가지는 커널을 사용해 입력 이미지에 대한 특성을 추출하는 방법\n",
        "- `특성맵`(feature map) : 합성곱 연산을 통해 추출된 이미지, 딥러닝 모델 학습에 사용시 성능 개선\n",
        "- 이미지에 필터를 적용하는 합성곱 연산\n",
        " - 입력 이미지의 좌측 상단부터 커널과 같은 크기를 갖도록 입력 이미지의 일부분에 커널이 겹치도록 투영\n",
        " - 입력 이미지와 커널이 겹치는 부분에 대하여 element-wise 곱셈 연산을 수행 후 모두 더한 단일 스칼라 값\n",
        " - 연산 결과는 추출된 이미지의 특성맵의 값\n",
        "- `오차 역전파`(back propagation)시 커널의 가중치를 업데이트\n",
        " - `공유 가중치`(shared weights) : 오차 역전파시 커널의 그래디언트를 계산할 때 커널 사이즈에 대해서만 업데이트하면 되므로 완전 연결층을 사용할 때보다 연산량이 훨씬 적음\n",
        "\n",
        "### 1-3 채널(channel)\n",
        "- 입력 이미지를 구성하는 2차원 배열의 개수\n",
        "- 흑백이미지는 단일채널, 컬러이미지는 3개의 채널\n",
        "- 입력 이미지가 여러개의 채널을 갖는 경우 합성곱 연산 수행시 채널 개수만큼 커널이 생성되며 채널마다 커널을 하나씩 적용해 연산 수행. 이후 element-wise 덧셈 연산으로 모두 더해 최종 특성맵 생성\n",
        "\n",
        "### 1-4. 스트라이드(stride)\n",
        "- 커널이 좌측 상단으로부터 입력 이미지를 기준으로 우측으로 이동하면서 합성곱 연산을 계속 수행하고 특성맵에 결과를 채워나갈 때 이동하는 간격, 주로 1 또는 2로 설정\n",
        "- 스트라이드를 2로 설정시 특성맵의 크기가 1/2로 줄어듦\n",
        "\n",
        "### 1-5. 패딩(padding)\n",
        "- 추출된 특성맵의 크기가 입력 이미지 대비 줄어들지 않도록 패딩 설정\n",
        "- 일반적으로 zero-padding 사용 : 입력 이미지의 가장자리에 0으로 채워진 패딩 값으로 채운 후 추출\n",
        "- 케라스의 Covn2D 레이어에서 padding='same'으로 설정시 zero-padding 적용 (기본값은 'valid')\n",
        "\n",
        "### 1-6. 특성맵 사이즈\n",
        "- 출력 데이터의 크기\n",
        "> $(Output Height, Output Width) = ( \\frac{Image Height + 2P - Kernel Height}{S}+1, \\frac{Image Width + 2P - Kernel Width}{S}+1)$\n",
        " - Image Height, Image Width : 입력크기 (input size)\n",
        " - Kernel Height, Kernel Width : 필터 크기 (kernel size)\n",
        " - S : stride\n",
        " - P : padding\n",
        " - Output Height, Output Width : 출력 크기 (output size)\n",
        "\n",
        "### 1-7. 풀링(Pooling)\n",
        "- 추출된 특성맵에 대해 다운샘플링하여 이미지의 크기를 축소하는 레이어\n",
        "- 이미지 축소를 통해 연산량을 감소, 과대적합 방지\n",
        " - 최대풀링 (max pooling) : 값이 큰 값이 다른 특징들을 대표, 좋은 성능\n",
        " - 평균 풀링 (average pooling)\n",
        "- 풀링 레이어도 스트라이드 값을 가지며 2로 설정시 출력 이미지가 1/2로 줄어듦\n",
        "\n",
        "## 02. 간단한 모델 생성\n",
        "### 2-1. 데이터 로드 및 전처리"
      ],
      "metadata": {
        "id": "c_3ndAcfyPS5"
      }
    },
    {
      "cell_type": "code",
      "execution_count": null,
      "metadata": {
        "colab": {
          "base_uri": "https://localhost:8080/"
        },
        "id": "2kf7L1IQyNo1",
        "outputId": "71dbebf2-1e47-4b42-db31-341cebf0c835"
      },
      "outputs": [
        {
          "output_type": "stream",
          "name": "stdout",
          "text": [
            "Downloading data from https://storage.googleapis.com/tensorflow/tf-keras-datasets/mnist.npz\n",
            "11490434/11490434 [==============================] - 0s 0us/step\n",
            "(60000, 28, 28) (60000,)\n",
            "(10000, 28, 28) (10000,)\n"
          ]
        }
      ],
      "source": [
        "# tensorflow 모듈 임포트\n",
        "import tensorflow as tf\n",
        "\n",
        "# mnist 데이터 로드\n",
        "mnist = tf.keras.datasets.mnist\n",
        "(x_train, y_train), (x_valid, y_valid) = mnist.load_data()\n",
        "\n",
        "print(x_train.shape, y_train.shape) \n",
        "print(x_valid.shape, y_valid.shape)"
      ]
    },
    {
      "cell_type": "code",
      "source": [
        "# 샘플 이미지 출력\n",
        "import matplotlib.pyplot as plt\n",
        "\n",
        "def plot_image(data, idx):\n",
        "  plt.figure(figsize=(5,5))\n",
        "  plt.imshow(data[idx], cmap='gray')\n",
        "  plt.axis('off')\n",
        "  plt.show()\n",
        "\n",
        "plot_image(x_train, 0)"
      ],
      "metadata": {
        "colab": {
          "base_uri": "https://localhost:8080/",
          "height": 303
        },
        "id": "lHznB50527Bx",
        "outputId": "f497f906-e198-4bf7-ce50-a9a0cc800bf5"
      },
      "execution_count": null,
      "outputs": [
        {
          "output_type": "display_data",
          "data": {
            "text/plain": [
              "<Figure size 360x360 with 1 Axes>"
            ],
            "image/png": "[encoded data removed]"
          },
          "metadata": {
            "needs_background": "light"
          }
        }
      ]
    },
    {
      "cell_type": "code",
      "source": [
        "print(x_train.min(), x_train.max())\n",
        "print(x_valid.min(), x_valid.max())"
      ],
      "metadata": {
        "colab": {
          "base_uri": "https://localhost:8080/"
        },
        "id": "8lhNEnMe3QFj",
        "outputId": "a74625fd-a79d-43ea-eb50-aae1e66f9634"
      },
      "execution_count": null,
      "outputs": [
        {
          "output_type": "stream",
          "name": "stdout",
          "text": [
            "0 255\n",
            "0 255\n"
          ]
        }
      ]
    },
    {
      "cell_type": "code",
      "source": [
        "# 정규화\n",
        "x_train = x_train/255.0\n",
        "x_valid = x_valid/255.0\n",
        "\n",
        "print(x_train.min(), x_train.max())\n",
        "print(x_valid.min(), x_valid.max())"
      ],
      "metadata": {
        "colab": {
          "base_uri": "https://localhost:8080/"
        },
        "id": "my_JcTQg3TtA",
        "outputId": "06563064-f943-49f5-d975-e83367046ad6"
      },
      "execution_count": null,
      "outputs": [
        {
          "output_type": "stream",
          "name": "stdout",
          "text": [
            "0.0 1.0\n",
            "0.0 1.0\n"
          ]
        }
      ]
    },
    {
      "cell_type": "markdown",
      "source": [
        "- CNN 모델에 주입하기 위해서는 색상을 나타내는 채널 추가\n",
        " - 채널을 추가하고자 하는 위치에 'tf.newaxis' 작성"
      ],
      "metadata": {
        "id": "ucDHT-fC3fJT"
      }
    },
    {
      "cell_type": "code",
      "source": [
        "# 채널 추가\n",
        "print(x_train.shape, x_valid.shape)\n",
        "\n",
        "x_train_in = x_train[..., tf.newaxis]\n",
        "x_valid_in = x_valid[..., tf.newaxis]\n",
        "\n",
        "print(x_train_in.shape, x_valid_in.shape)"
      ],
      "metadata": {
        "colab": {
          "base_uri": "https://localhost:8080/"
        },
        "id": "yTiXG1TW3bK2",
        "outputId": "c79ed009-6cc0-4eb8-9c2a-b5e5d80f8ab9"
      },
      "execution_count": null,
      "outputs": [
        {
          "output_type": "stream",
          "name": "stdout",
          "text": [
            "(60000, 28, 28) (10000, 28, 28)\n",
            "(60000, 28, 28, 1) (10000, 28, 28, 1)\n"
          ]
        }
      ]
    },
    {
      "cell_type": "markdown",
      "source": [
        "### 2-2. Sequential API로 모델 생성 및 학습\n",
        "- 합성곱 레이어(3*3 크기 32종류) 1개, 풀링 레이어 1개\n",
        "- Dense layer 적용을 위해 Flatten layer 추가해 1차원 레이어로 변환"
      ],
      "metadata": {
        "id": "1tGzyjFH3x1c"
      }
    },
    {
      "cell_type": "code",
      "source": [
        "# Sequential API를 사용해 샘플 모델 생성\n",
        "model = tf.keras.Sequential([\n",
        "    # Convolution 적용(32 filters)\n",
        "    tf.keras.layers.Conv2D(32, (3,3), activation='relu',\n",
        "                           input_shape=(28,28,1), name='conv'),\n",
        "    # Max Pooling 적용\n",
        "    tf.keras.layers.MaxPooling2D((2,2), name='pool'),\n",
        "    # Classifier 출력층\n",
        "    tf.keras.layers.Flatten(),\n",
        "    tf.keras.layers.Dense(10, activation='softmax'),\n",
        "])"
      ],
      "metadata": {
        "id": "vflM0UiU3vPd"
      },
      "execution_count": null,
      "outputs": []
    },
    {
      "cell_type": "code",
      "source": [
        "# 모델 컴파일\n",
        "model.compile(optimizer='adam', loss='sparse_categorical_crossentropy',\n",
        "              metrics=['accuracy'])\n",
        "# 모델 훈련\n",
        "history = model.fit(x_train, y_train,\n",
        "                    validation_data=(x_valid_in, y_valid),\n",
        "                    epochs=10)"
      ],
      "metadata": {
        "colab": {
          "base_uri": "https://localhost:8080/"
        },
        "id": "KVNRta1m47L3",
        "outputId": "e2b11521-916a-457e-bf78-bb43c57735fb"
      },
      "execution_count": null,
      "outputs": [
        {
          "output_type": "stream",
          "name": "stdout",
          "text": [
            "Epoch 1/10\n",
            "1875/1875 [==============================] - 39s 20ms/step - loss: 0.2173 - accuracy: 0.9393 - val_loss: 0.0923 - val_accuracy: 0.9722\n",
            "Epoch 2/10\n",
            "1875/1875 [==============================] - 36s 19ms/step - loss: 0.0805 - accuracy: 0.9771 - val_loss: 0.0652 - val_accuracy: 0.9798\n",
            "Epoch 3/10\n",
            "1875/1875 [==============================] - 35s 19ms/step - loss: 0.0606 - accuracy: 0.9825 - val_loss: 0.0554 - val_accuracy: 0.9812\n",
            "Epoch 4/10\n",
            "1875/1875 [==============================] - 33s 17ms/step - loss: 0.0505 - accuracy: 0.9849 - val_loss: 0.0546 - val_accuracy: 0.9826\n",
            "Epoch 5/10\n",
            "1875/1875 [==============================] - 36s 19ms/step - loss: 0.0427 - accuracy: 0.9873 - val_loss: 0.0597 - val_accuracy: 0.9819\n",
            "Epoch 6/10\n",
            "1875/1875 [==============================] - 40s 21ms/step - loss: 0.0366 - accuracy: 0.9891 - val_loss: 0.0550 - val_accuracy: 0.9825\n",
            "Epoch 7/10\n",
            "1875/1875 [==============================] - 42s 22ms/step - loss: 0.0308 - accuracy: 0.9905 - val_loss: 0.0585 - val_accuracy: 0.9813\n",
            "Epoch 8/10\n",
            "1875/1875 [==============================] - 40s 21ms/step - loss: 0.0268 - accuracy: 0.9919 - val_loss: 0.0548 - val_accuracy: 0.9830\n",
            "Epoch 9/10\n",
            "1875/1875 [==============================] - 40s 21ms/step - loss: 0.0233 - accuracy: 0.9929 - val_loss: 0.0527 - val_accuracy: 0.9849\n",
            "Epoch 10/10\n",
            "1875/1875 [==============================] - 40s 21ms/step - loss: 0.0198 - accuracy: 0.9941 - val_loss: 0.0523 - val_accuracy: 0.9844\n"
          ]
        }
      ]
    },
    {
      "cell_type": "code",
      "source": [
        "model.evaluate(x_valid_in, y_valid)\n",
        "# 약 98%의 정확도\n",
        "# 4 epoch 이후부터는 과대적합"
      ],
      "metadata": {
        "colab": {
          "base_uri": "https://localhost:8080/"
        },
        "id": "cDsc_XHL5Krv",
        "outputId": "f6fee315-de0e-4748-de3d-efbc08206b38"
      },
      "execution_count": null,
      "outputs": [
        {
          "output_type": "stream",
          "name": "stdout",
          "text": [
            "313/313 [==============================] - 3s 9ms/step - loss: 0.0523 - accuracy: 0.9844\n"
          ]
        },
        {
          "output_type": "execute_result",
          "data": {
            "text/plain": [
              "[0.052331529557704926, 0.9843999743461609]"
            ]
          },
          "metadata": {},
          "execution_count": 16
        }
      ]
    },
    {
      "cell_type": "code",
      "source": [
        "def plot_loss_acc(history, epoch):\n",
        "    loss, val_loss = history.history['loss'], history.history['val_loss']\n",
        "    acc, val_acc = history.history['accuracy'], history.history['val_accuracy']\n",
        "    \n",
        "    fig, axes = plt.subplots(1,2,figsize=(12,4))\n",
        "    \n",
        "    axes[0].plot(range(1, epoch+1), loss, label = 'Training')\n",
        "    axes[0].plot(range(1, epoch+1), val_loss, label = \"Validation\")\n",
        "    axes[0].legend(loc='best')\n",
        "    axes[0].set_title('Loss')\n",
        "\n",
        "    axes[1].plot(range(1, epoch+1), acc, label = 'Training')\n",
        "    axes[1].plot(range(1, epoch+1), val_acc, label = \"Validation\")\n",
        "    axes[1].legend(loc='best')\n",
        "    axes[1].set_title('Accuracy')\n",
        "    \n",
        "    plt.show()\n",
        "    \n",
        "plot_loss_acc(history, 10)"
      ],
      "metadata": {
        "colab": {
          "base_uri": "https://localhost:8080/",
          "height": 281
        },
        "id": "36FqBiIX5jB8",
        "outputId": "6218039b-6a84-4bf1-ec10-9a618e7be625"
      },
      "execution_count": null,
      "outputs": [
        {
          "output_type": "display_data",
          "data": {
            "text/plain": [
              "<Figure size 864x288 with 2 Axes>"
            ],
            "image/png": "[encoded data removed]"
          },
          "metadata": {
            "needs_background": "light"
          }
        }
      ]
    },
    {
      "cell_type": "markdown",
      "source": [
        "### 2-3. 모델 구조 파악\n",
        "- (28, 28, 1) 형태의 입력 텐서가 Conv2D를 거치면서 (26, 26, 32) 형태로 변환\n",
        " - (3, 3) 크기의 합성곱 필터를 사용하기 때문에 가로 세로 크기가 2씩 감소 (패딩과 무관)\n",
        " - 서로 다른 32개의 필터를 적용했기 때문에 (26, 26) 크기의 특성맵이 32개 생성됨\n",
        " - (28, 28, 1) 이미지에 서로 다른 32개 커널을 적용해서 32가지 종류의 피처를 추출한 것\n",
        "- (2, 2) 크기의 풀링 레이어를 적용했기에 이미지 크기가 1/2로 감소\n",
        "- Flatten층에서 3차원 텐서를 1차원 텐서로 펼치면 (13*13*32)개 원소를 갖는 1차원 벡터가 됨\n",
        "- 1차원 벡터를 출력 노드 10개인 Dense 레이어로 보내면 최종 분류 값을 예측해 출력"
      ],
      "metadata": {
        "id": "cDyjCibp5iNk"
      }
    },
    {
      "cell_type": "code",
      "source": [
        "model.summary()"
      ],
      "metadata": {
        "colab": {
          "base_uri": "https://localhost:8080/"
        },
        "id": "F-c1zSSM5_k0",
        "outputId": "ef59ba03-1c21-4110-ec6a-2ff2ab669f0f"
      },
      "execution_count": null,
      "outputs": [
        {
          "output_type": "stream",
          "name": "stdout",
          "text": [
            "Model: \"sequential\"\n",
            "_________________________________________________________________\n",
            " Layer (type)                Output Shape              Param #   \n",
            "=================================================================\n",
            " conv (Conv2D)               (None, 26, 26, 32)        320       \n",
            "                                                                 \n",
            " pool (MaxPooling2D)         (None, 13, 13, 32)        0         \n",
            "                                                                 \n",
            " flatten (Flatten)           (None, 5408)              0         \n",
            "                                                                 \n",
            " dense (Dense)               (None, 10)                54090     \n",
            "                                                                 \n",
            "=================================================================\n",
            "Total params: 54,410\n",
            "Trainable params: 54,410\n",
            "Non-trainable params: 0\n",
            "_________________________________________________________________\n"
          ]
        }
      ]
    },
    {
      "cell_type": "markdown",
      "source": [
        "- 입력 텐서는 (None, 28, 28, 1) 형태\n",
        " - 가장 앞에 있는 축의 None 값은 배치 크기가 들어오는 위치 (어떤 값이든 가능하다는 의미)\n",
        "- 출력 텐서는 10개의 노드를 갖는 1차원 벡터 형태"
      ],
      "metadata": {
        "id": "BTI2jd5q66MV"
      }
    },
    {
      "cell_type": "code",
      "source": [
        "# 입력 텐서 형태\n",
        "model.input"
      ],
      "metadata": {
        "colab": {
          "base_uri": "https://localhost:8080/"
        },
        "id": "oLfh6qV46A0W",
        "outputId": "6ad34ed4-984b-4cef-c272-4efb3dfa866f"
      },
      "execution_count": null,
      "outputs": [
        {
          "output_type": "execute_result",
          "data": {
            "text/plain": [
              "<KerasTensor: shape=(None, 28, 28, 1) dtype=float32 (created by layer 'conv_input')>"
            ]
          },
          "metadata": {},
          "execution_count": 20
        }
      ]
    },
    {
      "cell_type": "code",
      "source": [
        "# 출력 텐서 형태\n",
        "model.output"
      ],
      "metadata": {
        "colab": {
          "base_uri": "https://localhost:8080/"
        },
        "id": "U5nLXf3k6pMr",
        "outputId": "44499dd5-48f8-4495-d5c3-8729465b38ef"
      },
      "execution_count": null,
      "outputs": [
        {
          "output_type": "execute_result",
          "data": {
            "text/plain": [
              "<KerasTensor: shape=(None, 10) dtype=float32 (created by layer 'dense')>"
            ]
          },
          "metadata": {},
          "execution_count": 21
        }
      ]
    },
    {
      "cell_type": "code",
      "source": [
        "# 레이어\n",
        "model.layers\n",
        "# 파이썬 리스트 형태로 출력"
      ],
      "metadata": {
        "colab": {
          "base_uri": "https://localhost:8080/"
        },
        "id": "UKVS_F1T62cN",
        "outputId": "f2126a8c-3a96-46d4-f472-044e34e4627d"
      },
      "execution_count": null,
      "outputs": [
        {
          "output_type": "execute_result",
          "data": {
            "text/plain": [
              "[<keras.layers.convolutional.conv2d.Conv2D at 0x7fd5c68e0e90>,\n",
              " <keras.layers.pooling.max_pooling2d.MaxPooling2D at 0x7fd5c68e0310>,\n",
              " <keras.layers.reshaping.flatten.Flatten at 0x7fd5c68b4650>,\n",
              " <keras.layers.core.dense.Dense at 0x7fd5c694b7d0>]"
            ]
          },
          "metadata": {},
          "execution_count": 22
        }
      ]
    },
    {
      "cell_type": "code",
      "source": [
        "# 첫번째 레이어 선택\n",
        "model.layers[0]"
      ],
      "metadata": {
        "colab": {
          "base_uri": "https://localhost:8080/"
        },
        "id": "18fi-34p7A36",
        "outputId": "2f2f6d31-f999-43da-bd1d-c7df7b6bef16"
      },
      "execution_count": null,
      "outputs": [
        {
          "output_type": "execute_result",
          "data": {
            "text/plain": [
              "<keras.layers.convolutional.conv2d.Conv2D at 0x7fd5c68e0e90>"
            ]
          },
          "metadata": {},
          "execution_count": 23
        }
      ]
    },
    {
      "cell_type": "code",
      "source": [
        "# 첫번째 레이어 입력\n",
        "model.layers[0].input"
      ],
      "metadata": {
        "colab": {
          "base_uri": "https://localhost:8080/"
        },
        "id": "r-JNGfqq7D3y",
        "outputId": "de6adeb1-4a5d-409b-906d-ff1fe1c35ae9"
      },
      "execution_count": null,
      "outputs": [
        {
          "output_type": "execute_result",
          "data": {
            "text/plain": [
              "<KerasTensor: shape=(None, 28, 28, 1) dtype=float32 (created by layer 'conv_input')>"
            ]
          },
          "metadata": {},
          "execution_count": 24
        }
      ]
    },
    {
      "cell_type": "code",
      "source": [
        "# 첫번째 레이어 출력\n",
        "model.layers[0].output"
      ],
      "metadata": {
        "colab": {
          "base_uri": "https://localhost:8080/"
        },
        "id": "-ixiYwkD7H5j",
        "outputId": "fea61453-cb02-4621-e999-71ca7f5c7898"
      },
      "execution_count": null,
      "outputs": [
        {
          "output_type": "execute_result",
          "data": {
            "text/plain": [
              "<KerasTensor: shape=(None, 26, 26, 32) dtype=float32 (created by layer 'conv')>"
            ]
          },
          "metadata": {},
          "execution_count": 25
        }
      ]
    },
    {
      "cell_type": "code",
      "source": [
        "# 첫번째 레이어의 가중치 행렬 추출\n",
        "model.layers[0].weights"
      ],
      "metadata": {
        "colab": {
          "base_uri": "https://localhost:8080/"
        },
        "id": "6geZJ-3C7KOr",
        "outputId": "3fd95167-994d-4f9c-ae90-b99429b26b32"
      },
      "execution_count": null,
      "outputs": [
        {
          "output_type": "execute_result",
          "data": {
            "text/plain": [
              "[<tf.Variable 'conv/kernel:0' shape=(3, 3, 1, 32) dtype=float32, numpy=\n",
              " array([[[[-0.12391716, -0.09938227,  0.50991774,  0.26424435,\n",
              "            0.23130648,  0.29495192, -1.0224655 , -0.56652766,\n",
              "           -0.360807  , -1.2519069 ,  0.21542212,  0.16921386,\n",
              "           -0.7629568 ,  0.523815  , -0.26558682, -0.34824276,\n",
              "           -0.3892672 ,  0.54317963,  0.37587473, -1.4907597 ,\n",
              "           -1.1891752 ,  0.33779454, -0.5885926 ,  0.2966039 ,\n",
              "           -0.07448643,  0.20008455, -0.555765  , -0.03652085,\n",
              "            0.33413577,  0.24731919,  0.09742219, -0.22149387]],\n",
              " \n",
              "         [[ 0.28197256, -0.22435401,  0.7183408 ,  0.24021508,\n",
              "            0.20158917, -0.35938692, -0.7512712 ,  0.02739558,\n",
              "            0.02960626, -0.8412541 ,  0.29836375, -0.29412934,\n",
              "           -1.17131   ,  0.29110694, -0.08775706, -0.06575695,\n",
              "            0.21613051, -0.17296496,  0.22485277, -0.6131981 ,\n",
              "            0.06558976,  0.49420515, -0.19367233,  0.3520959 ,\n",
              "            0.43171296,  0.06245995, -0.2163354 , -0.85776246,\n",
              "           -0.1852246 ,  0.0767065 ,  0.3733667 , -0.57944256]],\n",
              " \n",
              "         [[ 0.07904496, -0.4456986 ,  0.5193158 , -0.5688768 ,\n",
              "           -0.06071891, -0.06678518, -0.3098169 ,  0.13170291,\n",
              "           -0.03994404, -0.8328424 ,  0.06026184, -0.880643  ,\n",
              "           -0.08222254, -0.83285326,  0.20197491,  0.2316994 ,\n",
              "            0.20897411, -0.60043037, -0.6109028 , -0.69939303,\n",
              "            0.53527266,  0.11697607,  0.15952386, -0.6240855 ,\n",
              "            0.6847794 ,  0.46806207,  0.23346785, -0.3877356 ,\n",
              "           -0.31710035, -0.35119972,  0.34906784, -0.46219456]]],\n",
              " \n",
              " \n",
              "        [[[-0.40623078,  0.3564772 , -0.2242311 , -0.11906143,\n",
              "           -0.08146778, -0.38721186, -0.42054364, -0.2670357 ,\n",
              "           -0.09269299, -0.11565431,  0.06440353,  0.6715382 ,\n",
              "           -0.76707613,  0.4914713 ,  0.07668831, -0.50120825,\n",
              "            0.25449318,  0.47655874,  0.4968685 ,  0.3152981 ,\n",
              "           -0.8769375 , -0.5023085 ,  0.20493926,  0.05756784,\n",
              "           -0.41738686, -0.5366688 , -0.0027803 ,  0.5866748 ,\n",
              "            0.15348907, -0.00500409,  0.20180672, -0.2585506 ]],\n",
              " \n",
              "         [[ 0.14200646,  0.28644642,  0.07748903,  0.43988603,\n",
              "           -0.029805  ,  0.35730404,  0.5082524 ,  0.35273495,\n",
              "            0.01847839,  0.4737814 , -0.12795447,  0.06791119,\n",
              "           -0.36886674, -0.05029939,  0.1434063 ,  0.44733155,\n",
              "            0.22584325, -0.0417918 , -0.11089239, -0.17253545,\n",
              "            0.1701167 , -0.06609096,  0.48906493,  0.11358931,\n",
              "            0.06480196, -0.37616137,  0.3081372 ,  0.1631404 ,\n",
              "            0.23684947,  0.29393274,  0.4134537 ,  0.08145912]],\n",
              " \n",
              "         [[ 0.02413828,  0.36631235, -0.45983797, -0.08774503,\n",
              "            0.03443614,  0.211101  ,  0.39816743,  0.19083312,\n",
              "            0.26287204, -0.08577974, -0.25102445, -0.6301634 ,\n",
              "            0.7226827 , -0.70870125,  0.12292146,  0.09356776,\n",
              "           -0.41302365, -0.30715215, -0.54472136, -1.1919947 ,\n",
              "            0.5173719 ,  0.3078    ,  0.15954883, -0.2670392 ,\n",
              "            0.6524716 ,  0.34806433,  0.20654671, -0.0222805 ,\n",
              "            0.10175787,  0.3628416 ,  0.41850144,  0.31881708]]],\n",
              " \n",
              " \n",
              "        [[[-0.05788583, -0.27787134, -0.94757956, -0.35261145,\n",
              "           -0.07751235,  0.05961932,  0.25734866,  0.26078397,\n",
              "            0.25464782,  0.0844281 , -0.369589  ,  0.4717003 ,\n",
              "           -0.29133067,  0.3808397 ,  0.18300429, -0.0596445 ,\n",
              "           -0.05283514, -0.15377438,  0.09691858,  0.8946001 ,\n",
              "           -0.82978714, -0.40988693,  0.17587323, -0.06619072,\n",
              "           -0.84095037, -0.36784792,  0.2424272 ,  0.2372834 ,\n",
              "           -0.18245776, -0.11837292, -0.7501897 ,  0.5143169 ]],\n",
              " \n",
              "         [[ 0.31009084, -0.13128145, -0.91012686,  0.00724155,\n",
              "            0.12547956,  0.10080201,  0.3634382 ,  0.24088629,\n",
              "           -0.135925  ,  0.33889866, -0.10537808,  0.39972043,\n",
              "            0.0774611 , -0.7268171 ,  0.18915679,  0.52926385,\n",
              "            0.18721175,  0.10892899, -0.05781912,  0.7142082 ,\n",
              "           -0.06398443, -0.31239936, -0.32736245,  0.3385225 ,\n",
              "           -1.0602838 , -0.46928722,  0.07353872,  0.25821307,\n",
              "           -0.02225157, -0.32192326, -0.7896438 ,  0.3887552 ]],\n",
              " \n",
              "         [[ 0.12322824, -0.09987709, -1.0968395 ,  0.33499452,\n",
              "            0.23192208, -0.23838344,  0.01598444, -0.6627794 ,\n",
              "           -0.08804218,  0.37584686,  0.4451887 , -0.07320637,\n",
              "            0.719422  , -1.269062  , -0.46218616, -0.31898412,\n",
              "           -0.25342208,  0.2878199 , -0.20078708, -0.1489216 ,\n",
              "            0.4733618 ,  0.29268077, -0.51761985,  0.2526613 ,\n",
              "           -0.51991034,  0.49822348, -0.34301153,  0.09027192,\n",
              "            0.25784987,  0.20941187, -0.7177156 ,  0.08532149]]]],\n",
              "       dtype=float32)>,\n",
              " <tf.Variable 'conv/bias:0' shape=(32,) dtype=float32, numpy=\n",
              " array([-0.32260546, -0.07252263, -0.01696183, -0.2818547 , -0.35830444,\n",
              "        -0.06450637, -0.09301714, -0.14807482, -0.18769412,  0.09704919,\n",
              "        -0.2476475 , -0.15200523, -0.01638445, -0.00786297, -0.295868  ,\n",
              "        -0.18892178, -0.18303508, -0.2949993 , -0.11385179,  0.13678369,\n",
              "        -0.00589472, -0.38956589, -0.01826776, -0.44849432, -0.00380842,\n",
              "        -0.22675915, -0.33125633, -0.18119642, -0.33225417, -0.26485002,\n",
              "        -0.04157301, -0.04338353], dtype=float32)>]"
            ]
          },
          "metadata": {},
          "execution_count": 28
        }
      ]
    },
    {
      "cell_type": "markdown",
      "source": [
        "- 2개의 텐서플로 변수 행렬로 구성된 가중치 행렬\n",
        " - 첫번째 변수 (conv/kernel:0)는 커널(합성곱필터) 행렬의 가중치\n",
        "    - shape=(3, 3, 1, 32) : (3, 3)은 필터의 크기 (1)은 입력층의 채널 개수, (32)는 출력층의 채널 개수\n",
        "    - 학습 가능한 파라미터의 수는 3*3*1*32 = 288개\n",
        " - 두번째 변수 (conv/bias:0)는 각 커널의 상수항(bias)를 의미\n",
        "    - shape=(32,) : 출력층의 채널 수\n",
        "- 총 학습 가능한 파라미터 수는 288+32 = 320개"
      ],
      "metadata": {
        "id": "b0Fmdh4e7VpE"
      }
    },
    {
      "cell_type": "code",
      "source": [
        "# 첫번째 레이어 커널 가중치\n",
        "model.layers[0].kernel"
      ],
      "metadata": {
        "colab": {
          "base_uri": "https://localhost:8080/"
        },
        "id": "6O0AO6497Okc",
        "outputId": "e6c342ba-2c1b-479e-d69a-5505270cefbb"
      },
      "execution_count": null,
      "outputs": [
        {
          "output_type": "execute_result",
          "data": {
            "text/plain": [
              "<tf.Variable 'conv/kernel:0' shape=(3, 3, 1, 32) dtype=float32, numpy=\n",
              "array([[[[-0.12391716, -0.09938227,  0.50991774,  0.26424435,\n",
              "           0.23130648,  0.29495192, -1.0224655 , -0.56652766,\n",
              "          -0.360807  , -1.2519069 ,  0.21542212,  0.16921386,\n",
              "          -0.7629568 ,  0.523815  , -0.26558682, -0.34824276,\n",
              "          -0.3892672 ,  0.54317963,  0.37587473, -1.4907597 ,\n",
              "          -1.1891752 ,  0.33779454, -0.5885926 ,  0.2966039 ,\n",
              "          -0.07448643,  0.20008455, -0.555765  , -0.03652085,\n",
              "           0.33413577,  0.24731919,  0.09742219, -0.22149387]],\n",
              "\n",
              "        [[ 0.28197256, -0.22435401,  0.7183408 ,  0.24021508,\n",
              "           0.20158917, -0.35938692, -0.7512712 ,  0.02739558,\n",
              "           0.02960626, -0.8412541 ,  0.29836375, -0.29412934,\n",
              "          -1.17131   ,  0.29110694, -0.08775706, -0.06575695,\n",
              "           0.21613051, -0.17296496,  0.22485277, -0.6131981 ,\n",
              "           0.06558976,  0.49420515, -0.19367233,  0.3520959 ,\n",
              "           0.43171296,  0.06245995, -0.2163354 , -0.85776246,\n",
              "          -0.1852246 ,  0.0767065 ,  0.3733667 , -0.57944256]],\n",
              "\n",
              "        [[ 0.07904496, -0.4456986 ,  0.5193158 , -0.5688768 ,\n",
              "          -0.06071891, -0.06678518, -0.3098169 ,  0.13170291,\n",
              "          -0.03994404, -0.8328424 ,  0.06026184, -0.880643  ,\n",
              "          -0.08222254, -0.83285326,  0.20197491,  0.2316994 ,\n",
              "           0.20897411, -0.60043037, -0.6109028 , -0.69939303,\n",
              "           0.53527266,  0.11697607,  0.15952386, -0.6240855 ,\n",
              "           0.6847794 ,  0.46806207,  0.23346785, -0.3877356 ,\n",
              "          -0.31710035, -0.35119972,  0.34906784, -0.46219456]]],\n",
              "\n",
              "\n",
              "       [[[-0.40623078,  0.3564772 , -0.2242311 , -0.11906143,\n",
              "          -0.08146778, -0.38721186, -0.42054364, -0.2670357 ,\n",
              "          -0.09269299, -0.11565431,  0.06440353,  0.6715382 ,\n",
              "          -0.76707613,  0.4914713 ,  0.07668831, -0.50120825,\n",
              "           0.25449318,  0.47655874,  0.4968685 ,  0.3152981 ,\n",
              "          -0.8769375 , -0.5023085 ,  0.20493926,  0.05756784,\n",
              "          -0.41738686, -0.5366688 , -0.0027803 ,  0.5866748 ,\n",
              "           0.15348907, -0.00500409,  0.20180672, -0.2585506 ]],\n",
              "\n",
              "        [[ 0.14200646,  0.28644642,  0.07748903,  0.43988603,\n",
              "          -0.029805  ,  0.35730404,  0.5082524 ,  0.35273495,\n",
              "           0.01847839,  0.4737814 , -0.12795447,  0.06791119,\n",
              "          -0.36886674, -0.05029939,  0.1434063 ,  0.44733155,\n",
              "           0.22584325, -0.0417918 , -0.11089239, -0.17253545,\n",
              "           0.1701167 , -0.06609096,  0.48906493,  0.11358931,\n",
              "           0.06480196, -0.37616137,  0.3081372 ,  0.1631404 ,\n",
              "           0.23684947,  0.29393274,  0.4134537 ,  0.08145912]],\n",
              "\n",
              "        [[ 0.02413828,  0.36631235, -0.45983797, -0.08774503,\n",
              "           0.03443614,  0.211101  ,  0.39816743,  0.19083312,\n",
              "           0.26287204, -0.08577974, -0.25102445, -0.6301634 ,\n",
              "           0.7226827 , -0.70870125,  0.12292146,  0.09356776,\n",
              "          -0.41302365, -0.30715215, -0.54472136, -1.1919947 ,\n",
              "           0.5173719 ,  0.3078    ,  0.15954883, -0.2670392 ,\n",
              "           0.6524716 ,  0.34806433,  0.20654671, -0.0222805 ,\n",
              "           0.10175787,  0.3628416 ,  0.41850144,  0.31881708]]],\n",
              "\n",
              "\n",
              "       [[[-0.05788583, -0.27787134, -0.94757956, -0.35261145,\n",
              "          -0.07751235,  0.05961932,  0.25734866,  0.26078397,\n",
              "           0.25464782,  0.0844281 , -0.369589  ,  0.4717003 ,\n",
              "          -0.29133067,  0.3808397 ,  0.18300429, -0.0596445 ,\n",
              "          -0.05283514, -0.15377438,  0.09691858,  0.8946001 ,\n",
              "          -0.82978714, -0.40988693,  0.17587323, -0.06619072,\n",
              "          -0.84095037, -0.36784792,  0.2424272 ,  0.2372834 ,\n",
              "          -0.18245776, -0.11837292, -0.7501897 ,  0.5143169 ]],\n",
              "\n",
              "        [[ 0.31009084, -0.13128145, -0.91012686,  0.00724155,\n",
              "           0.12547956,  0.10080201,  0.3634382 ,  0.24088629,\n",
              "          -0.135925  ,  0.33889866, -0.10537808,  0.39972043,\n",
              "           0.0774611 , -0.7268171 ,  0.18915679,  0.52926385,\n",
              "           0.18721175,  0.10892899, -0.05781912,  0.7142082 ,\n",
              "          -0.06398443, -0.31239936, -0.32736245,  0.3385225 ,\n",
              "          -1.0602838 , -0.46928722,  0.07353872,  0.25821307,\n",
              "          -0.02225157, -0.32192326, -0.7896438 ,  0.3887552 ]],\n",
              "\n",
              "        [[ 0.12322824, -0.09987709, -1.0968395 ,  0.33499452,\n",
              "           0.23192208, -0.23838344,  0.01598444, -0.6627794 ,\n",
              "          -0.08804218,  0.37584686,  0.4451887 , -0.07320637,\n",
              "           0.719422  , -1.269062  , -0.46218616, -0.31898412,\n",
              "          -0.25342208,  0.2878199 , -0.20078708, -0.1489216 ,\n",
              "           0.4733618 ,  0.29268077, -0.51761985,  0.2526613 ,\n",
              "          -0.51991034,  0.49822348, -0.34301153,  0.09027192,\n",
              "           0.25784987,  0.20941187, -0.7177156 ,  0.08532149]]]],\n",
              "      dtype=float32)>"
            ]
          },
          "metadata": {},
          "execution_count": 29
        }
      ]
    },
    {
      "cell_type": "code",
      "source": [
        "# 첫번째 레이어 bias 가중치\n",
        "model.layers[0].bias"
      ],
      "metadata": {
        "colab": {
          "base_uri": "https://localhost:8080/"
        },
        "id": "VinCQlR-79oP",
        "outputId": "7d735a03-bba4-4743-a5cf-fb2b61981762"
      },
      "execution_count": null,
      "outputs": [
        {
          "output_type": "execute_result",
          "data": {
            "text/plain": [
              "<tf.Variable 'conv/bias:0' shape=(32,) dtype=float32, numpy=\n",
              "array([-0.32260546, -0.07252263, -0.01696183, -0.2818547 , -0.35830444,\n",
              "       -0.06450637, -0.09301714, -0.14807482, -0.18769412,  0.09704919,\n",
              "       -0.2476475 , -0.15200523, -0.01638445, -0.00786297, -0.295868  ,\n",
              "       -0.18892178, -0.18303508, -0.2949993 , -0.11385179,  0.13678369,\n",
              "       -0.00589472, -0.38956589, -0.01826776, -0.44849432, -0.00380842,\n",
              "       -0.22675915, -0.33125633, -0.18119642, -0.33225417, -0.26485002,\n",
              "       -0.04157301, -0.04338353], dtype=float32)>"
            ]
          },
          "metadata": {},
          "execution_count": 30
        }
      ]
    },
    {
      "cell_type": "code",
      "source": [
        "# name 속성 사용하여 레이어 선택\n",
        "model.get_layer('conv')"
      ],
      "metadata": {
        "colab": {
          "base_uri": "https://localhost:8080/"
        },
        "id": "ERNQJ_xY8A-n",
        "outputId": "0c1b70e1-3559-40a4-ab05-a73d4fc60f05"
      },
      "execution_count": null,
      "outputs": [
        {
          "output_type": "execute_result",
          "data": {
            "text/plain": [
              "<keras.layers.convolutional.conv2d.Conv2D at 0x7fd5c68e0e90>"
            ]
          },
          "metadata": {},
          "execution_count": 31
        }
      ]
    },
    {
      "cell_type": "markdown",
      "source": [
        "- 모델에 입력 데이터를 넣어주고, 첫번째와 두번째 레이어의 출력을 최종 출력으로 갖는 모델 activator 정의"
      ],
      "metadata": {
        "id": "OHzQ12Oa8cD1"
      }
    },
    {
      "cell_type": "code",
      "source": [
        "# 샘플 이미지의 레이어별 출력을 리스트에 추가 (첫번째, 두번째 레이어)\n",
        "activator = tf.keras.Model(inputs=model.input, outputs=[layer.output for layer in model.layers[:2]])\n",
        "activations = activator.predict(x_train_in[0][tf.newaxis,...])\n",
        "len(activations)"
      ],
      "metadata": {
        "colab": {
          "base_uri": "https://localhost:8080/"
        },
        "id": "PpSiC94t8Fz0",
        "outputId": "08435862-34bf-443d-bd2a-167b5e748791"
      },
      "execution_count": null,
      "outputs": [
        {
          "output_type": "stream",
          "name": "stdout",
          "text": [
            "1/1 [==============================] - 0s 146ms/step\n"
          ]
        },
        {
          "output_type": "execute_result",
          "data": {
            "text/plain": [
              "2"
            ]
          },
          "metadata": {},
          "execution_count": 32
        }
      ]
    },
    {
      "cell_type": "code",
      "source": [
        "# 첫번째 레이어(conv) 출력층\n",
        "conv_activation = activations[0]\n",
        "conv_activation.shape"
      ],
      "metadata": {
        "colab": {
          "base_uri": "https://localhost:8080/"
        },
        "id": "L2kwdfws8jG3",
        "outputId": "293f9524-3dcc-4aab-957c-4a472d773a20"
      },
      "execution_count": null,
      "outputs": [
        {
          "output_type": "execute_result",
          "data": {
            "text/plain": [
              "(1, 26, 26, 32)"
            ]
          },
          "metadata": {},
          "execution_count": 33
        }
      ]
    },
    {
      "cell_type": "code",
      "source": [
        "# Convolution 시각화\n",
        "fig, axes = plt.subplots(4,8)\n",
        "fig.set_size_inches(10,5)\n",
        "\n",
        "for i in range(32):\n",
        "    axes[i//8, i%8].matshow(conv_activation[0,:,:,i], cmap='viridis')\n",
        "    axes[i//8, i%8].set_title('kernel %s'%str(i), fontsize=10)\n",
        "    plt.setp(axes[i//8, i%8].get_xticklabels(), visible = False)\n",
        "    plt.setp(axes[i//8, i%8].get_yticklabels(), visible = False)\n",
        "    \n",
        "plt.tight_layout()\n",
        "plt.show()"
      ],
      "metadata": {
        "colab": {
          "base_uri": "https://localhost:8080/",
          "height": 369
        },
        "id": "uqKUIwsS8o41",
        "outputId": "73fe08b2-fdce-4501-d2fc-f6279c07c3ce"
      },
      "execution_count": null,
      "outputs": [
        {
          "output_type": "display_data",
          "data": {
            "text/plain": [
              "<Figure size 720x360 with 32 Axes>"
            ],
            "image/png": "[encoded data removed]"
          },
          "metadata": {}
        }
      ]
    },
    {
      "cell_type": "code",
      "source": [
        "# 두번째 레이어 출력층\n",
        "pooling_activation = activations[1]\n",
        "print(pooling_activation.shape)"
      ],
      "metadata": {
        "colab": {
          "base_uri": "https://localhost:8080/"
        },
        "id": "CJAJDK-l83PL",
        "outputId": "23565ce4-77fe-4c1e-e016-25c707f3c105"
      },
      "execution_count": null,
      "outputs": [
        {
          "output_type": "stream",
          "name": "stdout",
          "text": [
            "(1, 13, 13, 32)\n"
          ]
        }
      ]
    },
    {
      "cell_type": "code",
      "source": [
        "# 시각화\n",
        "fig, axes = plt.subplots(4,8)\n",
        "fig.set_size_inches(10,5)\n",
        "\n",
        "for i in range(32):\n",
        "    axes[i//8, i%8].matshow(pooling_activation[0,:,:,i], cmap='viridis')\n",
        "    axes[i//8, i%8].set_title('kernel %s'%str(i), fontsize=10)\n",
        "    plt.setp(axes[i//8, i%8].get_xticklabels(), visible = False)\n",
        "    plt.setp(axes[i//8, i%8].get_yticklabels(), visible = False)\n",
        "    \n",
        "plt.tight_layout()\n",
        "plt.show()"
      ],
      "metadata": {
        "colab": {
          "base_uri": "https://localhost:8080/",
          "height": 369
        },
        "id": "Bi5g8ubN8ugH",
        "outputId": "06f73a86-0ba0-4272-8305-57a05f7ece49"
      },
      "execution_count": null,
      "outputs": [
        {
          "output_type": "display_data",
          "data": {
            "text/plain": [
              "<Figure size 720x360 with 32 Axes>"
            ],
            "image/png": "[encoded data removed]"
          },
          "metadata": {}
        }
      ]
    },
    {
      "cell_type": "markdown",
      "source": [
        "## 03. 복잡한 모델 생성\n",
        "### 3-1. 데이셋 준비"
      ],
      "metadata": {
        "id": "TL7Xlyfj8_TC"
      }
    },
    {
      "cell_type": "code",
      "source": [
        "# tensorflow 모듈 임포트\n",
        "import tensorflow as tf\n",
        "\n",
        "# mnist 데이터 로드\n",
        "mnist = tf.keras.datasets.mnist\n",
        "(x_train, y_train), (x_valid, y_valid) = mnist.load_data()\n",
        "\n",
        "print(x_train.shape, y_train.shape) \n",
        "print(x_valid.shape, y_valid.shape)"
      ],
      "metadata": {
        "id": "ZL5QuTgS9Bow",
        "colab": {
          "base_uri": "https://localhost:8080/"
        },
        "outputId": "f0f56162-57db-49ba-e775-7b736de63994"
      },
      "execution_count": null,
      "outputs": [
        {
          "output_type": "stream",
          "name": "stdout",
          "text": [
            "(60000, 28, 28) (60000,)\n",
            "(10000, 28, 28) (10000,)\n"
          ]
        }
      ]
    },
    {
      "cell_type": "markdown",
      "source": [
        "- 0~9까지 숫자를 맞추는 정답 외에 홀수(1)인지 짝수(0)인지 판단하는 정답(y_odd)를 추가"
      ],
      "metadata": {
        "id": "DIvsAcf-G8_I"
      }
    },
    {
      "cell_type": "code",
      "source": [
        "# 새로운 출력값 배열 생성(홀수:1, 짝수:0)\n",
        "import numpy as np\n",
        "import pandas as pd\n",
        "\n",
        "y_train_odd=[]\n",
        "for y in y_train:\n",
        "  if y%2==0:\n",
        "    y_train_odd.append(0)\n",
        "  else:\n",
        "    y_train_odd.append(1)\n",
        "\n",
        "y_train_odd = np.array(y_train_odd)\n",
        "y_train_odd.shape"
      ],
      "metadata": {
        "id": "GnVJTfP-Gwml",
        "colab": {
          "base_uri": "https://localhost:8080/"
        },
        "outputId": "83a1d1ac-3a64-4beb-c63e-c6ad99413743"
      },
      "execution_count": null,
      "outputs": [
        {
          "output_type": "execute_result",
          "data": {
            "text/plain": [
              "(60000,)"
            ]
          },
          "metadata": {},
          "execution_count": 4
        }
      ]
    },
    {
      "cell_type": "code",
      "source": [
        "print(y_train[:10])\n",
        "print(y_train_odd[:10])"
      ],
      "metadata": {
        "colab": {
          "base_uri": "https://localhost:8080/"
        },
        "id": "xIsb7NhMHWcv",
        "outputId": "0a4fe057-1fa0-4959-97df-18ef434cb67b"
      },
      "execution_count": null,
      "outputs": [
        {
          "output_type": "stream",
          "name": "stdout",
          "text": [
            "[5 0 4 1 9 2 1 3 1 4]\n",
            "[1 0 0 1 1 0 1 1 1 0]\n"
          ]
        }
      ]
    },
    {
      "cell_type": "code",
      "source": [
        "# validation 데이터셋 처리\n",
        "y_valid_odd=[]\n",
        "for y in y_valid:\n",
        "  if y%2==0:\n",
        "    y_valid_odd.append(0)\n",
        "  else:\n",
        "    y_valid_odd.append(1)\n",
        "\n",
        "y_valid_odd = np.array(y_valid_odd)\n",
        "y_valid_odd.shape"
      ],
      "metadata": {
        "colab": {
          "base_uri": "https://localhost:8080/"
        },
        "id": "ZKmHCmVCHkMZ",
        "outputId": "76acd414-b624-4f99-926c-96d73963a5a7"
      },
      "execution_count": null,
      "outputs": [
        {
          "output_type": "execute_result",
          "data": {
            "text/plain": [
              "(10000,)"
            ]
          },
          "metadata": {},
          "execution_count": 6
        }
      ]
    },
    {
      "cell_type": "markdown",
      "source": [
        "- expand_dims() 함수에 원본 배열 입력 후 새롭게 추가하려는 축의 인덱스 지정시 추가됨\n",
        "- 축의 인덱스 -1로 지정시 끝에 추가됨"
      ],
      "metadata": {
        "id": "1ON1JHLhICyU"
      }
    },
    {
      "cell_type": "code",
      "source": [
        "# 정규화\n",
        "x_train = x_train/255.0\n",
        "x_valid = x_valid/255.0\n",
        "\n",
        "# 채널 추가\n",
        "x_train_in = tf.expand_dims(x_train, -1)\n",
        "x_valid_in = tf.expand_dims(x_valid, -1)\n",
        "\n",
        "print(x_train_in.shape, x_valid_in.shape)"
      ],
      "metadata": {
        "colab": {
          "base_uri": "https://localhost:8080/"
        },
        "id": "FRfq9r-CIK5G",
        "outputId": "ae1061f4-0d9b-4c19-f040-ea25b217a7c3"
      },
      "execution_count": null,
      "outputs": [
        {
          "output_type": "stream",
          "name": "stdout",
          "text": [
            "(60000, 28, 28, 1) (10000, 28, 28, 1)\n"
          ]
        }
      ]
    },
    {
      "cell_type": "markdown",
      "source": [
        "### 3-2. Functional API로 다중 입력, 출력 레이어 생성"
      ],
      "metadata": {
        "id": "aW2JMrIAIQJQ"
      }
    },
    {
      "cell_type": "markdown",
      "source": [
        "- 입력 레이어는 Conv2D 레이어와 Flatten 레이어에 대한 2개의 출력을 갖게 됨\n",
        "- 서로 다른 2개의 출력은 각각 다른 레이어의 입력으로 사용되며 Concatenate레이어에서 합쳐진 다음에 Dense 레이어를 통과"
      ],
      "metadata": {
        "id": "XH1R2x1xJHag"
      }
    },
    {
      "cell_type": "code",
      "source": [
        "# Functional API를 이용하여 모델 생성\n",
        "inputs = tf.keras.layers.Input(shape=(28,28,1))\n",
        "\n",
        "conv = tf.keras.layers.Conv2D(32, (3,3), activation='relu')(inputs)\n",
        "pool = tf.keras.layers.MaxPooling2D((2,2))(conv)\n",
        "flat = tf.keras.layers.Flatten()(pool)\n",
        "\n",
        "flat_inputs = tf.keras.layers.Flatten()(inputs)\n",
        "concat = tf.keras.layers.Concatenate()([flat, flat_inputs])\n",
        "outputs = tf.keras.layers.Dense(10, activation='softmax')(concat)\n",
        "\n",
        "model = tf.keras.models.Model(inputs=inputs, outputs=outputs)\n",
        "model.summary()"
      ],
      "metadata": {
        "colab": {
          "base_uri": "https://localhost:8080/"
        },
        "id": "Vqg6XpFVINLX",
        "outputId": "6834a1e1-216e-44e9-8ef7-b3f9447afe94"
      },
      "execution_count": null,
      "outputs": [
        {
          "output_type": "stream",
          "name": "stdout",
          "text": [
            "Model: \"model\"\n",
            "__________________________________________________________________________________________________\n",
            " Layer (type)                   Output Shape         Param #     Connected to                     \n",
            "==================================================================================================\n",
            " input_2 (InputLayer)           [(None, 28, 28, 1)]  0           []                               \n",
            "                                                                                                  \n",
            " conv2d (Conv2D)                (None, 26, 26, 32)   320         ['input_2[0][0]']                \n",
            "                                                                                                  \n",
            " max_pooling2d (MaxPooling2D)   (None, 13, 13, 32)   0           ['conv2d[0][0]']                 \n",
            "                                                                                                  \n",
            " flatten (Flatten)              (None, 5408)         0           ['max_pooling2d[0][0]']          \n",
            "                                                                                                  \n",
            " flatten_1 (Flatten)            (None, 784)          0           ['input_2[0][0]']                \n",
            "                                                                                                  \n",
            " concatenate (Concatenate)      (None, 6192)         0           ['flatten[0][0]',                \n",
            "                                                                  'flatten_1[0][0]']              \n",
            "                                                                                                  \n",
            " dense (Dense)                  (None, 10)           61930       ['concatenate[0][0]']            \n",
            "                                                                                                  \n",
            "==================================================================================================\n",
            "Total params: 62,250\n",
            "Trainable params: 62,250\n",
            "Non-trainable params: 0\n",
            "__________________________________________________________________________________________________\n"
          ]
        }
      ]
    },
    {
      "cell_type": "code",
      "source": [
        "# 모델 구조 출력 및 이미지 파일로 저장\n",
        "from tensorflow.keras.utils import plot_model\n",
        "\n",
        "plot_model(model, show_shapes=True, show_layer_names=True, to_file='functional_cnn.png')"
      ],
      "metadata": {
        "colab": {
          "base_uri": "https://localhost:8080/",
          "height": 644
        },
        "id": "WFNjnFfWJULw",
        "outputId": "a1730408-6a87-4e41-fcff-9c339e606501"
      },
      "execution_count": null,
      "outputs": [
        {
          "output_type": "execute_result",
          "data": {
            "image/png": "[encoded data removed]",
            "text/plain": [
              "<IPython.core.display.Image object>"
            ]
          },
          "metadata": {},
          "execution_count": 18
        }
      ]
    },
    {
      "cell_type": "code",
      "source": [
        "# 모델 컴파일\n",
        "model.compile(optimizer='adam', loss='sparse_categorical_crossentropy', metrics=['accuracy'])\n",
        "\n",
        "# 모델 훈련\n",
        "history = model.fit(x_train_in, y_train, validation_data = (x_valid_in, y_valid),\n",
        "                    epochs=10)\n",
        "\n",
        "# 모델 성능\n",
        "val_loss, val_acc = model.evaluate(x_valid_in, y_valid)\n",
        "print(val_loss, val_acc)"
      ],
      "metadata": {
        "colab": {
          "base_uri": "https://localhost:8080/"
        },
        "id": "s2kmcLvmJnsM",
        "outputId": "727564f6-e32c-4f36-9a30-5fe756f89f7d"
      },
      "execution_count": null,
      "outputs": [
        {
          "output_type": "stream",
          "name": "stdout",
          "text": [
            "Epoch 1/10\n",
            "1875/1875 [==============================] - 24s 12ms/step - loss: 0.2013 - accuracy: 0.9430 - val_loss: 0.0793 - val_accuracy: 0.9764\n",
            "Epoch 2/10\n",
            "1875/1875 [==============================] - 25s 13ms/step - loss: 0.0760 - accuracy: 0.9779 - val_loss: 0.0670 - val_accuracy: 0.9768\n",
            "Epoch 3/10\n",
            "1875/1875 [==============================] - 24s 13ms/step - loss: 0.0586 - accuracy: 0.9827 - val_loss: 0.0575 - val_accuracy: 0.9816\n",
            "Epoch 4/10\n",
            "1875/1875 [==============================] - 28s 15ms/step - loss: 0.0483 - accuracy: 0.9857 - val_loss: 0.0607 - val_accuracy: 0.9814\n",
            "Epoch 5/10\n",
            "1875/1875 [==============================] - 24s 13ms/step - loss: 0.0401 - accuracy: 0.9876 - val_loss: 0.0564 - val_accuracy: 0.9824\n",
            "Epoch 6/10\n",
            "1875/1875 [==============================] - 26s 14ms/step - loss: 0.0347 - accuracy: 0.9892 - val_loss: 0.0694 - val_accuracy: 0.9789\n",
            "Epoch 7/10\n",
            "1875/1875 [==============================] - 25s 13ms/step - loss: 0.0291 - accuracy: 0.9909 - val_loss: 0.0608 - val_accuracy: 0.9805\n",
            "Epoch 8/10\n",
            "1875/1875 [==============================] - 24s 13ms/step - loss: 0.0240 - accuracy: 0.9927 - val_loss: 0.0562 - val_accuracy: 0.9843\n",
            "Epoch 9/10\n",
            "1875/1875 [==============================] - 29s 15ms/step - loss: 0.0211 - accuracy: 0.9933 - val_loss: 0.0633 - val_accuracy: 0.9826\n",
            "Epoch 10/10\n",
            "1875/1875 [==============================] - 22s 12ms/step - loss: 0.0179 - accuracy: 0.9944 - val_loss: 0.0617 - val_accuracy: 0.9825\n",
            "313/313 [==============================] - 2s 6ms/step - loss: 0.0617 - accuracy: 0.9825\n",
            "0.061747949570417404 0.9825000166893005\n"
          ]
        }
      ]
    },
    {
      "cell_type": "markdown",
      "source": [
        "- 입력이미지와 해결해야하는 문제가 복잡한 경우에는 모델의 구조를 다양하게 만들어서 더 좋은 성능을 보여주는 모델을 찾는 과정 필요\n",
        "\n",
        "\n",
        "### 3-3. 다중 출력 분류 모델"
      ],
      "metadata": {
        "id": "_AOB5JKLKxP3"
      }
    },
    {
      "cell_type": "code",
      "source": [
        "# Functional API를 이용하여 모델 생성\n",
        "inputs = tf.keras.layers.Input(shape=(28,28,1), name='inputs')\n",
        "\n",
        "conv = tf.keras.layers.Conv2D(32, (3,3), activation='relu', name='conv2d_layer')(inputs)\n",
        "pool = tf.keras.layers.MaxPooling2D((2,2), name='maxpool_layer')(conv)\n",
        "flat = tf.keras.layers.Flatten(name='flaten_layer')(pool)\n",
        "\n",
        "flat_inputs = tf.keras.layers.Flatten()(inputs)\n",
        "concat = tf.keras.layers.Concatenate()([flat, flat_inputs])\n",
        "digit_outputs = tf.keras.layers.Dense(10, activation='softmax', name='digit_dense')(concat)\n",
        "odd_outputs = tf.keras.layers.Dense(1, activation='sigmoid', name='odd_dense')(flat_inputs)\n",
        "\n",
        "model = tf.keras.models.Model(inputs=inputs, outputs=[digit_outputs, odd_outputs])\n",
        "model.summary()"
      ],
      "metadata": {
        "colab": {
          "base_uri": "https://localhost:8080/"
        },
        "id": "TL5tLfTYKs7R",
        "outputId": "98341f66-2ee7-46fe-ae8d-54c6a20f622c"
      },
      "execution_count": null,
      "outputs": [
        {
          "output_type": "stream",
          "name": "stdout",
          "text": [
            "Model: \"model_1\"\n",
            "__________________________________________________________________________________________________\n",
            " Layer (type)                   Output Shape         Param #     Connected to                     \n",
            "==================================================================================================\n",
            " inputs (InputLayer)            [(None, 28, 28, 1)]  0           []                               \n",
            "                                                                                                  \n",
            " conv2d_layer (Conv2D)          (None, 26, 26, 32)   320         ['inputs[0][0]']                 \n",
            "                                                                                                  \n",
            " maxpool_layer (MaxPooling2D)   (None, 13, 13, 32)   0           ['conv2d_layer[0][0]']           \n",
            "                                                                                                  \n",
            " flaten_layer (Flatten)         (None, 5408)         0           ['maxpool_layer[0][0]']          \n",
            "                                                                                                  \n",
            " flatten_2 (Flatten)            (None, 784)          0           ['inputs[0][0]']                 \n",
            "                                                                                                  \n",
            " concatenate_1 (Concatenate)    (None, 6192)         0           ['flaten_layer[0][0]',           \n",
            "                                                                  'flatten_2[0][0]']              \n",
            "                                                                                                  \n",
            " digit_dense (Dense)            (None, 10)           61930       ['concatenate_1[0][0]']          \n",
            "                                                                                                  \n",
            " odd_dense (Dense)              (None, 1)            785         ['flatten_2[0][0]']              \n",
            "                                                                                                  \n",
            "==================================================================================================\n",
            "Total params: 63,035\n",
            "Trainable params: 63,035\n",
            "Non-trainable params: 0\n",
            "__________________________________________________________________________________________________\n"
          ]
        }
      ]
    },
    {
      "cell_type": "code",
      "source": [
        "# 모델의 입력과 출력을 나타내는 텐서\n",
        "print(model.input)\n",
        "print(model.output)"
      ],
      "metadata": {
        "colab": {
          "base_uri": "https://localhost:8080/"
        },
        "id": "53PGCmZ_LbT-",
        "outputId": "21d5900b-a2f0-4aa7-925b-d34f3a41289f"
      },
      "execution_count": null,
      "outputs": [
        {
          "output_type": "stream",
          "name": "stdout",
          "text": [
            "KerasTensor(type_spec=TensorSpec(shape=(None, 28, 28, 1), dtype=tf.float32, name='inputs'), name='inputs', description=\"created by layer 'inputs'\")\n",
            "[<KerasTensor: shape=(None, 10) dtype=float32 (created by layer 'digit_dense')>, <KerasTensor: shape=(None, 1) dtype=float32 (created by layer 'odd_dense')>]\n"
          ]
        }
      ]
    },
    {
      "cell_type": "code",
      "source": [
        "plot_model(model, show_shapes=True, show_layer_names=True, to_file='multi_output_cnn.png')"
      ],
      "metadata": {
        "colab": {
          "base_uri": "https://localhost:8080/",
          "height": 644
        },
        "id": "szGHhHn1LhzX",
        "outputId": "362ae168-f61e-43c1-a5e9-5ce38b88ec63"
      },
      "execution_count": null,
      "outputs": [
        {
          "output_type": "execute_result",
          "data": {
            "image/png": "[encoded data removed]",
            "text/plain": [
              "<IPython.core.display.Image object>"
            ]
          },
          "metadata": {},
          "execution_count": 23
        }
      ]
    },
    {
      "cell_type": "markdown",
      "source": [
        "- 컴파일시 각각의 출력 Dense 레이어에 name 속성으로 digit_dense, odd_dense를 지정한 것을 key로 하고, 해당 키에 해당하는 레이어에 적용할 손실함수와 가중치를 딕셔너리 형태로 지정\n",
        "- 훈련시 출력값을 2개 지정, 레이어에 이름 속성을 key로 하는 딕셔너리 형태로 각각의 출력에 맞는 정답 배열 입력 (검증 데이터셋에 대해서도 마찬가지)"
      ],
      "metadata": {
        "id": "L5Ib6oEtLrbz"
      }
    },
    {
      "cell_type": "code",
      "source": [
        "# 모델 컴파일\n",
        "model.compile(optimizer='adam', loss={'digit_dense':'sparse_categorical_crossentropy',\n",
        "                                      'odd_dense':'binary_crossentropy'},\n",
        "              loss_weights={'digit_dense':1, 'odd_dense':0.5},\n",
        "              # loss = 1.0*sparse_categorical_crossentropy + 0.5*binary_crossentropy\n",
        "              metrics=['accuracy'])\n",
        "\n",
        "# 모델 훈련\n",
        "history = model.fit({'inputs':x_train_in},{'digit_dense':y_train, 'odd_dense':y_train_odd},\n",
        "                    validation_data = ({'inputs':x_valid_in}, {'digit_dense':y_valid,'odd_dense':y_valid_odd}),\n",
        "                    epochs=10)"
      ],
      "metadata": {
        "colab": {
          "base_uri": "https://localhost:8080/"
        },
        "id": "4vvabD4ZMKO1",
        "outputId": "f3bb3187-cf5f-4a21-a73c-2c74cdba9681"
      },
      "execution_count": null,
      "outputs": [
        {
          "output_type": "stream",
          "name": "stdout",
          "text": [
            "Epoch 1/10\n",
            "1875/1875 [==============================] - 25s 13ms/step - loss: 0.3647 - digit_dense_loss: 0.2036 - odd_dense_loss: 0.3223 - digit_dense_accuracy: 0.9420 - odd_dense_accuracy: 0.8674 - val_loss: 0.2333 - val_digit_dense_loss: 0.0957 - val_odd_dense_loss: 0.2753 - val_digit_dense_accuracy: 0.9724 - val_odd_dense_accuracy: 0.8898\n",
            "Epoch 2/10\n",
            "1875/1875 [==============================] - 22s 12ms/step - loss: 0.2158 - digit_dense_loss: 0.0800 - odd_dense_loss: 0.2717 - digit_dense_accuracy: 0.9772 - odd_dense_accuracy: 0.8908 - val_loss: 0.2010 - val_digit_dense_loss: 0.0692 - val_odd_dense_loss: 0.2636 - val_digit_dense_accuracy: 0.9774 - val_odd_dense_accuracy: 0.8977\n",
            "Epoch 3/10\n",
            "1875/1875 [==============================] - 26s 14ms/step - loss: 0.1922 - digit_dense_loss: 0.0607 - odd_dense_loss: 0.2629 - digit_dense_accuracy: 0.9823 - odd_dense_accuracy: 0.8950 - val_loss: 0.1906 - val_digit_dense_loss: 0.0613 - val_odd_dense_loss: 0.2585 - val_digit_dense_accuracy: 0.9800 - val_odd_dense_accuracy: 0.9010\n",
            "Epoch 4/10\n",
            "1875/1875 [==============================] - 21s 11ms/step - loss: 0.1789 - digit_dense_loss: 0.0495 - odd_dense_loss: 0.2588 - digit_dense_accuracy: 0.9844 - odd_dense_accuracy: 0.8981 - val_loss: 0.1846 - val_digit_dense_loss: 0.0549 - val_odd_dense_loss: 0.2593 - val_digit_dense_accuracy: 0.9832 - val_odd_dense_accuracy: 0.8997\n",
            "Epoch 5/10\n",
            "1875/1875 [==============================] - 21s 11ms/step - loss: 0.1694 - digit_dense_loss: 0.0410 - odd_dense_loss: 0.2569 - digit_dense_accuracy: 0.9874 - odd_dense_accuracy: 0.8990 - val_loss: 0.1944 - val_digit_dense_loss: 0.0664 - val_odd_dense_loss: 0.2559 - val_digit_dense_accuracy: 0.9800 - val_odd_dense_accuracy: 0.9007\n",
            "Epoch 6/10\n",
            "1875/1875 [==============================] - 21s 11ms/step - loss: 0.1633 - digit_dense_loss: 0.0354 - odd_dense_loss: 0.2558 - digit_dense_accuracy: 0.9890 - odd_dense_accuracy: 0.9000 - val_loss: 0.1885 - val_digit_dense_loss: 0.0604 - val_odd_dense_loss: 0.2562 - val_digit_dense_accuracy: 0.9813 - val_odd_dense_accuracy: 0.9016\n",
            "Epoch 7/10\n",
            "1875/1875 [==============================] - 21s 11ms/step - loss: 0.1569 - digit_dense_loss: 0.0295 - odd_dense_loss: 0.2549 - digit_dense_accuracy: 0.9905 - odd_dense_accuracy: 0.9000 - val_loss: 0.1844 - val_digit_dense_loss: 0.0560 - val_odd_dense_loss: 0.2569 - val_digit_dense_accuracy: 0.9829 - val_odd_dense_accuracy: 0.9010\n",
            "Epoch 8/10\n",
            "1875/1875 [==============================] - 21s 11ms/step - loss: 0.1522 - digit_dense_loss: 0.0252 - odd_dense_loss: 0.2541 - digit_dense_accuracy: 0.9921 - odd_dense_accuracy: 0.9005 - val_loss: 0.1817 - val_digit_dense_loss: 0.0542 - val_odd_dense_loss: 0.2549 - val_digit_dense_accuracy: 0.9849 - val_odd_dense_accuracy: 0.9010\n",
            "Epoch 9/10\n",
            "1875/1875 [==============================] - 21s 11ms/step - loss: 0.1474 - digit_dense_loss: 0.0205 - odd_dense_loss: 0.2537 - digit_dense_accuracy: 0.9933 - odd_dense_accuracy: 0.9009 - val_loss: 0.1890 - val_digit_dense_loss: 0.0617 - val_odd_dense_loss: 0.2546 - val_digit_dense_accuracy: 0.9823 - val_odd_dense_accuracy: 0.9025\n",
            "Epoch 10/10\n",
            "1875/1875 [==============================] - 21s 11ms/step - loss: 0.1447 - digit_dense_loss: 0.0180 - odd_dense_loss: 0.2534 - digit_dense_accuracy: 0.9946 - odd_dense_accuracy: 0.9022 - val_loss: 0.1831 - val_digit_dense_loss: 0.0554 - val_odd_dense_loss: 0.2555 - val_digit_dense_accuracy: 0.9836 - val_odd_dense_accuracy: 0.9010\n"
          ]
        }
      ]
    },
    {
      "cell_type": "code",
      "source": [
        "# 모델 성능\n",
        "model.evaluate({'inputs':x_train_in},{'digit_dense':y_train, 'odd_dense':y_train_odd})"
      ],
      "metadata": {
        "colab": {
          "base_uri": "https://localhost:8080/"
        },
        "id": "c1lh120vNTWU",
        "outputId": "1fa9ee70-ff64-40fb-c4c9-18aec258db78"
      },
      "execution_count": null,
      "outputs": [
        {
          "output_type": "stream",
          "name": "stdout",
          "text": [
            "1875/1875 [==============================] - 9s 5ms/step - loss: 0.1380 - digit_dense_loss: 0.0124 - odd_dense_loss: 0.2511 - digit_dense_accuracy: 0.9965 - odd_dense_accuracy: 0.9025\n"
          ]
        },
        {
          "output_type": "execute_result",
          "data": {
            "text/plain": [
              "[0.13798725605010986,\n",
              " 0.012416081503033638,\n",
              " 0.2511424422264099,\n",
              " 0.9965166449546814,\n",
              " 0.902483344078064]"
            ]
          },
          "metadata": {},
          "execution_count": 27
        }
      ]
    },
    {
      "cell_type": "code",
      "source": [
        "# 샘플 이미지 출력\n",
        "import matplotlib.pyplot as plt\n",
        "\n",
        "def plot_image(data, idx):\n",
        "  plt.figure(figsize=(5,5))\n",
        "  plt.imshow(data[idx])\n",
        "  plt.axis('off')\n",
        "  plt.show()\n",
        "\n",
        "plot_image(x_valid, 0)"
      ],
      "metadata": {
        "colab": {
          "base_uri": "https://localhost:8080/",
          "height": 303
        },
        "id": "VE9_z1CtNfiu",
        "outputId": "cde86751-3912-4704-cf58-d59b5d4de933"
      },
      "execution_count": null,
      "outputs": [
        {
          "output_type": "display_data",
          "data": {
            "text/plain": [
              "<Figure size 360x360 with 1 Axes>"
            ],
            "image/png": "[encoded data removed]"
          },
          "metadata": {
            "needs_background": "light"
          }
        }
      ]
    },
    {
      "cell_type": "code",
      "source": [
        "# 예측\n",
        "digit_preds, odd_preds = model.predict(x_valid_in)\n",
        "print(digit_preds[0])\n",
        "print(odd_preds[0])"
      ],
      "metadata": {
        "colab": {
          "base_uri": "https://localhost:8080/"
        },
        "id": "drpDsHMYNqhQ",
        "outputId": "cc610a37-74b4-44e5-ff2d-064b989c48be"
      },
      "execution_count": null,
      "outputs": [
        {
          "output_type": "stream",
          "name": "stdout",
          "text": [
            "313/313 [==============================] - 2s 5ms/step\n",
            "[1.6121783e-12 3.2714353e-10 7.4123396e-09 3.6596575e-06 2.2461591e-10\n",
            " 2.9375884e-11 3.0062742e-20 9.9999601e-01 9.4251220e-09 1.9627659e-07]\n",
            "[0.99944097]\n"
          ]
        }
      ]
    },
    {
      "cell_type": "code",
      "source": [
        "digit_labels = np.argmax(digit_preds, axis=-1)\n",
        "digit_labels[0:10]"
      ],
      "metadata": {
        "colab": {
          "base_uri": "https://localhost:8080/"
        },
        "id": "7S9_EuwCRUMU",
        "outputId": "0e410016-b5ba-4bdd-e3be-2f3fa4f47f9f"
      },
      "execution_count": null,
      "outputs": [
        {
          "output_type": "execute_result",
          "data": {
            "text/plain": [
              "array([7, 2, 1, 0, 4, 1, 4, 9, 5, 9])"
            ]
          },
          "metadata": {},
          "execution_count": 30
        }
      ]
    },
    {
      "cell_type": "code",
      "source": [
        "odd_labels = (odd_preds >0.5).astype(np.int).reshape(1, -1)[0]\n",
        "odd_labels[0:10]"
      ],
      "metadata": {
        "colab": {
          "base_uri": "https://localhost:8080/"
        },
        "id": "by_hgYYFRZSp",
        "outputId": "ff99b51c-8357-4913-9070-009bb233912d"
      },
      "execution_count": null,
      "outputs": [
        {
          "output_type": "stream",
          "name": "stderr",
          "text": [
            "<ipython-input-32-bde7b6ee3954>:1: DeprecationWarning: `np.int` is a deprecated alias for the builtin `int`. To silence this warning, use `int` by itself. Doing this will not modify any behavior and is safe. When replacing `np.int`, you may wish to use e.g. `np.int64` or `np.int32` to specify the precision. If you wish to review your current use, check the release note link for additional information.\n",
            "Deprecated in NumPy 1.20; for more details and guidance: https://numpy.org/devdocs/release/1.20.0-notes.html#deprecations\n",
            "  odd_labels = (odd_preds >0.5).astype(np.int).reshape(1, -1)[0]\n"
          ]
        },
        {
          "output_type": "execute_result",
          "data": {
            "text/plain": [
              "array([1, 0, 1, 0, 0, 1, 0, 1, 0, 1])"
            ]
          },
          "metadata": {},
          "execution_count": 32
        }
      ]
    },
    {
      "cell_type": "markdown",
      "source": [
        "### 3-4. 전이학습(transfer learning)\n",
        "- 기존에 훈련한 모델의 일부를 가져와 그대로 사용하고 최종 출력층만 새롭게 추가하여 새로운 모델 재구성"
      ],
      "metadata": {
        "id": "-O2o1YqhRpDF"
      }
    },
    {
      "cell_type": "code",
      "source": [
        "# 앞의 모델에서 flatten_layer 출력을 추출\n",
        "base_model_output = model.get_layer('flaten_layer').output # 오타\n",
        "\n",
        "# 앞의 출력을 출력으로 하는 모델 정의\n",
        "base_model = tf.keras.models.Model(inputs=model.input, outputs=base_model_output, name='base')\n",
        "base_model.summary()"
      ],
      "metadata": {
        "colab": {
          "base_uri": "https://localhost:8080/"
        },
        "id": "z2-XQjoeRkeC",
        "outputId": "0ade6757-6000-4fa3-86f5-5564ae454413"
      },
      "execution_count": null,
      "outputs": [
        {
          "output_type": "stream",
          "name": "stdout",
          "text": [
            "Model: \"base\"\n",
            "_________________________________________________________________\n",
            " Layer (type)                Output Shape              Param #   \n",
            "=================================================================\n",
            " inputs (InputLayer)         [(None, 28, 28, 1)]       0         \n",
            "                                                                 \n",
            " conv2d_layer (Conv2D)       (None, 26, 26, 32)        320       \n",
            "                                                                 \n",
            " maxpool_layer (MaxPooling2D  (None, 13, 13, 32)       0         \n",
            " )                                                               \n",
            "                                                                 \n",
            " flaten_layer (Flatten)      (None, 5408)              0         \n",
            "                                                                 \n",
            "=================================================================\n",
            "Total params: 320\n",
            "Trainable params: 320\n",
            "Non-trainable params: 0\n",
            "_________________________________________________________________\n"
          ]
        }
      ]
    },
    {
      "cell_type": "code",
      "source": [
        "plot_model(base_model, show_shapes=True, show_layer_names=True, to_file='base_model.png')"
      ],
      "metadata": {
        "colab": {
          "base_uri": "https://localhost:8080/",
          "height": 422
        },
        "id": "OWio26g-SU_E",
        "outputId": "743a4fd8-0d97-4321-c0cc-3ee906a23c02"
      },
      "execution_count": null,
      "outputs": [
        {
          "output_type": "execute_result",
          "data": {
            "image/png": "[encoded data removed]",
            "text/plain": [
              "<IPython.core.display.Image object>"
            ]
          },
          "metadata": {},
          "execution_count": 36
        }
      ]
    },
    {
      "cell_type": "code",
      "source": [
        "# Sequential API 적용\n",
        "digit_model = tf.keras.Sequential([\n",
        "    base_model, # 앞서 정의한 base_model 레이어로 추가\n",
        "    tf.keras.layers.Dense(10, activation='softmax'), # 최종 분류기 역할의 Dense 레이어 새롭게 추가\n",
        "])\n",
        "\n",
        "digit_model.summary()"
      ],
      "metadata": {
        "colab": {
          "base_uri": "https://localhost:8080/"
        },
        "id": "pDR37dvxSwlo",
        "outputId": "ff5e48d2-baac-4a67-e31a-41f518bc4a54"
      },
      "execution_count": null,
      "outputs": [
        {
          "output_type": "stream",
          "name": "stdout",
          "text": [
            "Model: \"sequential\"\n",
            "_________________________________________________________________\n",
            " Layer (type)                Output Shape              Param #   \n",
            "=================================================================\n",
            " base (Functional)           (None, 5408)              320       \n",
            "                                                                 \n",
            " dense_1 (Dense)             (None, 10)                54090     \n",
            "                                                                 \n",
            "=================================================================\n",
            "Total params: 54,410\n",
            "Trainable params: 54,410\n",
            "Non-trainable params: 0\n",
            "_________________________________________________________________\n"
          ]
        }
      ]
    },
    {
      "cell_type": "markdown",
      "source": [
        "- trainable 의미 : 모델훈련시 파라미터값이 업데이트됨"
      ],
      "metadata": {
        "id": "1bOXfOVmTK8D"
      }
    },
    {
      "cell_type": "code",
      "source": [
        "plot_model(digit_model, show_shapes=True, show_layer_names=True, to_file='digit_model.png')"
      ],
      "metadata": {
        "colab": {
          "base_uri": "https://localhost:8080/",
          "height": 312
        },
        "id": "A6FzjPmeTEJI",
        "outputId": "41e67ed0-fa7a-4e13-ba64-0a119a385a8c"
      },
      "execution_count": null,
      "outputs": [
        {
          "output_type": "execute_result",
          "data": {
            "image/png": "[encoded data removed]",
            "text/plain": [
              "<IPython.core.display.Image object>"
            ]
          },
          "metadata": {},
          "execution_count": 40
        }
      ]
    },
    {
      "cell_type": "code",
      "source": [
        "# 모델 컴파일\n",
        "digit_model.compile(optimizer='adam', loss='sparse_categorical_crossentropy',\n",
        "               metrics=['accuracy'])\n",
        "\n",
        "# 모델 훈련\n",
        "history = digit_model.fit(x_train_in, y_train,\n",
        "                    validation_data = (x_valid_in, y_valid),\n",
        "                    epochs=10)"
      ],
      "metadata": {
        "colab": {
          "base_uri": "https://localhost:8080/"
        },
        "id": "7PJR7XuQTRdi",
        "outputId": "589fea98-9922-4701-abc7-8e45d93419ef"
      },
      "execution_count": null,
      "outputs": [
        {
          "output_type": "stream",
          "name": "stdout",
          "text": [
            "Epoch 1/10\n",
            "1875/1875 [==============================] - 24s 13ms/step - loss: 0.1279 - accuracy: 0.9644 - val_loss: 0.0638 - val_accuracy: 0.9804\n",
            "Epoch 2/10\n",
            "1875/1875 [==============================] - 24s 13ms/step - loss: 0.0571 - accuracy: 0.9830 - val_loss: 0.0574 - val_accuracy: 0.9803\n",
            "Epoch 3/10\n",
            "1875/1875 [==============================] - 22s 12ms/step - loss: 0.0441 - accuracy: 0.9864 - val_loss: 0.0552 - val_accuracy: 0.9813\n",
            "Epoch 4/10\n",
            "1875/1875 [==============================] - 31s 17ms/step - loss: 0.0347 - accuracy: 0.9894 - val_loss: 0.0490 - val_accuracy: 0.9829\n",
            "Epoch 5/10\n",
            "1875/1875 [==============================] - 24s 13ms/step - loss: 0.0297 - accuracy: 0.9905 - val_loss: 0.0530 - val_accuracy: 0.9836\n",
            "Epoch 6/10\n",
            "1875/1875 [==============================] - 20s 10ms/step - loss: 0.0238 - accuracy: 0.9924 - val_loss: 0.0533 - val_accuracy: 0.9847\n",
            "Epoch 7/10\n",
            "1875/1875 [==============================] - 20s 11ms/step - loss: 0.0197 - accuracy: 0.9941 - val_loss: 0.0531 - val_accuracy: 0.9850\n",
            "Epoch 8/10\n",
            "1875/1875 [==============================] - 20s 11ms/step - loss: 0.0172 - accuracy: 0.9943 - val_loss: 0.0573 - val_accuracy: 0.9833\n",
            "Epoch 9/10\n",
            "1875/1875 [==============================] - 21s 11ms/step - loss: 0.0140 - accuracy: 0.9958 - val_loss: 0.0644 - val_accuracy: 0.9817\n",
            "Epoch 10/10\n",
            "1875/1875 [==============================] - 29s 15ms/step - loss: 0.0119 - accuracy: 0.9965 - val_loss: 0.0574 - val_accuracy: 0.9850\n"
          ]
        }
      ]
    },
    {
      "cell_type": "markdown",
      "source": [
        "- 모델 인스턴스의 trainable 속성을 False로 지정시 모델의 파라미터 값이 고정되어 훈련으로 업데이트되지 않음"
      ],
      "metadata": {
        "id": "PZKU0J2cTw0G"
      }
    },
    {
      "cell_type": "code",
      "source": [
        "# 베이스 모델의 가중치 고정 (freeze model)\n",
        "base_model_frozen = tf.keras.models.Model(inputs=model.input, outputs=base_model_output,\n",
        "                                           name='base_frozen')\n",
        "  \n",
        "base_model_frozen.trainable=False \n",
        "base_model_frozen.summary()"
      ],
      "metadata": {
        "colab": {
          "base_uri": "https://localhost:8080/"
        },
        "id": "-dSNPQhjTouz",
        "outputId": "e0f137de-e8c3-4b83-97eb-0505bf30f844"
      },
      "execution_count": null,
      "outputs": [
        {
          "output_type": "stream",
          "name": "stdout",
          "text": [
            "Model: \"base_frozen\"\n",
            "_________________________________________________________________\n",
            " Layer (type)                Output Shape              Param #   \n",
            "=================================================================\n",
            " inputs (InputLayer)         [(None, 28, 28, 1)]       0         \n",
            "                                                                 \n",
            " conv2d_layer (Conv2D)       (None, 26, 26, 32)        320       \n",
            "                                                                 \n",
            " maxpool_layer (MaxPooling2D  (None, 13, 13, 32)       0         \n",
            " )                                                               \n",
            "                                                                 \n",
            " flaten_layer (Flatten)      (None, 5408)              0         \n",
            "                                                                 \n",
            "=================================================================\n",
            "Total params: 320\n",
            "Trainable params: 0\n",
            "Non-trainable params: 320\n",
            "_________________________________________________________________\n"
          ]
        }
      ]
    },
    {
      "cell_type": "code",
      "source": [
        "# Functional API 적용\n",
        "dense_output = tf.keras.layers.Dense(10, activation='softmax')(base_model_frozen.output)\n",
        "digit_model_frozen = tf.keras.models.Model(inputs = base_model_frozen.input,\n",
        "                                           outputs=dense_output)\n",
        "digit_model_frozen.summary()"
      ],
      "metadata": {
        "colab": {
          "base_uri": "https://localhost:8080/"
        },
        "id": "gAx3fjjoUIFT",
        "outputId": "db19b262-ce3e-4f3a-906e-b5f6c6649bb4"
      },
      "execution_count": null,
      "outputs": [
        {
          "output_type": "stream",
          "name": "stdout",
          "text": [
            "Model: \"model_2\"\n",
            "_________________________________________________________________\n",
            " Layer (type)                Output Shape              Param #   \n",
            "=================================================================\n",
            " inputs (InputLayer)         [(None, 28, 28, 1)]       0         \n",
            "                                                                 \n",
            " conv2d_layer (Conv2D)       (None, 26, 26, 32)        320       \n",
            "                                                                 \n",
            " maxpool_layer (MaxPooling2D  (None, 13, 13, 32)       0         \n",
            " )                                                               \n",
            "                                                                 \n",
            " flaten_layer (Flatten)      (None, 5408)              0         \n",
            "                                                                 \n",
            " dense_2 (Dense)             (None, 10)                54090     \n",
            "                                                                 \n",
            "=================================================================\n",
            "Total params: 54,410\n",
            "Trainable params: 54,090\n",
            "Non-trainable params: 320\n",
            "_________________________________________________________________\n"
          ]
        }
      ]
    },
    {
      "cell_type": "markdown",
      "source": [
        "- 앞서 고정한 320개의 파라미터는 훈련이 불가능하다는 것이 표시되어있음\n",
        "- 훈련 가능한 파라미터는 Flatten 레이어 이전에 존재하는 Conv2D레이어의 파라미터 320개를 포함하지 않음"
      ],
      "metadata": {
        "id": "IsTFL2VbU55S"
      }
    },
    {
      "cell_type": "code",
      "source": [
        "# 모델 컴파일\n",
        "digit_model_frozen.compile(optimizer='adam', loss='sparse_categorical_crossentropy',\n",
        "               metrics=['accuracy'])\n",
        "\n",
        "# 모델 훈련\n",
        "history = digit_model_frozen.fit(x_train_in, y_train,\n",
        "                                 validation_data = (x_valid_in, y_valid),\n",
        "                                  epochs=10)"
      ],
      "metadata": {
        "colab": {
          "base_uri": "https://localhost:8080/"
        },
        "id": "0ZixYc55UsFH",
        "outputId": "e779b26e-ce1d-4b9f-a6d6-7e0434f66129"
      },
      "execution_count": null,
      "outputs": [
        {
          "output_type": "stream",
          "name": "stdout",
          "text": [
            "Epoch 1/10\n",
            "1875/1875 [==============================] - 11s 6ms/step - loss: 0.1148 - accuracy: 0.9692 - val_loss: 0.0618 - val_accuracy: 0.9798\n",
            "Epoch 2/10\n",
            "1875/1875 [==============================] - 12s 6ms/step - loss: 0.0490 - accuracy: 0.9853 - val_loss: 0.0484 - val_accuracy: 0.9835\n",
            "Epoch 3/10\n",
            "1875/1875 [==============================] - 13s 7ms/step - loss: 0.0354 - accuracy: 0.9893 - val_loss: 0.0574 - val_accuracy: 0.9816\n",
            "Epoch 4/10\n",
            "1875/1875 [==============================] - 12s 6ms/step - loss: 0.0281 - accuracy: 0.9915 - val_loss: 0.0516 - val_accuracy: 0.9831\n",
            "Epoch 5/10\n",
            "1875/1875 [==============================] - 16s 8ms/step - loss: 0.0228 - accuracy: 0.9930 - val_loss: 0.0509 - val_accuracy: 0.9852\n",
            "Epoch 6/10\n",
            "1875/1875 [==============================] - 13s 7ms/step - loss: 0.0182 - accuracy: 0.9949 - val_loss: 0.0521 - val_accuracy: 0.9854\n",
            "Epoch 7/10\n",
            "1875/1875 [==============================] - 11s 6ms/step - loss: 0.0150 - accuracy: 0.9955 - val_loss: 0.0535 - val_accuracy: 0.9842\n",
            "Epoch 8/10\n",
            "1875/1875 [==============================] - 13s 7ms/step - loss: 0.0122 - accuracy: 0.9965 - val_loss: 0.0529 - val_accuracy: 0.9840\n",
            "Epoch 9/10\n",
            "1875/1875 [==============================] - 12s 6ms/step - loss: 0.0113 - accuracy: 0.9966 - val_loss: 0.0551 - val_accuracy: 0.9842\n",
            "Epoch 10/10\n",
            "1875/1875 [==============================] - 14s 7ms/step - loss: 0.0093 - accuracy: 0.9973 - val_loss: 0.0542 - val_accuracy: 0.9845\n"
          ]
        }
      ]
    },
    {
      "cell_type": "markdown",
      "source": [
        "- 모델 전체가 아니라 특정 레이어를 지정하여 파라미터가 업데이트되지 않도록 고정"
      ],
      "metadata": {
        "id": "ry_U6R0GVToc"
      }
    },
    {
      "cell_type": "code",
      "source": [
        "# 베이스모델의 Conv2D레이어의 가중치만 고정(Freeze Layer)\n",
        "base_model_frozen2 = tf.keras.models.Model(inputs = model.input,\n",
        "                                           outputs=base_model.output,\n",
        "                                           name='base_frozen')\n",
        "base_model_frozen2.get_layer('conv2d_layer').trainable=False\n",
        "base_model_frozen2.summary()"
      ],
      "metadata": {
        "colab": {
          "base_uri": "https://localhost:8080/"
        },
        "id": "qEIrGKtSVNZu",
        "outputId": "a6fc1586-9d11-46f1-b4f9-c8a5f5877e0c"
      },
      "execution_count": null,
      "outputs": [
        {
          "output_type": "stream",
          "name": "stdout",
          "text": [
            "Model: \"base_frozen\"\n",
            "_________________________________________________________________\n",
            " Layer (type)                Output Shape              Param #   \n",
            "=================================================================\n",
            " inputs (InputLayer)         [(None, 28, 28, 1)]       0         \n",
            "                                                                 \n",
            " conv2d_layer (Conv2D)       (None, 26, 26, 32)        320       \n",
            "                                                                 \n",
            " maxpool_layer (MaxPooling2D  (None, 13, 13, 32)       0         \n",
            " )                                                               \n",
            "                                                                 \n",
            " flaten_layer (Flatten)      (None, 5408)              0         \n",
            "                                                                 \n",
            "=================================================================\n",
            "Total params: 320\n",
            "Trainable params: 0\n",
            "Non-trainable params: 320\n",
            "_________________________________________________________________\n"
          ]
        }
      ]
    },
    {
      "cell_type": "code",
      "source": [
        "# Functional API 적용\n",
        "dense_output2 = tf.keras.layers.Dense(10, activation='softmax')(base_model_frozen2.output)\n",
        "digit_model_frozen2 = tf.keras.models.Model(inputs = base_model_frozen2.input,\n",
        "                                           outputs=dense_output2)\n",
        "digit_model_frozen2.summary()"
      ],
      "metadata": {
        "colab": {
          "base_uri": "https://localhost:8080/"
        },
        "id": "aDq_01akV0Wf",
        "outputId": "3186c2d9-3353-46c5-9b63-494294632186"
      },
      "execution_count": null,
      "outputs": [
        {
          "output_type": "stream",
          "name": "stdout",
          "text": [
            "Model: \"model_3\"\n",
            "_________________________________________________________________\n",
            " Layer (type)                Output Shape              Param #   \n",
            "=================================================================\n",
            " inputs (InputLayer)         [(None, 28, 28, 1)]       0         \n",
            "                                                                 \n",
            " conv2d_layer (Conv2D)       (None, 26, 26, 32)        320       \n",
            "                                                                 \n",
            " maxpool_layer (MaxPooling2D  (None, 13, 13, 32)       0         \n",
            " )                                                               \n",
            "                                                                 \n",
            " flaten_layer (Flatten)      (None, 5408)              0         \n",
            "                                                                 \n",
            " dense_3 (Dense)             (None, 10)                54090     \n",
            "                                                                 \n",
            "=================================================================\n",
            "Total params: 54,410\n",
            "Trainable params: 54,090\n",
            "Non-trainable params: 320\n",
            "_________________________________________________________________\n"
          ]
        }
      ]
    },
    {
      "cell_type": "code",
      "source": [
        "# 모델 컴파일\n",
        "digit_model_frozen2.compile(optimizer='adam', loss='sparse_categorical_crossentropy',\n",
        "               metrics=['accuracy'])\n",
        "\n",
        "# 모델 훈련\n",
        "history = digit_model_frozen2.fit(x_train_in, y_train,\n",
        "                                 validation_data = (x_valid_in, y_valid),\n",
        "                                  epochs=10)"
      ],
      "metadata": {
        "colab": {
          "base_uri": "https://localhost:8080/"
        },
        "id": "Yd8uSez_WEkE",
        "outputId": "f21fdf6d-274b-4e8a-8d63-776c1ca19de5"
      },
      "execution_count": null,
      "outputs": [
        {
          "output_type": "stream",
          "name": "stdout",
          "text": [
            "Epoch 1/10\n",
            "1875/1875 [==============================] - 11s 5ms/step - loss: 0.1122 - accuracy: 0.9699 - val_loss: 0.0573 - val_accuracy: 0.9814\n",
            "Epoch 2/10\n",
            "1875/1875 [==============================] - 10s 5ms/step - loss: 0.0479 - accuracy: 0.9862 - val_loss: 0.0550 - val_accuracy: 0.9816\n",
            "Epoch 3/10\n",
            "1875/1875 [==============================] - 10s 5ms/step - loss: 0.0351 - accuracy: 0.9894 - val_loss: 0.0471 - val_accuracy: 0.9849\n",
            "Epoch 4/10\n",
            "1875/1875 [==============================] - 10s 5ms/step - loss: 0.0284 - accuracy: 0.9914 - val_loss: 0.0520 - val_accuracy: 0.9837\n",
            "Epoch 5/10\n",
            "1875/1875 [==============================] - 10s 5ms/step - loss: 0.0228 - accuracy: 0.9927 - val_loss: 0.0474 - val_accuracy: 0.9841\n",
            "Epoch 6/10\n",
            "1875/1875 [==============================] - 10s 5ms/step - loss: 0.0176 - accuracy: 0.9948 - val_loss: 0.0586 - val_accuracy: 0.9811\n",
            "Epoch 7/10\n",
            "1875/1875 [==============================] - 10s 5ms/step - loss: 0.0160 - accuracy: 0.9950 - val_loss: 0.0552 - val_accuracy: 0.9836\n",
            "Epoch 8/10\n",
            "1875/1875 [==============================] - 10s 5ms/step - loss: 0.0129 - accuracy: 0.9962 - val_loss: 0.0512 - val_accuracy: 0.9854\n",
            "Epoch 9/10\n",
            "1428/1875 [=====================>........] - ETA: 2s - loss: 0.0094 - accuracy: 0.9974"
          ]
        }
      ]
    }
  ]
}