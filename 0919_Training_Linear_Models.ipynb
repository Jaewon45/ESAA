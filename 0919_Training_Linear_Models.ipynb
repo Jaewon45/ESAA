{
  "nbformat": 4,
  "nbformat_minor": 0,
  "metadata": {
    "colab": {
      "provenance": [],
      "collapsed_sections": [],
      "authorship_tag": "ABX9TyNMRCpGdPzePE+ojO/VRxNS",
      "include_colab_link": true
    },
    "kernelspec": {
      "name": "python3",
      "display_name": "Python 3"
    },
    "language_info": {
      "name": "python"
    }
  },
  "cells": [
    {
      "cell_type": "markdown",
      "metadata": {
        "id": "view-in-github",
        "colab_type": "text"
      },
      "source": [
        "<a href=\"https://colab.research.google.com/github/Jaewon45/ESAA_2022/blob/main/0919_Training_Linear_Models.ipynb\" target=\"_parent\"><img src=\"https://colab.research.google.com/assets/colab-badge.svg\" alt=\"Open In Colab\"/></a>"
      ]
    },
    {
      "cell_type": "markdown",
      "source": [
        "# Chapter 4. 모델훈련\n",
        "\n",
        "- 모델과 알고리즘의 작동원리와 상세사항에 대한 이해\n",
        " - 적절한 모델, 올바른 훈련알고리즘, 작업에 맞는 하이퍼파라미터를 빠르게 찾을 수 있음\n",
        " - 디버깅이나 에러를 효율적으로 분석할 수 있음\n",
        "\n",
        "#### 개요\n",
        "- 선형회귀 모델 훈련 방법\n",
        " 1. 직적 계산할 수 있는 공식을 사용해 훈련 세트에 가장 잘 맞는 모델 파라미터를 해석적으로 구함\n",
        " 2. 경사하강법(GD)라 불리는 반복적인 최적화 방식을 사용하여 모델 파라미터를 조금씩 바꾸면서 비용 함수를 훈련 세트에 대해 최소화시킴 (배치 경사 하강법, 미니배치 경사 하강법, 확률적 경사 하강법)\n",
        "- 비선형 데이터셋에 훈련시킬 수 있는 다항회귀 모델\n",
        " - 선형회귀보다 파라미터가 많아서 훈련 데이터에 과대적합되기 더 쉬움\n",
        " - 학습곡선 (learning curve)을 사용해 모델이 과대적합되는지 감지\n",
        " - 훈련 세트의 과대적합을 감소시킬 수 있는 규제기법의 종류\n",
        "- 분류 작업에 널리 사용하는 모델인 로지스틱회귀와 소프트맥스 회귀\n",
        "\n",
        "## 4.1 선형회귀\n",
        "- 선형 회귀 모델의 예측 :  $ \\hat y = θ_0+θ_1x_1+...+θ_nx_n$\n",
        "- 선형 회귀 모델의 예측 (벡터형태) :  $ \\hat y = h_\\theta (x) = θ·x $\n",
        " - $\\theta$ : 편향 $\\theta_0$에서 $\\theta_n$까지의 특성 가중치를 담은 모델의 파라미터 벡터\n",
        " - $x$ : 편향 $x_0$에서 $x_n$까지 담은 샘플의 특성 벡터. **$x_0$는 항상 1**\n",
        " - $h_\\theta (x)$는 모델 파라미터 $\\theta$를 사용한 가설 함수\n",
        "- 선형회귀모델을 훈련시키려면 RMSE를 최소화하는 $\\theta$를 찾아야 함. 실제로는 MSE를 최소화하는 것이 같은 결과를 내면서 더 간단함\n",
        "- 선형 회귀 모델의 MSE 비용 함수 : $MSE(X, h_\\theta) = \\frac {1}{m}$$\\sum_{i=1}^m$$( \\theta^Tx^{(i)}-y^{(i)})^2$\n",
        "\n",
        "### 4.1.1 정규방정식\n",
        "- 정규방정식 : $ \\hat \\theta = (X^TX)^{-1}X^Ty$\n",
        " - 비용함수를 최소화하는 $\\theta$값을 찾기 위한 해석적인 방법 \n",
        " - y는 $y^{(1)}$부터 $y^{(m)}$까지 포함하는 타깃 벡터\n"
      ],
      "metadata": {
        "id": "tP2AzHpQRJSw"
      }
    },
    {
      "cell_type": "code",
      "source": [
        "# 선형처럼 보이는 데이터 무작위 생성\n",
        "import numpy as np\n",
        "\n",
        "X = 2*np.random.rand(100,1)\n",
        "y = 4 + 3*X + np.random.randn(100,1) # 상수항 : 가우시안 잡음"
      ],
      "metadata": {
        "id": "u8Lgq4aNRrwq"
      },
      "execution_count": 1,
      "outputs": []
    },
    {
      "cell_type": "code",
      "source": [
        "X_b = np.c_[np.ones((100,1)), X] # 모든 샘플에 x0 = 1 추가\n",
        "theta_best = np.linalg.inv(X_b.T.dot(X_b)).dot(X_b.T).dot(y)"
      ],
      "metadata": {
        "id": "tHJpQZNTqcrg"
      },
      "execution_count": 2,
      "outputs": []
    },
    {
      "cell_type": "code",
      "source": [
        "theta_best"
      ],
      "metadata": {
        "colab": {
          "base_uri": "https://localhost:8080/"
        },
        "id": "j2L57tqKqVc2",
        "outputId": "58a9c87d-e23e-47fa-bc37-9f332ea5ed3d"
      },
      "execution_count": 3,
      "outputs": [
        {
          "output_type": "execute_result",
          "data": {
            "text/plain": [
              "array([[4.30972087],\n",
              "       [2.67468962]])"
            ]
          },
          "metadata": {},
          "execution_count": 3
        }
      ]
    },
    {
      "cell_type": "markdown",
      "source": [
        "- 기대한 값은 $\\theta_0$=4, $\\theta_1$=3\n",
        "- 잡음으로 인해 원래 함수의 파라미터를 정확하게 재현하지는 못함"
      ],
      "metadata": {
        "id": "H_MIHbfoqef3"
      }
    },
    {
      "cell_type": "code",
      "source": [
        "# theta_hat을 사용해 예측\n",
        "\n",
        "X_new = np.array([[0],[2]])\n",
        "X_new_b = np.c_[np.ones((2,1)),X_new] # 모든 샘플에 x0 = 1 추가\n",
        "y_predict = X_new_b.dot(theta_best)\n",
        "y_predict"
      ],
      "metadata": {
        "colab": {
          "base_uri": "https://localhost:8080/"
        },
        "id": "m-6VoN3tqcVB",
        "outputId": "676a1b40-3440-4962-c0dc-aeae33d72971"
      },
      "execution_count": 4,
      "outputs": [
        {
          "output_type": "execute_result",
          "data": {
            "text/plain": [
              "array([[4.30972087],\n",
              "       [9.6591001 ]])"
            ]
          },
          "metadata": {},
          "execution_count": 4
        }
      ]
    },
    {
      "cell_type": "code",
      "source": [
        "# 모델의 예측 시각화\n",
        "import matplotlib.pyplot as plt\n",
        "\n",
        "plt.plot(X_new, y_predict, \"r-\")\n",
        "plt.plot(X,y, \"b.\")\n",
        "plt.axis([0,2,0,15])\n",
        "plt.show()"
      ],
      "metadata": {
        "colab": {
          "base_uri": "https://localhost:8080/",
          "height": 265
        },
        "id": "sj3ji35gq5QU",
        "outputId": "99efd957-c615-492d-c902-3f2682e9be7a"
      },
      "execution_count": 5,
      "outputs": [
        {
          "output_type": "display_data",
          "data": {
            "text/plain": [
              "<Figure size 432x288 with 1 Axes>"
            ],
            "image/png": "[encoded data removed]"
          },
          "metadata": {
            "needs_background": "light"
          }
        }
      ]
    },
    {
      "cell_type": "markdown",
      "source": [
        "- 사이킷런에서 선형회귀 수행"
      ],
      "metadata": {
        "id": "p0juEkCBrUkM"
      }
    },
    {
      "cell_type": "code",
      "source": [
        "from sklearn.linear_model import LinearRegression\n",
        "lin_reg = LinearRegression()\n",
        "lin_reg.fit(X,y)"
      ],
      "metadata": {
        "colab": {
          "base_uri": "https://localhost:8080/"
        },
        "id": "QT1E7sb-rUXk",
        "outputId": "eb9bc248-2d44-43b8-becc-ef77627edda0"
      },
      "execution_count": 6,
      "outputs": [
        {
          "output_type": "execute_result",
          "data": {
            "text/plain": [
              "LinearRegression()"
            ]
          },
          "metadata": {},
          "execution_count": 6
        }
      ]
    },
    {
      "cell_type": "code",
      "source": [
        "lin_reg.intercept_, lin_reg.coef_"
      ],
      "metadata": {
        "colab": {
          "base_uri": "https://localhost:8080/"
        },
        "id": "0YnNzjzWrHVr",
        "outputId": "2f89148f-5a3c-49b8-f49d-997708ddc9b4"
      },
      "execution_count": 7,
      "outputs": [
        {
          "output_type": "execute_result",
          "data": {
            "text/plain": [
              "(array([4.30972087]), array([[2.67468962]]))"
            ]
          },
          "metadata": {},
          "execution_count": 7
        }
      ]
    },
    {
      "cell_type": "code",
      "source": [
        "lin_reg.predict(X_new)"
      ],
      "metadata": {
        "colab": {
          "base_uri": "https://localhost:8080/"
        },
        "id": "UIl6RB4Erh89",
        "outputId": "c106eced-120b-43ea-d556-2de545d5f6a9"
      },
      "execution_count": 8,
      "outputs": [
        {
          "output_type": "execute_result",
          "data": {
            "text/plain": [
              "array([[4.30972087],\n",
              "       [9.6591001 ]])"
            ]
          },
          "metadata": {},
          "execution_count": 8
        }
      ]
    },
    {
      "cell_type": "markdown",
      "source": [
        "- LinearRegression 클래스는 scipy.linalg.lstsq(최소제곱) 함수 사용, 이를 직접 호출할 수 있음\n",
        "- $\\hat \\theta = X^+y$ 계산\n",
        "- $X^+$는 X의 유사역행렬 (무어-펜로즈 Moore=Penrose 역행렬)"
      ],
      "metadata": {
        "id": "jgXzxw60r2gU"
      }
    },
    {
      "cell_type": "code",
      "source": [
        "# scipy.linalg.lstsq() 호출\n",
        "theta_best_svd, residuals, rank, s = np.linalg.lstsq(X_b, y, rcond=1e-6) #????\n",
        "theta_best_svd"
      ],
      "metadata": {
        "colab": {
          "base_uri": "https://localhost:8080/"
        },
        "id": "3Ct-285NrkQG",
        "outputId": "b1f60db3-5e58-4479-8c42-604f82a40e5c"
      },
      "execution_count": 9,
      "outputs": [
        {
          "output_type": "execute_result",
          "data": {
            "text/plain": [
              "array([[4.30972087],\n",
              "       [2.67468962]])"
            ]
          },
          "metadata": {},
          "execution_count": 9
        }
      ]
    },
    {
      "cell_type": "code",
      "source": [
        "# 유사역행렬 계산\n",
        "np.linalg.pinv(X_b).dot(y)"
      ],
      "metadata": {
        "colab": {
          "base_uri": "https://localhost:8080/"
        },
        "id": "Fp8q8W5zr1Tl",
        "outputId": "652ee783-cc74-44dc-f339-863c7602ed0a"
      },
      "execution_count": 10,
      "outputs": [
        {
          "output_type": "execute_result",
          "data": {
            "text/plain": [
              "array([[4.30972087],\n",
              "       [2.67468962]])"
            ]
          },
          "metadata": {},
          "execution_count": 10
        }
      ]
    },
    {
      "cell_type": "markdown",
      "source": [
        "- 유사역행렬은 특잇값분해(SVD, singular value decomposition)라 부르는 표준행렬분해기법을 사용해 계산됨\n",
        "- SVD는 훈련세트 행렬 X를 3개의 행렬곱셈 $UΣV^T$로 분해\n",
        " - $X^+=V\\Sigma^+U^T$\n",
        " - $\\Sigma^+$를 계산하기 위해 알고리즘이 $\\Sigma$를 구한 후, 어떤 낮은 임곗값보다 작은 모든 수를 0으로 바꾼 후 0이 아닌 모든 값을 역수로 치환\n",
        " - 마지막으로 만들어진 행렬을 전치\n",
        "- 정규방정식을 계산하는 것보다 효율적이며, 극단적인 경우도 처리할 수 있음\n",
        " - m<n이거나 어떤 특성이 중복돼 행렬 $X^TX$의 역행렬이 없는 특이행렬의 경우 정규방정식이 작동하지 않지만 유사역행렬은 항상 구할 수 있음\n",
        "\n",
        "### 4.1.2 계산 복잡도\n",
        "- 정규방정식은 (n+1)x(n+1) 크기가 되는 $X^TX$의 역행렬을 계산 (n은 특성 수)\n",
        "- 역행렬을 계산하는 계산 복잡도는 일반적으로 $O(n^2.4)$에서 $O(n^3)$사이이며 구현 방법에 따라 차이\n",
        " - 특성 수가 두배로 늘어나면 계산시간이 대략 $2^2.4=5.3$에서 $2^3=8$배로 증가\n",
        "- 사이킷런의 LinearRegression 클래스가 사용하는 SVD방법은 약 $O(n^2)$\n",
        " - 특성 수가 두배로 늘어나면 계산시간이 대략 4배로 증가\n",
        "- 예측 계산 복잡도는 샘플 수와 특성 수에 선형적\n",
        " - 예측하려는 샘플 (또는 특성)이 두배로 늘어나면 걸리는 시간도 두배 증가\n",
        "\n",
        "## 4.2 경사 하강법\n",
        "- 경사 하강법(GD, gradient descent)은 여러 종류의 문제에서 최적의 해법을 찾을 수 있는 일반적인 최적화 알고리즘. 비용 함소를 최소화하기 위해 반복해서 파라미터 조정\n",
        "- 파라미터 벡터 $\\theta$에 대해 비용 함수의 현재 그레디언트를 계산하고 그레디언트가 감소하는 방향으로 진행, 그레디언트가 0이 되면 최솟값에 도달\n",
        " - 임의의 값으로 시작해 (무작위초기화 random initialization), RMSE와 같은 비용함소가 감소되는 방향으로 진행해 알고리즘이 최솟값에 수렴할 때까지 점진적으로 향상시킴\n",
        "- 중요한 파라미터는 스텝의 크기인 **학습률** 하이퍼파라미터\n",
        " - 학습률이 너무 작으면 알고리즘이 수렴하기 위해 반복을 많이 진행해야 하므로 시간이 오래 걸림\n",
        " - 학습률이 너무 크면 알고리즘을 더 큰 값으로 발산하게 만들어 적절한 해법을 찾지 못함\n",
        " - 비용 함수가 그릇과 같은 모양이 아니며 특이한 지형이 있는 경우, 무작위 초기화로 인해 전역 최솟값보다 덜 좋은 지역 최솟값에 수렴하거나 전역 최솟값에 도달하지 못함\n",
        "- 선형 회귀를 위한 MSE 비용 함수는 지역 최솟값이 없고 하나의 전역 최솟값만 있는 볼록 함수, 연속된 함수로 기울기가 갑자기 변하지 않음 \n",
        " - 학습률이 너무 높지 않고 충분한 시간이 주어지면 경사 하강법이 전역 최솟값에 가깝게 접근할 수 있다는 것을 보장\n",
        "- 특성들의 스케일이 매우 다르면 비용 함수가 길쭉한 모양일 수 있음 - 최솟값에 도달하는 시간이 오래 걸림\n",
        " - 경사 하강법을 사용할 때에는 반드시 모든 특성이 같은 스케일을 갖도록 만들어야 함(StandardScaler). 그렇지 않으면 수렴하는 데 오랜 시간이 걸림\n",
        "- 모델이 가진 파라미터가 많을수록 모델의 파라미터 공간의 차원이 커지고 검색이 더 어려워짐\n",
        "\n",
        "### 4.2.1 배치 경사 하강법\n",
        "- 편도함수(partial derivative) : 경사 하강법을 구현할 때 각 모델 파라미터 $\\theta_j$에 대해 비용 함수의 그레디언트를 계산하는 것. $\\theta_j$가 조금 변경될 때 비용 함수가 얼마나 바뀌는지\n",
        "1. 파라미터 $\\theta_j$에 대한 비용함수의 편도함수 계산 \n",
        "- $\\frac {∂} {∂\\theta_j}MSE(θ)=\\frac {2}{m} \\sum_{i=1}^{m}(θ^Tx^{(i)}-y^{(i)})x_j^{(i)}$\n",
        "2. 비용함수의 그레디언트 벡터를 한꺼번에 계산  \n",
        "\n",
        "   <img src = \"https://blog.kakaocdn.net/dn/bhaUSq/btq3sud1rLc/Tr5zg1aVim0ouFOYFwnt70/img.png\" width=\"400\" height=\"150\">  \n",
        " - 매 경사 하강법 스텝에서 전체 훈련 세트 X에 대해 계산 (훈련 데이터 전체 사용)\n",
        " - 매우 큰 훈련 세트에서 아주 느림\n",
        " - 특성 수에 민감하지 않아 수십만 개의 특성에서 선형 회귀를 훈련시킬 때 SVD 분해보다 경사 하강법을 사용하는 편이 훨씬 빠름\n",
        " - 그레디언트 벡터가 구해지면 반대 방향인 아래로 가야함\n",
        "  - 경사 하강법의 스텝 : $\\theta^{(next step)} = \\theta-η∇_{\\theta}MSE(\\theta)$\n",
        "\n"
      ],
      "metadata": {
        "id": "CdAbyShltSOs"
      }
    },
    {
      "cell_type": "code",
      "source": [
        "import numpy as np\n",
        "eta = 0.1 # 학습률\n",
        "n_iterations = 1000\n",
        "m = 100\n",
        "\n",
        "theta = np.random.randn(2,1) # 무작위 초기화\n",
        "for iteration in range(n_iterations):\n",
        "  gradients = 2/m * X_b.T.dot(X_b.dot(theta)-y)\n",
        "  theta = theta - eta*gradients\n",
        "\n",
        "theta"
      ],
      "metadata": {
        "id": "PSrkgNKCs9hQ",
        "colab": {
          "base_uri": "https://localhost:8080/"
        },
        "outputId": "6d80e200-976e-4729-9ac7-c64c7b9c930d"
      },
      "execution_count": 11,
      "outputs": [
        {
          "output_type": "execute_result",
          "data": {
            "text/plain": [
              "array([[4.30972087],\n",
              "       [2.67468962]])"
            ]
          },
          "metadata": {},
          "execution_count": 11
        }
      ]
    },
    {
      "cell_type": "markdown",
      "source": [
        "- 정규방정식으로 찾은 것과 정확히 같음\n",
        "- 적절한 학습률을 찾으려면 그리드 탐색 사용, 단 수렴에 너무 오래 걸리는 모델을 막기 위해 반복 횟수 제한\n",
        " - 반복 횟수 또한 적절히 설정해야 함\n",
        " - 반복 횟수를 아주 크게 지정하고 그레디언트 벡터가 아주 작아지면 (벡터의 노름이 어떤 값-허용오차(ε)-보다 작아지면 경사 하강법이 최솟값에 도달한 것이므로 알고리즘을 중지\n",
        "\n",
        "> 수렴율\n",
        "- 비용 함수가 볼록 함수이고 기울기가 급격하게 바뀌지 않는 MSE 비용함수와 같은 경우, 학습률을 고정한 배치 경사 하강법은 결국 최적의 솔루션에 수렴\n",
        "- 비용 함수의 모양에 따라 달라지겠지만 ε 범위 안에서 최적의 솔루션에 도달하기 위해 1/ε의 반복이 걸릴 수 있음. 오차 ε을 1/10으로 줄이면 알고리즘의 반복은 10배 늘어남\n",
        "\n",
        "### 4.2.2 확률적 경사 하강법\n",
        "- 매 스텝에서 전체 훈련 세트를 사용해 그레디언트를 계산하는 배치 경사 하강법\n",
        "- 확률적 경사 하강법은 매 스텝에서 한 개의 샘플을 무작위로 선택하고 하나의 샘플에 대한 그레이디언트를 계산\n",
        " - 매 반복에서 다뤄야 할 데이터가 적어 알고리즘이 빠름\n",
        " - 매 반복에서 하나의 샘플만 메모리에 있으면 되므로 매우 큰 훈련 세트도 훈련시킬 수 있음\n",
        "- 확률적(무작위)이기 때문에 배치 하강법보다 불완전한 알고리즘\n",
        " - 비용 함수가 최솟값에 다다를 때까지 부드럽게 감소하지 않고 위아래로 요동치면서 평균적으로 감소\n",
        " - 알고리즘이 멈출 때 좋은 파라미터가 구해지겠지만 최적치는 아닐 수 있음. 즉 배치 경사 하강법보다 전역 최솟값을 찾을 가능성이 높음\n",
        " - 해결방법 : 시작할 때는 학습률을 크게 하고, 점차 작게 줄여서 알고리즘이 전역 최솟값에 도달하도록 학습률을 점진적으로 감소시킴\n",
        " - 학습 스케쥴 learning schedule : 매 반복에서 학습률을 결정하는 함수\n"
      ],
      "metadata": {
        "id": "XpgDf2Rh5HrJ"
      }
    },
    {
      "cell_type": "code",
      "source": [
        "# 학습 스케쥴을 사용한 확률적 경사 하강법의 구현\n",
        "\n",
        "n_epoches = 50 # epoch는 각 반복, 훈련 세트에서 50번 반복하도록 지정\n",
        "t0, t1 = 5, 50 # 학습 스케쥴 하이퍼파라미터\n",
        "\n",
        "def learning_schedule(t):\n",
        "  return t0/(t+t1)\n",
        "\n",
        "theta = np.random.randn(2,1) # 무작위 초기화\n",
        "\n",
        "for epoch in range(n_epoches):\n",
        "  for i in range(m):\n",
        "    random_index = np.random.randint(m)\n",
        "    xi = X_b[random_index:random_index+1]\n",
        "    yi = y[random_index:random_index+1]\n",
        "    gradients = 2*xi.T.dot(xi.dot(theta)-yi)\n",
        "    eta = learning_schedule(epoch * m + i)\n",
        "    theta = theta-eta*gradients\n",
        "\n",
        "theta"
      ],
      "metadata": {
        "colab": {
          "base_uri": "https://localhost:8080/"
        },
        "id": "yKwLUI-e45p6",
        "outputId": "ea7f52fa-c66b-45c5-aa96-e9336fd40a64"
      },
      "execution_count": 12,
      "outputs": [
        {
          "output_type": "execute_result",
          "data": {
            "text/plain": [
              "array([[4.30423012],\n",
              "       [2.64547493]])"
            ]
          },
          "metadata": {},
          "execution_count": 12
        }
      ]
    },
    {
      "cell_type": "markdown",
      "source": [
        "- 샘플을 무작위로 선택하기 때문에 어떤 샘플은 한 에포크에서 여러번 선택될 수 있고 어떤 샘플은 전혀 선택되지 못할 수도 있음\n",
        "- 알고리즘이 에포크마다 모든 샘플을 사용하게 하려면 훈련 세트를 섞은 후 (입력 특성과 레이블을 동일하게 섞어야 함) 차례대로 하나씩 선택하고 다음 에포크에서 다시 섞는 식의 방법 사용 가능 \n",
        " - SGDClassifier와 SGDRegressor가 사용하는 방법\n",
        " - 이렇게 하면 보통 더 늦게 수렴됨\n",
        "\n",
        "- 사이킷런에서의 SGD방식 선형회귀\n",
        " - 기본값으로 제곱 오차 비용 함수를 최적화하는 SGDRegressor 클래스를 사용 "
      ],
      "metadata": {
        "id": "yBqI9qGR9vm8"
      }
    },
    {
      "cell_type": "code",
      "source": [
        "from sklearn.linear_model import SGDRegressor\n",
        "sgd_reg = SGDRegressor(max_iter=1000, tol=1e-3, penalty=None, eta0=0.1)\n",
        "# max_iter:에포크횟수, tol:한 에포크에서 tol보다 적게 손실이 줄어들 때까지 실행, eta0:학습률, penalty:규제)\n",
        "\n",
        "sgd_reg.fit(X, y.ravel())\n",
        "sgd_reg.intercept_, sgd_reg.coef_"
      ],
      "metadata": {
        "colab": {
          "base_uri": "https://localhost:8080/"
        },
        "id": "BfYBwpxs9pmM",
        "outputId": "ed0e90c7-2cfe-49f3-8c6d-7c2e9b5beee4"
      },
      "execution_count": 13,
      "outputs": [
        {
          "output_type": "execute_result",
          "data": {
            "text/plain": [
              "(array([4.36982559]), array([2.77858416]))"
            ]
          },
          "metadata": {},
          "execution_count": 13
        }
      ]
    },
    {
      "cell_type": "markdown",
      "source": [
        "- 정규방정식으로 구한 것과 매우 비슷한 값\n",
        "\n",
        "### 4.2.3 미니배치 경사 하강법\n",
        "- 각 스텝에서 미니배치라 부르는 임이의 작은 샘플 세트에 대해 그레디언트를 계산\n",
        "- 행렬 연산에 최적화된 하드위어, 특히 GPU를 사용해서 얻는 성능 향상이 장점\n",
        "- 미니배치를 어느 정도 크게하면 파라미터 공간에서 SGD보다 덜 불규칙하게 움직이기에 SGD보다 최솟값에 더 가까이 도달\n",
        " - 단 선형 회귀가 아니라 지역 최솟값이 문제가 되는 경우 지역 최솟값에서 빠져나오기 더 힘들 수 있음\n",
        "\n",
        "- 선형 회귀를 사용한 알고리즘 비교. \n",
        "\n",
        "|알고리즘|m이 클 때|외부 메모리 학습 지원|n이 클 때|하이퍼 파라미터 수|스케일 조정 필요|사이킷런|\n",
        "|---|---|---|---|---|---|---|\n",
        "|정규방정식|빠름|No|느림|0|No|N/A|\n",
        "|SVD|빠름|No|느림|0|No|LinearRegression|\n",
        "|배치 경사 하강법|느림|No|빠름|2|Yes|SGDRegressor|\n",
        "|확률적 경사 하강법|빠름|Yes|빠름|2이상|Yes|SGDRegressor|\n",
        "|미니배치 경사 하강법|빠름|Yes|빠름|2이상|Yes|SGDRegressor|\n",
        "\n",
        "- 위 알고리즘들은 훈련결과에 거의 차이가 없음. 모두 매우 비슷한 모델을 만들고 정확한 방식으로 예측\n",
        "\n",
        "\n",
        "## 4.3 다항 회귀\n",
        "- 비선형 데이터를 학습하는 데 선형 모델 사용 : 각 특성의 거듭제곱의 새로운 특성으로 추가하고, 확장된 특성을 포함한 데이터셋에 선형 모델을 훈련시킴"
      ],
      "metadata": {
        "id": "yRccNmcC-wZS"
      }
    },
    {
      "cell_type": "code",
      "source": [
        "# 2차방정식으로 비선형 데이터 생성, 잡음 포함시킴\n",
        "m = 100\n",
        "X = 6*np.random.rand(m,1)-3\n",
        "y = 0.5 * X**2 + X + 2 + np.random.randn(m,1)"
      ],
      "metadata": {
        "id": "cwbQ7T7O-vG9"
      },
      "execution_count": 14,
      "outputs": []
    },
    {
      "cell_type": "code",
      "source": [
        "from sklearn.preprocessing import PolynomialFeatures\n",
        "poly_features = PolynomialFeatures(degree=2, include_bias=False)\n",
        "X_poly = poly_features.fit_transform(X)\n",
        "print(X[0], X_poly[0])"
      ],
      "metadata": {
        "colab": {
          "base_uri": "https://localhost:8080/"
        },
        "id": "FKXQ_7p0Cd4K",
        "outputId": "5dd1af68-8c19-4e1c-b787-10767ea5c598"
      },
      "execution_count": 15,
      "outputs": [
        {
          "output_type": "stream",
          "name": "stdout",
          "text": [
            "[-0.60853607] [-0.60853607  0.37031614]\n"
          ]
        }
      ]
    },
    {
      "cell_type": "markdown",
      "source": [
        "- X_poly는 원래 특성 X와 특성의 제곱 포함\n",
        "- 확장된 훈련 데이터 생성됨"
      ],
      "metadata": {
        "id": "w3po-1vgC9Rn"
      }
    },
    {
      "cell_type": "code",
      "source": [
        "lin_reg = LinearRegression()\n",
        "lin_reg.fit(X_poly, y)\n",
        "lin_reg.intercept_, lin_reg.coef_"
      ],
      "metadata": {
        "colab": {
          "base_uri": "https://localhost:8080/"
        },
        "id": "sySjetFvCspB",
        "outputId": "7a99b12b-a893-46be-9295-5386eed83edf"
      },
      "execution_count": 16,
      "outputs": [
        {
          "output_type": "execute_result",
          "data": {
            "text/plain": [
              "(array([2.11355676]), array([[1.09929233, 0.49644373]]))"
            ]
          },
          "metadata": {},
          "execution_count": 16
        }
      ]
    },
    {
      "cell_type": "markdown",
      "source": [
        "- 원래의 함수에서의 계수 및 절편과 비슷한 값 출력됨\n",
        "- 다항회귀는 특성이 여러개일 때 특성 사이의 관계를 찾을 수 있음\n",
        "- PolynomialFeatures가 주어진 차수까지 특성 간의 모든 교차항을 추가함\n",
        "\n",
        "## 4.4 학습 곡선\n",
        "- 고차 다항 회귀 적용시 보통의 선형 회귀에서보다 훨씬 더 훈련 데이터에 잘 맞추고자(적합하고자) 함\n",
        "- 모델이 과대적합 또는 과소적합되었는지 파악하기 위해 모델의 일반화 성능을 추정하기 위한 교차 검증 사용할 수 있음\n",
        "- 학습 곡선 : 훈련 세트와 검증 세트의 모델 성능을 훈련 세트 크기(훈련 반복)의 함수로 나타내는 그래프\n",
        " - 모델의 일반화 성능 추정 가능\n",
        " - 훈련 세트에서 크기가 다른 서브 세트를 만들어 모델을 여러번 훈련시켜 그래프 생성"
      ],
      "metadata": {
        "id": "wTN85j6eDS2V"
      }
    },
    {
      "cell_type": "code",
      "source": [
        "from sklearn.metrics import mean_squared_error\n",
        "from sklearn.model_selection import train_test_split\n",
        "def plot_learning_curves(model, X, y):\n",
        "  X_train, X_val, y_train, y_val = train_test_split(X, y, test_size=0.2)\n",
        "  train_errors, val_errors = [], []\n",
        "  for m in range(1, len(X_train)):\n",
        "    model.fit(X_train[:m], y_train[:m])\n",
        "    y_train_predict = model.predict(X_train[:m])\n",
        "    y_val_predict = model.predict(X_val)\n",
        "    train_errors.append(mean_squared_error(y_train[:m], y_train_predict))\n",
        "    val_errors.append(mean_squared_error(y_val, y_val_predict))\n",
        "  plt.plot(np.sqrt(train_errors), \"r-+\", linewidth=2, label=\"훈련 세트\")\n",
        "  plt.plot(np.sqrt(val_errors), \"b-\", linewidth=3, label=\"검증 세트\")"
      ],
      "metadata": {
        "id": "O1xd09LXDEI1"
      },
      "execution_count": 17,
      "outputs": []
    },
    {
      "cell_type": "code",
      "source": [
        "lin_reg = LinearRegression()\n",
        "plot_learning_curves(lin_reg, X, y)"
      ],
      "metadata": {
        "colab": {
          "base_uri": "https://localhost:8080/",
          "height": 265
        },
        "id": "lbJVvIhoE3lj",
        "outputId": "ccbe9501-9e91-474c-adee-694229a51223"
      },
      "execution_count": 18,
      "outputs": [
        {
          "output_type": "display_data",
          "data": {
            "text/plain": [
              "<Figure size 432x288 with 1 Axes>"
            ],
            "image/png": "[encoded data removed]"
          },
          "metadata": {
            "needs_background": "light"
          }
        }
      ]
    },
    {
      "cell_type": "markdown",
      "source": [
        "- 훈련 데이터에 대한 모델의 성능\n",
        " - 훈련 세트에 하나 혹은 두개의 샘플이 있을 땐 모델이 완벽하게 작동 \n",
        " - 훈련 세트에 샘플이 추가됨에 따라 잡음도 있고 비선형이기 때문에 모델이 훈련 데이터를 완벽히 학습하는 것이 불가능해짐\n",
        " - 곡선이 어느정도 평편해질 때까지 오차가 계속 상승\n",
        "- 검증 데이터에 대한 모델의 성능\n",
        " - 적은 수의 샘플로 훈련될 때는 일반화될 수 없어 검증 오차가 초기에 매우 큼\n",
        " - 모델에 훈련 샘플이 추가됨에 따라 학습이 되고 검증 오차가 천천히 감소\n",
        "- 과소적합 모델"
      ],
      "metadata": {
        "id": "o2h-GWHiosqI"
      }
    },
    {
      "cell_type": "code",
      "source": [
        "from sklearn.pipeline import Pipeline\n",
        "\n",
        "polynomial_regression = Pipeline([\n",
        "    (\"poly_features\", PolynomialFeatures(degree=10, include_bias=False)),\n",
        "    (\"lin_reg\", LinearRegression()),\n",
        "])\n",
        "\n",
        "plot_learning_curves(polynomial_regression, X, y)"
      ],
      "metadata": {
        "id": "CQGSdwnuE9As",
        "colab": {
          "base_uri": "https://localhost:8080/",
          "height": 265
        },
        "outputId": "fd89a23c-1b11-44ac-887a-5e1c9f4c5304"
      },
      "execution_count": 28,
      "outputs": [
        {
          "output_type": "display_data",
          "data": {
            "text/plain": [
              "<Figure size 432x288 with 1 Axes>"
            ],
            "image/png": "[encoded data removed]"
          },
          "metadata": {
            "needs_background": "light"
          }
        }
      ]
    },
    {
      "cell_type": "markdown",
      "source": [
        "- 훈련 데이터의 오차가 선형 회귀 모델보다 훨씬 낮음\n",
        "- 두 곡선 사이의 공간 : 훈련 데이터에서의 모델 성능이 검증 데이터에서 훨씬 낮다는 뜻, 과대 적합 모델의 특징\n",
        "- 더 큰 훈련 세트를 사용하면 두 곡선이 점점 가까워짐\n",
        "- 과대적합 모델\n",
        "\n",
        "\n",
        "> 편향/분산 트레이드오프\n",
        "- 편향 : 일반화 오차 중 편향은 잘못된 가정으로 인한 것. 편향이 큰 모델은 훈련 데이터에 과소적합되기 쉬움\n",
        "- 분산 : 훈련 데이터에 있는 작은 변동에 모델이 과도하게 민감하기 때문에 나타남. 자유도가 높은 모델(ex.고차 다항 회귀 모델)이 높은 분산을 가지기 쉬워 훈련 데이터에 과대적합되는 경향이 있음\n",
        "- 줄일 수 없는 오차(irreducible error) : 데이터 자체에 있는 잡음 때문에 발생. 오차를 줄이기 위해서는 데이터에서 잡음을 제거해야 함\n",
        "\n",
        "## 4.5 규제가 있는 선형 모델\n",
        "- 모델의 가중치를 제한함으로써 규제를 가하는 선형 회귀 모델\n",
        "\n",
        "### 4.5.1 릿지 회귀\n",
        "- 릿지 회귀 (티노호프 규제) \n",
        " - 규제가 추가된 선형회귀\n",
        " - 규제항 $α\\sum_{i=1}^{n}\\theta_i^2$이 비용 함수에 추가\n",
        " - 학습 알고리즘을 데이터에 맞추는 것뿐만 아니라 모델의 가중치가 가능한 한 작게 유지되도록 노력\n",
        " - 규제항은 훈련하는 동안에만 비용 함수에 추가, 모델 훈련이 끝나면 모델의 성능을 규제가 없는 성능 지표로 평가 #?\n",
        "- 릿지 회귀의 비용함수 $J(\\theta)=MSE(\\theta)+α\\frac{1}{2}\\sum_{i=1}^{n}\\theta_i^2$\n",
        " - 하이퍼파라미터 α는 모델을 얼마나 많이 규제할지 조절. α=0이면 선형 회귀와 같음. α가 아주 크면 모든 가중치가 거의 0에 가까워지고 데이터의 평균을 지나는 수평선이 됨.\n",
        " - 편항 $\\theta_0$는 규제되지 않음\n",
        " - $w$를 특성의 가중치 벡터 $\\theta_1$에서 $\\theta_n$라고 정의하면 규제항은 $\\frac{1}{2}(||w||_1)^2$\n",
        " - 경사 하강법에 적용시 MSE그레디언트 벡터에 αw를 더하면 됨\n",
        " - 릿지 회귀를 계산하기 위한 정규방정식\n",
        " - $ \\hat\\theta = (X^TX+αA)^{-1} X^Ty $\n"
      ],
      "metadata": {
        "id": "bUjbT41Wp7xp"
      }
    },
    {
      "cell_type": "code",
      "source": [
        "# 정규방정식을 사용한 릿지 회귀\n",
        "from sklearn.linear_model import Ridge\n",
        "ridge_reg = Ridge(alpha=1, solver=\"cholesky\")\n",
        "ridge_reg.fit(X,y)\n",
        "ridge_reg.predict([[1.5]])"
      ],
      "metadata": {
        "colab": {
          "base_uri": "https://localhost:8080/"
        },
        "id": "EC1RmscGqJgI",
        "outputId": "dd21f66a-abe8-4138-a687-163b6749bdb9"
      },
      "execution_count": 29,
      "outputs": [
        {
          "output_type": "execute_result",
          "data": {
            "text/plain": [
              "array([[5.30541005]])"
            ]
          },
          "metadata": {},
          "execution_count": 29
        }
      ]
    },
    {
      "cell_type": "code",
      "source": [
        "# 확률적 경사 하강법을 이용한 릿지 회귀\n",
        "sgd_reg = SGDRegressor(penalty=\"L2\") # L2 : sgd가 비용 함수에 가중치 벡터의 l_2 노름의 제곱을 2로 나눈 규제항을 추가하게 함\n",
        "sgd_reg.fit(X,y)\n",
        "sgd_reg.predict([[1.5]])"
      ],
      "metadata": {
        "colab": {
          "base_uri": "https://localhost:8080/"
        },
        "id": "I6ncARq5ucA3",
        "outputId": "9495697f-6d40-4215-8aeb-e786342f4e0d"
      },
      "execution_count": 30,
      "outputs": [
        {
          "output_type": "stream",
          "name": "stderr",
          "text": [
            "/usr/local/lib/python3.7/dist-packages/sklearn/utils/validation.py:993: DataConversionWarning: A column-vector y was passed when a 1d array was expected. Please change the shape of y to (n_samples, ), for example using ravel().\n",
            "  y = column_or_1d(y, warn=True)\n"
          ]
        },
        {
          "output_type": "execute_result",
          "data": {
            "text/plain": [
              "array([5.28842011])"
            ]
          },
          "metadata": {},
          "execution_count": 30
        }
      ]
    },
    {
      "cell_type": "markdown",
      "source": [
        "### 4.5.2 라쏘 회귀\n",
        "- 라쏘 (Lasso, least absolute shrinkage and selection operater)\n",
        "- 비용함수에 규제항을 더하지만, $l_2$노름의 제곱을 2로 나눈 것 대신 가중치 벡터의 $l_1$ 노름을 사용\n",
        "- 라쏘 회귀의 비용함수 $J(\\theta)=MSE(\\theta)+α\\frac{1}{2}\\sum_{i=1}^{n}|\\theta_i|$\n",
        "- 덜 중요한 특성의 가중치를 제거하려고 함 (가중치가 0이 됨)\n",
        "- 특성 선택을 하고 희소 모델을 만듬 (0이 아닌 특성의 가중치가 적음)\n",
        "- 라쏘를 사용할 때 경사 하강법이 최적점 근처에서 진동하는 것을 막으려면 훈련하는 동안 점진적으로 학습률을 감소시켜야 함\n",
        "  - $\\theta_i=0$(i=1,2,...,n)일 때 미분 가능하지 않지만, 서브 그레디언트벡터 g를 사용하면 경사 하강법을 적용하는 데 문제가 없음\n",
        " - 경사 하강법을 위한 라소 회귀의 서브그레이디언트 벡터   \n",
        " <img src = \"https://yganalyst.github.io/assets/images/ML/chap3/lasso2.png\" width=\"500\" height=\"80\">  "
      ],
      "metadata": {
        "id": "vP4GH5Vbu3sC"
      }
    },
    {
      "cell_type": "code",
      "source": [
        "from sklearn.linear_model import Lasso\n",
        "lasso_reg = Lasso(alpha=0.1) # 혹은 SGDRegressor(penalty=\"l1\")\n",
        "lasso_reg.fit(X,y)\n",
        "lasso_reg.predict([[1.5]])"
      ],
      "metadata": {
        "colab": {
          "base_uri": "https://localhost:8080/"
        },
        "id": "H6QgjonZuqqV",
        "outputId": "8fb7930f-b32a-4e46-f6b3-8211c1057ed4"
      },
      "execution_count": 31,
      "outputs": [
        {
          "output_type": "execute_result",
          "data": {
            "text/plain": [
              "array([5.25973022])"
            ]
          },
          "metadata": {},
          "execution_count": 31
        }
      ]
    },
    {
      "cell_type": "markdown",
      "source": [
        "### 4.5.3 엘라스틱넷\n",
        "- 엘라스틱넷은 릿지 회귀와 랏소 회귀를 절충한 모델\n",
        "- 규제항은 릿지와 회귀의 규제항을 단순히 더해서 사용, 혼합 정도는 혼합 비율 r을 사용해 조절\n",
        " - r=0이면 릿지 회귀, r=1이면 라쏘 회귀와 같음\n",
        "- 엘라스틱넷 비용함수 $J(\\theta)=MSE(\\theta)+rα\\frac{1}{2}\\sum_{i=1}^{n}|\\theta_i|+\\frac{1-r}{2}α\\sum_{i=1}^{n}\\theta_i^2$\n",
        "\n",
        "\n",
        "> 회귀 적용\n",
        "- 규제가 약간 있는 것이 대부분의 경우에 좋으므로 일반적으로 평범한 선형 회귀는 피해야 함\n",
        "- 릿지가 기본, 쓰이는 특성이 몇 개뿐이라고 의심되면 불필요한 특성의 가중치를 0으로 만들어주는 라쏘나 엘라스틱넷이 나음\n",
        "- 특성 수가 훈련 샘플 수보다 많거나 특성 몇개가 강하게 연관되어 있을 때는 라쏘보다는 엘라스틱넷 선호\n",
        "\n",
        "### 4.5.4 조기 종료\n",
        "- 조기 종료 : 검증 에러가 최솟값에 도달하면 바로 훈련을 중지\n",
        " - 확률적 경사하강법이나 미니배치 경사하강법의 경우 검증 에러가 일정 시간 동안 최솟값보다 클 때 학습을 멈추는 것이 좋음\n",
        "- 에포크가 진행됨에 따라 예측 에러가 줄어들다가, 다시 상승  > 모델이 훈련 데이터에 과대적합되기 시작하는 것을 의미\n"
      ],
      "metadata": {
        "id": "6zj3wLQdxdvS"
      }
    },
    {
      "cell_type": "code",
      "source": [
        "np.random.seed(42)\n",
        "m = 100\n",
        "X = 6 * np.random.rand(m, 1) - 3\n",
        "y = 2 + X + 0.5 * X**2 + np.random.randn(m, 1)\n",
        "\n",
        "X_train, X_val, y_train, y_val = train_test_split(X[:50], y[:50].ravel(), test_size=0.5, random_state=10)\n",
        "from copy import deepcopy\n",
        "\n",
        "poly_scaler = Pipeline([\n",
        "        (\"poly_features\", PolynomialFeatures(degree=90, include_bias=False)),\n",
        "        (\"std_scaler\", StandardScaler())\n",
        "    ])\n",
        "\n",
        "X_train_poly_scaled = poly_scaler.fit_transform(X_train)\n",
        "X_val_poly_scaled = poly_scaler.transform(X_val)\n",
        "\n",
        "sgd_reg = SGDRegressor(max_iter=1, tol=-np.infty, warm_start=True,\n",
        "                       penalty=None, learning_rate=\"constant\", eta0=0.0005, random_state=42)\n",
        "\n",
        "minimum_val_error = float(\"inf\")\n",
        "best_epoch = None\n",
        "best_model = None\n",
        "for epoch in range(1000):\n",
        "    sgd_reg.fit(X_train_poly_scaled, y_train)  # 훈련을 이어서 진행\n",
        "    y_val_predict = sgd_reg.predict(X_val_poly_scaled)\n",
        "    val_error = mean_squared_error(y_val, y_val_predict)\n",
        "    if val_error < minimum_val_error:\n",
        "        minimum_val_error = val_error\n",
        "        best_epoch = epoch\n",
        "        best_model = deepcopy(sgd_reg)"
      ],
      "metadata": {
        "id": "T7I0NQHDFDmq"
      },
      "execution_count": 33,
      "outputs": []
    },
    {
      "cell_type": "markdown",
      "source": [
        "- warm_start=True 지정시 fit()메서드가 호출될 때 처음부터 다시 시작하지 않고 이전 모델 파라미터에서 훈련을 이어감\n",
        "\n",
        "## 4.6 로지스틱 회귀\n",
        "- 로지스틱 회귀(로짓 회귀) : 샘플이 특정 클래스에 속할 확률을 추정하는 데 널리 사용됨\n",
        "- 이진분류기 : 추정 확률이 50%가 넘으면 모델이 해당 클래스에 속한다고 예측 (레이블이 '1'인 양성 클래스), 아니면 클래스에 속하지 않는다고 예측 (레이블이 '0'인 음성클래스)\n",
        "\n",
        "### 4.6.1 확률 추정\n",
        "- 로지스틱 회귀모델은 입력 특성의 가중치합을 계산하고 편향을 더함. 대신 선형 회귀처럼 바로 결과를 출력하지 않고 결괏값의 로지스틱을 출력\n",
        "- 로지스틱 회귀 모델의 확률 추정(벡터 표현식)\n",
        " - $\\hat p=h_\\theta(x)=σ(θ^Tx)$ : 로지스틱 회귀모델의 샘플 x가 양성 클래스에 속할 확률\n",
        " - 로지스틱 σ은 0과 1 사이의 값을 출력하는 시그모이드 함수 (S자 형태)\n",
        "- $θ^Tx$, 즉 로짓logit, 로그-오즈, logit(p)=log(p/(1-p))가 양수일 때 1이라고 예측, 음수일 때 0이라고  예측\n",
        "\n",
        "### 4.6.2 훈련과 비용 함수\n",
        "- 하나의 훈련 샘플에 대한 비용함수 \n",
        " - <img src = \"https://yganalyst.github.io/assets/images/ML/chap3/logistic4.png\" width=\"250\" height=\"50\">\n",
        " - 모델이 양성 샘플을 0에 가까운 확률로 추정하거나 음성 샘플을 1에 가까운 확률로 추정하면 비용이 증가\n",
        "- 전체 훈련 세트에 대한 비용함수는 모든 훈련 샘플의 비용을 평균한 로그 손실(log loss)\n",
        " - 로지스틱 회귀의 비용함수 (로그손실)\n",
        " - $J(\\theta)= -\\frac{1}{m}$$\\sum_{i=1}^{m}[y^{(i)}log(\\hat p^{(i)})+(1-y^{(i)})log(1-\\hat p^{(i)})]$\n",
        "- 로그손실은 최솟값을 계산하는 알려진 해가 없지만 볼록 함수이므로 경사 하강법(또는 어떤 다른 최적화 알고리즘)이 전역 최솟값을 찾는 것을 보장(학습률이 너무 크지 않고 충분히 기다릴 시간이 있다면)\n",
        " - 로지스틱 비용 함수의 편도함수\n",
        " - $\\frac {∂} {∂\\theta_j}J(θ)=\\frac {1}{m} \\sum_{i=1}^{m}(\\sigma(θ^Tx^{(i)})-y^{(i)})x_j^{(i)}$\n",
        " - 각 샘플에 대해 예측 오차를 계산하고 j번째 특성값을 곱해서 모든 훈련 샘플에 대해 평균을 냄\n",
        " - 모든 편도함수를 포함한 그레디언트 벡터를 만들어 배치 경사 알고리즘을 사용할 수 있음\n",
        "\n",
        "\n",
        "\n",
        "### 4.6.3 결정 경계\n",
        "- 붓꽃 데이터셋을 사용, 꽃잎의 넓이를 기반으로 Iris-Versicolor 종을 감지하는 분류기 생성"
      ],
      "metadata": {
        "id": "rCWaPPVNGJa6"
      }
    },
    {
      "cell_type": "code",
      "source": [
        "# 데이터 로드\n",
        "from sklearn import datasets\n",
        "iris=datasets.load_iris()\n",
        "list(iris.keys())"
      ],
      "metadata": {
        "colab": {
          "base_uri": "https://localhost:8080/"
        },
        "id": "k4h_hS_pDK5h",
        "outputId": "ce97c4c8-abbb-441b-f629-d39030587adb"
      },
      "execution_count": 34,
      "outputs": [
        {
          "output_type": "execute_result",
          "data": {
            "text/plain": [
              "['data',\n",
              " 'target',\n",
              " 'frame',\n",
              " 'target_names',\n",
              " 'DESCR',\n",
              " 'feature_names',\n",
              " 'filename',\n",
              " 'data_module']"
            ]
          },
          "metadata": {},
          "execution_count": 34
        }
      ]
    },
    {
      "cell_type": "code",
      "source": [
        "X=iris[\"data\"][:,3:] # 꽃잎의 너비\n",
        "y=(iris[\"target\"]==2).astype(np.int) # Iris-Virginica면 1, 그렇지 않으면 0"
      ],
      "metadata": {
        "colab": {
          "base_uri": "https://localhost:8080/"
        },
        "id": "7pmYZzl8OzX8",
        "outputId": "d03f2e01-46d7-4087-ef97-e28de590c727"
      },
      "execution_count": 35,
      "outputs": [
        {
          "output_type": "stream",
          "name": "stderr",
          "text": [
            "/usr/local/lib/python3.7/dist-packages/ipykernel_launcher.py:2: DeprecationWarning: `np.int` is a deprecated alias for the builtin `int`. To silence this warning, use `int` by itself. Doing this will not modify any behavior and is safe. When replacing `np.int`, you may wish to use e.g. `np.int64` or `np.int32` to specify the precision. If you wish to review your current use, check the release note link for additional information.\n",
            "Deprecated in NumPy 1.20; for more details and guidance: https://numpy.org/devdocs/release/1.20.0-notes.html#deprecations\n",
            "  \n"
          ]
        }
      ]
    },
    {
      "cell_type": "code",
      "source": [
        "# 꽃잎의 너비가 0~3cm인 꽃에 대해 모델의 추정 확률 계산\n",
        "from sklearn.linear_model import LogisticRegression\n",
        "log_reg = LogisticRegression()\n",
        "log_reg.fit(X,y)\n",
        "\n",
        "X_new = np.linspace(0,3,1000).reshape(-1,1)\n",
        "y_proba = log_reg.predict_proba(X_new)\n",
        "plt.plot(X_new, y_proba[:,1], \"g-\", label=\"Iris virginica\")\n",
        "plt.plot(X_new, y_proba[:,0], \"b--\", label=\"Not Iris virginica\")\n",
        "plt.show()"
      ],
      "metadata": {
        "colab": {
          "base_uri": "https://localhost:8080/",
          "height": 265
        },
        "id": "uXLqn00fO_7i",
        "outputId": "98b2c9f8-2098-4d03-94cb-17c3a274814a"
      },
      "execution_count": 38,
      "outputs": [
        {
          "output_type": "display_data",
          "data": {
            "text/plain": [
              "<Figure size 432x288 with 1 Axes>"
            ],
            "image/png": "[encoded data removed]"
          },
          "metadata": {
            "needs_background": "light"
          }
        }
      ]
    },
    {
      "cell_type": "markdown",
      "source": [
        "- Iris-Verginica의 꽃잎 넓이는 1.4~2.5cm, 다른 붓꽃은 0.1~1.8cm에 분포해 약간의 중첩되는 부분 존재\n",
        "- 클래스를 예측하려고 하면 가장 가능성 높은 클래스를 반환, 양쪽의 확률이 똑같이 50%가 되는 1.6cm근방에서 결정 경계decision boundary가 생성됨"
      ],
      "metadata": {
        "id": "_4mj9BaDPmL7"
      }
    },
    {
      "cell_type": "code",
      "source": [
        "log_reg.predict([[1.7],[1.5]])"
      ],
      "metadata": {
        "colab": {
          "base_uri": "https://localhost:8080/"
        },
        "id": "02QDBAGsPUya",
        "outputId": "bcb42dde-634a-47d8-e313-588e6f061062"
      },
      "execution_count": 40,
      "outputs": [
        {
          "output_type": "execute_result",
          "data": {
            "text/plain": [
              "array([1, 0])"
            ]
          },
          "metadata": {},
          "execution_count": 40
        }
      ]
    },
    {
      "cell_type": "markdown",
      "source": [
        "- 다른 선형 모델처럼 로지스틱 회귀모델도 l1, l2페널티 사용해 규제 가능, 사이킷런은 l2페널티를 기본으로 함\n",
        "\n",
        "\n",
        "### 4.6.4 소프트맥스 회귀\n",
        "- 소프트맥스 회귀, 다항 로지스틱 회귀 : 로지스틱 회귀모델이 여러개의 이진분류기를 훈련시켜 연결하지 않고 직접 다중 클래스를 지원하도록 일반화됨\n",
        "- 샘플 x가 주어지면 소프트맥스 회귀 모델이 각 클래스 k에 대한 점수 $s_k(x)$를 계산, 그 점수에 소프트맥스 함수(또는 정규화된 지수함수, normalized exponential function)를 적용하여 각 클래스의 확률을 추정\n",
        " - $s_k(x)$를 계산하는 식은 선형 회귀 예측을 위한 식과 매우 비슷\n",
        " - 클래스 k에 대한 소프트맥스 점수 $s_k(x)=(\\theta^{(k)})^Tx$\n",
        " - 각 클래스는 자신만의 파라미터 벡터 $\\theta^{(k)}$가 있으며, 이 벡터들은 파라미터 행렬 (parametric matrix)에 행으로 저장됨\n",
        "- 샘플 x에 대해 각 클래스의 점수가 계산되면 소프트맥스함수를 통과시켜 클래스에 속할 확률 $\\hat p_k$을 추정\n",
        " - 소프트맥스 회귀 분류기의 예측 <img src = \"https://dojinkimm.github.io/assets/imgs/ml/handson_4_21.png\" width=\"400\" height=\"100\">\n",
        " - argmax 연산은 함수를 최대화하는 변수의 값을 반환. 이 식에서는 추정확률 $\\sigma(s(x))_k$가 최대인 k값을 반환\n",
        "- 훈련 : 모델이 타깃 클래스에 대해서는 높은 확률을(다른 클래스에 대해서는 낮은 확률을 추정하도록) 만드는 것이 목적\n",
        " - 크로스 엔트로피 비용함수를 최소화하는 것은 타깃 클래스에 대해 낮은 확률을 예측하는 모델을 억제하므로 적절 - 추정된 클래스의 확률이 타깃 클래스에 얼마나 잘 맞는지 측정하는 용도로 종종 사용됨\n",
        " - 크로스 엔트로피 비용 함수 $J(Θ)=\\frac{1}{m}\\sum_{i=1}^{m}\\sum_{k=1}^{K}y_k^{(i)}log(\\hat p_k^{(i)})$\n",
        " - $y_k^{(i)}$는 i번째 샘플이 클래스 k에 속할 타깃 확률\n",
        " - 두개의 클래스가 있을때(K=2) 비용 함수는 로지스틱 회귀의 비용 함수와 같음\n",
        " - 클래스 k에 대한 크로스 엔트로피의 그레디언트 벡터를 계산해 비용 함수를 최소화하기위한 파라미터 행렬 Θ를 찾기 위해 경사 하강법(또는 다른 최적화 알고리즘) 사용 가능\n",
        "- 사이킷런의 multi_class 매개변수를 \"multinomial\"로 바꾸면 소프트맥스 회귀 사용 가능. 기본적으로 l2규제가 적용됨\n",
        "\n"
      ],
      "metadata": {
        "id": "eUCLNQS_QFtF"
      }
    },
    {
      "cell_type": "code",
      "source": [
        "X=iris[\"data\"][:,(2,3)] # 꽃잎 길이, 너비\n",
        "y=iris[\"target\"]\n",
        "\n",
        "softmax_reg = LogisticRegression(multi_class=\"multinomial\", solver=\"lbfgs\", C=10)\n",
        "# solver : 소프트맥스 회귀 지원하는 알고리즘 'lbfgs' 지정, C : rbwp whwjf\n",
        "softmax_reg.fit(X,y)"
      ],
      "metadata": {
        "colab": {
          "base_uri": "https://localhost:8080/"
        },
        "id": "KQZErvN4P6iq",
        "outputId": "f29a1f24-7002-4915-e5b9-401eaa92e075"
      },
      "execution_count": 41,
      "outputs": [
        {
          "output_type": "execute_result",
          "data": {
            "text/plain": [
              "LogisticRegression(C=10, multi_class='multinomial')"
            ]
          },
          "metadata": {},
          "execution_count": 41
        }
      ]
    },
    {
      "cell_type": "code",
      "source": [
        "softmax_reg.predict([[5,2]])"
      ],
      "metadata": {
        "colab": {
          "base_uri": "https://localhost:8080/"
        },
        "id": "yR0zEUloVWcn",
        "outputId": "a08def2e-c226-43a9-f8bc-5d0b41f1f0ec"
      },
      "execution_count": 43,
      "outputs": [
        {
          "output_type": "execute_result",
          "data": {
            "text/plain": [
              "array([2])"
            ]
          },
          "metadata": {},
          "execution_count": 43
        }
      ]
    },
    {
      "cell_type": "code",
      "source": [
        "softmax_reg.predict_proba([[5,2]])"
      ],
      "metadata": {
        "colab": {
          "base_uri": "https://localhost:8080/"
        },
        "id": "IuuwFXLRVa5y",
        "outputId": "deff3af0-1164-436b-899e-2b216eedbdb5"
      },
      "execution_count": 44,
      "outputs": [
        {
          "output_type": "execute_result",
          "data": {
            "text/plain": [
              "array([[6.38014896e-07, 5.74929995e-02, 9.42506362e-01]])"
            ]
          },
          "metadata": {},
          "execution_count": 44
        }
      ]
    }
  ]
}