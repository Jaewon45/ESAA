{
  "nbformat": 4,
  "nbformat_minor": 0,
  "metadata": {
    "colab": {
      "provenance": [],
      "authorship_tag": "ABX9TyN9uq62XrN86KHXtRm042Ht",
      "include_colab_link": true
    },
    "kernelspec": {
      "name": "python3",
      "display_name": "Python 3"
    },
    "language_info": {
      "name": "python"
    }
  },
  "cells": [
    {
      "cell_type": "markdown",
      "metadata": {
        "id": "view-in-github",
        "colab_type": "text"
      },
      "source": [
        "<a href=\"https://colab.research.google.com/github/Jaewon45/ESAA_2022/blob/main/1128_Keras.ipynb\" target=\"_parent\"><img src=\"https://colab.research.google.com/assets/colab-badge.svg\" alt=\"Open In Colab\"/></a>"
      ]
    },
    {
      "cell_type": "markdown",
      "source": [
        "파이썬 딥러닝 텐서플로 ch3. 1-4, pg. 50~95\n",
        "# Part 03. 케라스 (Keras)\n",
        "## 01. 딥러닝 준비\n",
        "- 텐서플로2부터 케라스 API를 내재화\n",
        "- 케라스 \n",
        " - GPU 연산을 수행하는 기능을 직접 실행하지 않고 벡엔드 엔진(텐서플로, CNTK, Theano, MXNet 등)을 지정하여 사용 - 2.4버전 이후로는 텐서플로만을 지원\n",
        " - 딥러닝 라이브러리를 쉽고 간결한 코드로 실행할 수 있게 만들어줌\n"
      ],
      "metadata": {
        "id": "Oanhh-F7dyaM"
      }
    },
    {
      "cell_type": "markdown",
      "source": [
        "### 1-1. 주요 용어\n",
        "1. 하이퍼파라미터\n",
        "- 딥러닝, 머신러닝 모델 훈련시 사용자가 직접 설정해주는 설정값 (학습속도, 반복훈련횟수 등)\n",
        "- 하이퍼파라미터 튜닝은 딥러닝 마지막 단계에 진행\n",
        "2. 과소적합, 과대적합\n",
        "- 과소적합: 모델이 충분히 학습되지 않은 경우 예측 성능 저하\n",
        "- 과대적합: 학습 데이터를 지나치게 반복 학습하게 되어 과하게 적합된 상태, 예측 데이터에 대한 예측오차가 발생할 확률이 커짐\n",
        "3. 에포크\n",
        "- 딥러닝 모델이 반복 훈련을 할 때 데이터셋을 전부 학습에 사용하는 1회의 훈련 루프를 1 epoch라고 함\n",
        "- 훈련데이터셋을 빠짐없이 모두 1번 모델 훈련에 사용하면 다음 epoch로 넘어가며 사전에 설정된 최대 epoch 횟수까지 반복적으로 진행하고 종료함\n",
        "- 과소적합, 과대적합 방지를 위해 조기종료 설정 등 적절한 하이퍼파라미터로 설정해야 함\n",
        "4. 손실함수\n",
        "- 예측 값과 정답 값의 차이 또는 오차\n",
        "- 딥러닝 모델에 적용하는 손실함수는 사용자가 정의\n",
        " - `이진 분류` : binary_crossentropy 손실함수, 출력층의 활성화 함수 'sigmoid'\n",
        " - `다중 분류` : categorical_crossentropy 손실함수, 출력층의 활성함수 'softmax' (다중 분류 대상 클래스가 'one-hot vector'인 경우)\n",
        " - `레이블 값` : (0, 1, 2, 3.. 등) sparse_categorical_crossentropy 손실함수\n",
        " - `회귀 모델` : 평균제곱오차(MSE), 평균절대값오차(MAE), 후버(Huber) 등 사용"
      ],
      "metadata": {
        "id": "dcukYxDmOFQ5"
      }
    },
    {
      "cell_type": "code",
      "source": [
        "# 클래스 및 함수 형태로 정의되어있는 손실 함수 지정 후 사용 예시\n",
        "import tensorflow as tf\n",
        "\n",
        "# 클래스\n",
        "tf.keras.losses.BinaryCrossentropy()\n",
        "\n",
        "# 함수\n",
        "tf.keras.losses.binary_crossentropy"
      ],
      "metadata": {
        "id": "S1JStBAkUmMr",
        "colab": {
          "base_uri": "https://localhost:8080/"
        },
        "outputId": "61e21195-a30c-486f-ec96-e40cd3c5bfc6"
      },
      "execution_count": 21,
      "outputs": [
        {
          "output_type": "execute_result",
          "data": {
            "text/plain": [
              "<function keras.losses.binary_crossentropy(y_true, y_pred, from_logits=False, label_smoothing=0.0, axis=-1)>"
            ]
          },
          "metadata": {},
          "execution_count": 21
        }
      ]
    },
    {
      "cell_type": "markdown",
      "source": [
        "5. 경사하강법(gradient descent)\n",
        "- 모델 훈련시 모델 내부의 가중치에 대한 미분 값을 구하고 목적 함수 값이 낮아지는 방향으로 차감하며 최소 함수 값을 갖도록 하는 방법\n",
        "- 경사하강법 알고리즘을 적용해 손실함수 값을 최소로 만드는 가중치를 찾을 수 있음\n",
        "- 옵티마이저(최적화함수)의 근간이 되는 알고리즘\n",
        "\n",
        "##### 경사하강법 넘파이 구현\n",
        "- 손실함수(목적함수) : $Loss = \\frac{1}{2} \\sum_i(y-\\hat y)^2$\n",
        " - 1/2는 가중치에 대한 그래디언트를 계산하기 쉽도록 추가된 상수 값\n",
        "- 단순선형회귀 수식 : $y=wx+b$"
      ],
      "metadata": {
        "id": "mPY5pvyVYSam"
      }
    },
    {
      "cell_type": "code",
      "source": [
        "import numpy as np\n",
        "import matplotlib.pyplot as plt\n",
        "\n",
        "# 샘플에 활용할 데이터셋 만들기\n",
        "def make_linear(w=0.5, b=0.8, size=50, noise=1.0):\n",
        "  x = np.random.rand(size)\n",
        "  y = w*x + b\n",
        "  noise = np.random.uniform(-abs(noise), abs(noise), size=y.shape)\n",
        "  yy = y + noise\n",
        "  plt.figure(figsize=(10,7))\n",
        "  plt.plot(x, y, color='r', label=f'y={w}*x+{b}')\n",
        "  plt.scatter(x, yy, label='data')\n",
        "  plt.legend(fontsize=20)\n",
        "  print(f'w:{w}, b:{b}')\n",
        "  return x, yy\n",
        "\n",
        "x, y = make_linear(w=0.3, b=0.5, size=100, noise=0.01)"
      ],
      "metadata": {
        "colab": {
          "base_uri": "https://localhost:8080/",
          "height": 446
        },
        "id": "1O6E0n4HZvZN",
        "outputId": "d079f0c1-6371-4947-ecab-8380e2e388fa"
      },
      "execution_count": 22,
      "outputs": [
        {
          "output_type": "stream",
          "name": "stdout",
          "text": [
            "w:0.3, b:0.5\n"
          ]
        },
        {
          "output_type": "display_data",
          "data": {
            "text/plain": [
              "<Figure size 720x504 with 1 Axes>"
            ],
            "image/png": "[encoded data removed]"
          },
          "metadata": {
            "needs_background": "light"
          }
        }
      ]
    },
    {
      "cell_type": "markdown",
      "source": [
        "- 그래디언트 w 업데이트 최종 수식 : $w - \\alpha \\sum_i (y-\\hat y)(x)$\n",
        " - $\\alpha$는 학습률을 의미\n",
        "- 그래디언트 b 업데이트 최종 수식 : $b - \\alpha \\sum_i (y-\\hat y)$"
      ],
      "metadata": {
        "id": "PoAOywW-bx8j"
      }
    },
    {
      "cell_type": "code",
      "source": [
        "## 최적화 과정 구현\n",
        "# 최대 반복 횟수 \n",
        "num_epoch = 1000\n",
        "\n",
        "# 학습률(learing_rate)\n",
        "learning_rate = 0.005\n",
        "\n",
        "# 에러 기록\n",
        "errors = []\n",
        "\n",
        "# 랜덤한 값으로 w, b를 초기화\n",
        "w = np.random.uniform(low=0.0, high=1.0)\n",
        "b = np.random.uniform(low=0.0, high=1.0)\n",
        "\n",
        "for epoch in range(num_epoch):\n",
        "  # hypothesis 정의\n",
        "  y_hat = w*x + b\n",
        "  # loss function 정의\n",
        "  error = 0.5*((y_hat-y)**2).sum()\n",
        "  if error < 0.005:\n",
        "     break\n",
        "  # gradient 미분 계산\n",
        "  w = w - learning_rate * ((y_hat - y)*x).sum()\n",
        "  b = b - learning_rate * (y_hat - y).sum()\n",
        "\n",
        "  errors.append(error)\n",
        "\n",
        "  if epoch %5 == 0:\n",
        "    print(\"{0:2}w = {1:.5f}, b = {2:.5f} error = {3:.5f}\".format(epoch, w, b, error))\n",
        "  \n",
        "print(\"-----\" * 15)\n",
        "print(\"{0:2}w = {1:.5f}, b = {2:.5f} error = {3:.5f}\".format(epoch, w, b, error))"
      ],
      "metadata": {
        "colab": {
          "base_uri": "https://localhost:8080/"
        },
        "id": "u7af0oVlbUNF",
        "outputId": "13ffeef4-30f5-4f64-9b85-5012d480f476"
      },
      "execution_count": 23,
      "outputs": [
        {
          "output_type": "stream",
          "name": "stdout",
          "text": [
            " 0w = 0.67458, b = 0.21261 error = 3.21912\n",
            " 5w = 0.65055, b = 0.30583 error = 0.51714\n",
            "10w = 0.60102, b = 0.33375 error = 0.38144\n",
            "15w = 0.55834, b = 0.35742 error = 0.28149\n",
            "20w = 0.52170, b = 0.37774 error = 0.20784\n",
            "25w = 0.49025, b = 0.39519 error = 0.15357\n",
            "30w = 0.46325, b = 0.41016 error = 0.11357\n",
            "35w = 0.44007, b = 0.42302 error = 0.08410\n",
            "40w = 0.42017, b = 0.43405 error = 0.06238\n",
            "45w = 0.40309, b = 0.44353 error = 0.04637\n",
            "50w = 0.38843, b = 0.45166 error = 0.03458\n",
            "55w = 0.37584, b = 0.45864 error = 0.02589\n",
            "60w = 0.36504, b = 0.46463 error = 0.01948\n",
            "65w = 0.35576, b = 0.46978 error = 0.01476\n",
            "70w = 0.34780, b = 0.47419 error = 0.01128\n",
            "75w = 0.34096, b = 0.47798 error = 0.00872\n",
            "80w = 0.33510, b = 0.48124 error = 0.00683\n",
            "85w = 0.33006, b = 0.48403 error = 0.00544\n",
            "---------------------------------------------------------------------------\n",
            "87w = 0.32914, b = 0.48454 error = 0.00499\n"
          ]
        }
      ]
    },
    {
      "cell_type": "code",
      "source": [
        "plt.figure(figsize=(10,7))\n",
        "plt.plot(errors)\n",
        "plt.xlabel(\"Epochs\")\n",
        "plt.ylabel(\"Error\")\n",
        "plt.show()"
      ],
      "metadata": {
        "colab": {
          "base_uri": "https://localhost:8080/",
          "height": 442
        },
        "id": "PVOQlaM8dS4q",
        "outputId": "03dd36c0-3306-48bb-f3e3-1c42c886b587"
      },
      "execution_count": 24,
      "outputs": [
        {
          "output_type": "display_data",
          "data": {
            "text/plain": [
              "<Figure size 720x504 with 1 Axes>"
            ],
            "image/png": "[encoded data removed]"
          },
          "metadata": {
            "needs_background": "light"
          }
        }
      ]
    },
    {
      "cell_type": "markdown",
      "source": [
        "- 종료 후 확인한 w, b 계수가 샘플 데이터셋 생성시 설정한 w, b 계수와 비슷한 값임\n",
        "\n",
        "### 1-2. 딥러닝 프로세스\n",
        "#### 1. 데이터 전처리\n",
        "- 데이터를 모델에 주입하기 전에 데이터를 가공하는 단계\n",
        "#### 2. 모델 생성\n",
        "- 모델의 구조를 정의하고 생성\n",
        "- 순차적인 구조는 Sequential API, 다중 입력 및 출력의 복잡한 구조는 Functional API 혹은 Model Subclassing 방법으로 구현\n",
        "#### 3. 모델 컴파일\n",
        "- 생성된 모델 훈련에 사용할 손실함수, 옵티마이저, 평가지표 등을 정의\n",
        "- 모델 인스턴스에 compile() 메소드를 적용하고 속성값을 설정\n",
        "#### 4. 모델 훈련\n",
        "- 훈련 데이터셋, 검증 데이터셋, epoch, 배치(batch) 크기 및 콜백(callback) 함수 등을 지정\n",
        "#### 5. 모델 검증\n",
        "- 훈련할 때 사용하지 않은 검증 데이터셋을 모델에 입력하고 예측값과 정답을 비교하여 평가지표를 계산\n",
        "#### 6. 모델 예측\n",
        "- 훈련과 검증이 완료된 모델로 테스트셋에 대하여 모델이 예측하고 그 결과를 반환"
      ],
      "metadata": {
        "id": "8t_l08QzdgRz"
      }
    },
    {
      "cell_type": "markdown",
      "source": [
        "## 02. 단순 신경망 훈련\n",
        "### 2-1. 선형회귀\n",
        "- 회귀 분석 : 하나 이상의 독립변수들이 종속변수들에 미치는 영향을 추정하는 통계기법\n",
        "### 2-2. 뉴런\n",
        "- 인공 신경망 모델을 구성하는 하나의 신경, 노드(node)라고도 불림\n",
        "- 신경망은 여러개의 레이어를 가지며 1개의 레이어는 1개 이상의 뉴런으로 구성\n",
        "- 뉴런 내부에는 가중치가 존재하고 모델이 훈련을 진행하면서 오차 역전파를 통해 뉴런의 가중치가 업데이트된다\n",
        "### 2-3. Dense 레이어\n",
        "- 심층 신경망 모델을 구성하는 가장 기본 레이어\n",
        "- 각 레이어와 레이어 사이에 모든 뉴런이 서로 연결된 완전연결층 (fully connected layer)\n",
        "- 모든 뉴런들이 정보(텐서)의 흐름을 나타내는 화살표로 연결됨\n",
        "- Dense 레이어를 구성하는 노드 개수와 활성화 함수 지정 가능"
      ],
      "metadata": {
        "id": "5w9l1gqJeu5g"
      }
    },
    {
      "cell_type": "code",
      "source": [
        "# Dense layer 설정 예시\n",
        "import tensorflow as tf\n",
        "\n",
        "# 10개의 노드로 이루어진 Dense 레이어\n",
        "tf.keras.layers.Dense(10)\n",
        "\n",
        "# ReLU 활성화 함수 적용\n",
        "tf.keras.layers.Dense(10, activation='relu')"
      ],
      "metadata": {
        "id": "HMalb_GKdeda",
        "colab": {
          "base_uri": "https://localhost:8080/"
        },
        "outputId": "fe2e4113-d3e3-495d-8656-4bead1ee8f54"
      },
      "execution_count": 25,
      "outputs": [
        {
          "output_type": "execute_result",
          "data": {
            "text/plain": [
              "<keras.layers.core.dense.Dense at 0x7f878a49afd0>"
            ]
          },
          "metadata": {},
          "execution_count": 25
        }
      ]
    },
    {
      "cell_type": "markdown",
      "source": [
        "### 2-4. 데이터셋 만들기"
      ],
      "metadata": {
        "id": "QCLVAiN2fmy0"
      }
    },
    {
      "cell_type": "code",
      "source": [
        "# 샘플 데이터셋 생성\n",
        "x = np.arange(1, 6)\n",
        "\n",
        "# y = 3x + 2\n",
        "y = 3*x + 2\n",
        "print(x)\n",
        "print(y)"
      ],
      "metadata": {
        "colab": {
          "base_uri": "https://localhost:8080/"
        },
        "id": "0GD_aBsvfmkg",
        "outputId": "882a75e1-4678-4af4-fe66-604180815939"
      },
      "execution_count": 26,
      "outputs": [
        {
          "output_type": "stream",
          "name": "stdout",
          "text": [
            "[1 2 3 4 5]\n",
            "[ 5  8 11 14 17]\n"
          ]
        }
      ]
    },
    {
      "cell_type": "code",
      "source": [
        "import matplotlib.pyplot as plt\n",
        "\n",
        "# 시각화\n",
        "plt.plot(x, y)\n",
        "plt.title('y = 3x + 2')\n",
        "plt.show()"
      ],
      "metadata": {
        "colab": {
          "base_uri": "https://localhost:8080/",
          "height": 281
        },
        "id": "mQDLkQehfwDY",
        "outputId": "cf738386-bb69-4699-ccf1-9773d5af5a11"
      },
      "execution_count": 27,
      "outputs": [
        {
          "output_type": "display_data",
          "data": {
            "text/plain": [
              "<Figure size 432x288 with 1 Axes>"
            ],
            "image/png": "[encoded data removed]"
          },
          "metadata": {
            "needs_background": "light"
          }
        }
      ]
    },
    {
      "cell_type": "markdown",
      "source": [
        "### 2-5. Sequential API\n",
        "- 층을 이어 붙이듯 시퀀스에 맞게 일렬로 연결하는 방식\n",
        "- 입력 레이어부터 출력 레이어까지 순서를 가짐\n",
        "- 입력 데이터는 시퀀스의 가장 앞에 위치한 층에 투입되고, 순서대로 각 층을 하나씩 통과하면서 딥러닝 연산을 수행\n",
        "- 2개 이상의 다중 입력이나 다중 출력을 갖는 복잡한 구조를 만들 수 없음\n",
        "\n",
        "1. 모델 구조"
      ],
      "metadata": {
        "id": "F8I3VihDf6pX"
      }
    },
    {
      "cell_type": "code",
      "source": [
        "import tensorflow as tf\n",
        "\n",
        "## 1. 리스트형 정의\n",
        "model = tf.keras.Sequential([\n",
        "    tf.keras.layers.Dense(10),\n",
        "    tf.keras.layers.Dense(5),\n",
        "    tf.keras.layers.Dense(1),\n",
        "])\n",
        "\n",
        "## 2. add 함수로 레이어 추가\n",
        "model = tf.keras.Sequential()\n",
        "model.add(tf.keras.layers.Dense(10))\n",
        "model.add(tf.keras.layers.Dense(5))\n",
        "model.add(tf.keras.layers.Dense(1))"
      ],
      "metadata": {
        "id": "I2T-9olif5d0"
      },
      "execution_count": 28,
      "outputs": []
    },
    {
      "cell_type": "markdown",
      "source": [
        "2. 입력 데이터 형태\n",
        "- Sequential API 사용시 반드시 첫번째 층은 input_shape 매개변수 지정 (튜플 혹은 리스트 형태)"
      ],
      "metadata": {
        "id": "D0k0ah-qgrxH"
      }
    },
    {
      "cell_type": "code",
      "source": [
        "import tensorflow as tf\n",
        "model = tf.keras.Sequential([\n",
        "    # 입력 데이터의 shape=(150, 4)인 경우 input_shape 지정\n",
        "    tf.keras.layers.Dense(10, input_shape=[4]), # [4] 혹은 (4,)\n",
        "    tf.keras.layers.Dense(5),\n",
        "    tf.keras.layers.Dense(1),\n",
        "])"
      ],
      "metadata": {
        "id": "mdoqWycrgraN"
      },
      "execution_count": 29,
      "outputs": []
    },
    {
      "cell_type": "markdown",
      "source": [
        "3. 단순선형회귀 모델 정의\n",
        "- 1개의 뉴런을 가지는 Dense 레이어 한개 사용\n",
        "- 1개의 뉴런은 기울기에 해당하는 w와 상수항에 해당하는 b를 매개변수로 가짐\n",
        "- y = wx + b 에서 입력데이터는 x값에 대한 입력변수 1개이기 때문에 input_shape = [1] 로 지정"
      ],
      "metadata": {
        "id": "pZS4jEgAhDAH"
      }
    },
    {
      "cell_type": "code",
      "source": [
        "# 단순선형회귀 모델 생성\n",
        "model = tf.keras.Sequential([\n",
        "    tf.keras.layers.Dense(1, input_shape=[1])\n",
        "])\n",
        "\n",
        "# use_bias = True 디폴트로 상수항 b가 추가됨"
      ],
      "metadata": {
        "id": "WFDgvSEPhEQL"
      },
      "execution_count": 30,
      "outputs": []
    },
    {
      "cell_type": "markdown",
      "source": [
        "6. 모델 요약\n",
        "- model.summary()로 요약 확인"
      ],
      "metadata": {
        "id": "bkby1oD2hekK"
      }
    },
    {
      "cell_type": "code",
      "source": [
        "model.summary()"
      ],
      "metadata": {
        "colab": {
          "base_uri": "https://localhost:8080/"
        },
        "id": "XLobUZjlhiIg",
        "outputId": "b75a6833-6ac9-42cf-d722-6c88b1c7f498"
      },
      "execution_count": 31,
      "outputs": [
        {
          "output_type": "stream",
          "name": "stdout",
          "text": [
            "Model: \"sequential_11\"\n",
            "_________________________________________________________________\n",
            " Layer (type)                Output Shape              Param #   \n",
            "=================================================================\n",
            " dense_39 (Dense)            (None, 1)                 2         \n",
            "                                                                 \n",
            "=================================================================\n",
            "Total params: 2\n",
            "Trainable params: 2\n",
            "Non-trainable params: 0\n",
            "_________________________________________________________________\n"
          ]
        }
      ]
    },
    {
      "cell_type": "markdown",
      "source": [
        "- Total params : 모델 내부에 존재하는 모든 파라미터의 합계\n",
        "- Trainable params : 모델 훈련시 업데이트할 파라미터의 총 개수\n",
        "- Non-trainable params : 훈련시 업데이트하지 않을 파라미터의 총 개수\n",
        "\n",
        "7. 컴파일\n",
        "- 옵티마이저, 손실함수, 평가지표 정의\n",
        " - 클래스 인스턴스, 함수, 사전 정의된 문자열로 지정\n",
        "- 클래스 인스턴스로 지정시 학습률(learning rate), 모멘텀(momentum) 등의 하이퍼파라미터 직접 지정 가능\n",
        "- 문자열로 지정할 경우 기본값으로 설정된 하이퍼파라미터를 사용하며 하이퍼파라미터 수정이 어려움"
      ],
      "metadata": {
        "id": "GsckrrZahqTt"
      }
    },
    {
      "cell_type": "code",
      "source": [
        "# 긴 문자열 지정\n",
        "model.compile(optimizer='sgd', loss='mean_squared_error', metrics=['mean_squared_error', 'mean_absolute_error'])\n",
        "\n",
        "# 짧은 문자열 지정\n",
        "model.compile(optimizer='sgd', loss='mse', metrics=['mse', 'mae'])\n",
        "\n",
        "# 클래스 인스턴스 지정\n",
        "model.compile(optimizer=tf.keras.optimizers.SGD(lr=0.005),\n",
        "              loss=tf.keras.losses.MeanAbsoluteError(),\n",
        "              metrics=[tf.keras.metrics.MeanAbsoluteError(),\n",
        "                       tf.keras.metrics.MeanSquaredError()\n",
        "                       ])"
      ],
      "metadata": {
        "colab": {
          "base_uri": "https://localhost:8080/"
        },
        "id": "IhukgMDChnFa",
        "outputId": "8724601f-d94a-4e61-e049-d91bbbdacb34"
      },
      "execution_count": 32,
      "outputs": [
        {
          "output_type": "stream",
          "name": "stderr",
          "text": [
            "/usr/local/lib/python3.7/dist-packages/keras/optimizers/optimizer_v2/gradient_descent.py:108: UserWarning: The `lr` argument is deprecated, use `learning_rate` instead.\n",
            "  super(SGD, self).__init__(name, **kwargs)\n"
          ]
        }
      ]
    },
    {
      "cell_type": "code",
      "source": [
        "# 컴파일\n",
        "model.compile(optimizer='sgd', loss='mse', metrics=['mae'])"
      ],
      "metadata": {
        "id": "EpHSVQHEizcP"
      },
      "execution_count": 33,
      "outputs": []
    },
    {
      "cell_type": "markdown",
      "source": [
        "8. 훈련\n",
        "- 가중치(weight) 텐서를 업데이트하는 과정\n",
        "- fit() 메소드에 훈련용 데이터셋의 입력(x)과 출력(y), 반복 훈련할 epoch 수를 지정\n",
        "- 매 epoch가 끝날때마다 훈련 데이터셋에 대한 손실과 평가 지표를 출력, verbose=0 지정시 미출력"
      ],
      "metadata": {
        "id": "R1nugMbti8Cb"
      }
    },
    {
      "cell_type": "code",
      "source": [
        "model.fit(x, y, epochs=5)"
      ],
      "metadata": {
        "colab": {
          "base_uri": "https://localhost:8080/"
        },
        "id": "2hD7itzujKpx",
        "outputId": "05768c16-bf28-4088-ad4a-dea5ab0382d8"
      },
      "execution_count": 34,
      "outputs": [
        {
          "output_type": "stream",
          "name": "stdout",
          "text": [
            "Epoch 1/5\n",
            "1/1 [==============================] - 0s 337ms/step - loss: 53.5241 - mae: 6.9361\n",
            "Epoch 2/5\n",
            "1/1 [==============================] - 0s 7ms/step - loss: 31.3449 - mae: 5.3514\n",
            "Epoch 3/5\n",
            "1/1 [==============================] - 0s 9ms/step - loss: 18.4189 - mae: 4.1415\n",
            "Epoch 4/5\n",
            "1/1 [==============================] - 0s 5ms/step - loss: 10.8852 - mae: 3.2177\n",
            "Epoch 5/5\n",
            "1/1 [==============================] - 0s 8ms/step - loss: 6.4940 - mae: 2.5123\n"
          ]
        },
        {
          "output_type": "execute_result",
          "data": {
            "text/plain": [
              "<keras.callbacks.History at 0x7f87873d8850>"
            ]
          },
          "metadata": {},
          "execution_count": 34
        }
      ]
    },
    {
      "cell_type": "markdown",
      "source": [
        "- 현재 과소적합상태\n",
        "- `history` 변수는 epoch별 훈련 손실과 평가지표가 딕셔너리 형태로 저장됨"
      ],
      "metadata": {
        "id": "tlEoRmPdjUXb"
      }
    },
    {
      "cell_type": "code",
      "source": [
        "# 단순 선형회귀 모델 생성\n",
        "model = tf.keras.Sequential([\n",
        "    tf.keras.layers.Dense(1, input_shape=[1])\n",
        "])\n",
        "\n",
        "# 컴파일\n",
        "model.compile(optimizer='sgd', loss='mse', metrics=['mae'])\n",
        "\n",
        "# 훈련\n",
        "history = model.fit(x, y, epochs=1200)"
      ],
      "metadata": {
        "colab": {
          "base_uri": "https://localhost:8080/"
        },
        "id": "qbW8p4e3jPHn",
        "outputId": "762370b3-dfdb-4aa8-da50-c23c076e692c"
      },
      "execution_count": 35,
      "outputs": [
        {
          "output_type": "stream",
          "name": "stdout",
          "text": [
            "Epoch 1/1200\n",
            "1/1 [==============================] - 0s 321ms/step - loss: 39.5399 - mae: 5.9989\n",
            "Epoch 2/1200\n",
            "1/1 [==============================] - 0s 11ms/step - loss: 23.2133 - mae: 4.6391\n",
            "Epoch 3/1200\n",
            "1/1 [==============================] - 0s 9ms/step - loss: 13.6978 - mae: 3.6009\n",
            "Epoch 4/1200\n",
            "1/1 [==============================] - 0s 8ms/step - loss: 8.1515 - mae: 2.8082\n",
            "Epoch 5/1200\n",
            "1/1 [==============================] - 0s 8ms/step - loss: 4.9182 - mae: 2.2028\n",
            "Epoch 6/1200\n",
            "1/1 [==============================] - 0s 10ms/step - loss: 3.0329 - mae: 1.7405\n",
            "Epoch 7/1200\n",
            "1/1 [==============================] - 0s 9ms/step - loss: 1.9331 - mae: 1.3874\n",
            "Epoch 8/1200\n",
            "1/1 [==============================] - 0s 8ms/step - loss: 1.2911 - mae: 1.1176\n",
            "Epoch 9/1200\n",
            "1/1 [==============================] - 0s 9ms/step - loss: 0.9159 - mae: 0.9115\n",
            "Epoch 10/1200\n",
            "1/1 [==============================] - 0s 6ms/step - loss: 0.6961 - mae: 0.7539\n",
            "Epoch 11/1200\n",
            "1/1 [==============================] - 0s 7ms/step - loss: 0.5669 - mae: 0.6335\n",
            "Epoch 12/1200\n",
            "1/1 [==============================] - 0s 7ms/step - loss: 0.4905 - mae: 0.5762\n",
            "Epoch 13/1200\n",
            "1/1 [==============================] - 0s 7ms/step - loss: 0.4450 - mae: 0.5498\n",
            "Epoch 14/1200\n",
            "1/1 [==============================] - 0s 8ms/step - loss: 0.4173 - mae: 0.5293\n",
            "Epoch 15/1200\n",
            "1/1 [==============================] - 0s 10ms/step - loss: 0.4002 - mae: 0.5132\n",
            "Epoch 16/1200\n",
            "1/1 [==============================] - 0s 6ms/step - loss: 0.3891 - mae: 0.5105\n",
            "Epoch 17/1200\n",
            "1/1 [==============================] - 0s 7ms/step - loss: 0.3816 - mae: 0.5127\n",
            "Epoch 18/1200\n",
            "1/1 [==============================] - 0s 5ms/step - loss: 0.3762 - mae: 0.5139\n",
            "Epoch 19/1200\n",
            "1/1 [==============================] - 0s 7ms/step - loss: 0.3720 - mae: 0.5144\n",
            "Epoch 20/1200\n",
            "1/1 [==============================] - 0s 6ms/step - loss: 0.3685 - mae: 0.5144\n",
            "Epoch 21/1200\n",
            "1/1 [==============================] - 0s 6ms/step - loss: 0.3654 - mae: 0.5140\n",
            "Epoch 22/1200\n",
            "1/1 [==============================] - 0s 6ms/step - loss: 0.3627 - mae: 0.5133\n",
            "Epoch 23/1200\n",
            "1/1 [==============================] - 0s 6ms/step - loss: 0.3600 - mae: 0.5123\n",
            "Epoch 24/1200\n",
            "1/1 [==============================] - 0s 6ms/step - loss: 0.3575 - mae: 0.5111\n",
            "Epoch 25/1200\n",
            "1/1 [==============================] - 0s 6ms/step - loss: 0.3550 - mae: 0.5099\n",
            "Epoch 26/1200\n",
            "1/1 [==============================] - 0s 6ms/step - loss: 0.3526 - mae: 0.5085\n",
            "Epoch 27/1200\n",
            "1/1 [==============================] - 0s 6ms/step - loss: 0.3502 - mae: 0.5070\n",
            "Epoch 28/1200\n",
            "1/1 [==============================] - 0s 6ms/step - loss: 0.3478 - mae: 0.5055\n",
            "Epoch 29/1200\n",
            "1/1 [==============================] - 0s 8ms/step - loss: 0.3454 - mae: 0.5040\n",
            "Epoch 30/1200\n",
            "1/1 [==============================] - 0s 6ms/step - loss: 0.3431 - mae: 0.5024\n",
            "Epoch 31/1200\n",
            "1/1 [==============================] - 0s 6ms/step - loss: 0.3408 - mae: 0.5008\n",
            "Epoch 32/1200\n",
            "1/1 [==============================] - 0s 5ms/step - loss: 0.3385 - mae: 0.4991\n",
            "Epoch 33/1200\n",
            "1/1 [==============================] - 0s 6ms/step - loss: 0.3362 - mae: 0.4975\n",
            "Epoch 34/1200\n",
            "1/1 [==============================] - 0s 6ms/step - loss: 0.3339 - mae: 0.4959\n",
            "Epoch 35/1200\n",
            "1/1 [==============================] - 0s 7ms/step - loss: 0.3317 - mae: 0.4942\n",
            "Epoch 36/1200\n",
            "1/1 [==============================] - 0s 6ms/step - loss: 0.3294 - mae: 0.4926\n",
            "Epoch 37/1200\n",
            "1/1 [==============================] - 0s 6ms/step - loss: 0.3272 - mae: 0.4909\n",
            "Epoch 38/1200\n",
            "1/1 [==============================] - 0s 6ms/step - loss: 0.3250 - mae: 0.4893\n",
            "Epoch 39/1200\n",
            "1/1 [==============================] - 0s 8ms/step - loss: 0.3228 - mae: 0.4876\n",
            "Epoch 40/1200\n",
            "1/1 [==============================] - 0s 6ms/step - loss: 0.3206 - mae: 0.4860\n",
            "Epoch 41/1200\n",
            "1/1 [==============================] - 0s 7ms/step - loss: 0.3184 - mae: 0.4843\n",
            "Epoch 42/1200\n",
            "1/1 [==============================] - 0s 8ms/step - loss: 0.3163 - mae: 0.4827\n",
            "Epoch 43/1200\n",
            "1/1 [==============================] - 0s 10ms/step - loss: 0.3142 - mae: 0.4811\n",
            "Epoch 44/1200\n",
            "1/1 [==============================] - 0s 7ms/step - loss: 0.3120 - mae: 0.4795\n",
            "Epoch 45/1200\n",
            "1/1 [==============================] - 0s 7ms/step - loss: 0.3099 - mae: 0.4778\n",
            "Epoch 46/1200\n",
            "1/1 [==============================] - 0s 7ms/step - loss: 0.3078 - mae: 0.4762\n",
            "Epoch 47/1200\n",
            "1/1 [==============================] - 0s 6ms/step - loss: 0.3058 - mae: 0.4746\n",
            "Epoch 48/1200\n",
            "1/1 [==============================] - 0s 8ms/step - loss: 0.3037 - mae: 0.4730\n",
            "Epoch 49/1200\n",
            "1/1 [==============================] - 0s 9ms/step - loss: 0.3017 - mae: 0.4714\n",
            "Epoch 50/1200\n",
            "1/1 [==============================] - 0s 6ms/step - loss: 0.2996 - mae: 0.4698\n",
            "Epoch 51/1200\n",
            "1/1 [==============================] - 0s 6ms/step - loss: 0.2976 - mae: 0.4682\n",
            "Epoch 52/1200\n",
            "1/1 [==============================] - 0s 7ms/step - loss: 0.2956 - mae: 0.4666\n",
            "Epoch 53/1200\n",
            "1/1 [==============================] - 0s 8ms/step - loss: 0.2936 - mae: 0.4651\n",
            "Epoch 54/1200\n",
            "1/1 [==============================] - 0s 6ms/step - loss: 0.2916 - mae: 0.4635\n",
            "Epoch 55/1200\n",
            "1/1 [==============================] - 0s 7ms/step - loss: 0.2896 - mae: 0.4619\n",
            "Epoch 56/1200\n",
            "1/1 [==============================] - 0s 8ms/step - loss: 0.2877 - mae: 0.4604\n",
            "Epoch 57/1200\n",
            "1/1 [==============================] - 0s 7ms/step - loss: 0.2857 - mae: 0.4588\n",
            "Epoch 58/1200\n",
            "1/1 [==============================] - 0s 6ms/step - loss: 0.2838 - mae: 0.4573\n",
            "Epoch 59/1200\n",
            "1/1 [==============================] - 0s 7ms/step - loss: 0.2819 - mae: 0.4557\n",
            "Epoch 60/1200\n",
            "1/1 [==============================] - 0s 7ms/step - loss: 0.2800 - mae: 0.4542\n",
            "Epoch 61/1200\n",
            "1/1 [==============================] - 0s 8ms/step - loss: 0.2781 - mae: 0.4526\n",
            "Epoch 62/1200\n",
            "1/1 [==============================] - 0s 8ms/step - loss: 0.2762 - mae: 0.4511\n",
            "Epoch 63/1200\n",
            "1/1 [==============================] - 0s 8ms/step - loss: 0.2744 - mae: 0.4496\n",
            "Epoch 64/1200\n",
            "1/1 [==============================] - 0s 8ms/step - loss: 0.2725 - mae: 0.4481\n",
            "Epoch 65/1200\n",
            "1/1 [==============================] - 0s 8ms/step - loss: 0.2707 - mae: 0.4466\n",
            "Epoch 66/1200\n",
            "1/1 [==============================] - 0s 7ms/step - loss: 0.2688 - mae: 0.4450\n",
            "Epoch 67/1200\n",
            "1/1 [==============================] - 0s 7ms/step - loss: 0.2670 - mae: 0.4435\n",
            "Epoch 68/1200\n",
            "1/1 [==============================] - 0s 8ms/step - loss: 0.2652 - mae: 0.4420\n",
            "Epoch 69/1200\n",
            "1/1 [==============================] - 0s 7ms/step - loss: 0.2634 - mae: 0.4405\n",
            "Epoch 70/1200\n",
            "1/1 [==============================] - 0s 10ms/step - loss: 0.2617 - mae: 0.4391\n",
            "Epoch 71/1200\n",
            "1/1 [==============================] - 0s 8ms/step - loss: 0.2599 - mae: 0.4376\n",
            "Epoch 72/1200\n",
            "1/1 [==============================] - 0s 8ms/step - loss: 0.2581 - mae: 0.4361\n",
            "Epoch 73/1200\n",
            "1/1 [==============================] - 0s 8ms/step - loss: 0.2564 - mae: 0.4346\n",
            "Epoch 74/1200\n",
            "1/1 [==============================] - 0s 10ms/step - loss: 0.2547 - mae: 0.4331\n",
            "Epoch 75/1200\n",
            "1/1 [==============================] - 0s 11ms/step - loss: 0.2529 - mae: 0.4317\n",
            "Epoch 76/1200\n",
            "1/1 [==============================] - 0s 10ms/step - loss: 0.2512 - mae: 0.4302\n",
            "Epoch 77/1200\n",
            "1/1 [==============================] - 0s 7ms/step - loss: 0.2495 - mae: 0.4288\n",
            "Epoch 78/1200\n",
            "1/1 [==============================] - 0s 8ms/step - loss: 0.2479 - mae: 0.4273\n",
            "Epoch 79/1200\n",
            "1/1 [==============================] - 0s 8ms/step - loss: 0.2462 - mae: 0.4259\n",
            "Epoch 80/1200\n",
            "1/1 [==============================] - 0s 9ms/step - loss: 0.2445 - mae: 0.4244\n",
            "Epoch 81/1200\n",
            "1/1 [==============================] - 0s 7ms/step - loss: 0.2429 - mae: 0.4230\n",
            "Epoch 82/1200\n",
            "1/1 [==============================] - 0s 9ms/step - loss: 0.2412 - mae: 0.4216\n",
            "Epoch 83/1200\n",
            "1/1 [==============================] - 0s 9ms/step - loss: 0.2396 - mae: 0.4201\n",
            "Epoch 84/1200\n",
            "1/1 [==============================] - 0s 9ms/step - loss: 0.2380 - mae: 0.4187\n",
            "Epoch 85/1200\n",
            "1/1 [==============================] - 0s 8ms/step - loss: 0.2364 - mae: 0.4173\n",
            "Epoch 86/1200\n",
            "1/1 [==============================] - 0s 8ms/step - loss: 0.2348 - mae: 0.4159\n",
            "Epoch 87/1200\n",
            "1/1 [==============================] - 0s 9ms/step - loss: 0.2332 - mae: 0.4145\n",
            "Epoch 88/1200\n",
            "1/1 [==============================] - 0s 8ms/step - loss: 0.2316 - mae: 0.4131\n",
            "Epoch 89/1200\n",
            "1/1 [==============================] - 0s 10ms/step - loss: 0.2301 - mae: 0.4117\n",
            "Epoch 90/1200\n",
            "1/1 [==============================] - 0s 7ms/step - loss: 0.2285 - mae: 0.4103\n",
            "Epoch 91/1200\n",
            "1/1 [==============================] - 0s 7ms/step - loss: 0.2270 - mae: 0.4089\n",
            "Epoch 92/1200\n",
            "1/1 [==============================] - 0s 7ms/step - loss: 0.2254 - mae: 0.4075\n",
            "Epoch 93/1200\n",
            "1/1 [==============================] - 0s 8ms/step - loss: 0.2239 - mae: 0.4062\n",
            "Epoch 94/1200\n",
            "1/1 [==============================] - 0s 8ms/step - loss: 0.2224 - mae: 0.4048\n",
            "Epoch 95/1200\n",
            "1/1 [==============================] - 0s 9ms/step - loss: 0.2209 - mae: 0.4034\n",
            "Epoch 96/1200\n",
            "1/1 [==============================] - 0s 9ms/step - loss: 0.2194 - mae: 0.4020\n",
            "Epoch 97/1200\n",
            "1/1 [==============================] - 0s 7ms/step - loss: 0.2179 - mae: 0.4007\n",
            "Epoch 98/1200\n",
            "1/1 [==============================] - 0s 9ms/step - loss: 0.2165 - mae: 0.3993\n",
            "Epoch 99/1200\n",
            "1/1 [==============================] - 0s 9ms/step - loss: 0.2150 - mae: 0.3980\n",
            "Epoch 100/1200\n",
            "1/1 [==============================] - 0s 7ms/step - loss: 0.2135 - mae: 0.3966\n",
            "Epoch 101/1200\n",
            "1/1 [==============================] - 0s 8ms/step - loss: 0.2121 - mae: 0.3953\n",
            "Epoch 102/1200\n",
            "1/1 [==============================] - 0s 12ms/step - loss: 0.2107 - mae: 0.3940\n",
            "Epoch 103/1200\n",
            "1/1 [==============================] - 0s 8ms/step - loss: 0.2092 - mae: 0.3926\n",
            "Epoch 104/1200\n",
            "1/1 [==============================] - 0s 7ms/step - loss: 0.2078 - mae: 0.3913\n",
            "Epoch 105/1200\n",
            "1/1 [==============================] - 0s 8ms/step - loss: 0.2064 - mae: 0.3900\n",
            "Epoch 106/1200\n",
            "1/1 [==============================] - 0s 10ms/step - loss: 0.2050 - mae: 0.3887\n",
            "Epoch 107/1200\n",
            "1/1 [==============================] - 0s 7ms/step - loss: 0.2037 - mae: 0.3873\n",
            "Epoch 108/1200\n",
            "1/1 [==============================] - 0s 7ms/step - loss: 0.2023 - mae: 0.3860\n",
            "Epoch 109/1200\n",
            "1/1 [==============================] - 0s 9ms/step - loss: 0.2009 - mae: 0.3847\n",
            "Epoch 110/1200\n",
            "1/1 [==============================] - 0s 9ms/step - loss: 0.1996 - mae: 0.3834\n",
            "Epoch 111/1200\n",
            "1/1 [==============================] - 0s 7ms/step - loss: 0.1982 - mae: 0.3821\n",
            "Epoch 112/1200\n",
            "1/1 [==============================] - 0s 9ms/step - loss: 0.1969 - mae: 0.3808\n",
            "Epoch 113/1200\n",
            "1/1 [==============================] - 0s 8ms/step - loss: 0.1955 - mae: 0.3796\n",
            "Epoch 114/1200\n",
            "1/1 [==============================] - 0s 10ms/step - loss: 0.1942 - mae: 0.3783\n",
            "Epoch 115/1200\n",
            "1/1 [==============================] - 0s 7ms/step - loss: 0.1929 - mae: 0.3770\n",
            "Epoch 116/1200\n",
            "1/1 [==============================] - 0s 7ms/step - loss: 0.1916 - mae: 0.3757\n",
            "Epoch 117/1200\n",
            "1/1 [==============================] - 0s 8ms/step - loss: 0.1903 - mae: 0.3744\n",
            "Epoch 118/1200\n",
            "1/1 [==============================] - 0s 9ms/step - loss: 0.1890 - mae: 0.3732\n",
            "Epoch 119/1200\n",
            "1/1 [==============================] - 0s 8ms/step - loss: 0.1878 - mae: 0.3719\n",
            "Epoch 120/1200\n",
            "1/1 [==============================] - 0s 8ms/step - loss: 0.1865 - mae: 0.3707\n",
            "Epoch 121/1200\n",
            "1/1 [==============================] - 0s 7ms/step - loss: 0.1852 - mae: 0.3694\n",
            "Epoch 122/1200\n",
            "1/1 [==============================] - 0s 8ms/step - loss: 0.1840 - mae: 0.3682\n",
            "Epoch 123/1200\n",
            "1/1 [==============================] - 0s 8ms/step - loss: 0.1827 - mae: 0.3669\n",
            "Epoch 124/1200\n",
            "1/1 [==============================] - 0s 8ms/step - loss: 0.1815 - mae: 0.3657\n",
            "Epoch 125/1200\n",
            "1/1 [==============================] - 0s 8ms/step - loss: 0.1803 - mae: 0.3644\n",
            "Epoch 126/1200\n",
            "1/1 [==============================] - 0s 8ms/step - loss: 0.1791 - mae: 0.3632\n",
            "Epoch 127/1200\n",
            "1/1 [==============================] - 0s 8ms/step - loss: 0.1779 - mae: 0.3620\n",
            "Epoch 128/1200\n",
            "1/1 [==============================] - 0s 8ms/step - loss: 0.1767 - mae: 0.3608\n",
            "Epoch 129/1200\n",
            "1/1 [==============================] - 0s 11ms/step - loss: 0.1755 - mae: 0.3595\n",
            "Epoch 130/1200\n",
            "1/1 [==============================] - 0s 8ms/step - loss: 0.1743 - mae: 0.3583\n",
            "Epoch 131/1200\n",
            "1/1 [==============================] - 0s 8ms/step - loss: 0.1731 - mae: 0.3571\n",
            "Epoch 132/1200\n",
            "1/1 [==============================] - 0s 8ms/step - loss: 0.1719 - mae: 0.3559\n",
            "Epoch 133/1200\n",
            "1/1 [==============================] - 0s 8ms/step - loss: 0.1708 - mae: 0.3547\n",
            "Epoch 134/1200\n",
            "1/1 [==============================] - 0s 8ms/step - loss: 0.1696 - mae: 0.3535\n",
            "Epoch 135/1200\n",
            "1/1 [==============================] - 0s 8ms/step - loss: 0.1685 - mae: 0.3523\n",
            "Epoch 136/1200\n",
            "1/1 [==============================] - 0s 8ms/step - loss: 0.1673 - mae: 0.3511\n",
            "Epoch 137/1200\n",
            "1/1 [==============================] - 0s 8ms/step - loss: 0.1662 - mae: 0.3499\n",
            "Epoch 138/1200\n",
            "1/1 [==============================] - 0s 7ms/step - loss: 0.1651 - mae: 0.3487\n",
            "Epoch 139/1200\n",
            "1/1 [==============================] - 0s 8ms/step - loss: 0.1640 - mae: 0.3476\n",
            "Epoch 140/1200\n",
            "1/1 [==============================] - 0s 8ms/step - loss: 0.1629 - mae: 0.3464\n",
            "Epoch 141/1200\n",
            "1/1 [==============================] - 0s 7ms/step - loss: 0.1618 - mae: 0.3452\n",
            "Epoch 142/1200\n",
            "1/1 [==============================] - 0s 7ms/step - loss: 0.1607 - mae: 0.3440\n",
            "Epoch 143/1200\n",
            "1/1 [==============================] - 0s 7ms/step - loss: 0.1596 - mae: 0.3429\n",
            "Epoch 144/1200\n",
            "1/1 [==============================] - 0s 9ms/step - loss: 0.1585 - mae: 0.3417\n",
            "Epoch 145/1200\n",
            "1/1 [==============================] - 0s 9ms/step - loss: 0.1574 - mae: 0.3406\n",
            "Epoch 146/1200\n",
            "1/1 [==============================] - 0s 9ms/step - loss: 0.1564 - mae: 0.3394\n",
            "Epoch 147/1200\n",
            "1/1 [==============================] - 0s 8ms/step - loss: 0.1553 - mae: 0.3383\n",
            "Epoch 148/1200\n",
            "1/1 [==============================] - 0s 8ms/step - loss: 0.1543 - mae: 0.3371\n",
            "Epoch 149/1200\n",
            "1/1 [==============================] - 0s 8ms/step - loss: 0.1532 - mae: 0.3360\n",
            "Epoch 150/1200\n",
            "1/1 [==============================] - 0s 7ms/step - loss: 0.1522 - mae: 0.3349\n",
            "Epoch 151/1200\n",
            "1/1 [==============================] - 0s 8ms/step - loss: 0.1512 - mae: 0.3337\n",
            "Epoch 152/1200\n",
            "1/1 [==============================] - 0s 8ms/step - loss: 0.1501 - mae: 0.3326\n",
            "Epoch 153/1200\n",
            "1/1 [==============================] - 0s 7ms/step - loss: 0.1491 - mae: 0.3315\n",
            "Epoch 154/1200\n",
            "1/1 [==============================] - 0s 8ms/step - loss: 0.1481 - mae: 0.3303\n",
            "Epoch 155/1200\n",
            "1/1 [==============================] - 0s 8ms/step - loss: 0.1471 - mae: 0.3292\n",
            "Epoch 156/1200\n",
            "1/1 [==============================] - 0s 6ms/step - loss: 0.1461 - mae: 0.3281\n",
            "Epoch 157/1200\n",
            "1/1 [==============================] - 0s 7ms/step - loss: 0.1451 - mae: 0.3270\n",
            "Epoch 158/1200\n",
            "1/1 [==============================] - 0s 7ms/step - loss: 0.1442 - mae: 0.3259\n",
            "Epoch 159/1200\n",
            "1/1 [==============================] - 0s 6ms/step - loss: 0.1432 - mae: 0.3248\n",
            "Epoch 160/1200\n",
            "1/1 [==============================] - 0s 8ms/step - loss: 0.1422 - mae: 0.3237\n",
            "Epoch 161/1200\n",
            "1/1 [==============================] - 0s 7ms/step - loss: 0.1413 - mae: 0.3226\n",
            "Epoch 162/1200\n",
            "1/1 [==============================] - 0s 7ms/step - loss: 0.1403 - mae: 0.3215\n",
            "Epoch 163/1200\n",
            "1/1 [==============================] - 0s 7ms/step - loss: 0.1394 - mae: 0.3204\n",
            "Epoch 164/1200\n",
            "1/1 [==============================] - 0s 7ms/step - loss: 0.1384 - mae: 0.3193\n",
            "Epoch 165/1200\n",
            "1/1 [==============================] - 0s 8ms/step - loss: 0.1375 - mae: 0.3183\n",
            "Epoch 166/1200\n",
            "1/1 [==============================] - 0s 7ms/step - loss: 0.1366 - mae: 0.3172\n",
            "Epoch 167/1200\n",
            "1/1 [==============================] - 0s 7ms/step - loss: 0.1356 - mae: 0.3161\n",
            "Epoch 168/1200\n",
            "1/1 [==============================] - 0s 7ms/step - loss: 0.1347 - mae: 0.3150\n",
            "Epoch 169/1200\n",
            "1/1 [==============================] - 0s 6ms/step - loss: 0.1338 - mae: 0.3140\n",
            "Epoch 170/1200\n",
            "1/1 [==============================] - 0s 7ms/step - loss: 0.1329 - mae: 0.3129\n",
            "Epoch 171/1200\n",
            "1/1 [==============================] - 0s 7ms/step - loss: 0.1320 - mae: 0.3119\n",
            "Epoch 172/1200\n",
            "1/1 [==============================] - 0s 7ms/step - loss: 0.1311 - mae: 0.3108\n",
            "Epoch 173/1200\n",
            "1/1 [==============================] - 0s 149ms/step - loss: 0.1302 - mae: 0.3098\n",
            "Epoch 174/1200\n",
            "1/1 [==============================] - 0s 7ms/step - loss: 0.1294 - mae: 0.3087\n",
            "Epoch 175/1200\n",
            "1/1 [==============================] - 0s 7ms/step - loss: 0.1285 - mae: 0.3077\n",
            "Epoch 176/1200\n",
            "1/1 [==============================] - 0s 7ms/step - loss: 0.1276 - mae: 0.3066\n",
            "Epoch 177/1200\n",
            "1/1 [==============================] - 0s 7ms/step - loss: 0.1268 - mae: 0.3056\n",
            "Epoch 178/1200\n",
            "1/1 [==============================] - 0s 7ms/step - loss: 0.1259 - mae: 0.3046\n",
            "Epoch 179/1200\n",
            "1/1 [==============================] - 0s 7ms/step - loss: 0.1251 - mae: 0.3035\n",
            "Epoch 180/1200\n",
            "1/1 [==============================] - 0s 8ms/step - loss: 0.1242 - mae: 0.3025\n",
            "Epoch 181/1200\n",
            "1/1 [==============================] - 0s 8ms/step - loss: 0.1234 - mae: 0.3015\n",
            "Epoch 182/1200\n",
            "1/1 [==============================] - 0s 7ms/step - loss: 0.1225 - mae: 0.3005\n",
            "Epoch 183/1200\n",
            "1/1 [==============================] - 0s 7ms/step - loss: 0.1217 - mae: 0.2994\n",
            "Epoch 184/1200\n",
            "1/1 [==============================] - 0s 7ms/step - loss: 0.1209 - mae: 0.2984\n",
            "Epoch 185/1200\n",
            "1/1 [==============================] - 0s 7ms/step - loss: 0.1201 - mae: 0.2974\n",
            "Epoch 186/1200\n",
            "1/1 [==============================] - 0s 8ms/step - loss: 0.1193 - mae: 0.2964\n",
            "Epoch 187/1200\n",
            "1/1 [==============================] - 0s 8ms/step - loss: 0.1185 - mae: 0.2954\n",
            "Epoch 188/1200\n",
            "1/1 [==============================] - 0s 7ms/step - loss: 0.1177 - mae: 0.2944\n",
            "Epoch 189/1200\n",
            "1/1 [==============================] - 0s 7ms/step - loss: 0.1169 - mae: 0.2934\n",
            "Epoch 190/1200\n",
            "1/1 [==============================] - 0s 7ms/step - loss: 0.1161 - mae: 0.2924\n",
            "Epoch 191/1200\n",
            "1/1 [==============================] - 0s 7ms/step - loss: 0.1153 - mae: 0.2914\n",
            "Epoch 192/1200\n",
            "1/1 [==============================] - 0s 7ms/step - loss: 0.1145 - mae: 0.2905\n",
            "Epoch 193/1200\n",
            "1/1 [==============================] - 0s 8ms/step - loss: 0.1137 - mae: 0.2895\n",
            "Epoch 194/1200\n",
            "1/1 [==============================] - 0s 7ms/step - loss: 0.1130 - mae: 0.2885\n",
            "Epoch 195/1200\n",
            "1/1 [==============================] - 0s 7ms/step - loss: 0.1122 - mae: 0.2875\n",
            "Epoch 196/1200\n",
            "1/1 [==============================] - 0s 7ms/step - loss: 0.1115 - mae: 0.2865\n",
            "Epoch 197/1200\n",
            "1/1 [==============================] - 0s 7ms/step - loss: 0.1107 - mae: 0.2856\n",
            "Epoch 198/1200\n",
            "1/1 [==============================] - 0s 7ms/step - loss: 0.1100 - mae: 0.2846\n",
            "Epoch 199/1200\n",
            "1/1 [==============================] - 0s 8ms/step - loss: 0.1092 - mae: 0.2836\n",
            "Epoch 200/1200\n",
            "1/1 [==============================] - 0s 8ms/step - loss: 0.1085 - mae: 0.2827\n",
            "Epoch 201/1200\n",
            "1/1 [==============================] - 0s 7ms/step - loss: 0.1077 - mae: 0.2817\n",
            "Epoch 202/1200\n",
            "1/1 [==============================] - 0s 7ms/step - loss: 0.1070 - mae: 0.2808\n",
            "Epoch 203/1200\n",
            "1/1 [==============================] - 0s 7ms/step - loss: 0.1063 - mae: 0.2798\n",
            "Epoch 204/1200\n",
            "1/1 [==============================] - 0s 7ms/step - loss: 0.1056 - mae: 0.2789\n",
            "Epoch 205/1200\n",
            "1/1 [==============================] - 0s 7ms/step - loss: 0.1049 - mae: 0.2779\n",
            "Epoch 206/1200\n",
            "1/1 [==============================] - 0s 7ms/step - loss: 0.1042 - mae: 0.2770\n",
            "Epoch 207/1200\n",
            "1/1 [==============================] - 0s 8ms/step - loss: 0.1034 - mae: 0.2761\n",
            "Epoch 208/1200\n",
            "1/1 [==============================] - 0s 7ms/step - loss: 0.1028 - mae: 0.2751\n",
            "Epoch 209/1200\n",
            "1/1 [==============================] - 0s 7ms/step - loss: 0.1021 - mae: 0.2742\n",
            "Epoch 210/1200\n",
            "1/1 [==============================] - 0s 7ms/step - loss: 0.1014 - mae: 0.2733\n",
            "Epoch 211/1200\n",
            "1/1 [==============================] - 0s 8ms/step - loss: 0.1007 - mae: 0.2724\n",
            "Epoch 212/1200\n",
            "1/1 [==============================] - 0s 7ms/step - loss: 0.1000 - mae: 0.2714\n",
            "Epoch 213/1200\n",
            "1/1 [==============================] - 0s 7ms/step - loss: 0.0993 - mae: 0.2705\n",
            "Epoch 214/1200\n",
            "1/1 [==============================] - 0s 7ms/step - loss: 0.0987 - mae: 0.2696\n",
            "Epoch 215/1200\n",
            "1/1 [==============================] - 0s 8ms/step - loss: 0.0980 - mae: 0.2687\n",
            "Epoch 216/1200\n",
            "1/1 [==============================] - 0s 7ms/step - loss: 0.0973 - mae: 0.2678\n",
            "Epoch 217/1200\n",
            "1/1 [==============================] - 0s 7ms/step - loss: 0.0967 - mae: 0.2669\n",
            "Epoch 218/1200\n",
            "1/1 [==============================] - 0s 8ms/step - loss: 0.0960 - mae: 0.2660\n",
            "Epoch 219/1200\n",
            "1/1 [==============================] - 0s 329ms/step - loss: 0.0954 - mae: 0.2651\n",
            "Epoch 220/1200\n",
            "1/1 [==============================] - 0s 63ms/step - loss: 0.0947 - mae: 0.2642\n",
            "Epoch 221/1200\n",
            "1/1 [==============================] - 0s 7ms/step - loss: 0.0941 - mae: 0.2633\n",
            "Epoch 222/1200\n",
            "1/1 [==============================] - 0s 5ms/step - loss: 0.0935 - mae: 0.2624\n",
            "Epoch 223/1200\n",
            "1/1 [==============================] - 0s 6ms/step - loss: 0.0928 - mae: 0.2615\n",
            "Epoch 224/1200\n",
            "1/1 [==============================] - 0s 5ms/step - loss: 0.0922 - mae: 0.2606\n",
            "Epoch 225/1200\n",
            "1/1 [==============================] - 0s 5ms/step - loss: 0.0916 - mae: 0.2597\n",
            "Epoch 226/1200\n",
            "1/1 [==============================] - 0s 5ms/step - loss: 0.0910 - mae: 0.2589\n",
            "Epoch 227/1200\n",
            "1/1 [==============================] - 0s 7ms/step - loss: 0.0903 - mae: 0.2580\n",
            "Epoch 228/1200\n",
            "1/1 [==============================] - 0s 6ms/step - loss: 0.0897 - mae: 0.2571\n",
            "Epoch 229/1200\n",
            "1/1 [==============================] - 0s 7ms/step - loss: 0.0891 - mae: 0.2562\n",
            "Epoch 230/1200\n",
            "1/1 [==============================] - 0s 6ms/step - loss: 0.0885 - mae: 0.2554\n",
            "Epoch 231/1200\n",
            "1/1 [==============================] - 0s 10ms/step - loss: 0.0879 - mae: 0.2545\n",
            "Epoch 232/1200\n",
            "1/1 [==============================] - 0s 13ms/step - loss: 0.0873 - mae: 0.2537\n",
            "Epoch 233/1200\n",
            "1/1 [==============================] - 0s 8ms/step - loss: 0.0867 - mae: 0.2528\n",
            "Epoch 234/1200\n",
            "1/1 [==============================] - 0s 9ms/step - loss: 0.0862 - mae: 0.2519\n",
            "Epoch 235/1200\n",
            "1/1 [==============================] - 0s 13ms/step - loss: 0.0856 - mae: 0.2511\n",
            "Epoch 236/1200\n",
            "1/1 [==============================] - 0s 5ms/step - loss: 0.0850 - mae: 0.2502\n",
            "Epoch 237/1200\n",
            "1/1 [==============================] - 0s 5ms/step - loss: 0.0844 - mae: 0.2494\n",
            "Epoch 238/1200\n",
            "1/1 [==============================] - 0s 7ms/step - loss: 0.0839 - mae: 0.2486\n",
            "Epoch 239/1200\n",
            "1/1 [==============================] - 0s 5ms/step - loss: 0.0833 - mae: 0.2477\n",
            "Epoch 240/1200\n",
            "1/1 [==============================] - 0s 6ms/step - loss: 0.0827 - mae: 0.2469\n",
            "Epoch 241/1200\n",
            "1/1 [==============================] - 0s 13ms/step - loss: 0.0822 - mae: 0.2460\n",
            "Epoch 242/1200\n",
            "1/1 [==============================] - 0s 6ms/step - loss: 0.0816 - mae: 0.2452\n",
            "Epoch 243/1200\n",
            "1/1 [==============================] - 0s 6ms/step - loss: 0.0811 - mae: 0.2444\n",
            "Epoch 244/1200\n",
            "1/1 [==============================] - 0s 6ms/step - loss: 0.0805 - mae: 0.2436\n",
            "Epoch 245/1200\n",
            "1/1 [==============================] - 0s 10ms/step - loss: 0.0800 - mae: 0.2427\n",
            "Epoch 246/1200\n",
            "1/1 [==============================] - 0s 6ms/step - loss: 0.0794 - mae: 0.2419\n",
            "Epoch 247/1200\n",
            "1/1 [==============================] - 0s 5ms/step - loss: 0.0789 - mae: 0.2411\n",
            "Epoch 248/1200\n",
            "1/1 [==============================] - 0s 5ms/step - loss: 0.0784 - mae: 0.2403\n",
            "Epoch 249/1200\n",
            "1/1 [==============================] - 0s 5ms/step - loss: 0.0778 - mae: 0.2395\n",
            "Epoch 250/1200\n",
            "1/1 [==============================] - 0s 6ms/step - loss: 0.0773 - mae: 0.2387\n",
            "Epoch 251/1200\n",
            "1/1 [==============================] - 0s 6ms/step - loss: 0.0768 - mae: 0.2378\n",
            "Epoch 252/1200\n",
            "1/1 [==============================] - 0s 9ms/step - loss: 0.0763 - mae: 0.2370\n",
            "Epoch 253/1200\n",
            "1/1 [==============================] - 0s 10ms/step - loss: 0.0758 - mae: 0.2362\n",
            "Epoch 254/1200\n",
            "1/1 [==============================] - 0s 17ms/step - loss: 0.0752 - mae: 0.2354\n",
            "Epoch 255/1200\n",
            "1/1 [==============================] - 0s 14ms/step - loss: 0.0747 - mae: 0.2346\n",
            "Epoch 256/1200\n",
            "1/1 [==============================] - 0s 6ms/step - loss: 0.0742 - mae: 0.2339\n",
            "Epoch 257/1200\n",
            "1/1 [==============================] - 0s 6ms/step - loss: 0.0737 - mae: 0.2331\n",
            "Epoch 258/1200\n",
            "1/1 [==============================] - 0s 12ms/step - loss: 0.0732 - mae: 0.2323\n",
            "Epoch 259/1200\n",
            "1/1 [==============================] - 0s 8ms/step - loss: 0.0727 - mae: 0.2315\n",
            "Epoch 260/1200\n",
            "1/1 [==============================] - 0s 9ms/step - loss: 0.0722 - mae: 0.2307\n",
            "Epoch 261/1200\n",
            "1/1 [==============================] - 0s 14ms/step - loss: 0.0718 - mae: 0.2299\n",
            "Epoch 262/1200\n",
            "1/1 [==============================] - 0s 9ms/step - loss: 0.0713 - mae: 0.2291\n",
            "Epoch 263/1200\n",
            "1/1 [==============================] - 0s 18ms/step - loss: 0.0708 - mae: 0.2284\n",
            "Epoch 264/1200\n",
            "1/1 [==============================] - 0s 146ms/step - loss: 0.0703 - mae: 0.2276\n",
            "Epoch 265/1200\n",
            "1/1 [==============================] - 0s 11ms/step - loss: 0.0698 - mae: 0.2268\n",
            "Epoch 266/1200\n",
            "1/1 [==============================] - 0s 6ms/step - loss: 0.0694 - mae: 0.2261\n",
            "Epoch 267/1200\n",
            "1/1 [==============================] - 0s 10ms/step - loss: 0.0689 - mae: 0.2253\n",
            "Epoch 268/1200\n",
            "1/1 [==============================] - 0s 7ms/step - loss: 0.0684 - mae: 0.2245\n",
            "Epoch 269/1200\n",
            "1/1 [==============================] - 0s 6ms/step - loss: 0.0680 - mae: 0.2238\n",
            "Epoch 270/1200\n",
            "1/1 [==============================] - 0s 5ms/step - loss: 0.0675 - mae: 0.2230\n",
            "Epoch 271/1200\n",
            "1/1 [==============================] - 0s 6ms/step - loss: 0.0671 - mae: 0.2223\n",
            "Epoch 272/1200\n",
            "1/1 [==============================] - 0s 7ms/step - loss: 0.0666 - mae: 0.2215\n",
            "Epoch 273/1200\n",
            "1/1 [==============================] - 0s 6ms/step - loss: 0.0662 - mae: 0.2208\n",
            "Epoch 274/1200\n",
            "1/1 [==============================] - 0s 6ms/step - loss: 0.0657 - mae: 0.2200\n",
            "Epoch 275/1200\n",
            "1/1 [==============================] - 0s 6ms/step - loss: 0.0653 - mae: 0.2193\n",
            "Epoch 276/1200\n",
            "1/1 [==============================] - 0s 6ms/step - loss: 0.0648 - mae: 0.2185\n",
            "Epoch 277/1200\n",
            "1/1 [==============================] - 0s 7ms/step - loss: 0.0644 - mae: 0.2178\n",
            "Epoch 278/1200\n",
            "1/1 [==============================] - 0s 7ms/step - loss: 0.0640 - mae: 0.2171\n",
            "Epoch 279/1200\n",
            "1/1 [==============================] - 0s 7ms/step - loss: 0.0635 - mae: 0.2163\n",
            "Epoch 280/1200\n",
            "1/1 [==============================] - 0s 7ms/step - loss: 0.0631 - mae: 0.2156\n",
            "Epoch 281/1200\n",
            "1/1 [==============================] - 0s 7ms/step - loss: 0.0627 - mae: 0.2149\n",
            "Epoch 282/1200\n",
            "1/1 [==============================] - 0s 7ms/step - loss: 0.0622 - mae: 0.2141\n",
            "Epoch 283/1200\n",
            "1/1 [==============================] - 0s 6ms/step - loss: 0.0618 - mae: 0.2134\n",
            "Epoch 284/1200\n",
            "1/1 [==============================] - 0s 6ms/step - loss: 0.0614 - mae: 0.2127\n",
            "Epoch 285/1200\n",
            "1/1 [==============================] - 0s 6ms/step - loss: 0.0610 - mae: 0.2120\n",
            "Epoch 286/1200\n",
            "1/1 [==============================] - 0s 7ms/step - loss: 0.0606 - mae: 0.2113\n",
            "Epoch 287/1200\n",
            "1/1 [==============================] - 0s 6ms/step - loss: 0.0602 - mae: 0.2105\n",
            "Epoch 288/1200\n",
            "1/1 [==============================] - 0s 6ms/step - loss: 0.0598 - mae: 0.2098\n",
            "Epoch 289/1200\n",
            "1/1 [==============================] - 0s 7ms/step - loss: 0.0594 - mae: 0.2091\n",
            "Epoch 290/1200\n",
            "1/1 [==============================] - 0s 7ms/step - loss: 0.0590 - mae: 0.2084\n",
            "Epoch 291/1200\n",
            "1/1 [==============================] - 0s 8ms/step - loss: 0.0586 - mae: 0.2077\n",
            "Epoch 292/1200\n",
            "1/1 [==============================] - 0s 5ms/step - loss: 0.0582 - mae: 0.2070\n",
            "Epoch 293/1200\n",
            "1/1 [==============================] - 0s 6ms/step - loss: 0.0578 - mae: 0.2063\n",
            "Epoch 294/1200\n",
            "1/1 [==============================] - 0s 6ms/step - loss: 0.0574 - mae: 0.2056\n",
            "Epoch 295/1200\n",
            "1/1 [==============================] - 0s 7ms/step - loss: 0.0570 - mae: 0.2049\n",
            "Epoch 296/1200\n",
            "1/1 [==============================] - 0s 7ms/step - loss: 0.0566 - mae: 0.2042\n",
            "Epoch 297/1200\n",
            "1/1 [==============================] - 0s 9ms/step - loss: 0.0562 - mae: 0.2035\n",
            "Epoch 298/1200\n",
            "1/1 [==============================] - 0s 7ms/step - loss: 0.0559 - mae: 0.2028\n",
            "Epoch 299/1200\n",
            "1/1 [==============================] - 0s 7ms/step - loss: 0.0555 - mae: 0.2022\n",
            "Epoch 300/1200\n",
            "1/1 [==============================] - 0s 8ms/step - loss: 0.0551 - mae: 0.2015\n",
            "Epoch 301/1200\n",
            "1/1 [==============================] - 0s 10ms/step - loss: 0.0547 - mae: 0.2008\n",
            "Epoch 302/1200\n",
            "1/1 [==============================] - 0s 6ms/step - loss: 0.0544 - mae: 0.2001\n",
            "Epoch 303/1200\n",
            "1/1 [==============================] - 0s 7ms/step - loss: 0.0540 - mae: 0.1994\n",
            "Epoch 304/1200\n",
            "1/1 [==============================] - 0s 7ms/step - loss: 0.0536 - mae: 0.1988\n",
            "Epoch 305/1200\n",
            "1/1 [==============================] - 0s 7ms/step - loss: 0.0533 - mae: 0.1981\n",
            "Epoch 306/1200\n",
            "1/1 [==============================] - 0s 7ms/step - loss: 0.0529 - mae: 0.1974\n",
            "Epoch 307/1200\n",
            "1/1 [==============================] - 0s 7ms/step - loss: 0.0525 - mae: 0.1968\n",
            "Epoch 308/1200\n",
            "1/1 [==============================] - 0s 6ms/step - loss: 0.0522 - mae: 0.1961\n",
            "Epoch 309/1200\n",
            "1/1 [==============================] - 0s 7ms/step - loss: 0.0518 - mae: 0.1954\n",
            "Epoch 310/1200\n",
            "1/1 [==============================] - 0s 7ms/step - loss: 0.0515 - mae: 0.1948\n",
            "Epoch 311/1200\n",
            "1/1 [==============================] - 0s 7ms/step - loss: 0.0511 - mae: 0.1941\n",
            "Epoch 312/1200\n",
            "1/1 [==============================] - 0s 6ms/step - loss: 0.0508 - mae: 0.1935\n",
            "Epoch 313/1200\n",
            "1/1 [==============================] - 0s 8ms/step - loss: 0.0505 - mae: 0.1928\n",
            "Epoch 314/1200\n",
            "1/1 [==============================] - 0s 8ms/step - loss: 0.0501 - mae: 0.1921\n",
            "Epoch 315/1200\n",
            "1/1 [==============================] - 0s 7ms/step - loss: 0.0498 - mae: 0.1915\n",
            "Epoch 316/1200\n",
            "1/1 [==============================] - 0s 6ms/step - loss: 0.0494 - mae: 0.1909\n",
            "Epoch 317/1200\n",
            "1/1 [==============================] - 0s 7ms/step - loss: 0.0491 - mae: 0.1902\n",
            "Epoch 318/1200\n",
            "1/1 [==============================] - 0s 6ms/step - loss: 0.0488 - mae: 0.1896\n",
            "Epoch 319/1200\n",
            "1/1 [==============================] - 0s 6ms/step - loss: 0.0484 - mae: 0.1889\n",
            "Epoch 320/1200\n",
            "1/1 [==============================] - 0s 7ms/step - loss: 0.0481 - mae: 0.1883\n",
            "Epoch 321/1200\n",
            "1/1 [==============================] - 0s 7ms/step - loss: 0.0478 - mae: 0.1876\n",
            "Epoch 322/1200\n",
            "1/1 [==============================] - 0s 6ms/step - loss: 0.0475 - mae: 0.1870\n",
            "Epoch 323/1200\n",
            "1/1 [==============================] - 0s 7ms/step - loss: 0.0472 - mae: 0.1864\n",
            "Epoch 324/1200\n",
            "1/1 [==============================] - 0s 7ms/step - loss: 0.0468 - mae: 0.1857\n",
            "Epoch 325/1200\n",
            "1/1 [==============================] - 0s 7ms/step - loss: 0.0465 - mae: 0.1851\n",
            "Epoch 326/1200\n",
            "1/1 [==============================] - 0s 7ms/step - loss: 0.0462 - mae: 0.1845\n",
            "Epoch 327/1200\n",
            "1/1 [==============================] - 0s 7ms/step - loss: 0.0459 - mae: 0.1839\n",
            "Epoch 328/1200\n",
            "1/1 [==============================] - 0s 7ms/step - loss: 0.0456 - mae: 0.1833\n",
            "Epoch 329/1200\n",
            "1/1 [==============================] - 0s 6ms/step - loss: 0.0453 - mae: 0.1826\n",
            "Epoch 330/1200\n",
            "1/1 [==============================] - 0s 7ms/step - loss: 0.0450 - mae: 0.1820\n",
            "Epoch 331/1200\n",
            "1/1 [==============================] - 0s 6ms/step - loss: 0.0447 - mae: 0.1814\n",
            "Epoch 332/1200\n",
            "1/1 [==============================] - 0s 6ms/step - loss: 0.0444 - mae: 0.1808\n",
            "Epoch 333/1200\n",
            "1/1 [==============================] - 0s 6ms/step - loss: 0.0441 - mae: 0.1802\n",
            "Epoch 334/1200\n",
            "1/1 [==============================] - 0s 6ms/step - loss: 0.0438 - mae: 0.1796\n",
            "Epoch 335/1200\n",
            "1/1 [==============================] - 0s 6ms/step - loss: 0.0435 - mae: 0.1790\n",
            "Epoch 336/1200\n",
            "1/1 [==============================] - 0s 7ms/step - loss: 0.0432 - mae: 0.1784\n",
            "Epoch 337/1200\n",
            "1/1 [==============================] - 0s 7ms/step - loss: 0.0429 - mae: 0.1777\n",
            "Epoch 338/1200\n",
            "1/1 [==============================] - 0s 7ms/step - loss: 0.0426 - mae: 0.1771\n",
            "Epoch 339/1200\n",
            "1/1 [==============================] - 0s 6ms/step - loss: 0.0423 - mae: 0.1765\n",
            "Epoch 340/1200\n",
            "1/1 [==============================] - 0s 6ms/step - loss: 0.0420 - mae: 0.1760\n",
            "Epoch 341/1200\n",
            "1/1 [==============================] - 0s 8ms/step - loss: 0.0417 - mae: 0.1754\n",
            "Epoch 342/1200\n",
            "1/1 [==============================] - 0s 11ms/step - loss: 0.0415 - mae: 0.1748\n",
            "Epoch 343/1200\n",
            "1/1 [==============================] - 0s 7ms/step - loss: 0.0412 - mae: 0.1742\n",
            "Epoch 344/1200\n",
            "1/1 [==============================] - 0s 6ms/step - loss: 0.0409 - mae: 0.1736\n",
            "Epoch 345/1200\n",
            "1/1 [==============================] - 0s 7ms/step - loss: 0.0406 - mae: 0.1730\n",
            "Epoch 346/1200\n",
            "1/1 [==============================] - 0s 6ms/step - loss: 0.0403 - mae: 0.1724\n",
            "Epoch 347/1200\n",
            "1/1 [==============================] - 0s 7ms/step - loss: 0.0401 - mae: 0.1718\n",
            "Epoch 348/1200\n",
            "1/1 [==============================] - 0s 6ms/step - loss: 0.0398 - mae: 0.1712\n",
            "Epoch 349/1200\n",
            "1/1 [==============================] - 0s 7ms/step - loss: 0.0395 - mae: 0.1707\n",
            "Epoch 350/1200\n",
            "1/1 [==============================] - 0s 6ms/step - loss: 0.0393 - mae: 0.1701\n",
            "Epoch 351/1200\n",
            "1/1 [==============================] - 0s 7ms/step - loss: 0.0390 - mae: 0.1695\n",
            "Epoch 352/1200\n",
            "1/1 [==============================] - 0s 6ms/step - loss: 0.0387 - mae: 0.1689\n",
            "Epoch 353/1200\n",
            "1/1 [==============================] - 0s 6ms/step - loss: 0.0385 - mae: 0.1684\n",
            "Epoch 354/1200\n",
            "1/1 [==============================] - 0s 8ms/step - loss: 0.0382 - mae: 0.1678\n",
            "Epoch 355/1200\n",
            "1/1 [==============================] - 0s 5ms/step - loss: 0.0380 - mae: 0.1672\n",
            "Epoch 356/1200\n",
            "1/1 [==============================] - 0s 5ms/step - loss: 0.0377 - mae: 0.1667\n",
            "Epoch 357/1200\n",
            "1/1 [==============================] - 0s 6ms/step - loss: 0.0375 - mae: 0.1661\n",
            "Epoch 358/1200\n",
            "1/1 [==============================] - 0s 12ms/step - loss: 0.0372 - mae: 0.1655\n",
            "Epoch 359/1200\n",
            "1/1 [==============================] - 0s 6ms/step - loss: 0.0369 - mae: 0.1650\n",
            "Epoch 360/1200\n",
            "1/1 [==============================] - 0s 6ms/step - loss: 0.0367 - mae: 0.1644\n",
            "Epoch 361/1200\n",
            "1/1 [==============================] - 0s 6ms/step - loss: 0.0365 - mae: 0.1639\n",
            "Epoch 362/1200\n",
            "1/1 [==============================] - 0s 7ms/step - loss: 0.0362 - mae: 0.1633\n",
            "Epoch 363/1200\n",
            "1/1 [==============================] - 0s 6ms/step - loss: 0.0360 - mae: 0.1628\n",
            "Epoch 364/1200\n",
            "1/1 [==============================] - 0s 6ms/step - loss: 0.0357 - mae: 0.1622\n",
            "Epoch 365/1200\n",
            "1/1 [==============================] - 0s 6ms/step - loss: 0.0355 - mae: 0.1617\n",
            "Epoch 366/1200\n",
            "1/1 [==============================] - 0s 6ms/step - loss: 0.0352 - mae: 0.1611\n",
            "Epoch 367/1200\n",
            "1/1 [==============================] - 0s 6ms/step - loss: 0.0350 - mae: 0.1606\n",
            "Epoch 368/1200\n",
            "1/1 [==============================] - 0s 5ms/step - loss: 0.0348 - mae: 0.1600\n",
            "Epoch 369/1200\n",
            "1/1 [==============================] - 0s 6ms/step - loss: 0.0345 - mae: 0.1595\n",
            "Epoch 370/1200\n",
            "1/1 [==============================] - 0s 6ms/step - loss: 0.0343 - mae: 0.1590\n",
            "Epoch 371/1200\n",
            "1/1 [==============================] - 0s 6ms/step - loss: 0.0341 - mae: 0.1584\n",
            "Epoch 372/1200\n",
            "1/1 [==============================] - 0s 6ms/step - loss: 0.0338 - mae: 0.1579\n",
            "Epoch 373/1200\n",
            "1/1 [==============================] - 0s 6ms/step - loss: 0.0336 - mae: 0.1573\n",
            "Epoch 374/1200\n",
            "1/1 [==============================] - 0s 6ms/step - loss: 0.0334 - mae: 0.1568\n",
            "Epoch 375/1200\n",
            "1/1 [==============================] - 0s 7ms/step - loss: 0.0332 - mae: 0.1563\n",
            "Epoch 376/1200\n",
            "1/1 [==============================] - 0s 6ms/step - loss: 0.0329 - mae: 0.1558\n",
            "Epoch 377/1200\n",
            "1/1 [==============================] - 0s 6ms/step - loss: 0.0327 - mae: 0.1552\n",
            "Epoch 378/1200\n",
            "1/1 [==============================] - 0s 5ms/step - loss: 0.0325 - mae: 0.1547\n",
            "Epoch 379/1200\n",
            "1/1 [==============================] - 0s 7ms/step - loss: 0.0323 - mae: 0.1542\n",
            "Epoch 380/1200\n",
            "1/1 [==============================] - 0s 9ms/step - loss: 0.0320 - mae: 0.1537\n",
            "Epoch 381/1200\n",
            "1/1 [==============================] - 0s 6ms/step - loss: 0.0318 - mae: 0.1531\n",
            "Epoch 382/1200\n",
            "1/1 [==============================] - 0s 6ms/step - loss: 0.0316 - mae: 0.1526\n",
            "Epoch 383/1200\n",
            "1/1 [==============================] - 0s 8ms/step - loss: 0.0314 - mae: 0.1521\n",
            "Epoch 384/1200\n",
            "1/1 [==============================] - 0s 5ms/step - loss: 0.0312 - mae: 0.1516\n",
            "Epoch 385/1200\n",
            "1/1 [==============================] - 0s 5ms/step - loss: 0.0310 - mae: 0.1511\n",
            "Epoch 386/1200\n",
            "1/1 [==============================] - 0s 5ms/step - loss: 0.0308 - mae: 0.1506\n",
            "Epoch 387/1200\n",
            "1/1 [==============================] - 0s 5ms/step - loss: 0.0306 - mae: 0.1501\n",
            "Epoch 388/1200\n",
            "1/1 [==============================] - 0s 6ms/step - loss: 0.0304 - mae: 0.1496\n",
            "Epoch 389/1200\n",
            "1/1 [==============================] - 0s 8ms/step - loss: 0.0302 - mae: 0.1490\n",
            "Epoch 390/1200\n",
            "1/1 [==============================] - 0s 6ms/step - loss: 0.0300 - mae: 0.1485\n",
            "Epoch 391/1200\n",
            "1/1 [==============================] - 0s 6ms/step - loss: 0.0297 - mae: 0.1480\n",
            "Epoch 392/1200\n",
            "1/1 [==============================] - 0s 5ms/step - loss: 0.0295 - mae: 0.1475\n",
            "Epoch 393/1200\n",
            "1/1 [==============================] - 0s 6ms/step - loss: 0.0293 - mae: 0.1470\n",
            "Epoch 394/1200\n",
            "1/1 [==============================] - 0s 9ms/step - loss: 0.0292 - mae: 0.1465\n",
            "Epoch 395/1200\n",
            "1/1 [==============================] - 0s 5ms/step - loss: 0.0290 - mae: 0.1460\n",
            "Epoch 396/1200\n",
            "1/1 [==============================] - 0s 5ms/step - loss: 0.0288 - mae: 0.1456\n",
            "Epoch 397/1200\n",
            "1/1 [==============================] - 0s 6ms/step - loss: 0.0286 - mae: 0.1451\n",
            "Epoch 398/1200\n",
            "1/1 [==============================] - 0s 5ms/step - loss: 0.0284 - mae: 0.1446\n",
            "Epoch 399/1200\n",
            "1/1 [==============================] - 0s 5ms/step - loss: 0.0282 - mae: 0.1441\n",
            "Epoch 400/1200\n",
            "1/1 [==============================] - 0s 6ms/step - loss: 0.0280 - mae: 0.1436\n",
            "Epoch 401/1200\n",
            "1/1 [==============================] - 0s 5ms/step - loss: 0.0278 - mae: 0.1431\n",
            "Epoch 402/1200\n",
            "1/1 [==============================] - 0s 6ms/step - loss: 0.0276 - mae: 0.1426\n",
            "Epoch 403/1200\n",
            "1/1 [==============================] - 0s 8ms/step - loss: 0.0274 - mae: 0.1421\n",
            "Epoch 404/1200\n",
            "1/1 [==============================] - 0s 6ms/step - loss: 0.0272 - mae: 0.1417\n",
            "Epoch 405/1200\n",
            "1/1 [==============================] - 0s 5ms/step - loss: 0.0271 - mae: 0.1412\n",
            "Epoch 406/1200\n",
            "1/1 [==============================] - 0s 5ms/step - loss: 0.0269 - mae: 0.1407\n",
            "Epoch 407/1200\n",
            "1/1 [==============================] - 0s 6ms/step - loss: 0.0267 - mae: 0.1402\n",
            "Epoch 408/1200\n",
            "1/1 [==============================] - 0s 5ms/step - loss: 0.0265 - mae: 0.1398\n",
            "Epoch 409/1200\n",
            "1/1 [==============================] - 0s 5ms/step - loss: 0.0263 - mae: 0.1393\n",
            "Epoch 410/1200\n",
            "1/1 [==============================] - 0s 6ms/step - loss: 0.0262 - mae: 0.1388\n",
            "Epoch 411/1200\n",
            "1/1 [==============================] - 0s 5ms/step - loss: 0.0260 - mae: 0.1383\n",
            "Epoch 412/1200\n",
            "1/1 [==============================] - 0s 5ms/step - loss: 0.0258 - mae: 0.1379\n",
            "Epoch 413/1200\n",
            "1/1 [==============================] - 0s 6ms/step - loss: 0.0256 - mae: 0.1374\n",
            "Epoch 414/1200\n",
            "1/1 [==============================] - 0s 5ms/step - loss: 0.0255 - mae: 0.1369\n",
            "Epoch 415/1200\n",
            "1/1 [==============================] - 0s 6ms/step - loss: 0.0253 - mae: 0.1365\n",
            "Epoch 416/1200\n",
            "1/1 [==============================] - 0s 5ms/step - loss: 0.0251 - mae: 0.1360\n",
            "Epoch 417/1200\n",
            "1/1 [==============================] - 0s 9ms/step - loss: 0.0249 - mae: 0.1356\n",
            "Epoch 418/1200\n",
            "1/1 [==============================] - 0s 5ms/step - loss: 0.0248 - mae: 0.1351\n",
            "Epoch 419/1200\n",
            "1/1 [==============================] - 0s 6ms/step - loss: 0.0246 - mae: 0.1346\n",
            "Epoch 420/1200\n",
            "1/1 [==============================] - 0s 6ms/step - loss: 0.0244 - mae: 0.1342\n",
            "Epoch 421/1200\n",
            "1/1 [==============================] - 0s 6ms/step - loss: 0.0243 - mae: 0.1337\n",
            "Epoch 422/1200\n",
            "1/1 [==============================] - 0s 5ms/step - loss: 0.0241 - mae: 0.1333\n",
            "Epoch 423/1200\n",
            "1/1 [==============================] - 0s 158ms/step - loss: 0.0240 - mae: 0.1328\n",
            "Epoch 424/1200\n",
            "1/1 [==============================] - 0s 6ms/step - loss: 0.0238 - mae: 0.1324\n",
            "Epoch 425/1200\n",
            "1/1 [==============================] - 0s 6ms/step - loss: 0.0236 - mae: 0.1319\n",
            "Epoch 426/1200\n",
            "1/1 [==============================] - 0s 5ms/step - loss: 0.0235 - mae: 0.1315\n",
            "Epoch 427/1200\n",
            "1/1 [==============================] - 0s 5ms/step - loss: 0.0233 - mae: 0.1310\n",
            "Epoch 428/1200\n",
            "1/1 [==============================] - 0s 6ms/step - loss: 0.0232 - mae: 0.1306\n",
            "Epoch 429/1200\n",
            "1/1 [==============================] - 0s 5ms/step - loss: 0.0230 - mae: 0.1302\n",
            "Epoch 430/1200\n",
            "1/1 [==============================] - 0s 6ms/step - loss: 0.0228 - mae: 0.1297\n",
            "Epoch 431/1200\n",
            "1/1 [==============================] - 0s 6ms/step - loss: 0.0227 - mae: 0.1293\n",
            "Epoch 432/1200\n",
            "1/1 [==============================] - 0s 6ms/step - loss: 0.0225 - mae: 0.1288\n",
            "Epoch 433/1200\n",
            "1/1 [==============================] - 0s 5ms/step - loss: 0.0224 - mae: 0.1284\n",
            "Epoch 434/1200\n",
            "1/1 [==============================] - 0s 5ms/step - loss: 0.0222 - mae: 0.1280\n",
            "Epoch 435/1200\n",
            "1/1 [==============================] - 0s 6ms/step - loss: 0.0221 - mae: 0.1275\n",
            "Epoch 436/1200\n",
            "1/1 [==============================] - 0s 5ms/step - loss: 0.0219 - mae: 0.1271\n",
            "Epoch 437/1200\n",
            "1/1 [==============================] - 0s 5ms/step - loss: 0.0218 - mae: 0.1267\n",
            "Epoch 438/1200\n",
            "1/1 [==============================] - 0s 9ms/step - loss: 0.0216 - mae: 0.1263\n",
            "Epoch 439/1200\n",
            "1/1 [==============================] - 0s 6ms/step - loss: 0.0215 - mae: 0.1258\n",
            "Epoch 440/1200\n",
            "1/1 [==============================] - 0s 7ms/step - loss: 0.0213 - mae: 0.1254\n",
            "Epoch 441/1200\n",
            "1/1 [==============================] - 0s 7ms/step - loss: 0.0212 - mae: 0.1250\n",
            "Epoch 442/1200\n",
            "1/1 [==============================] - 0s 6ms/step - loss: 0.0211 - mae: 0.1246\n",
            "Epoch 443/1200\n",
            "1/1 [==============================] - 0s 6ms/step - loss: 0.0209 - mae: 0.1241\n",
            "Epoch 444/1200\n",
            "1/1 [==============================] - 0s 6ms/step - loss: 0.0208 - mae: 0.1237\n",
            "Epoch 445/1200\n",
            "1/1 [==============================] - 0s 5ms/step - loss: 0.0206 - mae: 0.1233\n",
            "Epoch 446/1200\n",
            "1/1 [==============================] - 0s 6ms/step - loss: 0.0205 - mae: 0.1229\n",
            "Epoch 447/1200\n",
            "1/1 [==============================] - 0s 5ms/step - loss: 0.0204 - mae: 0.1225\n",
            "Epoch 448/1200\n",
            "1/1 [==============================] - 0s 6ms/step - loss: 0.0202 - mae: 0.1221\n",
            "Epoch 449/1200\n",
            "1/1 [==============================] - 0s 6ms/step - loss: 0.0201 - mae: 0.1216\n",
            "Epoch 450/1200\n",
            "1/1 [==============================] - 0s 6ms/step - loss: 0.0199 - mae: 0.1212\n",
            "Epoch 451/1200\n",
            "1/1 [==============================] - 0s 7ms/step - loss: 0.0198 - mae: 0.1208\n",
            "Epoch 452/1200\n",
            "1/1 [==============================] - 0s 6ms/step - loss: 0.0197 - mae: 0.1204\n",
            "Epoch 453/1200\n",
            "1/1 [==============================] - 0s 6ms/step - loss: 0.0195 - mae: 0.1200\n",
            "Epoch 454/1200\n",
            "1/1 [==============================] - 0s 6ms/step - loss: 0.0194 - mae: 0.1196\n",
            "Epoch 455/1200\n",
            "1/1 [==============================] - 0s 5ms/step - loss: 0.0193 - mae: 0.1192\n",
            "Epoch 456/1200\n",
            "1/1 [==============================] - 0s 6ms/step - loss: 0.0192 - mae: 0.1188\n",
            "Epoch 457/1200\n",
            "1/1 [==============================] - 0s 6ms/step - loss: 0.0190 - mae: 0.1184\n",
            "Epoch 458/1200\n",
            "1/1 [==============================] - 0s 6ms/step - loss: 0.0189 - mae: 0.1180\n",
            "Epoch 459/1200\n",
            "1/1 [==============================] - 0s 6ms/step - loss: 0.0188 - mae: 0.1176\n",
            "Epoch 460/1200\n",
            "1/1 [==============================] - 0s 6ms/step - loss: 0.0186 - mae: 0.1172\n",
            "Epoch 461/1200\n",
            "1/1 [==============================] - 0s 6ms/step - loss: 0.0185 - mae: 0.1168\n",
            "Epoch 462/1200\n",
            "1/1 [==============================] - 0s 7ms/step - loss: 0.0184 - mae: 0.1164\n",
            "Epoch 463/1200\n",
            "1/1 [==============================] - 0s 7ms/step - loss: 0.0183 - mae: 0.1160\n",
            "Epoch 464/1200\n",
            "1/1 [==============================] - 0s 6ms/step - loss: 0.0181 - mae: 0.1156\n",
            "Epoch 465/1200\n",
            "1/1 [==============================] - 0s 6ms/step - loss: 0.0180 - mae: 0.1152\n",
            "Epoch 466/1200\n",
            "1/1 [==============================] - 0s 6ms/step - loss: 0.0179 - mae: 0.1148\n",
            "Epoch 467/1200\n",
            "1/1 [==============================] - 0s 7ms/step - loss: 0.0178 - mae: 0.1144\n",
            "Epoch 468/1200\n",
            "1/1 [==============================] - 0s 6ms/step - loss: 0.0177 - mae: 0.1141\n",
            "Epoch 469/1200\n",
            "1/1 [==============================] - 0s 7ms/step - loss: 0.0175 - mae: 0.1137\n",
            "Epoch 470/1200\n",
            "1/1 [==============================] - 0s 7ms/step - loss: 0.0174 - mae: 0.1133\n",
            "Epoch 471/1200\n",
            "1/1 [==============================] - 0s 7ms/step - loss: 0.0173 - mae: 0.1129\n",
            "Epoch 472/1200\n",
            "1/1 [==============================] - 0s 7ms/step - loss: 0.0172 - mae: 0.1125\n",
            "Epoch 473/1200\n",
            "1/1 [==============================] - 0s 7ms/step - loss: 0.0171 - mae: 0.1121\n",
            "Epoch 474/1200\n",
            "1/1 [==============================] - 0s 7ms/step - loss: 0.0170 - mae: 0.1118\n",
            "Epoch 475/1200\n",
            "1/1 [==============================] - 0s 10ms/step - loss: 0.0168 - mae: 0.1114\n",
            "Epoch 476/1200\n",
            "1/1 [==============================] - 0s 7ms/step - loss: 0.0167 - mae: 0.1110\n",
            "Epoch 477/1200\n",
            "1/1 [==============================] - 0s 8ms/step - loss: 0.0166 - mae: 0.1106\n",
            "Epoch 478/1200\n",
            "1/1 [==============================] - 0s 6ms/step - loss: 0.0165 - mae: 0.1103\n",
            "Epoch 479/1200\n",
            "1/1 [==============================] - 0s 11ms/step - loss: 0.0164 - mae: 0.1099\n",
            "Epoch 480/1200\n",
            "1/1 [==============================] - 0s 10ms/step - loss: 0.0163 - mae: 0.1095\n",
            "Epoch 481/1200\n",
            "1/1 [==============================] - 0s 7ms/step - loss: 0.0162 - mae: 0.1091\n",
            "Epoch 482/1200\n",
            "1/1 [==============================] - 0s 6ms/step - loss: 0.0161 - mae: 0.1088\n",
            "Epoch 483/1200\n",
            "1/1 [==============================] - 0s 7ms/step - loss: 0.0160 - mae: 0.1084\n",
            "Epoch 484/1200\n",
            "1/1 [==============================] - 0s 8ms/step - loss: 0.0158 - mae: 0.1080\n",
            "Epoch 485/1200\n",
            "1/1 [==============================] - 0s 6ms/step - loss: 0.0157 - mae: 0.1077\n",
            "Epoch 486/1200\n",
            "1/1 [==============================] - 0s 6ms/step - loss: 0.0156 - mae: 0.1073\n",
            "Epoch 487/1200\n",
            "1/1 [==============================] - 0s 6ms/step - loss: 0.0155 - mae: 0.1070\n",
            "Epoch 488/1200\n",
            "1/1 [==============================] - 0s 7ms/step - loss: 0.0154 - mae: 0.1066\n",
            "Epoch 489/1200\n",
            "1/1 [==============================] - 0s 7ms/step - loss: 0.0153 - mae: 0.1062\n",
            "Epoch 490/1200\n",
            "1/1 [==============================] - 0s 7ms/step - loss: 0.0152 - mae: 0.1059\n",
            "Epoch 491/1200\n",
            "1/1 [==============================] - 0s 6ms/step - loss: 0.0151 - mae: 0.1055\n",
            "Epoch 492/1200\n",
            "1/1 [==============================] - 0s 6ms/step - loss: 0.0150 - mae: 0.1052\n",
            "Epoch 493/1200\n",
            "1/1 [==============================] - 0s 7ms/step - loss: 0.0149 - mae: 0.1048\n",
            "Epoch 494/1200\n",
            "1/1 [==============================] - 0s 7ms/step - loss: 0.0148 - mae: 0.1044\n",
            "Epoch 495/1200\n",
            "1/1 [==============================] - 0s 7ms/step - loss: 0.0147 - mae: 0.1041\n",
            "Epoch 496/1200\n",
            "1/1 [==============================] - 0s 7ms/step - loss: 0.0146 - mae: 0.1037\n",
            "Epoch 497/1200\n",
            "1/1 [==============================] - 0s 7ms/step - loss: 0.0145 - mae: 0.1034\n",
            "Epoch 498/1200\n",
            "1/1 [==============================] - 0s 7ms/step - loss: 0.0144 - mae: 0.1030\n",
            "Epoch 499/1200\n",
            "1/1 [==============================] - 0s 7ms/step - loss: 0.0143 - mae: 0.1027\n",
            "Epoch 500/1200\n",
            "1/1 [==============================] - 0s 7ms/step - loss: 0.0142 - mae: 0.1023\n",
            "Epoch 501/1200\n",
            "1/1 [==============================] - 0s 7ms/step - loss: 0.0141 - mae: 0.1020\n",
            "Epoch 502/1200\n",
            "1/1 [==============================] - 0s 7ms/step - loss: 0.0140 - mae: 0.1017\n",
            "Epoch 503/1200\n",
            "1/1 [==============================] - 0s 7ms/step - loss: 0.0139 - mae: 0.1013\n",
            "Epoch 504/1200\n",
            "1/1 [==============================] - 0s 7ms/step - loss: 0.0138 - mae: 0.1010\n",
            "Epoch 505/1200\n",
            "1/1 [==============================] - 0s 7ms/step - loss: 0.0137 - mae: 0.1006\n",
            "Epoch 506/1200\n",
            "1/1 [==============================] - 0s 223ms/step - loss: 0.0137 - mae: 0.1003\n",
            "Epoch 507/1200\n",
            "1/1 [==============================] - 0s 7ms/step - loss: 0.0136 - mae: 0.0999\n",
            "Epoch 508/1200\n",
            "1/1 [==============================] - 0s 6ms/step - loss: 0.0135 - mae: 0.0996\n",
            "Epoch 509/1200\n",
            "1/1 [==============================] - 0s 6ms/step - loss: 0.0134 - mae: 0.0993\n",
            "Epoch 510/1200\n",
            "1/1 [==============================] - 0s 6ms/step - loss: 0.0133 - mae: 0.0989\n",
            "Epoch 511/1200\n",
            "1/1 [==============================] - 0s 7ms/step - loss: 0.0132 - mae: 0.0986\n",
            "Epoch 512/1200\n",
            "1/1 [==============================] - 0s 7ms/step - loss: 0.0131 - mae: 0.0983\n",
            "Epoch 513/1200\n",
            "1/1 [==============================] - 0s 7ms/step - loss: 0.0130 - mae: 0.0979\n",
            "Epoch 514/1200\n",
            "1/1 [==============================] - 0s 13ms/step - loss: 0.0129 - mae: 0.0976\n",
            "Epoch 515/1200\n",
            "1/1 [==============================] - 0s 7ms/step - loss: 0.0128 - mae: 0.0973\n",
            "Epoch 516/1200\n",
            "1/1 [==============================] - 0s 6ms/step - loss: 0.0128 - mae: 0.0969\n",
            "Epoch 517/1200\n",
            "1/1 [==============================] - 0s 7ms/step - loss: 0.0127 - mae: 0.0966\n",
            "Epoch 518/1200\n",
            "1/1 [==============================] - 0s 7ms/step - loss: 0.0126 - mae: 0.0963\n",
            "Epoch 519/1200\n",
            "1/1 [==============================] - 0s 7ms/step - loss: 0.0125 - mae: 0.0960\n",
            "Epoch 520/1200\n",
            "1/1 [==============================] - 0s 7ms/step - loss: 0.0124 - mae: 0.0956\n",
            "Epoch 521/1200\n",
            "1/1 [==============================] - 0s 6ms/step - loss: 0.0123 - mae: 0.0953\n",
            "Epoch 522/1200\n",
            "1/1 [==============================] - 0s 8ms/step - loss: 0.0122 - mae: 0.0950\n",
            "Epoch 523/1200\n",
            "1/1 [==============================] - 0s 7ms/step - loss: 0.0122 - mae: 0.0947\n",
            "Epoch 524/1200\n",
            "1/1 [==============================] - 0s 8ms/step - loss: 0.0121 - mae: 0.0944\n",
            "Epoch 525/1200\n",
            "1/1 [==============================] - 0s 13ms/step - loss: 0.0120 - mae: 0.0940\n",
            "Epoch 526/1200\n",
            "1/1 [==============================] - 0s 13ms/step - loss: 0.0119 - mae: 0.0937\n",
            "Epoch 527/1200\n",
            "1/1 [==============================] - 0s 9ms/step - loss: 0.0118 - mae: 0.0934\n",
            "Epoch 528/1200\n",
            "1/1 [==============================] - 0s 7ms/step - loss: 0.0118 - mae: 0.0931\n",
            "Epoch 529/1200\n",
            "1/1 [==============================] - 0s 12ms/step - loss: 0.0117 - mae: 0.0928\n",
            "Epoch 530/1200\n",
            "1/1 [==============================] - 0s 6ms/step - loss: 0.0116 - mae: 0.0925\n",
            "Epoch 531/1200\n",
            "1/1 [==============================] - 0s 5ms/step - loss: 0.0115 - mae: 0.0921\n",
            "Epoch 532/1200\n",
            "1/1 [==============================] - 0s 5ms/step - loss: 0.0114 - mae: 0.0918\n",
            "Epoch 533/1200\n",
            "1/1 [==============================] - 0s 6ms/step - loss: 0.0114 - mae: 0.0915\n",
            "Epoch 534/1200\n",
            "1/1 [==============================] - 0s 5ms/step - loss: 0.0113 - mae: 0.0912\n",
            "Epoch 535/1200\n",
            "1/1 [==============================] - 0s 5ms/step - loss: 0.0112 - mae: 0.0909\n",
            "Epoch 536/1200\n",
            "1/1 [==============================] - 0s 6ms/step - loss: 0.0111 - mae: 0.0906\n",
            "Epoch 537/1200\n",
            "1/1 [==============================] - 0s 5ms/step - loss: 0.0111 - mae: 0.0903\n",
            "Epoch 538/1200\n",
            "1/1 [==============================] - 0s 5ms/step - loss: 0.0110 - mae: 0.0900\n",
            "Epoch 539/1200\n",
            "1/1 [==============================] - 0s 6ms/step - loss: 0.0109 - mae: 0.0897\n",
            "Epoch 540/1200\n",
            "1/1 [==============================] - 0s 5ms/step - loss: 0.0108 - mae: 0.0894\n",
            "Epoch 541/1200\n",
            "1/1 [==============================] - 0s 5ms/step - loss: 0.0108 - mae: 0.0891\n",
            "Epoch 542/1200\n",
            "1/1 [==============================] - 0s 6ms/step - loss: 0.0107 - mae: 0.0888\n",
            "Epoch 543/1200\n",
            "1/1 [==============================] - 0s 5ms/step - loss: 0.0106 - mae: 0.0885\n",
            "Epoch 544/1200\n",
            "1/1 [==============================] - 0s 6ms/step - loss: 0.0106 - mae: 0.0882\n",
            "Epoch 545/1200\n",
            "1/1 [==============================] - 0s 6ms/step - loss: 0.0105 - mae: 0.0879\n",
            "Epoch 546/1200\n",
            "1/1 [==============================] - 0s 5ms/step - loss: 0.0104 - mae: 0.0876\n",
            "Epoch 547/1200\n",
            "1/1 [==============================] - 0s 6ms/step - loss: 0.0103 - mae: 0.0873\n",
            "Epoch 548/1200\n",
            "1/1 [==============================] - 0s 5ms/step - loss: 0.0103 - mae: 0.0870\n",
            "Epoch 549/1200\n",
            "1/1 [==============================] - 0s 5ms/step - loss: 0.0102 - mae: 0.0867\n",
            "Epoch 550/1200\n",
            "1/1 [==============================] - 0s 5ms/step - loss: 0.0101 - mae: 0.0864\n",
            "Epoch 551/1200\n",
            "1/1 [==============================] - 0s 5ms/step - loss: 0.0101 - mae: 0.0861\n",
            "Epoch 552/1200\n",
            "1/1 [==============================] - 0s 6ms/step - loss: 0.0100 - mae: 0.0858\n",
            "Epoch 553/1200\n",
            "1/1 [==============================] - 0s 5ms/step - loss: 0.0099 - mae: 0.0855\n",
            "Epoch 554/1200\n",
            "1/1 [==============================] - 0s 5ms/step - loss: 0.0099 - mae: 0.0852\n",
            "Epoch 555/1200\n",
            "1/1 [==============================] - 0s 7ms/step - loss: 0.0098 - mae: 0.0850\n",
            "Epoch 556/1200\n",
            "1/1 [==============================] - 0s 5ms/step - loss: 0.0097 - mae: 0.0847\n",
            "Epoch 557/1200\n",
            "1/1 [==============================] - 0s 5ms/step - loss: 0.0097 - mae: 0.0844\n",
            "Epoch 558/1200\n",
            "1/1 [==============================] - 0s 5ms/step - loss: 0.0096 - mae: 0.0841\n",
            "Epoch 559/1200\n",
            "1/1 [==============================] - 0s 6ms/step - loss: 0.0095 - mae: 0.0838\n",
            "Epoch 560/1200\n",
            "1/1 [==============================] - 0s 5ms/step - loss: 0.0095 - mae: 0.0835\n",
            "Epoch 561/1200\n",
            "1/1 [==============================] - 0s 6ms/step - loss: 0.0094 - mae: 0.0832\n",
            "Epoch 562/1200\n",
            "1/1 [==============================] - 0s 6ms/step - loss: 0.0093 - mae: 0.0830\n",
            "Epoch 563/1200\n",
            "1/1 [==============================] - 0s 6ms/step - loss: 0.0093 - mae: 0.0827\n",
            "Epoch 564/1200\n",
            "1/1 [==============================] - 0s 5ms/step - loss: 0.0092 - mae: 0.0824\n",
            "Epoch 565/1200\n",
            "1/1 [==============================] - 0s 6ms/step - loss: 0.0092 - mae: 0.0821\n",
            "Epoch 566/1200\n",
            "1/1 [==============================] - 0s 5ms/step - loss: 0.0091 - mae: 0.0818\n",
            "Epoch 567/1200\n",
            "1/1 [==============================] - 0s 5ms/step - loss: 0.0090 - mae: 0.0816\n",
            "Epoch 568/1200\n",
            "1/1 [==============================] - 0s 6ms/step - loss: 0.0090 - mae: 0.0813\n",
            "Epoch 569/1200\n",
            "1/1 [==============================] - 0s 6ms/step - loss: 0.0089 - mae: 0.0810\n",
            "Epoch 570/1200\n",
            "1/1 [==============================] - 0s 5ms/step - loss: 0.0088 - mae: 0.0807\n",
            "Epoch 571/1200\n",
            "1/1 [==============================] - 0s 5ms/step - loss: 0.0088 - mae: 0.0805\n",
            "Epoch 572/1200\n",
            "1/1 [==============================] - 0s 8ms/step - loss: 0.0087 - mae: 0.0802\n",
            "Epoch 573/1200\n",
            "1/1 [==============================] - 0s 5ms/step - loss: 0.0087 - mae: 0.0799\n",
            "Epoch 574/1200\n",
            "1/1 [==============================] - 0s 6ms/step - loss: 0.0086 - mae: 0.0797\n",
            "Epoch 575/1200\n",
            "1/1 [==============================] - 0s 5ms/step - loss: 0.0086 - mae: 0.0794\n",
            "Epoch 576/1200\n",
            "1/1 [==============================] - 0s 5ms/step - loss: 0.0085 - mae: 0.0791\n",
            "Epoch 577/1200\n",
            "1/1 [==============================] - 0s 6ms/step - loss: 0.0084 - mae: 0.0789\n",
            "Epoch 578/1200\n",
            "1/1 [==============================] - 0s 5ms/step - loss: 0.0084 - mae: 0.0786\n",
            "Epoch 579/1200\n",
            "1/1 [==============================] - 0s 5ms/step - loss: 0.0083 - mae: 0.0783\n",
            "Epoch 580/1200\n",
            "1/1 [==============================] - 0s 5ms/step - loss: 0.0083 - mae: 0.0781\n",
            "Epoch 581/1200\n",
            "1/1 [==============================] - 0s 5ms/step - loss: 0.0082 - mae: 0.0778\n",
            "Epoch 582/1200\n",
            "1/1 [==============================] - 0s 11ms/step - loss: 0.0082 - mae: 0.0775\n",
            "Epoch 583/1200\n",
            "1/1 [==============================] - 0s 6ms/step - loss: 0.0081 - mae: 0.0773\n",
            "Epoch 584/1200\n",
            "1/1 [==============================] - 0s 5ms/step - loss: 0.0080 - mae: 0.0770\n",
            "Epoch 585/1200\n",
            "1/1 [==============================] - 0s 6ms/step - loss: 0.0080 - mae: 0.0767\n",
            "Epoch 586/1200\n",
            "1/1 [==============================] - 0s 5ms/step - loss: 0.0079 - mae: 0.0765\n",
            "Epoch 587/1200\n",
            "1/1 [==============================] - 0s 6ms/step - loss: 0.0079 - mae: 0.0762\n",
            "Epoch 588/1200\n",
            "1/1 [==============================] - 0s 5ms/step - loss: 0.0078 - mae: 0.0760\n",
            "Epoch 589/1200\n",
            "1/1 [==============================] - 0s 6ms/step - loss: 0.0078 - mae: 0.0757\n",
            "Epoch 590/1200\n",
            "1/1 [==============================] - 0s 6ms/step - loss: 0.0077 - mae: 0.0755\n",
            "Epoch 591/1200\n",
            "1/1 [==============================] - 0s 6ms/step - loss: 0.0077 - mae: 0.0752\n",
            "Epoch 592/1200\n",
            "1/1 [==============================] - 0s 6ms/step - loss: 0.0076 - mae: 0.0749\n",
            "Epoch 593/1200\n",
            "1/1 [==============================] - 0s 6ms/step - loss: 0.0076 - mae: 0.0747\n",
            "Epoch 594/1200\n",
            "1/1 [==============================] - 0s 6ms/step - loss: 0.0075 - mae: 0.0744\n",
            "Epoch 595/1200\n",
            "1/1 [==============================] - 0s 6ms/step - loss: 0.0075 - mae: 0.0742\n",
            "Epoch 596/1200\n",
            "1/1 [==============================] - 0s 6ms/step - loss: 0.0074 - mae: 0.0739\n",
            "Epoch 597/1200\n",
            "1/1 [==============================] - 0s 6ms/step - loss: 0.0074 - mae: 0.0737\n",
            "Epoch 598/1200\n",
            "1/1 [==============================] - 0s 6ms/step - loss: 0.0073 - mae: 0.0734\n",
            "Epoch 599/1200\n",
            "1/1 [==============================] - 0s 6ms/step - loss: 0.0073 - mae: 0.0732\n",
            "Epoch 600/1200\n",
            "1/1 [==============================] - 0s 6ms/step - loss: 0.0072 - mae: 0.0729\n",
            "Epoch 601/1200\n",
            "1/1 [==============================] - 0s 6ms/step - loss: 0.0072 - mae: 0.0727\n",
            "Epoch 602/1200\n",
            "1/1 [==============================] - 0s 7ms/step - loss: 0.0071 - mae: 0.0725\n",
            "Epoch 603/1200\n",
            "1/1 [==============================] - 0s 6ms/step - loss: 0.0071 - mae: 0.0722\n",
            "Epoch 604/1200\n",
            "1/1 [==============================] - 0s 7ms/step - loss: 0.0070 - mae: 0.0720\n",
            "Epoch 605/1200\n",
            "1/1 [==============================] - 0s 6ms/step - loss: 0.0070 - mae: 0.0717\n",
            "Epoch 606/1200\n",
            "1/1 [==============================] - 0s 5ms/step - loss: 0.0069 - mae: 0.0715\n",
            "Epoch 607/1200\n",
            "1/1 [==============================] - 0s 6ms/step - loss: 0.0069 - mae: 0.0712\n",
            "Epoch 608/1200\n",
            "1/1 [==============================] - 0s 6ms/step - loss: 0.0068 - mae: 0.0710\n",
            "Epoch 609/1200\n",
            "1/1 [==============================] - 0s 6ms/step - loss: 0.0068 - mae: 0.0708\n",
            "Epoch 610/1200\n",
            "1/1 [==============================] - 0s 7ms/step - loss: 0.0067 - mae: 0.0705\n",
            "Epoch 611/1200\n",
            "1/1 [==============================] - 0s 6ms/step - loss: 0.0067 - mae: 0.0703\n",
            "Epoch 612/1200\n",
            "1/1 [==============================] - 0s 6ms/step - loss: 0.0067 - mae: 0.0700\n",
            "Epoch 613/1200\n",
            "1/1 [==============================] - 0s 6ms/step - loss: 0.0066 - mae: 0.0698\n",
            "Epoch 614/1200\n",
            "1/1 [==============================] - 0s 7ms/step - loss: 0.0066 - mae: 0.0696\n",
            "Epoch 615/1200\n",
            "1/1 [==============================] - 0s 7ms/step - loss: 0.0065 - mae: 0.0693\n",
            "Epoch 616/1200\n",
            "1/1 [==============================] - 0s 5ms/step - loss: 0.0065 - mae: 0.0691\n",
            "Epoch 617/1200\n",
            "1/1 [==============================] - 0s 6ms/step - loss: 0.0064 - mae: 0.0689\n",
            "Epoch 618/1200\n",
            "1/1 [==============================] - 0s 10ms/step - loss: 0.0064 - mae: 0.0686\n",
            "Epoch 619/1200\n",
            "1/1 [==============================] - 0s 9ms/step - loss: 0.0063 - mae: 0.0684\n",
            "Epoch 620/1200\n",
            "1/1 [==============================] - 0s 6ms/step - loss: 0.0063 - mae: 0.0682\n",
            "Epoch 621/1200\n",
            "1/1 [==============================] - 0s 6ms/step - loss: 0.0063 - mae: 0.0679\n",
            "Epoch 622/1200\n",
            "1/1 [==============================] - 0s 6ms/step - loss: 0.0062 - mae: 0.0677\n",
            "Epoch 623/1200\n",
            "1/1 [==============================] - 0s 7ms/step - loss: 0.0062 - mae: 0.0675\n",
            "Epoch 624/1200\n",
            "1/1 [==============================] - 0s 6ms/step - loss: 0.0061 - mae: 0.0672\n",
            "Epoch 625/1200\n",
            "1/1 [==============================] - 0s 8ms/step - loss: 0.0061 - mae: 0.0670\n",
            "Epoch 626/1200\n",
            "1/1 [==============================] - 0s 6ms/step - loss: 0.0061 - mae: 0.0668\n",
            "Epoch 627/1200\n",
            "1/1 [==============================] - 0s 7ms/step - loss: 0.0060 - mae: 0.0666\n",
            "Epoch 628/1200\n",
            "1/1 [==============================] - 0s 6ms/step - loss: 0.0060 - mae: 0.0663\n",
            "Epoch 629/1200\n",
            "1/1 [==============================] - 0s 5ms/step - loss: 0.0059 - mae: 0.0661\n",
            "Epoch 630/1200\n",
            "1/1 [==============================] - 0s 6ms/step - loss: 0.0059 - mae: 0.0659\n",
            "Epoch 631/1200\n",
            "1/1 [==============================] - 0s 5ms/step - loss: 0.0059 - mae: 0.0657\n",
            "Epoch 632/1200\n",
            "1/1 [==============================] - 0s 6ms/step - loss: 0.0058 - mae: 0.0655\n",
            "Epoch 633/1200\n",
            "1/1 [==============================] - 0s 6ms/step - loss: 0.0058 - mae: 0.0652\n",
            "Epoch 634/1200\n",
            "1/1 [==============================] - 0s 6ms/step - loss: 0.0057 - mae: 0.0650\n",
            "Epoch 635/1200\n",
            "1/1 [==============================] - 0s 6ms/step - loss: 0.0057 - mae: 0.0648\n",
            "Epoch 636/1200\n",
            "1/1 [==============================] - 0s 6ms/step - loss: 0.0057 - mae: 0.0646\n",
            "Epoch 637/1200\n",
            "1/1 [==============================] - 0s 5ms/step - loss: 0.0056 - mae: 0.0644\n",
            "Epoch 638/1200\n",
            "1/1 [==============================] - 0s 6ms/step - loss: 0.0056 - mae: 0.0641\n",
            "Epoch 639/1200\n",
            "1/1 [==============================] - 0s 6ms/step - loss: 0.0055 - mae: 0.0639\n",
            "Epoch 640/1200\n",
            "1/1 [==============================] - 0s 6ms/step - loss: 0.0055 - mae: 0.0637\n",
            "Epoch 641/1200\n",
            "1/1 [==============================] - 0s 6ms/step - loss: 0.0055 - mae: 0.0635\n",
            "Epoch 642/1200\n",
            "1/1 [==============================] - 0s 7ms/step - loss: 0.0054 - mae: 0.0633\n",
            "Epoch 643/1200\n",
            "1/1 [==============================] - 0s 7ms/step - loss: 0.0054 - mae: 0.0631\n",
            "Epoch 644/1200\n",
            "1/1 [==============================] - 0s 7ms/step - loss: 0.0054 - mae: 0.0628\n",
            "Epoch 645/1200\n",
            "1/1 [==============================] - 0s 6ms/step - loss: 0.0053 - mae: 0.0626\n",
            "Epoch 646/1200\n",
            "1/1 [==============================] - 0s 7ms/step - loss: 0.0053 - mae: 0.0624\n",
            "Epoch 647/1200\n",
            "1/1 [==============================] - 0s 7ms/step - loss: 0.0053 - mae: 0.0622\n",
            "Epoch 648/1200\n",
            "1/1 [==============================] - 0s 7ms/step - loss: 0.0052 - mae: 0.0620\n",
            "Epoch 649/1200\n",
            "1/1 [==============================] - 0s 6ms/step - loss: 0.0052 - mae: 0.0618\n",
            "Epoch 650/1200\n",
            "1/1 [==============================] - 0s 9ms/step - loss: 0.0051 - mae: 0.0616\n",
            "Epoch 651/1200\n",
            "1/1 [==============================] - 0s 11ms/step - loss: 0.0051 - mae: 0.0614\n",
            "Epoch 652/1200\n",
            "1/1 [==============================] - 0s 39ms/step - loss: 0.0051 - mae: 0.0612\n",
            "Epoch 653/1200\n",
            "1/1 [==============================] - 0s 75ms/step - loss: 0.0050 - mae: 0.0610\n",
            "Epoch 654/1200\n",
            "1/1 [==============================] - 0s 15ms/step - loss: 0.0050 - mae: 0.0608\n",
            "Epoch 655/1200\n",
            "1/1 [==============================] - 0s 6ms/step - loss: 0.0050 - mae: 0.0605\n",
            "Epoch 656/1200\n",
            "1/1 [==============================] - 0s 5ms/step - loss: 0.0049 - mae: 0.0603\n",
            "Epoch 657/1200\n",
            "1/1 [==============================] - 0s 5ms/step - loss: 0.0049 - mae: 0.0601\n",
            "Epoch 658/1200\n",
            "1/1 [==============================] - 0s 5ms/step - loss: 0.0049 - mae: 0.0599\n",
            "Epoch 659/1200\n",
            "1/1 [==============================] - 0s 5ms/step - loss: 0.0048 - mae: 0.0597\n",
            "Epoch 660/1200\n",
            "1/1 [==============================] - 0s 5ms/step - loss: 0.0048 - mae: 0.0595\n",
            "Epoch 661/1200\n",
            "1/1 [==============================] - 0s 6ms/step - loss: 0.0048 - mae: 0.0593\n",
            "Epoch 662/1200\n",
            "1/1 [==============================] - 0s 5ms/step - loss: 0.0047 - mae: 0.0591\n",
            "Epoch 663/1200\n",
            "1/1 [==============================] - 0s 6ms/step - loss: 0.0047 - mae: 0.0589\n",
            "Epoch 664/1200\n",
            "1/1 [==============================] - 0s 6ms/step - loss: 0.0047 - mae: 0.0587\n",
            "Epoch 665/1200\n",
            "1/1 [==============================] - 0s 6ms/step - loss: 0.0047 - mae: 0.0585\n",
            "Epoch 666/1200\n",
            "1/1 [==============================] - 0s 6ms/step - loss: 0.0046 - mae: 0.0583\n",
            "Epoch 667/1200\n",
            "1/1 [==============================] - 0s 7ms/step - loss: 0.0046 - mae: 0.0581\n",
            "Epoch 668/1200\n",
            "1/1 [==============================] - 0s 6ms/step - loss: 0.0046 - mae: 0.0579\n",
            "Epoch 669/1200\n",
            "1/1 [==============================] - 0s 5ms/step - loss: 0.0045 - mae: 0.0577\n",
            "Epoch 670/1200\n",
            "1/1 [==============================] - 0s 6ms/step - loss: 0.0045 - mae: 0.0575\n",
            "Epoch 671/1200\n",
            "1/1 [==============================] - 0s 7ms/step - loss: 0.0045 - mae: 0.0574\n",
            "Epoch 672/1200\n",
            "1/1 [==============================] - 0s 7ms/step - loss: 0.0044 - mae: 0.0572\n",
            "Epoch 673/1200\n",
            "1/1 [==============================] - 0s 150ms/step - loss: 0.0044 - mae: 0.0570\n",
            "Epoch 674/1200\n",
            "1/1 [==============================] - 0s 5ms/step - loss: 0.0044 - mae: 0.0568\n",
            "Epoch 675/1200\n",
            "1/1 [==============================] - 0s 7ms/step - loss: 0.0043 - mae: 0.0566\n",
            "Epoch 676/1200\n",
            "1/1 [==============================] - 0s 6ms/step - loss: 0.0043 - mae: 0.0564\n",
            "Epoch 677/1200\n",
            "1/1 [==============================] - 0s 6ms/step - loss: 0.0043 - mae: 0.0562\n",
            "Epoch 678/1200\n",
            "1/1 [==============================] - 0s 6ms/step - loss: 0.0043 - mae: 0.0560\n",
            "Epoch 679/1200\n",
            "1/1 [==============================] - 0s 7ms/step - loss: 0.0042 - mae: 0.0558\n",
            "Epoch 680/1200\n",
            "1/1 [==============================] - 0s 6ms/step - loss: 0.0042 - mae: 0.0556\n",
            "Epoch 681/1200\n",
            "1/1 [==============================] - 0s 6ms/step - loss: 0.0042 - mae: 0.0554\n",
            "Epoch 682/1200\n",
            "1/1 [==============================] - 0s 6ms/step - loss: 0.0041 - mae: 0.0553\n",
            "Epoch 683/1200\n",
            "1/1 [==============================] - 0s 6ms/step - loss: 0.0041 - mae: 0.0551\n",
            "Epoch 684/1200\n",
            "1/1 [==============================] - 0s 6ms/step - loss: 0.0041 - mae: 0.0549\n",
            "Epoch 685/1200\n",
            "1/1 [==============================] - 0s 7ms/step - loss: 0.0041 - mae: 0.0547\n",
            "Epoch 686/1200\n",
            "1/1 [==============================] - 0s 6ms/step - loss: 0.0040 - mae: 0.0545\n",
            "Epoch 687/1200\n",
            "1/1 [==============================] - 0s 6ms/step - loss: 0.0040 - mae: 0.0543\n",
            "Epoch 688/1200\n",
            "1/1 [==============================] - 0s 6ms/step - loss: 0.0040 - mae: 0.0541\n",
            "Epoch 689/1200\n",
            "1/1 [==============================] - 0s 6ms/step - loss: 0.0040 - mae: 0.0540\n",
            "Epoch 690/1200\n",
            "1/1 [==============================] - 0s 6ms/step - loss: 0.0039 - mae: 0.0538\n",
            "Epoch 691/1200\n",
            "1/1 [==============================] - 0s 6ms/step - loss: 0.0039 - mae: 0.0536\n",
            "Epoch 692/1200\n",
            "1/1 [==============================] - 0s 5ms/step - loss: 0.0039 - mae: 0.0534\n",
            "Epoch 693/1200\n",
            "1/1 [==============================] - 0s 6ms/step - loss: 0.0038 - mae: 0.0532\n",
            "Epoch 694/1200\n",
            "1/1 [==============================] - 0s 6ms/step - loss: 0.0038 - mae: 0.0531\n",
            "Epoch 695/1200\n",
            "1/1 [==============================] - 0s 6ms/step - loss: 0.0038 - mae: 0.0529\n",
            "Epoch 696/1200\n",
            "1/1 [==============================] - 0s 6ms/step - loss: 0.0038 - mae: 0.0527\n",
            "Epoch 697/1200\n",
            "1/1 [==============================] - 0s 7ms/step - loss: 0.0037 - mae: 0.0525\n",
            "Epoch 698/1200\n",
            "1/1 [==============================] - 0s 6ms/step - loss: 0.0037 - mae: 0.0523\n",
            "Epoch 699/1200\n",
            "1/1 [==============================] - 0s 6ms/step - loss: 0.0037 - mae: 0.0522\n",
            "Epoch 700/1200\n",
            "1/1 [==============================] - 0s 7ms/step - loss: 0.0037 - mae: 0.0520\n",
            "Epoch 701/1200\n",
            "1/1 [==============================] - 0s 6ms/step - loss: 0.0036 - mae: 0.0518\n",
            "Epoch 702/1200\n",
            "1/1 [==============================] - 0s 9ms/step - loss: 0.0036 - mae: 0.0516\n",
            "Epoch 703/1200\n",
            "1/1 [==============================] - 0s 11ms/step - loss: 0.0036 - mae: 0.0515\n",
            "Epoch 704/1200\n",
            "1/1 [==============================] - 0s 6ms/step - loss: 0.0036 - mae: 0.0513\n",
            "Epoch 705/1200\n",
            "1/1 [==============================] - 0s 11ms/step - loss: 0.0035 - mae: 0.0511\n",
            "Epoch 706/1200\n",
            "1/1 [==============================] - 0s 8ms/step - loss: 0.0035 - mae: 0.0509\n",
            "Epoch 707/1200\n",
            "1/1 [==============================] - 0s 6ms/step - loss: 0.0035 - mae: 0.0508\n",
            "Epoch 708/1200\n",
            "1/1 [==============================] - 0s 6ms/step - loss: 0.0035 - mae: 0.0506\n",
            "Epoch 709/1200\n",
            "1/1 [==============================] - 0s 6ms/step - loss: 0.0035 - mae: 0.0504\n",
            "Epoch 710/1200\n",
            "1/1 [==============================] - 0s 6ms/step - loss: 0.0034 - mae: 0.0503\n",
            "Epoch 711/1200\n",
            "1/1 [==============================] - 0s 6ms/step - loss: 0.0034 - mae: 0.0501\n",
            "Epoch 712/1200\n",
            "1/1 [==============================] - 0s 6ms/step - loss: 0.0034 - mae: 0.0499\n",
            "Epoch 713/1200\n",
            "1/1 [==============================] - 0s 6ms/step - loss: 0.0034 - mae: 0.0497\n",
            "Epoch 714/1200\n",
            "1/1 [==============================] - 0s 7ms/step - loss: 0.0033 - mae: 0.0496\n",
            "Epoch 715/1200\n",
            "1/1 [==============================] - 0s 6ms/step - loss: 0.0033 - mae: 0.0494\n",
            "Epoch 716/1200\n",
            "1/1 [==============================] - 0s 5ms/step - loss: 0.0033 - mae: 0.0492\n",
            "Epoch 717/1200\n",
            "1/1 [==============================] - 0s 6ms/step - loss: 0.0033 - mae: 0.0491\n",
            "Epoch 718/1200\n",
            "1/1 [==============================] - 0s 6ms/step - loss: 0.0032 - mae: 0.0489\n",
            "Epoch 719/1200\n",
            "1/1 [==============================] - 0s 6ms/step - loss: 0.0032 - mae: 0.0487\n",
            "Epoch 720/1200\n",
            "1/1 [==============================] - 0s 6ms/step - loss: 0.0032 - mae: 0.0486\n",
            "Epoch 721/1200\n",
            "1/1 [==============================] - 0s 7ms/step - loss: 0.0032 - mae: 0.0484\n",
            "Epoch 722/1200\n",
            "1/1 [==============================] - 0s 7ms/step - loss: 0.0032 - mae: 0.0483\n",
            "Epoch 723/1200\n",
            "1/1 [==============================] - 0s 5ms/step - loss: 0.0031 - mae: 0.0481\n",
            "Epoch 724/1200\n",
            "1/1 [==============================] - 0s 6ms/step - loss: 0.0031 - mae: 0.0479\n",
            "Epoch 725/1200\n",
            "1/1 [==============================] - 0s 7ms/step - loss: 0.0031 - mae: 0.0478\n",
            "Epoch 726/1200\n",
            "1/1 [==============================] - 0s 7ms/step - loss: 0.0031 - mae: 0.0476\n",
            "Epoch 727/1200\n",
            "1/1 [==============================] - 0s 7ms/step - loss: 0.0031 - mae: 0.0474\n",
            "Epoch 728/1200\n",
            "1/1 [==============================] - 0s 6ms/step - loss: 0.0030 - mae: 0.0473\n",
            "Epoch 729/1200\n",
            "1/1 [==============================] - 0s 6ms/step - loss: 0.0030 - mae: 0.0471\n",
            "Epoch 730/1200\n",
            "1/1 [==============================] - 0s 6ms/step - loss: 0.0030 - mae: 0.0470\n",
            "Epoch 731/1200\n",
            "1/1 [==============================] - 0s 7ms/step - loss: 0.0030 - mae: 0.0468\n",
            "Epoch 732/1200\n",
            "1/1 [==============================] - 0s 6ms/step - loss: 0.0030 - mae: 0.0466\n",
            "Epoch 733/1200\n",
            "1/1 [==============================] - 0s 7ms/step - loss: 0.0029 - mae: 0.0465\n",
            "Epoch 734/1200\n",
            "1/1 [==============================] - 0s 5ms/step - loss: 0.0029 - mae: 0.0463\n",
            "Epoch 735/1200\n",
            "1/1 [==============================] - 0s 6ms/step - loss: 0.0029 - mae: 0.0462\n",
            "Epoch 736/1200\n",
            "1/1 [==============================] - 0s 7ms/step - loss: 0.0029 - mae: 0.0460\n",
            "Epoch 737/1200\n",
            "1/1 [==============================] - 0s 9ms/step - loss: 0.0029 - mae: 0.0459\n",
            "Epoch 738/1200\n",
            "1/1 [==============================] - 0s 6ms/step - loss: 0.0028 - mae: 0.0457\n",
            "Epoch 739/1200\n",
            "1/1 [==============================] - 0s 6ms/step - loss: 0.0028 - mae: 0.0456\n",
            "Epoch 740/1200\n",
            "1/1 [==============================] - 0s 5ms/step - loss: 0.0028 - mae: 0.0454\n",
            "Epoch 741/1200\n",
            "1/1 [==============================] - 0s 6ms/step - loss: 0.0028 - mae: 0.0452\n",
            "Epoch 742/1200\n",
            "1/1 [==============================] - 0s 6ms/step - loss: 0.0028 - mae: 0.0451\n",
            "Epoch 743/1200\n",
            "1/1 [==============================] - 0s 6ms/step - loss: 0.0027 - mae: 0.0449\n",
            "Epoch 744/1200\n",
            "1/1 [==============================] - 0s 7ms/step - loss: 0.0027 - mae: 0.0448\n",
            "Epoch 745/1200\n",
            "1/1 [==============================] - 0s 7ms/step - loss: 0.0027 - mae: 0.0446\n",
            "Epoch 746/1200\n",
            "1/1 [==============================] - 0s 6ms/step - loss: 0.0027 - mae: 0.0445\n",
            "Epoch 747/1200\n",
            "1/1 [==============================] - 0s 7ms/step - loss: 0.0027 - mae: 0.0443\n",
            "Epoch 748/1200\n",
            "1/1 [==============================] - 0s 6ms/step - loss: 0.0027 - mae: 0.0442\n",
            "Epoch 749/1200\n",
            "1/1 [==============================] - 0s 34ms/step - loss: 0.0026 - mae: 0.0440\n",
            "Epoch 750/1200\n",
            "1/1 [==============================] - 0s 42ms/step - loss: 0.0026 - mae: 0.0439\n",
            "Epoch 751/1200\n",
            "1/1 [==============================] - 0s 20ms/step - loss: 0.0026 - mae: 0.0437\n",
            "Epoch 752/1200\n",
            "1/1 [==============================] - 0s 11ms/step - loss: 0.0026 - mae: 0.0436\n",
            "Epoch 753/1200\n",
            "1/1 [==============================] - 0s 6ms/step - loss: 0.0026 - mae: 0.0434\n",
            "Epoch 754/1200\n",
            "1/1 [==============================] - 0s 8ms/step - loss: 0.0025 - mae: 0.0433\n",
            "Epoch 755/1200\n",
            "1/1 [==============================] - 0s 5ms/step - loss: 0.0025 - mae: 0.0432\n",
            "Epoch 756/1200\n",
            "1/1 [==============================] - 0s 108ms/step - loss: 0.0025 - mae: 0.0430\n",
            "Epoch 757/1200\n",
            "1/1 [==============================] - 0s 5ms/step - loss: 0.0025 - mae: 0.0429\n",
            "Epoch 758/1200\n",
            "1/1 [==============================] - 0s 5ms/step - loss: 0.0025 - mae: 0.0427\n",
            "Epoch 759/1200\n",
            "1/1 [==============================] - 0s 6ms/step - loss: 0.0025 - mae: 0.0426\n",
            "Epoch 760/1200\n",
            "1/1 [==============================] - 0s 5ms/step - loss: 0.0024 - mae: 0.0424\n",
            "Epoch 761/1200\n",
            "1/1 [==============================] - 0s 5ms/step - loss: 0.0024 - mae: 0.0423\n",
            "Epoch 762/1200\n",
            "1/1 [==============================] - 0s 10ms/step - loss: 0.0024 - mae: 0.0421\n",
            "Epoch 763/1200\n",
            "1/1 [==============================] - 0s 6ms/step - loss: 0.0024 - mae: 0.0420\n",
            "Epoch 764/1200\n",
            "1/1 [==============================] - 0s 5ms/step - loss: 0.0024 - mae: 0.0419\n",
            "Epoch 765/1200\n",
            "1/1 [==============================] - 0s 5ms/step - loss: 0.0024 - mae: 0.0417\n",
            "Epoch 766/1200\n",
            "1/1 [==============================] - 0s 6ms/step - loss: 0.0023 - mae: 0.0416\n",
            "Epoch 767/1200\n",
            "1/1 [==============================] - 0s 5ms/step - loss: 0.0023 - mae: 0.0414\n",
            "Epoch 768/1200\n",
            "1/1 [==============================] - 0s 5ms/step - loss: 0.0023 - mae: 0.0413\n",
            "Epoch 769/1200\n",
            "1/1 [==============================] - 0s 8ms/step - loss: 0.0023 - mae: 0.0412\n",
            "Epoch 770/1200\n",
            "1/1 [==============================] - 0s 5ms/step - loss: 0.0023 - mae: 0.0410\n",
            "Epoch 771/1200\n",
            "1/1 [==============================] - 0s 5ms/step - loss: 0.0023 - mae: 0.0409\n",
            "Epoch 772/1200\n",
            "1/1 [==============================] - 0s 6ms/step - loss: 0.0023 - mae: 0.0407\n",
            "Epoch 773/1200\n",
            "1/1 [==============================] - 0s 10ms/step - loss: 0.0022 - mae: 0.0406\n",
            "Epoch 774/1200\n",
            "1/1 [==============================] - 0s 11ms/step - loss: 0.0022 - mae: 0.0405\n",
            "Epoch 775/1200\n",
            "1/1 [==============================] - 0s 5ms/step - loss: 0.0022 - mae: 0.0403\n",
            "Epoch 776/1200\n",
            "1/1 [==============================] - 0s 5ms/step - loss: 0.0022 - mae: 0.0402\n",
            "Epoch 777/1200\n",
            "1/1 [==============================] - 0s 6ms/step - loss: 0.0022 - mae: 0.0401\n",
            "Epoch 778/1200\n",
            "1/1 [==============================] - 0s 11ms/step - loss: 0.0022 - mae: 0.0399\n",
            "Epoch 779/1200\n",
            "1/1 [==============================] - 0s 8ms/step - loss: 0.0021 - mae: 0.0398\n",
            "Epoch 780/1200\n",
            "1/1 [==============================] - 0s 6ms/step - loss: 0.0021 - mae: 0.0396\n",
            "Epoch 781/1200\n",
            "1/1 [==============================] - 0s 6ms/step - loss: 0.0021 - mae: 0.0395\n",
            "Epoch 782/1200\n",
            "1/1 [==============================] - 0s 5ms/step - loss: 0.0021 - mae: 0.0394\n",
            "Epoch 783/1200\n",
            "1/1 [==============================] - 0s 6ms/step - loss: 0.0021 - mae: 0.0392\n",
            "Epoch 784/1200\n",
            "1/1 [==============================] - 0s 6ms/step - loss: 0.0021 - mae: 0.0391\n",
            "Epoch 785/1200\n",
            "1/1 [==============================] - 0s 6ms/step - loss: 0.0021 - mae: 0.0390\n",
            "Epoch 786/1200\n",
            "1/1 [==============================] - 0s 6ms/step - loss: 0.0020 - mae: 0.0389\n",
            "Epoch 787/1200\n",
            "1/1 [==============================] - 0s 5ms/step - loss: 0.0020 - mae: 0.0387\n",
            "Epoch 788/1200\n",
            "1/1 [==============================] - 0s 8ms/step - loss: 0.0020 - mae: 0.0386\n",
            "Epoch 789/1200\n",
            "1/1 [==============================] - 0s 10ms/step - loss: 0.0020 - mae: 0.0385\n",
            "Epoch 790/1200\n",
            "1/1 [==============================] - 0s 6ms/step - loss: 0.0020 - mae: 0.0383\n",
            "Epoch 791/1200\n",
            "1/1 [==============================] - 0s 5ms/step - loss: 0.0020 - mae: 0.0382\n",
            "Epoch 792/1200\n",
            "1/1 [==============================] - 0s 7ms/step - loss: 0.0020 - mae: 0.0381\n",
            "Epoch 793/1200\n",
            "1/1 [==============================] - 0s 6ms/step - loss: 0.0020 - mae: 0.0379\n",
            "Epoch 794/1200\n",
            "1/1 [==============================] - 0s 6ms/step - loss: 0.0019 - mae: 0.0378\n",
            "Epoch 795/1200\n",
            "1/1 [==============================] - 0s 5ms/step - loss: 0.0019 - mae: 0.0377\n",
            "Epoch 796/1200\n",
            "1/1 [==============================] - 0s 5ms/step - loss: 0.0019 - mae: 0.0376\n",
            "Epoch 797/1200\n",
            "1/1 [==============================] - 0s 6ms/step - loss: 0.0019 - mae: 0.0374\n",
            "Epoch 798/1200\n",
            "1/1 [==============================] - 0s 11ms/step - loss: 0.0019 - mae: 0.0373\n",
            "Epoch 799/1200\n",
            "1/1 [==============================] - 0s 6ms/step - loss: 0.0019 - mae: 0.0372\n",
            "Epoch 800/1200\n",
            "1/1 [==============================] - 0s 6ms/step - loss: 0.0019 - mae: 0.0371\n",
            "Epoch 801/1200\n",
            "1/1 [==============================] - 0s 6ms/step - loss: 0.0019 - mae: 0.0369\n",
            "Epoch 802/1200\n",
            "1/1 [==============================] - 0s 5ms/step - loss: 0.0018 - mae: 0.0368\n",
            "Epoch 803/1200\n",
            "1/1 [==============================] - 0s 6ms/step - loss: 0.0018 - mae: 0.0367\n",
            "Epoch 804/1200\n",
            "1/1 [==============================] - 0s 5ms/step - loss: 0.0018 - mae: 0.0366\n",
            "Epoch 805/1200\n",
            "1/1 [==============================] - 0s 7ms/step - loss: 0.0018 - mae: 0.0364\n",
            "Epoch 806/1200\n",
            "1/1 [==============================] - 0s 7ms/step - loss: 0.0018 - mae: 0.0363\n",
            "Epoch 807/1200\n",
            "1/1 [==============================] - 0s 6ms/step - loss: 0.0018 - mae: 0.0362\n",
            "Epoch 808/1200\n",
            "1/1 [==============================] - 0s 6ms/step - loss: 0.0018 - mae: 0.0361\n",
            "Epoch 809/1200\n",
            "1/1 [==============================] - 0s 7ms/step - loss: 0.0018 - mae: 0.0359\n",
            "Epoch 810/1200\n",
            "1/1 [==============================] - 0s 8ms/step - loss: 0.0017 - mae: 0.0358\n",
            "Epoch 811/1200\n",
            "1/1 [==============================] - 0s 9ms/step - loss: 0.0017 - mae: 0.0357\n",
            "Epoch 812/1200\n",
            "1/1 [==============================] - 0s 8ms/step - loss: 0.0017 - mae: 0.0356\n",
            "Epoch 813/1200\n",
            "1/1 [==============================] - 0s 6ms/step - loss: 0.0017 - mae: 0.0355\n",
            "Epoch 814/1200\n",
            "1/1 [==============================] - 0s 6ms/step - loss: 0.0017 - mae: 0.0353\n",
            "Epoch 815/1200\n",
            "1/1 [==============================] - 0s 10ms/step - loss: 0.0017 - mae: 0.0352\n",
            "Epoch 816/1200\n",
            "1/1 [==============================] - 0s 6ms/step - loss: 0.0017 - mae: 0.0351\n",
            "Epoch 817/1200\n",
            "1/1 [==============================] - 0s 7ms/step - loss: 0.0017 - mae: 0.0350\n",
            "Epoch 818/1200\n",
            "1/1 [==============================] - 0s 6ms/step - loss: 0.0016 - mae: 0.0349\n",
            "Epoch 819/1200\n",
            "1/1 [==============================] - 0s 6ms/step - loss: 0.0016 - mae: 0.0347\n",
            "Epoch 820/1200\n",
            "1/1 [==============================] - 0s 5ms/step - loss: 0.0016 - mae: 0.0346\n",
            "Epoch 821/1200\n",
            "1/1 [==============================] - 0s 6ms/step - loss: 0.0016 - mae: 0.0345\n",
            "Epoch 822/1200\n",
            "1/1 [==============================] - 0s 8ms/step - loss: 0.0016 - mae: 0.0344\n",
            "Epoch 823/1200\n",
            "1/1 [==============================] - 0s 6ms/step - loss: 0.0016 - mae: 0.0343\n",
            "Epoch 824/1200\n",
            "1/1 [==============================] - 0s 6ms/step - loss: 0.0016 - mae: 0.0342\n",
            "Epoch 825/1200\n",
            "1/1 [==============================] - 0s 9ms/step - loss: 0.0016 - mae: 0.0340\n",
            "Epoch 826/1200\n",
            "1/1 [==============================] - 0s 6ms/step - loss: 0.0016 - mae: 0.0339\n",
            "Epoch 827/1200\n",
            "1/1 [==============================] - 0s 5ms/step - loss: 0.0016 - mae: 0.0338\n",
            "Epoch 828/1200\n",
            "1/1 [==============================] - 0s 6ms/step - loss: 0.0015 - mae: 0.0337\n",
            "Epoch 829/1200\n",
            "1/1 [==============================] - 0s 6ms/step - loss: 0.0015 - mae: 0.0336\n",
            "Epoch 830/1200\n",
            "1/1 [==============================] - 0s 7ms/step - loss: 0.0015 - mae: 0.0335\n",
            "Epoch 831/1200\n",
            "1/1 [==============================] - 0s 9ms/step - loss: 0.0015 - mae: 0.0334\n",
            "Epoch 832/1200\n",
            "1/1 [==============================] - 0s 6ms/step - loss: 0.0015 - mae: 0.0332\n",
            "Epoch 833/1200\n",
            "1/1 [==============================] - 0s 5ms/step - loss: 0.0015 - mae: 0.0331\n",
            "Epoch 834/1200\n",
            "1/1 [==============================] - 0s 7ms/step - loss: 0.0015 - mae: 0.0330\n",
            "Epoch 835/1200\n",
            "1/1 [==============================] - 0s 10ms/step - loss: 0.0015 - mae: 0.0329\n",
            "Epoch 836/1200\n",
            "1/1 [==============================] - 0s 7ms/step - loss: 0.0015 - mae: 0.0328\n",
            "Epoch 837/1200\n",
            "1/1 [==============================] - 0s 6ms/step - loss: 0.0015 - mae: 0.0327\n",
            "Epoch 838/1200\n",
            "1/1 [==============================] - 0s 5ms/step - loss: 0.0014 - mae: 0.0326\n",
            "Epoch 839/1200\n",
            "1/1 [==============================] - 0s 15ms/step - loss: 0.0014 - mae: 0.0325\n",
            "Epoch 840/1200\n",
            "1/1 [==============================] - 0s 6ms/step - loss: 0.0014 - mae: 0.0324\n",
            "Epoch 841/1200\n",
            "1/1 [==============================] - 0s 6ms/step - loss: 0.0014 - mae: 0.0322\n",
            "Epoch 842/1200\n",
            "1/1 [==============================] - 0s 6ms/step - loss: 0.0014 - mae: 0.0321\n",
            "Epoch 843/1200\n",
            "1/1 [==============================] - 0s 6ms/step - loss: 0.0014 - mae: 0.0320\n",
            "Epoch 844/1200\n",
            "1/1 [==============================] - 0s 8ms/step - loss: 0.0014 - mae: 0.0319\n",
            "Epoch 845/1200\n",
            "1/1 [==============================] - 0s 6ms/step - loss: 0.0014 - mae: 0.0318\n",
            "Epoch 846/1200\n",
            "1/1 [==============================] - 0s 6ms/step - loss: 0.0014 - mae: 0.0317\n",
            "Epoch 847/1200\n",
            "1/1 [==============================] - 0s 7ms/step - loss: 0.0014 - mae: 0.0316\n",
            "Epoch 848/1200\n",
            "1/1 [==============================] - 0s 6ms/step - loss: 0.0013 - mae: 0.0315\n",
            "Epoch 849/1200\n",
            "1/1 [==============================] - 0s 6ms/step - loss: 0.0013 - mae: 0.0314\n",
            "Epoch 850/1200\n",
            "1/1 [==============================] - 0s 9ms/step - loss: 0.0013 - mae: 0.0313\n",
            "Epoch 851/1200\n",
            "1/1 [==============================] - 0s 6ms/step - loss: 0.0013 - mae: 0.0312\n",
            "Epoch 852/1200\n",
            "1/1 [==============================] - 0s 6ms/step - loss: 0.0013 - mae: 0.0311\n",
            "Epoch 853/1200\n",
            "1/1 [==============================] - 0s 6ms/step - loss: 0.0013 - mae: 0.0310\n",
            "Epoch 854/1200\n",
            "1/1 [==============================] - 0s 9ms/step - loss: 0.0013 - mae: 0.0309\n",
            "Epoch 855/1200\n",
            "1/1 [==============================] - 0s 6ms/step - loss: 0.0013 - mae: 0.0308\n",
            "Epoch 856/1200\n",
            "1/1 [==============================] - 0s 6ms/step - loss: 0.0013 - mae: 0.0307\n",
            "Epoch 857/1200\n",
            "1/1 [==============================] - 0s 6ms/step - loss: 0.0013 - mae: 0.0305\n",
            "Epoch 858/1200\n",
            "1/1 [==============================] - 0s 6ms/step - loss: 0.0013 - mae: 0.0304\n",
            "Epoch 859/1200\n",
            "1/1 [==============================] - 0s 7ms/step - loss: 0.0012 - mae: 0.0303\n",
            "Epoch 860/1200\n",
            "1/1 [==============================] - 0s 10ms/step - loss: 0.0012 - mae: 0.0302\n",
            "Epoch 861/1200\n",
            "1/1 [==============================] - 0s 5ms/step - loss: 0.0012 - mae: 0.0301\n",
            "Epoch 862/1200\n",
            "1/1 [==============================] - 0s 7ms/step - loss: 0.0012 - mae: 0.0300\n",
            "Epoch 863/1200\n",
            "1/1 [==============================] - 0s 6ms/step - loss: 0.0012 - mae: 0.0299\n",
            "Epoch 864/1200\n",
            "1/1 [==============================] - 0s 6ms/step - loss: 0.0012 - mae: 0.0298\n",
            "Epoch 865/1200\n",
            "1/1 [==============================] - 0s 6ms/step - loss: 0.0012 - mae: 0.0297\n",
            "Epoch 866/1200\n",
            "1/1 [==============================] - 0s 6ms/step - loss: 0.0012 - mae: 0.0296\n",
            "Epoch 867/1200\n",
            "1/1 [==============================] - 0s 9ms/step - loss: 0.0012 - mae: 0.0295\n",
            "Epoch 868/1200\n",
            "1/1 [==============================] - 0s 6ms/step - loss: 0.0012 - mae: 0.0294\n",
            "Epoch 869/1200\n",
            "1/1 [==============================] - 0s 6ms/step - loss: 0.0012 - mae: 0.0293\n",
            "Epoch 870/1200\n",
            "1/1 [==============================] - 0s 7ms/step - loss: 0.0012 - mae: 0.0292\n",
            "Epoch 871/1200\n",
            "1/1 [==============================] - 0s 7ms/step - loss: 0.0012 - mae: 0.0291\n",
            "Epoch 872/1200\n",
            "1/1 [==============================] - 0s 6ms/step - loss: 0.0011 - mae: 0.0290\n",
            "Epoch 873/1200\n",
            "1/1 [==============================] - 0s 10ms/step - loss: 0.0011 - mae: 0.0289\n",
            "Epoch 874/1200\n",
            "1/1 [==============================] - 0s 6ms/step - loss: 0.0011 - mae: 0.0288\n",
            "Epoch 875/1200\n",
            "1/1 [==============================] - 0s 6ms/step - loss: 0.0011 - mae: 0.0287\n",
            "Epoch 876/1200\n",
            "1/1 [==============================] - 0s 6ms/step - loss: 0.0011 - mae: 0.0286\n",
            "Epoch 877/1200\n",
            "1/1 [==============================] - 0s 6ms/step - loss: 0.0011 - mae: 0.0285\n",
            "Epoch 878/1200\n",
            "1/1 [==============================] - 0s 6ms/step - loss: 0.0011 - mae: 0.0285\n",
            "Epoch 879/1200\n",
            "1/1 [==============================] - 0s 10ms/step - loss: 0.0011 - mae: 0.0284\n",
            "Epoch 880/1200\n",
            "1/1 [==============================] - 0s 8ms/step - loss: 0.0011 - mae: 0.0283\n",
            "Epoch 881/1200\n",
            "1/1 [==============================] - 0s 11ms/step - loss: 0.0011 - mae: 0.0282\n",
            "Epoch 882/1200\n",
            "1/1 [==============================] - 0s 6ms/step - loss: 0.0011 - mae: 0.0281\n",
            "Epoch 883/1200\n",
            "1/1 [==============================] - 0s 7ms/step - loss: 0.0011 - mae: 0.0280\n",
            "Epoch 884/1200\n",
            "1/1 [==============================] - 0s 7ms/step - loss: 0.0011 - mae: 0.0279\n",
            "Epoch 885/1200\n",
            "1/1 [==============================] - 0s 8ms/step - loss: 0.0010 - mae: 0.0278\n",
            "Epoch 886/1200\n",
            "1/1 [==============================] - 0s 10ms/step - loss: 0.0010 - mae: 0.0277\n",
            "Epoch 887/1200\n",
            "1/1 [==============================] - 0s 6ms/step - loss: 0.0010 - mae: 0.0276\n",
            "Epoch 888/1200\n",
            "1/1 [==============================] - 0s 6ms/step - loss: 0.0010 - mae: 0.0275\n",
            "Epoch 889/1200\n",
            "1/1 [==============================] - 0s 7ms/step - loss: 0.0010 - mae: 0.0274\n",
            "Epoch 890/1200\n",
            "1/1 [==============================] - 0s 6ms/step - loss: 0.0010 - mae: 0.0273\n",
            "Epoch 891/1200\n",
            "1/1 [==============================] - 0s 6ms/step - loss: 0.0010 - mae: 0.0272\n",
            "Epoch 892/1200\n",
            "1/1 [==============================] - 0s 5ms/step - loss: 9.9933e-04 - mae: 0.0271\n",
            "Epoch 893/1200\n",
            "1/1 [==============================] - 0s 5ms/step - loss: 9.9259e-04 - mae: 0.0270\n",
            "Epoch 894/1200\n",
            "1/1 [==============================] - 0s 6ms/step - loss: 9.8587e-04 - mae: 0.0270\n",
            "Epoch 895/1200\n",
            "1/1 [==============================] - 0s 11ms/step - loss: 9.7923e-04 - mae: 0.0269\n",
            "Epoch 896/1200\n",
            "1/1 [==============================] - 0s 6ms/step - loss: 9.7262e-04 - mae: 0.0268\n",
            "Epoch 897/1200\n",
            "1/1 [==============================] - 0s 6ms/step - loss: 9.6605e-04 - mae: 0.0267\n",
            "Epoch 898/1200\n",
            "1/1 [==============================] - 0s 5ms/step - loss: 9.5954e-04 - mae: 0.0266\n",
            "Epoch 899/1200\n",
            "1/1 [==============================] - 0s 6ms/step - loss: 9.5304e-04 - mae: 0.0265\n",
            "Epoch 900/1200\n",
            "1/1 [==============================] - 0s 6ms/step - loss: 9.4662e-04 - mae: 0.0264\n",
            "Epoch 901/1200\n",
            "1/1 [==============================] - 0s 6ms/step - loss: 9.4023e-04 - mae: 0.0263\n",
            "Epoch 902/1200\n",
            "1/1 [==============================] - 0s 6ms/step - loss: 9.3389e-04 - mae: 0.0262\n",
            "Epoch 903/1200\n",
            "1/1 [==============================] - 0s 7ms/step - loss: 9.2758e-04 - mae: 0.0261\n",
            "Epoch 904/1200\n",
            "1/1 [==============================] - 0s 6ms/step - loss: 9.2132e-04 - mae: 0.0261\n",
            "Epoch 905/1200\n",
            "1/1 [==============================] - 0s 7ms/step - loss: 9.1511e-04 - mae: 0.0260\n",
            "Epoch 906/1200\n",
            "1/1 [==============================] - 0s 6ms/step - loss: 9.0892e-04 - mae: 0.0259\n",
            "Epoch 907/1200\n",
            "1/1 [==============================] - 0s 6ms/step - loss: 9.0277e-04 - mae: 0.0258\n",
            "Epoch 908/1200\n",
            "1/1 [==============================] - 0s 7ms/step - loss: 8.9670e-04 - mae: 0.0257\n",
            "Epoch 909/1200\n",
            "1/1 [==============================] - 0s 7ms/step - loss: 8.9062e-04 - mae: 0.0256\n",
            "Epoch 910/1200\n",
            "1/1 [==============================] - 0s 7ms/step - loss: 8.8463e-04 - mae: 0.0255\n",
            "Epoch 911/1200\n",
            "1/1 [==============================] - 0s 7ms/step - loss: 8.7865e-04 - mae: 0.0254\n",
            "Epoch 912/1200\n",
            "1/1 [==============================] - 0s 7ms/step - loss: 8.7272e-04 - mae: 0.0254\n",
            "Epoch 913/1200\n",
            "1/1 [==============================] - 0s 5ms/step - loss: 8.6682e-04 - mae: 0.0253\n",
            "Epoch 914/1200\n",
            "1/1 [==============================] - 0s 6ms/step - loss: 8.6097e-04 - mae: 0.0252\n",
            "Epoch 915/1200\n",
            "1/1 [==============================] - 0s 7ms/step - loss: 8.5518e-04 - mae: 0.0251\n",
            "Epoch 916/1200\n",
            "1/1 [==============================] - 0s 7ms/step - loss: 8.4939e-04 - mae: 0.0250\n",
            "Epoch 917/1200\n",
            "1/1 [==============================] - 0s 7ms/step - loss: 8.4368e-04 - mae: 0.0249\n",
            "Epoch 918/1200\n",
            "1/1 [==============================] - 0s 6ms/step - loss: 8.3795e-04 - mae: 0.0248\n",
            "Epoch 919/1200\n",
            "1/1 [==============================] - 0s 6ms/step - loss: 8.3231e-04 - mae: 0.0248\n",
            "Epoch 920/1200\n",
            "1/1 [==============================] - 0s 6ms/step - loss: 8.2670e-04 - mae: 0.0247\n",
            "Epoch 921/1200\n",
            "1/1 [==============================] - 0s 8ms/step - loss: 8.2111e-04 - mae: 0.0246\n",
            "Epoch 922/1200\n",
            "1/1 [==============================] - 0s 6ms/step - loss: 8.1556e-04 - mae: 0.0245\n",
            "Epoch 923/1200\n",
            "1/1 [==============================] - 0s 217ms/step - loss: 8.1007e-04 - mae: 0.0244\n",
            "Epoch 924/1200\n",
            "1/1 [==============================] - 0s 7ms/step - loss: 8.0460e-04 - mae: 0.0243\n",
            "Epoch 925/1200\n",
            "1/1 [==============================] - 0s 6ms/step - loss: 7.9917e-04 - mae: 0.0243\n",
            "Epoch 926/1200\n",
            "1/1 [==============================] - 0s 5ms/step - loss: 7.9378e-04 - mae: 0.0242\n",
            "Epoch 927/1200\n",
            "1/1 [==============================] - 0s 6ms/step - loss: 7.8841e-04 - mae: 0.0241\n",
            "Epoch 928/1200\n",
            "1/1 [==============================] - 0s 6ms/step - loss: 7.8309e-04 - mae: 0.0240\n",
            "Epoch 929/1200\n",
            "1/1 [==============================] - 0s 5ms/step - loss: 7.7781e-04 - mae: 0.0239\n",
            "Epoch 930/1200\n",
            "1/1 [==============================] - 0s 6ms/step - loss: 7.7255e-04 - mae: 0.0239\n",
            "Epoch 931/1200\n",
            "1/1 [==============================] - 0s 6ms/step - loss: 7.6734e-04 - mae: 0.0238\n",
            "Epoch 932/1200\n",
            "1/1 [==============================] - 0s 6ms/step - loss: 7.6215e-04 - mae: 0.0237\n",
            "Epoch 933/1200\n",
            "1/1 [==============================] - 0s 6ms/step - loss: 7.5700e-04 - mae: 0.0236\n",
            "Epoch 934/1200\n",
            "1/1 [==============================] - 0s 7ms/step - loss: 7.5188e-04 - mae: 0.0235\n",
            "Epoch 935/1200\n",
            "1/1 [==============================] - 0s 6ms/step - loss: 7.4683e-04 - mae: 0.0235\n",
            "Epoch 936/1200\n",
            "1/1 [==============================] - 0s 7ms/step - loss: 7.4177e-04 - mae: 0.0234\n",
            "Epoch 937/1200\n",
            "1/1 [==============================] - 0s 9ms/step - loss: 7.3677e-04 - mae: 0.0233\n",
            "Epoch 938/1200\n",
            "1/1 [==============================] - 0s 6ms/step - loss: 7.3180e-04 - mae: 0.0232\n",
            "Epoch 939/1200\n",
            "1/1 [==============================] - 0s 6ms/step - loss: 7.2687e-04 - mae: 0.0231\n",
            "Epoch 940/1200\n",
            "1/1 [==============================] - 0s 6ms/step - loss: 7.2196e-04 - mae: 0.0231\n",
            "Epoch 941/1200\n",
            "1/1 [==============================] - 0s 6ms/step - loss: 7.1709e-04 - mae: 0.0230\n",
            "Epoch 942/1200\n",
            "1/1 [==============================] - 0s 7ms/step - loss: 7.1225e-04 - mae: 0.0229\n",
            "Epoch 943/1200\n",
            "1/1 [==============================] - 0s 6ms/step - loss: 7.0741e-04 - mae: 0.0228\n",
            "Epoch 944/1200\n",
            "1/1 [==============================] - 0s 7ms/step - loss: 7.0265e-04 - mae: 0.0228\n",
            "Epoch 945/1200\n",
            "1/1 [==============================] - 0s 7ms/step - loss: 6.9791e-04 - mae: 0.0227\n",
            "Epoch 946/1200\n",
            "1/1 [==============================] - 0s 6ms/step - loss: 6.9321e-04 - mae: 0.0226\n",
            "Epoch 947/1200\n",
            "1/1 [==============================] - 0s 6ms/step - loss: 6.8852e-04 - mae: 0.0225\n",
            "Epoch 948/1200\n",
            "1/1 [==============================] - 0s 7ms/step - loss: 6.8386e-04 - mae: 0.0224\n",
            "Epoch 949/1200\n",
            "1/1 [==============================] - 0s 6ms/step - loss: 6.7925e-04 - mae: 0.0224\n",
            "Epoch 950/1200\n",
            "1/1 [==============================] - 0s 6ms/step - loss: 6.7466e-04 - mae: 0.0223\n",
            "Epoch 951/1200\n",
            "1/1 [==============================] - 0s 7ms/step - loss: 6.7012e-04 - mae: 0.0222\n",
            "Epoch 952/1200\n",
            "1/1 [==============================] - 0s 7ms/step - loss: 6.6559e-04 - mae: 0.0221\n",
            "Epoch 953/1200\n",
            "1/1 [==============================] - 0s 6ms/step - loss: 6.6110e-04 - mae: 0.0221\n",
            "Epoch 954/1200\n",
            "1/1 [==============================] - 0s 7ms/step - loss: 6.5663e-04 - mae: 0.0220\n",
            "Epoch 955/1200\n",
            "1/1 [==============================] - 0s 6ms/step - loss: 6.5221e-04 - mae: 0.0219\n",
            "Epoch 956/1200\n",
            "1/1 [==============================] - 0s 7ms/step - loss: 6.4780e-04 - mae: 0.0218\n",
            "Epoch 957/1200\n",
            "1/1 [==============================] - 0s 7ms/step - loss: 6.4343e-04 - mae: 0.0218\n",
            "Epoch 958/1200\n",
            "1/1 [==============================] - 0s 7ms/step - loss: 6.3909e-04 - mae: 0.0217\n",
            "Epoch 959/1200\n",
            "1/1 [==============================] - 0s 6ms/step - loss: 6.3479e-04 - mae: 0.0216\n",
            "Epoch 960/1200\n",
            "1/1 [==============================] - 0s 7ms/step - loss: 6.3049e-04 - mae: 0.0216\n",
            "Epoch 961/1200\n",
            "1/1 [==============================] - 0s 6ms/step - loss: 6.2623e-04 - mae: 0.0215\n",
            "Epoch 962/1200\n",
            "1/1 [==============================] - 0s 6ms/step - loss: 6.2200e-04 - mae: 0.0214\n",
            "Epoch 963/1200\n",
            "1/1 [==============================] - 0s 6ms/step - loss: 6.1780e-04 - mae: 0.0213\n",
            "Epoch 964/1200\n",
            "1/1 [==============================] - 0s 6ms/step - loss: 6.1363e-04 - mae: 0.0213\n",
            "Epoch 965/1200\n",
            "1/1 [==============================] - 0s 6ms/step - loss: 6.0948e-04 - mae: 0.0212\n",
            "Epoch 966/1200\n",
            "1/1 [==============================] - 0s 6ms/step - loss: 6.0537e-04 - mae: 0.0211\n",
            "Epoch 967/1200\n",
            "1/1 [==============================] - 0s 7ms/step - loss: 6.0128e-04 - mae: 0.0210\n",
            "Epoch 968/1200\n",
            "1/1 [==============================] - 0s 7ms/step - loss: 5.9723e-04 - mae: 0.0210\n",
            "Epoch 969/1200\n",
            "1/1 [==============================] - 0s 9ms/step - loss: 5.9320e-04 - mae: 0.0209\n",
            "Epoch 970/1200\n",
            "1/1 [==============================] - 0s 6ms/step - loss: 5.8919e-04 - mae: 0.0208\n",
            "Epoch 971/1200\n",
            "1/1 [==============================] - 0s 8ms/step - loss: 5.8521e-04 - mae: 0.0208\n",
            "Epoch 972/1200\n",
            "1/1 [==============================] - 0s 7ms/step - loss: 5.8126e-04 - mae: 0.0207\n",
            "Epoch 973/1200\n",
            "1/1 [==============================] - 0s 7ms/step - loss: 5.7733e-04 - mae: 0.0206\n",
            "Epoch 974/1200\n",
            "1/1 [==============================] - 0s 8ms/step - loss: 5.7345e-04 - mae: 0.0206\n",
            "Epoch 975/1200\n",
            "1/1 [==============================] - 0s 8ms/step - loss: 5.6958e-04 - mae: 0.0205\n",
            "Epoch 976/1200\n",
            "1/1 [==============================] - 0s 6ms/step - loss: 5.6573e-04 - mae: 0.0204\n",
            "Epoch 977/1200\n",
            "1/1 [==============================] - 0s 7ms/step - loss: 5.6191e-04 - mae: 0.0203\n",
            "Epoch 978/1200\n",
            "1/1 [==============================] - 0s 7ms/step - loss: 5.5811e-04 - mae: 0.0203\n",
            "Epoch 979/1200\n",
            "1/1 [==============================] - 0s 7ms/step - loss: 5.5434e-04 - mae: 0.0202\n",
            "Epoch 980/1200\n",
            "1/1 [==============================] - 0s 8ms/step - loss: 5.5061e-04 - mae: 0.0201\n",
            "Epoch 981/1200\n",
            "1/1 [==============================] - 0s 7ms/step - loss: 5.4689e-04 - mae: 0.0201\n",
            "Epoch 982/1200\n",
            "1/1 [==============================] - 0s 6ms/step - loss: 5.4320e-04 - mae: 0.0200\n",
            "Epoch 983/1200\n",
            "1/1 [==============================] - 0s 6ms/step - loss: 5.3954e-04 - mae: 0.0199\n",
            "Epoch 984/1200\n",
            "1/1 [==============================] - 0s 6ms/step - loss: 5.3588e-04 - mae: 0.0199\n",
            "Epoch 985/1200\n",
            "1/1 [==============================] - 0s 6ms/step - loss: 5.3227e-04 - mae: 0.0198\n",
            "Epoch 986/1200\n",
            "1/1 [==============================] - 0s 6ms/step - loss: 5.2869e-04 - mae: 0.0197\n",
            "Epoch 987/1200\n",
            "1/1 [==============================] - 0s 7ms/step - loss: 5.2512e-04 - mae: 0.0197\n",
            "Epoch 988/1200\n",
            "1/1 [==============================] - 0s 6ms/step - loss: 5.2157e-04 - mae: 0.0196\n",
            "Epoch 989/1200\n",
            "1/1 [==============================] - 0s 6ms/step - loss: 5.1805e-04 - mae: 0.0195\n",
            "Epoch 990/1200\n",
            "1/1 [==============================] - 0s 7ms/step - loss: 5.1455e-04 - mae: 0.0195\n",
            "Epoch 991/1200\n",
            "1/1 [==============================] - 0s 6ms/step - loss: 5.1108e-04 - mae: 0.0194\n",
            "Epoch 992/1200\n",
            "1/1 [==============================] - 0s 6ms/step - loss: 5.0761e-04 - mae: 0.0193\n",
            "Epoch 993/1200\n",
            "1/1 [==============================] - 0s 6ms/step - loss: 5.0420e-04 - mae: 0.0193\n",
            "Epoch 994/1200\n",
            "1/1 [==============================] - 0s 6ms/step - loss: 5.0078e-04 - mae: 0.0192\n",
            "Epoch 995/1200\n",
            "1/1 [==============================] - 0s 6ms/step - loss: 4.9741e-04 - mae: 0.0191\n",
            "Epoch 996/1200\n",
            "1/1 [==============================] - 0s 6ms/step - loss: 4.9406e-04 - mae: 0.0191\n",
            "Epoch 997/1200\n",
            "1/1 [==============================] - 0s 7ms/step - loss: 4.9070e-04 - mae: 0.0190\n",
            "Epoch 998/1200\n",
            "1/1 [==============================] - 0s 8ms/step - loss: 4.8742e-04 - mae: 0.0189\n",
            "Epoch 999/1200\n",
            "1/1 [==============================] - 0s 7ms/step - loss: 4.8412e-04 - mae: 0.0189\n",
            "Epoch 1000/1200\n",
            "1/1 [==============================] - 0s 6ms/step - loss: 4.8085e-04 - mae: 0.0188\n",
            "Epoch 1001/1200\n",
            "1/1 [==============================] - 0s 7ms/step - loss: 4.7761e-04 - mae: 0.0188\n",
            "Epoch 1002/1200\n",
            "1/1 [==============================] - 0s 7ms/step - loss: 4.7437e-04 - mae: 0.0187\n",
            "Epoch 1003/1200\n",
            "1/1 [==============================] - 0s 6ms/step - loss: 4.7118e-04 - mae: 0.0186\n",
            "Epoch 1004/1200\n",
            "1/1 [==============================] - 0s 7ms/step - loss: 4.6799e-04 - mae: 0.0186\n",
            "Epoch 1005/1200\n",
            "1/1 [==============================] - 0s 7ms/step - loss: 4.6483e-04 - mae: 0.0185\n",
            "Epoch 1006/1200\n",
            "1/1 [==============================] - 0s 226ms/step - loss: 4.6170e-04 - mae: 0.0184\n",
            "Epoch 1007/1200\n",
            "1/1 [==============================] - 0s 7ms/step - loss: 4.5859e-04 - mae: 0.0184\n",
            "Epoch 1008/1200\n",
            "1/1 [==============================] - 0s 6ms/step - loss: 4.5549e-04 - mae: 0.0183\n",
            "Epoch 1009/1200\n",
            "1/1 [==============================] - 0s 6ms/step - loss: 4.5241e-04 - mae: 0.0183\n",
            "Epoch 1010/1200\n",
            "1/1 [==============================] - 0s 5ms/step - loss: 4.4935e-04 - mae: 0.0182\n",
            "Epoch 1011/1200\n",
            "1/1 [==============================] - 0s 6ms/step - loss: 4.4632e-04 - mae: 0.0181\n",
            "Epoch 1012/1200\n",
            "1/1 [==============================] - 0s 7ms/step - loss: 4.4332e-04 - mae: 0.0181\n",
            "Epoch 1013/1200\n",
            "1/1 [==============================] - 0s 7ms/step - loss: 4.4031e-04 - mae: 0.0180\n",
            "Epoch 1014/1200\n",
            "1/1 [==============================] - 0s 6ms/step - loss: 4.3735e-04 - mae: 0.0180\n",
            "Epoch 1015/1200\n",
            "1/1 [==============================] - 0s 6ms/step - loss: 4.3438e-04 - mae: 0.0179\n",
            "Epoch 1016/1200\n",
            "1/1 [==============================] - 0s 6ms/step - loss: 4.3145e-04 - mae: 0.0178\n",
            "Epoch 1017/1200\n",
            "1/1 [==============================] - 0s 6ms/step - loss: 4.2854e-04 - mae: 0.0178\n",
            "Epoch 1018/1200\n",
            "1/1 [==============================] - 0s 7ms/step - loss: 4.2565e-04 - mae: 0.0177\n",
            "Epoch 1019/1200\n",
            "1/1 [==============================] - 0s 6ms/step - loss: 4.2278e-04 - mae: 0.0176\n",
            "Epoch 1020/1200\n",
            "1/1 [==============================] - 0s 6ms/step - loss: 4.1992e-04 - mae: 0.0176\n",
            "Epoch 1021/1200\n",
            "1/1 [==============================] - 0s 7ms/step - loss: 4.1708e-04 - mae: 0.0175\n",
            "Epoch 1022/1200\n",
            "1/1 [==============================] - 0s 7ms/step - loss: 4.1428e-04 - mae: 0.0175\n",
            "Epoch 1023/1200\n",
            "1/1 [==============================] - 0s 6ms/step - loss: 4.1147e-04 - mae: 0.0174\n",
            "Epoch 1024/1200\n",
            "1/1 [==============================] - 0s 6ms/step - loss: 4.0869e-04 - mae: 0.0174\n",
            "Epoch 1025/1200\n",
            "1/1 [==============================] - 0s 6ms/step - loss: 4.0593e-04 - mae: 0.0173\n",
            "Epoch 1026/1200\n",
            "1/1 [==============================] - 0s 6ms/step - loss: 4.0321e-04 - mae: 0.0172\n",
            "Epoch 1027/1200\n",
            "1/1 [==============================] - 0s 7ms/step - loss: 4.0048e-04 - mae: 0.0172\n",
            "Epoch 1028/1200\n",
            "1/1 [==============================] - 0s 7ms/step - loss: 3.9778e-04 - mae: 0.0171\n",
            "Epoch 1029/1200\n",
            "1/1 [==============================] - 0s 7ms/step - loss: 3.9509e-04 - mae: 0.0171\n",
            "Epoch 1030/1200\n",
            "1/1 [==============================] - 0s 7ms/step - loss: 3.9243e-04 - mae: 0.0170\n",
            "Epoch 1031/1200\n",
            "1/1 [==============================] - 0s 5ms/step - loss: 3.8978e-04 - mae: 0.0169\n",
            "Epoch 1032/1200\n",
            "1/1 [==============================] - 0s 6ms/step - loss: 3.8714e-04 - mae: 0.0169\n",
            "Epoch 1033/1200\n",
            "1/1 [==============================] - 0s 6ms/step - loss: 3.8453e-04 - mae: 0.0168\n",
            "Epoch 1034/1200\n",
            "1/1 [==============================] - 0s 6ms/step - loss: 3.8193e-04 - mae: 0.0168\n",
            "Epoch 1035/1200\n",
            "1/1 [==============================] - 0s 6ms/step - loss: 3.7935e-04 - mae: 0.0167\n",
            "Epoch 1036/1200\n",
            "1/1 [==============================] - 0s 7ms/step - loss: 3.7679e-04 - mae: 0.0167\n",
            "Epoch 1037/1200\n",
            "1/1 [==============================] - 0s 6ms/step - loss: 3.7426e-04 - mae: 0.0166\n",
            "Epoch 1038/1200\n",
            "1/1 [==============================] - 0s 6ms/step - loss: 3.7172e-04 - mae: 0.0165\n",
            "Epoch 1039/1200\n",
            "1/1 [==============================] - 0s 6ms/step - loss: 3.6921e-04 - mae: 0.0165\n",
            "Epoch 1040/1200\n",
            "1/1 [==============================] - 0s 6ms/step - loss: 3.6673e-04 - mae: 0.0164\n",
            "Epoch 1041/1200\n",
            "1/1 [==============================] - 0s 6ms/step - loss: 3.6425e-04 - mae: 0.0164\n",
            "Epoch 1042/1200\n",
            "1/1 [==============================] - 0s 6ms/step - loss: 3.6180e-04 - mae: 0.0163\n",
            "Epoch 1043/1200\n",
            "1/1 [==============================] - 0s 6ms/step - loss: 3.5935e-04 - mae: 0.0163\n",
            "Epoch 1044/1200\n",
            "1/1 [==============================] - 0s 6ms/step - loss: 3.5691e-04 - mae: 0.0162\n",
            "Epoch 1045/1200\n",
            "1/1 [==============================] - 0s 6ms/step - loss: 3.5451e-04 - mae: 0.0162\n",
            "Epoch 1046/1200\n",
            "1/1 [==============================] - 0s 6ms/step - loss: 3.5212e-04 - mae: 0.0161\n",
            "Epoch 1047/1200\n",
            "1/1 [==============================] - 0s 6ms/step - loss: 3.4974e-04 - mae: 0.0161\n",
            "Epoch 1048/1200\n",
            "1/1 [==============================] - 0s 6ms/step - loss: 3.4738e-04 - mae: 0.0160\n",
            "Epoch 1049/1200\n",
            "1/1 [==============================] - 0s 6ms/step - loss: 3.4503e-04 - mae: 0.0159\n",
            "Epoch 1050/1200\n",
            "1/1 [==============================] - 0s 6ms/step - loss: 3.4270e-04 - mae: 0.0159\n",
            "Epoch 1051/1200\n",
            "1/1 [==============================] - 0s 6ms/step - loss: 3.4039e-04 - mae: 0.0158\n",
            "Epoch 1052/1200\n",
            "1/1 [==============================] - 0s 6ms/step - loss: 3.3810e-04 - mae: 0.0158\n",
            "Epoch 1053/1200\n",
            "1/1 [==============================] - 0s 6ms/step - loss: 3.3581e-04 - mae: 0.0157\n",
            "Epoch 1054/1200\n",
            "1/1 [==============================] - 0s 6ms/step - loss: 3.3355e-04 - mae: 0.0157\n",
            "Epoch 1055/1200\n",
            "1/1 [==============================] - 0s 6ms/step - loss: 3.3130e-04 - mae: 0.0156\n",
            "Epoch 1056/1200\n",
            "1/1 [==============================] - 0s 7ms/step - loss: 3.2905e-04 - mae: 0.0156\n",
            "Epoch 1057/1200\n",
            "1/1 [==============================] - 0s 6ms/step - loss: 3.2683e-04 - mae: 0.0155\n",
            "Epoch 1058/1200\n",
            "1/1 [==============================] - 0s 7ms/step - loss: 3.2463e-04 - mae: 0.0155\n",
            "Epoch 1059/1200\n",
            "1/1 [==============================] - 0s 6ms/step - loss: 3.2244e-04 - mae: 0.0154\n",
            "Epoch 1060/1200\n",
            "1/1 [==============================] - 0s 7ms/step - loss: 3.2025e-04 - mae: 0.0154\n",
            "Epoch 1061/1200\n",
            "1/1 [==============================] - 0s 6ms/step - loss: 3.1810e-04 - mae: 0.0153\n",
            "Epoch 1062/1200\n",
            "1/1 [==============================] - 0s 7ms/step - loss: 3.1595e-04 - mae: 0.0153\n",
            "Epoch 1063/1200\n",
            "1/1 [==============================] - 0s 6ms/step - loss: 3.1382e-04 - mae: 0.0152\n",
            "Epoch 1064/1200\n",
            "1/1 [==============================] - 0s 6ms/step - loss: 3.1169e-04 - mae: 0.0152\n",
            "Epoch 1065/1200\n",
            "1/1 [==============================] - 0s 7ms/step - loss: 3.0959e-04 - mae: 0.0151\n",
            "Epoch 1066/1200\n",
            "1/1 [==============================] - 0s 7ms/step - loss: 3.0751e-04 - mae: 0.0151\n",
            "Epoch 1067/1200\n",
            "1/1 [==============================] - 0s 6ms/step - loss: 3.0543e-04 - mae: 0.0150\n",
            "Epoch 1068/1200\n",
            "1/1 [==============================] - 0s 5ms/step - loss: 3.0336e-04 - mae: 0.0149\n",
            "Epoch 1069/1200\n",
            "1/1 [==============================] - 0s 7ms/step - loss: 3.0131e-04 - mae: 0.0149\n",
            "Epoch 1070/1200\n",
            "1/1 [==============================] - 0s 6ms/step - loss: 2.9928e-04 - mae: 0.0148\n",
            "Epoch 1071/1200\n",
            "1/1 [==============================] - 0s 6ms/step - loss: 2.9727e-04 - mae: 0.0148\n",
            "Epoch 1072/1200\n",
            "1/1 [==============================] - 0s 6ms/step - loss: 2.9525e-04 - mae: 0.0147\n",
            "Epoch 1073/1200\n",
            "1/1 [==============================] - 0s 9ms/step - loss: 2.9326e-04 - mae: 0.0147\n",
            "Epoch 1074/1200\n",
            "1/1 [==============================] - 0s 6ms/step - loss: 2.9128e-04 - mae: 0.0146\n",
            "Epoch 1075/1200\n",
            "1/1 [==============================] - 0s 7ms/step - loss: 2.8932e-04 - mae: 0.0146\n",
            "Epoch 1076/1200\n",
            "1/1 [==============================] - 0s 7ms/step - loss: 2.8737e-04 - mae: 0.0146\n",
            "Epoch 1077/1200\n",
            "1/1 [==============================] - 0s 7ms/step - loss: 2.8543e-04 - mae: 0.0145\n",
            "Epoch 1078/1200\n",
            "1/1 [==============================] - 0s 7ms/step - loss: 2.8349e-04 - mae: 0.0145\n",
            "Epoch 1079/1200\n",
            "1/1 [==============================] - 0s 7ms/step - loss: 2.8159e-04 - mae: 0.0144\n",
            "Epoch 1080/1200\n",
            "1/1 [==============================] - 0s 7ms/step - loss: 2.7968e-04 - mae: 0.0144\n",
            "Epoch 1081/1200\n",
            "1/1 [==============================] - 0s 6ms/step - loss: 2.7779e-04 - mae: 0.0143\n",
            "Epoch 1082/1200\n",
            "1/1 [==============================] - 0s 7ms/step - loss: 2.7592e-04 - mae: 0.0143\n",
            "Epoch 1083/1200\n",
            "1/1 [==============================] - 0s 7ms/step - loss: 2.7406e-04 - mae: 0.0142\n",
            "Epoch 1084/1200\n",
            "1/1 [==============================] - 0s 6ms/step - loss: 2.7220e-04 - mae: 0.0142\n",
            "Epoch 1085/1200\n",
            "1/1 [==============================] - 0s 6ms/step - loss: 2.7037e-04 - mae: 0.0141\n",
            "Epoch 1086/1200\n",
            "1/1 [==============================] - 0s 7ms/step - loss: 2.6855e-04 - mae: 0.0141\n",
            "Epoch 1087/1200\n",
            "1/1 [==============================] - 0s 7ms/step - loss: 2.6673e-04 - mae: 0.0140\n",
            "Epoch 1088/1200\n",
            "1/1 [==============================] - 0s 6ms/step - loss: 2.6494e-04 - mae: 0.0140\n",
            "Epoch 1089/1200\n",
            "1/1 [==============================] - 0s 7ms/step - loss: 2.6314e-04 - mae: 0.0139\n",
            "Epoch 1090/1200\n",
            "1/1 [==============================] - 0s 6ms/step - loss: 2.6137e-04 - mae: 0.0139\n",
            "Epoch 1091/1200\n",
            "1/1 [==============================] - 0s 6ms/step - loss: 2.5960e-04 - mae: 0.0138\n",
            "Epoch 1092/1200\n",
            "1/1 [==============================] - 0s 6ms/step - loss: 2.5785e-04 - mae: 0.0138\n",
            "Epoch 1093/1200\n",
            "1/1 [==============================] - 0s 6ms/step - loss: 2.5611e-04 - mae: 0.0137\n",
            "Epoch 1094/1200\n",
            "1/1 [==============================] - 0s 6ms/step - loss: 2.5439e-04 - mae: 0.0137\n",
            "Epoch 1095/1200\n",
            "1/1 [==============================] - 0s 7ms/step - loss: 2.5267e-04 - mae: 0.0136\n",
            "Epoch 1096/1200\n",
            "1/1 [==============================] - 0s 7ms/step - loss: 2.5095e-04 - mae: 0.0136\n",
            "Epoch 1097/1200\n",
            "1/1 [==============================] - 0s 6ms/step - loss: 2.4926e-04 - mae: 0.0136\n",
            "Epoch 1098/1200\n",
            "1/1 [==============================] - 0s 6ms/step - loss: 2.4758e-04 - mae: 0.0135\n",
            "Epoch 1099/1200\n",
            "1/1 [==============================] - 0s 6ms/step - loss: 2.4591e-04 - mae: 0.0135\n",
            "Epoch 1100/1200\n",
            "1/1 [==============================] - 0s 6ms/step - loss: 2.4425e-04 - mae: 0.0134\n",
            "Epoch 1101/1200\n",
            "1/1 [==============================] - 0s 6ms/step - loss: 2.4260e-04 - mae: 0.0134\n",
            "Epoch 1102/1200\n",
            "1/1 [==============================] - 0s 7ms/step - loss: 2.4096e-04 - mae: 0.0133\n",
            "Epoch 1103/1200\n",
            "1/1 [==============================] - 0s 7ms/step - loss: 2.3933e-04 - mae: 0.0133\n",
            "Epoch 1104/1200\n",
            "1/1 [==============================] - 0s 6ms/step - loss: 2.3772e-04 - mae: 0.0132\n",
            "Epoch 1105/1200\n",
            "1/1 [==============================] - 0s 8ms/step - loss: 2.3612e-04 - mae: 0.0132\n",
            "Epoch 1106/1200\n",
            "1/1 [==============================] - 0s 6ms/step - loss: 2.3453e-04 - mae: 0.0131\n",
            "Epoch 1107/1200\n",
            "1/1 [==============================] - 0s 7ms/step - loss: 2.3294e-04 - mae: 0.0131\n",
            "Epoch 1108/1200\n",
            "1/1 [==============================] - 0s 7ms/step - loss: 2.3137e-04 - mae: 0.0131\n",
            "Epoch 1109/1200\n",
            "1/1 [==============================] - 0s 6ms/step - loss: 2.2981e-04 - mae: 0.0130\n",
            "Epoch 1110/1200\n",
            "1/1 [==============================] - 0s 6ms/step - loss: 2.2825e-04 - mae: 0.0130\n",
            "Epoch 1111/1200\n",
            "1/1 [==============================] - 0s 7ms/step - loss: 2.2671e-04 - mae: 0.0129\n",
            "Epoch 1112/1200\n",
            "1/1 [==============================] - 0s 7ms/step - loss: 2.2518e-04 - mae: 0.0129\n",
            "Epoch 1113/1200\n",
            "1/1 [==============================] - 0s 7ms/step - loss: 2.2366e-04 - mae: 0.0128\n",
            "Epoch 1114/1200\n",
            "1/1 [==============================] - 0s 7ms/step - loss: 2.2215e-04 - mae: 0.0128\n",
            "Epoch 1115/1200\n",
            "1/1 [==============================] - 0s 7ms/step - loss: 2.2065e-04 - mae: 0.0127\n",
            "Epoch 1116/1200\n",
            "1/1 [==============================] - 0s 6ms/step - loss: 2.1916e-04 - mae: 0.0127\n",
            "Epoch 1117/1200\n",
            "1/1 [==============================] - 0s 7ms/step - loss: 2.1769e-04 - mae: 0.0127\n",
            "Epoch 1118/1200\n",
            "1/1 [==============================] - 0s 7ms/step - loss: 2.1622e-04 - mae: 0.0126\n",
            "Epoch 1119/1200\n",
            "1/1 [==============================] - 0s 6ms/step - loss: 2.1475e-04 - mae: 0.0126\n",
            "Epoch 1120/1200\n",
            "1/1 [==============================] - 0s 7ms/step - loss: 2.1330e-04 - mae: 0.0125\n",
            "Epoch 1121/1200\n",
            "1/1 [==============================] - 0s 7ms/step - loss: 2.1186e-04 - mae: 0.0125\n",
            "Epoch 1122/1200\n",
            "1/1 [==============================] - 0s 7ms/step - loss: 2.1044e-04 - mae: 0.0125\n",
            "Epoch 1123/1200\n",
            "1/1 [==============================] - 0s 7ms/step - loss: 2.0902e-04 - mae: 0.0124\n",
            "Epoch 1124/1200\n",
            "1/1 [==============================] - 0s 7ms/step - loss: 2.0761e-04 - mae: 0.0124\n",
            "Epoch 1125/1200\n",
            "1/1 [==============================] - 0s 7ms/step - loss: 2.0620e-04 - mae: 0.0123\n",
            "Epoch 1126/1200\n",
            "1/1 [==============================] - 0s 7ms/step - loss: 2.0480e-04 - mae: 0.0123\n",
            "Epoch 1127/1200\n",
            "1/1 [==============================] - 0s 6ms/step - loss: 2.0343e-04 - mae: 0.0122\n",
            "Epoch 1128/1200\n",
            "1/1 [==============================] - 0s 6ms/step - loss: 2.0206e-04 - mae: 0.0122\n",
            "Epoch 1129/1200\n",
            "1/1 [==============================] - 0s 6ms/step - loss: 2.0069e-04 - mae: 0.0122\n",
            "Epoch 1130/1200\n",
            "1/1 [==============================] - 0s 6ms/step - loss: 1.9934e-04 - mae: 0.0121\n",
            "Epoch 1131/1200\n",
            "1/1 [==============================] - 0s 7ms/step - loss: 1.9799e-04 - mae: 0.0121\n",
            "Epoch 1132/1200\n",
            "1/1 [==============================] - 0s 7ms/step - loss: 1.9665e-04 - mae: 0.0120\n",
            "Epoch 1133/1200\n",
            "1/1 [==============================] - 0s 8ms/step - loss: 1.9533e-04 - mae: 0.0120\n",
            "Epoch 1134/1200\n",
            "1/1 [==============================] - 0s 7ms/step - loss: 1.9400e-04 - mae: 0.0120\n",
            "Epoch 1135/1200\n",
            "1/1 [==============================] - 0s 7ms/step - loss: 1.9270e-04 - mae: 0.0119\n",
            "Epoch 1136/1200\n",
            "1/1 [==============================] - 0s 6ms/step - loss: 1.9140e-04 - mae: 0.0119\n",
            "Epoch 1137/1200\n",
            "1/1 [==============================] - 0s 6ms/step - loss: 1.9010e-04 - mae: 0.0118\n",
            "Epoch 1138/1200\n",
            "1/1 [==============================] - 0s 6ms/step - loss: 1.8882e-04 - mae: 0.0118\n",
            "Epoch 1139/1200\n",
            "1/1 [==============================] - 0s 7ms/step - loss: 1.8755e-04 - mae: 0.0118\n",
            "Epoch 1140/1200\n",
            "1/1 [==============================] - 0s 7ms/step - loss: 1.8628e-04 - mae: 0.0117\n",
            "Epoch 1141/1200\n",
            "1/1 [==============================] - 0s 7ms/step - loss: 1.8503e-04 - mae: 0.0117\n",
            "Epoch 1142/1200\n",
            "1/1 [==============================] - 0s 7ms/step - loss: 1.8377e-04 - mae: 0.0116\n",
            "Epoch 1143/1200\n",
            "1/1 [==============================] - 0s 12ms/step - loss: 1.8253e-04 - mae: 0.0116\n",
            "Epoch 1144/1200\n",
            "1/1 [==============================] - 0s 8ms/step - loss: 1.8130e-04 - mae: 0.0116\n",
            "Epoch 1145/1200\n",
            "1/1 [==============================] - 0s 7ms/step - loss: 1.8007e-04 - mae: 0.0115\n",
            "Epoch 1146/1200\n",
            "1/1 [==============================] - 0s 6ms/step - loss: 1.7886e-04 - mae: 0.0115\n",
            "Epoch 1147/1200\n",
            "1/1 [==============================] - 0s 6ms/step - loss: 1.7766e-04 - mae: 0.0114\n",
            "Epoch 1148/1200\n",
            "1/1 [==============================] - 0s 9ms/step - loss: 1.7645e-04 - mae: 0.0114\n",
            "Epoch 1149/1200\n",
            "1/1 [==============================] - 0s 7ms/step - loss: 1.7526e-04 - mae: 0.0114\n",
            "Epoch 1150/1200\n",
            "1/1 [==============================] - 0s 7ms/step - loss: 1.7408e-04 - mae: 0.0113\n",
            "Epoch 1151/1200\n",
            "1/1 [==============================] - 0s 7ms/step - loss: 1.7291e-04 - mae: 0.0113\n",
            "Epoch 1152/1200\n",
            "1/1 [==============================] - 0s 7ms/step - loss: 1.7174e-04 - mae: 0.0112\n",
            "Epoch 1153/1200\n",
            "1/1 [==============================] - 0s 7ms/step - loss: 1.7058e-04 - mae: 0.0112\n",
            "Epoch 1154/1200\n",
            "1/1 [==============================] - 0s 6ms/step - loss: 1.6943e-04 - mae: 0.0112\n",
            "Epoch 1155/1200\n",
            "1/1 [==============================] - 0s 6ms/step - loss: 1.6828e-04 - mae: 0.0111\n",
            "Epoch 1156/1200\n",
            "1/1 [==============================] - 0s 7ms/step - loss: 1.6716e-04 - mae: 0.0111\n",
            "Epoch 1157/1200\n",
            "1/1 [==============================] - 0s 7ms/step - loss: 1.6603e-04 - mae: 0.0111\n",
            "Epoch 1158/1200\n",
            "1/1 [==============================] - 0s 7ms/step - loss: 1.6490e-04 - mae: 0.0110\n",
            "Epoch 1159/1200\n",
            "1/1 [==============================] - 0s 7ms/step - loss: 1.6379e-04 - mae: 0.0110\n",
            "Epoch 1160/1200\n",
            "1/1 [==============================] - 0s 6ms/step - loss: 1.6268e-04 - mae: 0.0109\n",
            "Epoch 1161/1200\n",
            "1/1 [==============================] - 0s 7ms/step - loss: 1.6158e-04 - mae: 0.0109\n",
            "Epoch 1162/1200\n",
            "1/1 [==============================] - 0s 7ms/step - loss: 1.6049e-04 - mae: 0.0109\n",
            "Epoch 1163/1200\n",
            "1/1 [==============================] - 0s 7ms/step - loss: 1.5941e-04 - mae: 0.0108\n",
            "Epoch 1164/1200\n",
            "1/1 [==============================] - 0s 7ms/step - loss: 1.5833e-04 - mae: 0.0108\n",
            "Epoch 1165/1200\n",
            "1/1 [==============================] - 0s 6ms/step - loss: 1.5727e-04 - mae: 0.0108\n",
            "Epoch 1166/1200\n",
            "1/1 [==============================] - 0s 8ms/step - loss: 1.5620e-04 - mae: 0.0107\n",
            "Epoch 1167/1200\n",
            "1/1 [==============================] - 0s 6ms/step - loss: 1.5515e-04 - mae: 0.0107\n",
            "Epoch 1168/1200\n",
            "1/1 [==============================] - 0s 6ms/step - loss: 1.5410e-04 - mae: 0.0107\n",
            "Epoch 1169/1200\n",
            "1/1 [==============================] - 0s 8ms/step - loss: 1.5306e-04 - mae: 0.0106\n",
            "Epoch 1170/1200\n",
            "1/1 [==============================] - 0s 7ms/step - loss: 1.5203e-04 - mae: 0.0106\n",
            "Epoch 1171/1200\n",
            "1/1 [==============================] - 0s 7ms/step - loss: 1.5101e-04 - mae: 0.0105\n",
            "Epoch 1172/1200\n",
            "1/1 [==============================] - 0s 6ms/step - loss: 1.4998e-04 - mae: 0.0105\n",
            "Epoch 1173/1200\n",
            "1/1 [==============================] - 0s 221ms/step - loss: 1.4897e-04 - mae: 0.0105\n",
            "Epoch 1174/1200\n",
            "1/1 [==============================] - 0s 7ms/step - loss: 1.4797e-04 - mae: 0.0104\n",
            "Epoch 1175/1200\n",
            "1/1 [==============================] - 0s 7ms/step - loss: 1.4697e-04 - mae: 0.0104\n",
            "Epoch 1176/1200\n",
            "1/1 [==============================] - 0s 6ms/step - loss: 1.4598e-04 - mae: 0.0104\n",
            "Epoch 1177/1200\n",
            "1/1 [==============================] - 0s 7ms/step - loss: 1.4499e-04 - mae: 0.0103\n",
            "Epoch 1178/1200\n",
            "1/1 [==============================] - 0s 6ms/step - loss: 1.4402e-04 - mae: 0.0103\n",
            "Epoch 1179/1200\n",
            "1/1 [==============================] - 0s 7ms/step - loss: 1.4304e-04 - mae: 0.0103\n",
            "Epoch 1180/1200\n",
            "1/1 [==============================] - 0s 7ms/step - loss: 1.4207e-04 - mae: 0.0102\n",
            "Epoch 1181/1200\n",
            "1/1 [==============================] - 0s 6ms/step - loss: 1.4112e-04 - mae: 0.0102\n",
            "Epoch 1182/1200\n",
            "1/1 [==============================] - 0s 6ms/step - loss: 1.4016e-04 - mae: 0.0102\n",
            "Epoch 1183/1200\n",
            "1/1 [==============================] - 0s 7ms/step - loss: 1.3922e-04 - mae: 0.0101\n",
            "Epoch 1184/1200\n",
            "1/1 [==============================] - 0s 7ms/step - loss: 1.3827e-04 - mae: 0.0101\n",
            "Epoch 1185/1200\n",
            "1/1 [==============================] - 0s 7ms/step - loss: 1.3734e-04 - mae: 0.0101\n",
            "Epoch 1186/1200\n",
            "1/1 [==============================] - 0s 11ms/step - loss: 1.3641e-04 - mae: 0.0100\n",
            "Epoch 1187/1200\n",
            "1/1 [==============================] - 0s 7ms/step - loss: 1.3549e-04 - mae: 0.0100\n",
            "Epoch 1188/1200\n",
            "1/1 [==============================] - 0s 7ms/step - loss: 1.3458e-04 - mae: 0.0100\n",
            "Epoch 1189/1200\n",
            "1/1 [==============================] - 0s 7ms/step - loss: 1.3367e-04 - mae: 0.0099\n",
            "Epoch 1190/1200\n",
            "1/1 [==============================] - 0s 6ms/step - loss: 1.3277e-04 - mae: 0.0099\n",
            "Epoch 1191/1200\n",
            "1/1 [==============================] - 0s 6ms/step - loss: 1.3187e-04 - mae: 0.0099\n",
            "Epoch 1192/1200\n",
            "1/1 [==============================] - 0s 7ms/step - loss: 1.3098e-04 - mae: 0.0098\n",
            "Epoch 1193/1200\n",
            "1/1 [==============================] - 0s 6ms/step - loss: 1.3010e-04 - mae: 0.0098\n",
            "Epoch 1194/1200\n",
            "1/1 [==============================] - 0s 7ms/step - loss: 1.2922e-04 - mae: 0.0098\n",
            "Epoch 1195/1200\n",
            "1/1 [==============================] - 0s 7ms/step - loss: 1.2835e-04 - mae: 0.0097\n",
            "Epoch 1196/1200\n",
            "1/1 [==============================] - 0s 7ms/step - loss: 1.2748e-04 - mae: 0.0097\n",
            "Epoch 1197/1200\n",
            "1/1 [==============================] - 0s 7ms/step - loss: 1.2662e-04 - mae: 0.0097\n",
            "Epoch 1198/1200\n",
            "1/1 [==============================] - 0s 7ms/step - loss: 1.2577e-04 - mae: 0.0096\n",
            "Epoch 1199/1200\n",
            "1/1 [==============================] - 0s 7ms/step - loss: 1.2492e-04 - mae: 0.0096\n",
            "Epoch 1200/1200\n",
            "1/1 [==============================] - 0s 6ms/step - loss: 1.2408e-04 - mae: 0.0096\n"
          ]
        }
      ]
    },
    {
      "cell_type": "code",
      "source": [
        "import matplotlib.pyplot as plt\n",
        "# 20 epoch까지 loss 수렴에 대한 시각화\n",
        "plt.plot(history.history['loss'], label='loss')\n",
        "plt.plot(history.history['mae'], label='mae')\n",
        "plt.xlim(-1, 20)\n",
        "plt.title('Loss')\n",
        "plt.legend()\n",
        "plt.show()"
      ],
      "metadata": {
        "colab": {
          "base_uri": "https://localhost:8080/",
          "height": 281
        },
        "id": "I0rFOgySjmHm",
        "outputId": "74d9318c-9e35-4531-a0c3-840bd7bcc797"
      },
      "execution_count": 36,
      "outputs": [
        {
          "output_type": "display_data",
          "data": {
            "text/plain": [
              "<Figure size 432x288 with 1 Axes>"
            ],
            "image/png": "[encoded data removed]"
          },
          "metadata": {
            "needs_background": "light"
          }
        }
      ]
    },
    {
      "cell_type": "markdown",
      "source": [
        "- 모딜 훈련 초기 단계에는 학습이 매우 빠른 속도로 진행되다가 일정 epoch 이후에는 학습 속도가 느려지는 패턴을 보이고 있음\n",
        "\n",
        "9. 검증\n",
        "- 모델 인스턴스의 evalute() 메소드로 모델의 성능 검증 가능\n",
        "- 일반적으로 검증 데이터셋 입력"
      ],
      "metadata": {
        "id": "NFhEy24QkBnC"
      }
    },
    {
      "cell_type": "code",
      "source": [
        "# 검증\n",
        "model.evaluate(x, y) # 별도의 데이터셋 만들어두지 않았으므로 훈련데이터셋의 x, y 대입"
      ],
      "metadata": {
        "colab": {
          "base_uri": "https://localhost:8080/"
        },
        "id": "FrXJSiivj7a4",
        "outputId": "0d96eeae-0abc-40f7-e9a1-bbc899c33da5"
      },
      "execution_count": 37,
      "outputs": [
        {
          "output_type": "stream",
          "name": "stdout",
          "text": [
            "1/1 [==============================] - 0s 146ms/step - loss: 1.2324e-04 - mae: 0.0095\n"
          ]
        },
        {
          "output_type": "execute_result",
          "data": {
            "text/plain": [
              "[0.00012323635746724904, 0.00952835101634264]"
            ]
          },
          "metadata": {},
          "execution_count": 37
        }
      ]
    },
    {
      "cell_type": "markdown",
      "source": [
        "- 모델이 훈련을 마친 상태의 가중치를 그대로 적용하여 손실과 평가 지표를 계산\n",
        "\n",
        "10. 예측\n",
        "- 훈련이 완료된 모델 인스턴스의 predict() 메소드에 새로운 입력 데이터를 넣어 모델의 예측값 도출"
      ],
      "metadata": {
        "id": "zfp-02v3kWoF"
      }
    },
    {
      "cell_type": "code",
      "source": [
        "# 예측\n",
        "model.predict([10])"
      ],
      "metadata": {
        "colab": {
          "base_uri": "https://localhost:8080/"
        },
        "id": "GVWE6RwMkUeL",
        "outputId": "4ed17a07-ced6-43ff-b839-92eb9f1bf615"
      },
      "execution_count": 38,
      "outputs": [
        {
          "output_type": "stream",
          "name": "stdout",
          "text": [
            "1/1 [==============================] - 0s 164ms/step\n"
          ]
        },
        {
          "output_type": "execute_result",
          "data": {
            "text/plain": [
              "array([[32.04605]], dtype=float32)"
            ]
          },
          "metadata": {},
          "execution_count": 38
        }
      ]
    },
    {
      "cell_type": "markdown",
      "source": [
        "## 03. 심층 신경망으로 이미지 분류\n",
        "### 3-1. 케라스 내당 데이터셋 로드"
      ],
      "metadata": {
        "id": "tr3o5Yelkjkg"
      }
    },
    {
      "cell_type": "code",
      "source": [
        "import tensorflow as tf\n",
        "\n",
        "# 케라스의 내장 데이터셋에서 mnist 데이터셋 로드\n",
        "mnist = tf.keras.datasets.mnist\n",
        "\n",
        "# load_data()로 데이터셋 로드\n",
        "# 훈련 셋과 검증 셋을 반환\n",
        "(x_train, y_train), (x_test, y_test) = mnist.load_data()"
      ],
      "metadata": {
        "id": "TMxgGY7EkjZf"
      },
      "execution_count": 39,
      "outputs": []
    },
    {
      "cell_type": "code",
      "source": [
        "# 로드된 데이터셋 확인\n",
        "print('train set:', x_train.shape, y_train.shape)\n",
        "print('test set:', x_test.shape, y_test.shape)"
      ],
      "metadata": {
        "colab": {
          "base_uri": "https://localhost:8080/"
        },
        "id": "Ku5bqc3-khJg",
        "outputId": "67bc177a-1872-4b21-83df-ee6f081eec05"
      },
      "execution_count": 40,
      "outputs": [
        {
          "output_type": "stream",
          "name": "stdout",
          "text": [
            "train set: (60000, 28, 28) (60000,)\n",
            "test set: (10000, 28, 28) (10000,)\n"
          ]
        }
      ]
    },
    {
      "cell_type": "code",
      "source": [
        "# 데이터 시각화\n",
        "import matplotlib.pyplot as plt\n",
        "\n",
        "# canvas 생성\n",
        "fig, axes = plt.subplots(3, 5)\n",
        "fig.set_size_inches(8, 5)\n",
        "\n",
        "for i in range(15):\n",
        "  ax = axes[i//5, i%5]\n",
        "  # imshow로 이미지 시각화\n",
        "  ax.imshow(x_train[i], cmap='gray')\n",
        "  ax.axis('off')\n",
        "  ax.set_title(str(y_train[i]))\n",
        "\n",
        "plt.tight_layout()\n",
        "plt.show()"
      ],
      "metadata": {
        "colab": {
          "base_uri": "https://localhost:8080/",
          "height": 371
        },
        "id": "t1ArFEvVlFgS",
        "outputId": "65999c13-bb97-4e77-cfe4-442dfe62a03d"
      },
      "execution_count": 41,
      "outputs": [
        {
          "output_type": "display_data",
          "data": {
            "text/plain": [
              "<Figure size 576x360 with 15 Axes>"
            ],
            "image/png": "[encoded data removed]"
          },
          "metadata": {
            "needs_background": "light"
          }
        }
      ]
    },
    {
      "cell_type": "markdown",
      "source": [
        "### 3-2. 데이터 전처리"
      ],
      "metadata": {
        "id": "G-UPWP4alpHe"
      }
    },
    {
      "cell_type": "code",
      "source": [
        "# x_train 배열의 데이터 확인\n",
        "x_train[0, 10:15, 10:15]"
      ],
      "metadata": {
        "colab": {
          "base_uri": "https://localhost:8080/"
        },
        "id": "7JVaVTmIlZ85",
        "outputId": "18e48a04-cfd4-46ad-9f27-9f1c31bef5ef"
      },
      "execution_count": 42,
      "outputs": [
        {
          "output_type": "execute_result",
          "data": {
            "text/plain": [
              "array([[  1, 154, 253,  90,   0],\n",
              "       [  0, 139, 253, 190,   2],\n",
              "       [  0,  11, 190, 253,  70],\n",
              "       [  0,   0,  35, 241, 225],\n",
              "       [  0,   0,   0,  81, 240]], dtype=uint8)"
            ]
          },
          "metadata": {},
          "execution_count": 42
        }
      ]
    },
    {
      "cell_type": "code",
      "source": [
        "# 픽셀 값의 최소/최대값 확인\n",
        "print(f'정규화 전] 최소값: {x_train.min()}, 최대값: {x_train.max()}')\n",
        "\n",
        "# 데이터 정규화\n",
        "x_train = x_train/x_train.max()\n",
        "\n",
        "# 정규화 후 최소/최대값 확인\n",
        "print(f'정규화 후] 최소값: {x_train.min()}, 최대값: {x_train.max()}')"
      ],
      "metadata": {
        "colab": {
          "base_uri": "https://localhost:8080/"
        },
        "id": "hhSrH8TkltYr",
        "outputId": "dff3873e-1d4f-498a-e768-9fb16ad41226"
      },
      "execution_count": 43,
      "outputs": [
        {
          "output_type": "stream",
          "name": "stdout",
          "text": [
            "정규화 전] 최소값: 0, 최대값: 255\n",
            "정규화 후] 최소값: 0.0, 최대값: 1.0\n"
          ]
        }
      ]
    },
    {
      "cell_type": "code",
      "source": [
        "# test 셋에도 정규화 동일 적용\n",
        "x_test = x_test/x_test.max()\n",
        "\n",
        "# 변환후 x_train 배열의 데이터 확인\n",
        "x_train[0, 10:15, 10:15]"
      ],
      "metadata": {
        "colab": {
          "base_uri": "https://localhost:8080/"
        },
        "id": "ekd5INonnsvH",
        "outputId": "c1dbc666-c8ef-41f8-867e-ba9170c870f9"
      },
      "execution_count": 44,
      "outputs": [
        {
          "output_type": "execute_result",
          "data": {
            "text/plain": [
              "array([[0.00392157, 0.60392157, 0.99215686, 0.35294118, 0.        ],\n",
              "       [0.        , 0.54509804, 0.99215686, 0.74509804, 0.00784314],\n",
              "       [0.        , 0.04313725, 0.74509804, 0.99215686, 0.2745098 ],\n",
              "       [0.        , 0.        , 0.1372549 , 0.94509804, 0.88235294],\n",
              "       [0.        , 0.        , 0.        , 0.31764706, 0.94117647]])"
            ]
          },
          "metadata": {},
          "execution_count": 44
        }
      ]
    },
    {
      "cell_type": "markdown",
      "source": [
        "- 정규화하는 이유는 입력 데이터가 정규화되어 모델이 학습하는 경우 경사하강법 알고리즘에 의한 수렴 속도가 비정규화된 입력 데이터를 가질 때보다 더 빨리 수렴하기 때문\n",
        "- 또한 국소 최적(local minimum)에 빠지는 현상을 방지해주는 효과도 있음\n",
        "\n",
        "### 3-3. Flatten 레이어\n",
        "- 정규화를 하더라도 개별 데이터 값의 범위는 축소되지만 원본 배열의 형태는 그대로 유지됨 \n",
        " - (60000, 28, 28), 60000은 데이터셋의 크기, 28, 28은 이미지의 크기 (2차원 입력\n",
        "- Dense layer에는 입력값으로 반드시 1차원 배열이 들어가야 하기에 이미지 데이터를 1차원으로 전처리하여 주입"
      ],
      "metadata": {
        "id": "7-Bq3rGSoH1w"
      }
    },
    {
      "cell_type": "code",
      "source": [
        "print(f'변경 전 shape: {x_train.shape}')\n",
        "print(f'1D으로 shape 변경 후: {x_train.reshape(60000, -1).shape}')"
      ],
      "metadata": {
        "colab": {
          "base_uri": "https://localhost:8080/"
        },
        "id": "YVy60u7fn-zg",
        "outputId": "14fc8511-20c4-4a58-9cb1-3f17b1c48990"
      },
      "execution_count": 45,
      "outputs": [
        {
          "output_type": "stream",
          "name": "stdout",
          "text": [
            "변경 전 shape: (60000, 28, 28)\n",
            "1D으로 shape 변경 후: (60000, 784)\n"
          ]
        }
      ]
    },
    {
      "cell_type": "code",
      "source": [
        "print(f'변경 전 shape: {x_train.shape}')\n",
        "\n",
        "# Flatten 레이어 적용 후 shape 확인\n",
        "print(f'Flatten 적용 후: {tf.keras.layers.Flatten()(x_train).shape}')"
      ],
      "metadata": {
        "colab": {
          "base_uri": "https://localhost:8080/"
        },
        "id": "ols1aGgRpW5Q",
        "outputId": "3f364d18-bb51-4eea-8869-c43b887e83ab"
      },
      "execution_count": 46,
      "outputs": [
        {
          "output_type": "stream",
          "name": "stdout",
          "text": [
            "변경 전 shape: (60000, 28, 28)\n",
            "Flatten 적용 후: (60000, 784)\n"
          ]
        }
      ]
    },
    {
      "cell_type": "markdown",
      "source": [
        "### 3-4. 활성화 함수\n",
        "- 입력을 비선형 출력으로 변환해주는 함수\n",
        "- 일반적으로 선형 관계를 나타내는 함수에 비선형성을 추가하는 방법으로 표현\n",
        "- 시그모이드(Sigmoid), 하이퍼볼릭 탄젠트(Hyperbolic Tangent, tanh), ReLU, Leaky ReLU 등"
      ],
      "metadata": {
        "id": "X-glabCKppjs"
      }
    },
    {
      "cell_type": "code",
      "source": [
        "# Dense 레이어에 relu 활성화 함수를 적용한 경우\n",
        "tf.keras.layers.Dense(128, activation='relu')\n",
        "\n",
        "# Dense 레이어와 relu 활성화 함수 레이어를 별도 적용한 경우\n",
        "model = tf.keras.Sequential([\n",
        "    tf.keras.layers.Dense(128),\n",
        "    tf.keras.layers.Activation('relu')\n",
        "])"
      ],
      "metadata": {
        "id": "EuOyMJRAplsa"
      },
      "execution_count": 47,
      "outputs": []
    },
    {
      "cell_type": "markdown",
      "source": [
        "### 3-5. 입력과 출력"
      ],
      "metadata": {
        "id": "Crt6uLqVuD4g"
      }
    },
    {
      "cell_type": "markdown",
      "source": [
        "- 첫번째 레이어에 입력데이터의 형태를 input_shape 매개변수로 지정\n",
        "- 마지막 레이이어에 출력층의 형태 지정, 출력층의 노드 개수는 반드시 분류해야할 클래스 개수와 동일해야함"
      ],
      "metadata": {
        "id": "oA_5fkGQuM7Z"
      }
    },
    {
      "cell_type": "code",
      "source": [
        "model = tf.keras.Sequential([\n",
        "    tf.keras.layers.Flatten(input_shape=(28,28)),\n",
        "    tf.keras.layers.Dense(256, activation='relu'),\n",
        "    tf.keras.layers.Dense(64, activation='relu'),\n",
        "    tf.keras.layers.Dense(32, activation='relu'),\n",
        "    # 노드 = 10개(클래스 개수와 동일)\n",
        "    tf.keras.layers.Dense(10, activation='softmax'),\n",
        "])\n",
        "\n",
        "# 노드 개수를 조금씩 줄여가면서 최종 출력 클래스 개수인 10개까지 정보를 축약하기 위한 설계\n",
        "# 레이어의 개수(모델의 깊이)와 각 레이어를 구성하는 노드의 개수(모델의 너비)의 정답은 없으며 최적값을 찾기 위해서는 여러가지 시도를 해보아야 함"
      ],
      "metadata": {
        "id": "ASdjirM_tejv"
      },
      "execution_count": 48,
      "outputs": []
    },
    {
      "cell_type": "markdown",
      "source": [
        "- 출력층 노드 개수가 2개 이상인 경우 (다중분류) `softmax` 활성화 함수 적용\n",
        "- 이진분류 모델인 경우 `sigmoid` 활성화 함수 적용"
      ],
      "metadata": {
        "id": "qvhJsM68GiBu"
      }
    },
    {
      "cell_type": "code",
      "source": [
        "# 출력층 노드 = 1인 경우. sigmoid\n",
        "tf.keras.layers.Dense(1, activation='sigmoid')\n",
        "\n",
        "# 출력층 노드 = 2개 이상인 경우. softmax\n",
        "tf.keras.layers.Dense(10, activation='softmax')"
      ],
      "metadata": {
        "id": "RlerOuGBuv0F",
        "colab": {
          "base_uri": "https://localhost:8080/"
        },
        "outputId": "78298ee0-e392-4823-d144-0d885da0bf88"
      },
      "execution_count": 49,
      "outputs": [
        {
          "output_type": "execute_result",
          "data": {
            "text/plain": [
              "<keras.layers.core.dense.Dense at 0x7f87873c08d0>"
            ]
          },
          "metadata": {},
          "execution_count": 49
        }
      ]
    },
    {
      "cell_type": "markdown",
      "source": [
        "### 3-6. 손실함수\n",
        "- 모델의 출력층에 따라 올바른 손실함수를 설정해야만 모델이 정상적으로 훈련됨\n",
        " - 레이블이 원핫인코딩 O : categorical_crossentropy\n",
        " - 레이블이 원핫인코딩 X : sparse_categorical_crossentropy 혹은 categorical_crossentropy"
      ],
      "metadata": {
        "id": "XtKDbu2DG3Jy"
      }
    },
    {
      "cell_type": "code",
      "source": [
        "# 이진분류(출력노드개수 = 1, sigmoid인 경우)\n",
        "model.compile(loss='binary_crossentropy')"
      ],
      "metadata": {
        "id": "UXscDUMig5Yc"
      },
      "execution_count": 50,
      "outputs": []
    },
    {
      "cell_type": "code",
      "source": [
        "# y가 원핫 벡터인 경우\n",
        "model.compile(loss='categorical_crossentropy')\n",
        "# y가 원핫 벡터가 아닌 경우\n",
        "model.compile(loss='sparse_categorical_crossentropy')"
      ],
      "metadata": {
        "id": "L1mwFe4tg53J"
      },
      "execution_count": 51,
      "outputs": []
    },
    {
      "cell_type": "markdown",
      "source": [
        "### 3-7. 옵티마이저\n",
        "- 손실을 낮추기 위해 신경망의 가중치와 학습률과 같은 신경망의 속성을 변경하는 데 사용되는 최적화 방법\n",
        "- 일반적으로 사용되는 알고리즘은 Adam"
      ],
      "metadata": {
        "id": "UMw-emOphEgn"
      }
    },
    {
      "cell_type": "code",
      "source": [
        "# 클래스 인스터스로 지정\n",
        "adam = tf.keras.optimizers.Adam(lr=0.001)\n",
        "model.compile(optimizer=adam)\n",
        "\n",
        "# 문자열로 지정\n",
        "model.compile(optimizer='adam')"
      ],
      "metadata": {
        "colab": {
          "base_uri": "https://localhost:8080/"
        },
        "id": "Nt3i6__ehX6A",
        "outputId": "acb1d552-cabe-4b16-ee9a-0b699e47abb9"
      },
      "execution_count": 52,
      "outputs": [
        {
          "output_type": "stream",
          "name": "stderr",
          "text": [
            "/usr/local/lib/python3.7/dist-packages/keras/optimizers/optimizer_v2/adam.py:110: UserWarning: The `lr` argument is deprecated, use `learning_rate` instead.\n",
            "  super(Adam, self).__init__(name, **kwargs)\n"
          ]
        }
      ]
    },
    {
      "cell_type": "markdown",
      "source": [
        "### 3-8. 평가지표\n",
        "- 'acc', 'auc', 'precision', 'recall' 등의 지표 사용\n",
        "- 모델 컴파일 단계에서 metrics 매개변수에 파이썬 리스트 형태로 여러 지표를 동시에 참고 가능"
      ],
      "metadata": {
        "id": "lqyn0ENonKU2"
      }
    },
    {
      "cell_type": "code",
      "source": [
        "# 클래스 인스턴스로 지정\n",
        "acc = tf.keras.metrics.SparseCategoricalAccuracy()\n",
        "\n",
        "model.compile(optimizer='adam',\n",
        "              loss='sparse_categorical_crossentropy',\n",
        "              metrics=[acc])\n",
        "\n",
        "# 문자열로 지정\n",
        "model.compile(optimizer='adam',\n",
        "              loss='sparse_categorical_crossentropy',\n",
        "              metrics=['accuracy'])"
      ],
      "metadata": {
        "id": "208cFFYBnUfx"
      },
      "execution_count": 53,
      "outputs": []
    },
    {
      "cell_type": "markdown",
      "source": [
        "### 3-9. 훈련\n",
        "- 검증 셋 추가 지정시 매 epoch마다 훈련 손실과 검증 손실, 각 셋에 대한 평가지표 나란히 출력"
      ],
      "metadata": {
        "id": "QId6S17AnicW"
      }
    },
    {
      "cell_type": "code",
      "source": [
        "# 훈련\n",
        "model.fit(x_train, y_train,\n",
        "          # 검증 셋 지정\n",
        "          validation_data=(x_test, y_test),\n",
        "          epochs=10,\n",
        "          )"
      ],
      "metadata": {
        "colab": {
          "base_uri": "https://localhost:8080/"
        },
        "id": "LBPd0ajsnhqn",
        "outputId": "4fef1107-43d5-4786-f790-a3df393c085a"
      },
      "execution_count": 54,
      "outputs": [
        {
          "output_type": "stream",
          "name": "stdout",
          "text": [
            "Epoch 1/10\n",
            "1875/1875 [==============================] - 14s 7ms/step - loss: 0.2304 - accuracy: 0.9326 - val_loss: 0.1097 - val_accuracy: 0.9657\n",
            "Epoch 2/10\n",
            "1875/1875 [==============================] - 13s 7ms/step - loss: 0.0953 - accuracy: 0.9711 - val_loss: 0.0918 - val_accuracy: 0.9695\n",
            "Epoch 3/10\n",
            "1875/1875 [==============================] - 8s 4ms/step - loss: 0.0660 - accuracy: 0.9793 - val_loss: 0.0846 - val_accuracy: 0.9749\n",
            "Epoch 4/10\n",
            "1875/1875 [==============================] - 8s 4ms/step - loss: 0.0503 - accuracy: 0.9839 - val_loss: 0.0936 - val_accuracy: 0.9720\n",
            "Epoch 5/10\n",
            "1875/1875 [==============================] - 8s 4ms/step - loss: 0.0412 - accuracy: 0.9869 - val_loss: 0.0810 - val_accuracy: 0.9762\n",
            "Epoch 6/10\n",
            "1875/1875 [==============================] - 9s 5ms/step - loss: 0.0337 - accuracy: 0.9890 - val_loss: 0.0877 - val_accuracy: 0.9771\n",
            "Epoch 7/10\n",
            "1875/1875 [==============================] - 9s 5ms/step - loss: 0.0273 - accuracy: 0.9909 - val_loss: 0.0803 - val_accuracy: 0.9784\n",
            "Epoch 8/10\n",
            "1875/1875 [==============================] - 8s 4ms/step - loss: 0.0234 - accuracy: 0.9925 - val_loss: 0.0803 - val_accuracy: 0.9792\n",
            "Epoch 9/10\n",
            "1875/1875 [==============================] - 8s 4ms/step - loss: 0.0211 - accuracy: 0.9928 - val_loss: 0.0822 - val_accuracy: 0.9805\n",
            "Epoch 10/10\n",
            "1875/1875 [==============================] - 8s 4ms/step - loss: 0.0188 - accuracy: 0.9940 - val_loss: 0.0801 - val_accuracy: 0.9784\n"
          ]
        },
        {
          "output_type": "execute_result",
          "data": {
            "text/plain": [
              "<keras.callbacks.History at 0x7f8788083350>"
            ]
          },
          "metadata": {},
          "execution_count": 54
        }
      ]
    },
    {
      "cell_type": "markdown",
      "source": [
        "### 3-10. 평가"
      ],
      "metadata": {
        "id": "mcPWu5ARrtbC"
      }
    },
    {
      "cell_type": "code",
      "source": [
        "# 검증\n",
        "test_loss, test_acc = model.evaluate(x_test, y_test)\n",
        "print('검증 셋 정확도:', test_acc)"
      ],
      "metadata": {
        "colab": {
          "base_uri": "https://localhost:8080/"
        },
        "id": "m2Bt1o8TrtL8",
        "outputId": "65ffa162-652e-4eaa-8044-11dc79c1ab25"
      },
      "execution_count": 55,
      "outputs": [
        {
          "output_type": "stream",
          "name": "stdout",
          "text": [
            "313/313 [==============================] - 1s 2ms/step - loss: 0.0801 - accuracy: 0.9784\n",
            "검증 셋 정확도: 0.9783999919891357\n"
          ]
        }
      ]
    },
    {
      "cell_type": "markdown",
      "source": [
        "### 3-11. 예측"
      ],
      "metadata": {
        "id": "EqaJNtRSr3SD"
      }
    },
    {
      "cell_type": "code",
      "source": [
        "# 예측\n",
        "predictions = model.predict(x_test)"
      ],
      "metadata": {
        "colab": {
          "base_uri": "https://localhost:8080/"
        },
        "id": "AHU6t1yIrrAv",
        "outputId": "e72f736b-fafc-4335-eb49-52d7bace0a36"
      },
      "execution_count": 56,
      "outputs": [
        {
          "output_type": "stream",
          "name": "stdout",
          "text": [
            "313/313 [==============================] - 1s 2ms/step\n"
          ]
        }
      ]
    },
    {
      "cell_type": "markdown",
      "source": [
        "- 모델이 예측한 결과를 넘파이 배열 형태로 저장\n",
        "- 모델의 마지막 출력층의 노드 개수만큼의 값 저장"
      ],
      "metadata": {
        "id": "faByf1ZO3o1t"
      }
    },
    {
      "cell_type": "code",
      "source": [
        "# 예측 결과 출력\n",
        "predictions[0]"
      ],
      "metadata": {
        "colab": {
          "base_uri": "https://localhost:8080/"
        },
        "id": "TqpbI1Qlr8tc",
        "outputId": "4ed87297-897f-4e6a-cea1-e7e0ff95f50e"
      },
      "execution_count": 57,
      "outputs": [
        {
          "output_type": "execute_result",
          "data": {
            "text/plain": [
              "array([1.5007836e-09, 9.0984699e-08, 3.2870776e-06, 1.8454112e-07,\n",
              "       1.5209949e-07, 8.2389345e-11, 5.3439186e-09, 9.9998611e-01,\n",
              "       1.0891057e-08, 9.9612116e-06], dtype=float32)"
            ]
          },
          "metadata": {},
          "execution_count": 57
        }
      ]
    },
    {
      "cell_type": "markdown",
      "source": [
        "- softmax 활성화함수를 거친 10개의 출력값은 순차적으로 0~9 10개의 개별 클래스에 대한 분류 확률값을 나타냄\n",
        "- 이중 가장 높은 확률값을 가진 클래스가 최종 예측된 클래스"
      ],
      "metadata": {
        "id": "5FF3t2t03wde"
      }
    },
    {
      "cell_type": "code",
      "source": [
        "import numpy as np\n",
        "\n",
        "# 0번 index에 대한 예측 클래스 출력\n",
        "print(np.argmax(predictions[0]))\n",
        "\n",
        "# 첫 10개 index에 대한 예측 클래스 출력\n",
        "print(np.argmax(predictions[:10], axis=1))"
      ],
      "metadata": {
        "colab": {
          "base_uri": "https://localhost:8080/"
        },
        "id": "cGSZr6tRr_2y",
        "outputId": "2b3d6871-6d66-454b-9321-6191c1e885da"
      },
      "execution_count": 58,
      "outputs": [
        {
          "output_type": "stream",
          "name": "stdout",
          "text": [
            "7\n",
            "[7 2 1 0 4 1 4 9 5 9]\n"
          ]
        }
      ]
    },
    {
      "cell_type": "code",
      "source": [
        "# 데이터 시각화\n",
        "import matplotlib.pyplot as plt\n",
        "def get_one_result(idx):\n",
        "  img, y_true, y_pred, confidence = x_test[idx], y_test[idx], np.argmax(predictions[idx]), 100*np.max(predictions[idx])\n",
        "  return img, y_true, y_pred, confidence\n",
        "\n",
        "# canvas 생성\n",
        "fig, axes = plt.subplots(3,5)\n",
        "fig.set_size_inches(12, 10)\n",
        "for i in range(15):\n",
        "  ax = axes[i//5, i%5]\n",
        "  img, y_true, y_pred, confidence = get_one_result(i)\n",
        "  # imgshow로 이미지 시각화\n",
        "  ax.imshow(img, cmap='gray')\n",
        "  ax.set_xticks([])\n",
        "  ax.set_yticks([])\n",
        "  ax.set_title(f'True: {y_true}')\n",
        "  ax.set_xlabel(f'Prediction: {y_pred}\\nConfidence: ({confidence:.2f} %)')\n",
        "plt.tight_layout()\n",
        "plt.show()"
      ],
      "metadata": {
        "colab": {
          "base_uri": "https://localhost:8080/",
          "height": 696
        },
        "id": "hAaYSAYS3nQ1",
        "outputId": "de96b174-0790-45c1-f314-6d99932db101"
      },
      "execution_count": 59,
      "outputs": [
        {
          "output_type": "display_data",
          "data": {
            "text/plain": [
              "<Figure size 864x720 with 15 Axes>"
            ],
            "image/png": "[encoded data removed]"
          },
          "metadata": {}
        }
      ]
    },
    {
      "cell_type": "markdown",
      "source": [
        "## 04. 모델 세부 설정"
      ],
      "metadata": {
        "id": "1DPyjFby5Vcm"
      }
    },
    {
      "cell_type": "code",
      "source": [
        "import tensorflow as tf\n",
        "\n",
        "# 케라스의 내장 데이터셋에서 mnist데이터셋 로드\n",
        "mnist = tf.keras.datasets.mnist\n",
        "\n",
        "# load_data()로 데이터셋 로드\n",
        "(x_train, y_train), (x_test, y_test) = mnist.load_data()\n",
        "\n",
        "# 로드된 데이터셋 확인\n",
        "print('train set:', x_train.shape, y_train.shape)\n",
        "print('test set:', x_test.shape, y_test.shape)\n",
        "\n",
        "# 데이터 정규화\n",
        "x_train = x_train/x_train.max()\n",
        "x_test = x_test/x_test.max()"
      ],
      "metadata": {
        "colab": {
          "base_uri": "https://localhost:8080/"
        },
        "id": "x5hys4685KjU",
        "outputId": "ca9a8455-6a1e-4d6b-af7e-2aa272b82f8f"
      },
      "execution_count": 60,
      "outputs": [
        {
          "output_type": "stream",
          "name": "stdout",
          "text": [
            "train set: (60000, 28, 28) (60000,)\n",
            "test set: (10000, 28, 28) (10000,)\n"
          ]
        }
      ]
    },
    {
      "cell_type": "markdown",
      "source": [
        "### 4-1. 초기값 설정"
      ],
      "metadata": {
        "id": "ItyUwODy55Hu"
      }
    },
    {
      "cell_type": "code",
      "source": [
        "dense = tf.keras.layers.Dense(256, activation='relu')\n",
        "dense.get_config()['kernel_initializer']"
      ],
      "metadata": {
        "colab": {
          "base_uri": "https://localhost:8080/"
        },
        "id": "fiTCJ0Qd51Bc",
        "outputId": "d7d57934-550b-424a-d5e6-ad36ff4e2c4f"
      },
      "execution_count": 61,
      "outputs": [
        {
          "output_type": "execute_result",
          "data": {
            "text/plain": [
              "{'class_name': 'GlorotUniform', 'config': {'seed': None}}"
            ]
          },
          "metadata": {},
          "execution_count": 61
        }
      ]
    },
    {
      "cell_type": "markdown",
      "source": [
        "- kernal_initializer 매개변수에 설정 가능"
      ],
      "metadata": {
        "id": "tAHGY5T56Er0"
      }
    },
    {
      "cell_type": "code",
      "source": [
        "# 문자열 초기화\n",
        "dense = tf.keras.layers.Dense(256, kernel_initializer='he_normal', activation='relu')\n",
        "print(dense.get_config()['kernel_initializer'])\n",
        "\n",
        "\n",
        "# 클래스 인스턴스 초기화\n",
        "he_normal = tf.keras.initializers.HeNormal()\n",
        "dense = tf.keras.layers.Dense(256, kernel_initializer=he_normal, activation='relu')\n",
        "print(dense.get_config()['kernel_initializer'])"
      ],
      "metadata": {
        "colab": {
          "base_uri": "https://localhost:8080/"
        },
        "id": "9kLtNaRV6B66",
        "outputId": "b75c0a82-aa29-4c78-836a-ecba945e9869"
      },
      "execution_count": 62,
      "outputs": [
        {
          "output_type": "stream",
          "name": "stdout",
          "text": [
            "{'class_name': 'HeNormal', 'config': {'seed': None}}\n",
            "{'class_name': 'HeNormal', 'config': {'seed': None}}\n"
          ]
        }
      ]
    },
    {
      "cell_type": "markdown",
      "source": [
        "- 케라스에서 지원하는 자주 사용되는 초기화 목록\n",
        " - 'glorot_normal', 'glorot_uniform' : 글로럿 초기화(Xavier 초기화)\n",
        " - 'lecun_normal', 'lecun_uniform' : Yann Lecun 초기화\n",
        " - 'he_normal', 'he_uniform' : He 초기화\n",
        " - 'random_normal', 'random_unifor ' : 정규분포, 연속균등분포 초기화\n",
        "\n",
        "\n",
        "\n",
        "### 4-2. 규제\n",
        "- 기본값으로 규제를 적용하지 않고 있기 때문에 별도로 설정해 주어야 함"
      ],
      "metadata": {
        "id": "aYEHhfMI6dy5"
      }
    },
    {
      "cell_type": "code",
      "source": [
        "# 기본값 \n",
        "dense = tf.keras.layers.Dense(256, activation='relu')\n",
        "dense.get_config()"
      ],
      "metadata": {
        "colab": {
          "base_uri": "https://localhost:8080/"
        },
        "id": "EsfLAmR96bgY",
        "outputId": "cebe9f8f-81e8-4ace-fcba-b90e5425ac43"
      },
      "execution_count": 63,
      "outputs": [
        {
          "output_type": "execute_result",
          "data": {
            "text/plain": [
              "{'name': 'dense_52',\n",
              " 'trainable': True,\n",
              " 'dtype': 'float32',\n",
              " 'units': 256,\n",
              " 'activation': 'relu',\n",
              " 'use_bias': True,\n",
              " 'kernel_initializer': {'class_name': 'GlorotUniform',\n",
              "  'config': {'seed': None}},\n",
              " 'bias_initializer': {'class_name': 'Zeros', 'config': {}},\n",
              " 'kernel_regularizer': None,\n",
              " 'bias_regularizer': None,\n",
              " 'activity_regularizer': None,\n",
              " 'kernel_constraint': None,\n",
              " 'bias_constraint': None}"
            ]
          },
          "metadata": {},
          "execution_count": 63
        }
      ]
    },
    {
      "cell_type": "markdown",
      "source": [
        "### 4-3. 드롭아웃\n",
        "- 과대적합 문제를 해결하기 위해 제안됨\n",
        "- 노드의 일부 신호를 임의로 삭제, 모델이 학습하는 가중치 파라미터의 개수가 현저하게 줄어들게 함\n",
        "- 훈련시에는 드롭아웃이 적용되어 노드중 일부만 훈련하게 되지만, 예측 시점에는 모든 노드들이 활용"
      ],
      "metadata": {
        "id": "bxMzu9pSSpRt"
      }
    },
    {
      "cell_type": "code",
      "source": [
        "# Dropout 25% 비율 적용(25%의 노드가 삭제)\n",
        "tf.keras.layers.Dropout(0.25)"
      ],
      "metadata": {
        "colab": {
          "base_uri": "https://localhost:8080/"
        },
        "id": "GV6euxIRShdE",
        "outputId": "2af80de3-418b-4268-a8c6-b0211df5fbe0"
      },
      "execution_count": 64,
      "outputs": [
        {
          "output_type": "execute_result",
          "data": {
            "text/plain": [
              "<keras.layers.regularization.dropout.Dropout at 0x7f87879caa10>"
            ]
          },
          "metadata": {},
          "execution_count": 64
        }
      ]
    },
    {
      "cell_type": "markdown",
      "source": [
        "### 4-4. 배치 정규화\n",
        "- 각 층에서 활성화 함수를 통과하기 전 미니 배치의 스케일을 정규화\n",
        "- 다음층으로 데이터가 전달되기 전 스케일을 조정하기 때문에 보다 안정적인 훈련이 가능하고 성능을 크게 향상시킴"
      ],
      "metadata": {
        "id": "lvwSOXFVTElC"
      }
    },
    {
      "cell_type": "code",
      "source": [
        "# Model A : Dense + ReLU\n",
        "model_a = tf.keras.Sequential([\n",
        "    tf.keras.layers.Flatten(input_shape=(28,28)),\n",
        "    tf.keras.layers.Dense(64, activation='relu'),\n",
        "    tf.keras.layers.Dense(32, activation='relu'),\n",
        "    tf.keras.layers.Dense(10, activation='softmax')\n",
        "])\n",
        "model_a.summary()"
      ],
      "metadata": {
        "colab": {
          "base_uri": "https://localhost:8080/"
        },
        "id": "93VmHkd1TZdC",
        "outputId": "ca3dba69-d75b-4afb-b348-1f7c954cbfe7"
      },
      "execution_count": 78,
      "outputs": [
        {
          "output_type": "stream",
          "name": "stdout",
          "text": [
            "Model: \"sequential_22\"\n",
            "_________________________________________________________________\n",
            " Layer (type)                Output Shape              Param #   \n",
            "=================================================================\n",
            " flatten_17 (Flatten)        (None, 784)               0         \n",
            "                                                                 \n",
            " dense_74 (Dense)            (None, 64)                50240     \n",
            "                                                                 \n",
            " dense_75 (Dense)            (None, 32)                2080      \n",
            "                                                                 \n",
            " dense_76 (Dense)            (None, 10)                330       \n",
            "                                                                 \n",
            "=================================================================\n",
            "Total params: 52,650\n",
            "Trainable params: 52,650\n",
            "Non-trainable params: 0\n",
            "_________________________________________________________________\n"
          ]
        }
      ]
    },
    {
      "cell_type": "code",
      "source": [
        "# Model B : Dense + BatchNorm + ReLU\n",
        "model_b = tf.keras.Sequential([\n",
        "    tf.keras.layers.Flatten(input_shape=(28,28)),\n",
        "    tf.keras.layers.Dense(64),\n",
        "    # 배치 정규화 적용\n",
        "    tf.keras.layers.BatchNormalization(),\n",
        "    # 배치 정규화 후 활성화 함수 적용\n",
        "    tf.keras.layers.Activation('relu'),\n",
        "\n",
        "    tf.keras.layers.Dense(32),\n",
        "    # 배치 정규화 적용\n",
        "    tf.keras.layers.BatchNormalization(),\n",
        "    # 배치 정규화 후 활성화 함수 적용\n",
        "    tf.keras.layers.Activation('relu'),\n",
        "\n",
        "    tf.keras.layers.Dense(10, activation='softmax')\n",
        "])\n",
        "model_b.summary()"
      ],
      "metadata": {
        "colab": {
          "base_uri": "https://localhost:8080/"
        },
        "id": "VOFZdwmNTngF",
        "outputId": "474e1315-e80f-4529-981b-dd8bf5648e8d"
      },
      "execution_count": 77,
      "outputs": [
        {
          "output_type": "stream",
          "name": "stdout",
          "text": [
            "Model: \"sequential_21\"\n",
            "_________________________________________________________________\n",
            " Layer (type)                Output Shape              Param #   \n",
            "=================================================================\n",
            " flatten_16 (Flatten)        (None, 784)               0         \n",
            "                                                                 \n",
            " dense_71 (Dense)            (None, 64)                50240     \n",
            "                                                                 \n",
            " batch_normalization_18 (Bat  (None, 64)               256       \n",
            " chNormalization)                                                \n",
            "                                                                 \n",
            " activation_9 (Activation)   (None, 64)                0         \n",
            "                                                                 \n",
            " dense_72 (Dense)            (None, 32)                2080      \n",
            "                                                                 \n",
            " batch_normalization_19 (Bat  (None, 32)               128       \n",
            " chNormalization)                                                \n",
            "                                                                 \n",
            " activation_10 (Activation)  (None, 32)                0         \n",
            "                                                                 \n",
            " dense_73 (Dense)            (None, 10)                330       \n",
            "                                                                 \n",
            "=================================================================\n",
            "Total params: 53,034\n",
            "Trainable params: 52,842\n",
            "Non-trainable params: 192\n",
            "_________________________________________________________________\n"
          ]
        }
      ]
    },
    {
      "cell_type": "markdown",
      "source": [
        "- 훈련 결과 비교사 배치 정규화 추가 모델이 손실이 이전대비 더 안정적이고 빠르게 수렴\n",
        "### 4-5. 활성화함수\n",
        "- 클래스 인스턴스로 선언하여 하이퍼파라미터값을 변경하여 적용 가능"
      ],
      "metadata": {
        "id": "GE7vlPjNUB9M"
      }
    },
    {
      "cell_type": "code",
      "source": [
        "# LeakyReLU 기본 설정\n",
        "tf.keras.layers.LeakyReLU()\n",
        "\n",
        "# LeakyReLU alpha=0.2로 변경\n",
        "tf.keras.layers.LeakyReLU(alpha=0.2)"
      ],
      "metadata": {
        "colab": {
          "base_uri": "https://localhost:8080/"
        },
        "id": "2XEsZqcuT9iL",
        "outputId": "27eb85a4-4681-4386-87b5-f4dc8fbd45d6"
      },
      "execution_count": 67,
      "outputs": [
        {
          "output_type": "execute_result",
          "data": {
            "text/plain": [
              "<keras.layers.activation.leaky_relu.LeakyReLU at 0x7f878ab6fbd0>"
            ]
          },
          "metadata": {},
          "execution_count": 67
        }
      ]
    },
    {
      "cell_type": "code",
      "source": [
        "# Model C : Dense + BatchNorm + LeakyReLU(0.2)\n",
        "model_c = tf.keras.Sequential([\n",
        "    tf.keras.layers.Flatten(input_shape=(28,28)),\n",
        "    tf.keras.layers.Dense(64),\n",
        "    # 배치 정규화 적용\n",
        "    tf.keras.layers.BatchNormalization(),\n",
        "    # LeakyReLU, alpha=0.2\n",
        "    tf.keras.layers.LeakyReLU(alpha = 0.2),\n",
        "\n",
        "    tf.keras.layers.Dense(32),\n",
        "    # 배치 정규화 적용\n",
        "    tf.keras.layers.BatchNormalization(),\n",
        "    # 배치 정규화 후 활성화 함수 적용\n",
        "    tf.keras.layers.LeakyReLU(alpha = 0.2),\n",
        "\n",
        "    tf.keras.layers.Dense(10, activation='softmax')\n",
        "])\n",
        "model_c.summary()"
      ],
      "metadata": {
        "colab": {
          "base_uri": "https://localhost:8080/"
        },
        "id": "rNXPL8wZUkSl",
        "outputId": "cf2c948b-0a6c-432d-dc8f-c66b64a6a5f8"
      },
      "execution_count": 79,
      "outputs": [
        {
          "output_type": "stream",
          "name": "stdout",
          "text": [
            "Model: \"sequential_23\"\n",
            "_________________________________________________________________\n",
            " Layer (type)                Output Shape              Param #   \n",
            "=================================================================\n",
            " flatten_18 (Flatten)        (None, 784)               0         \n",
            "                                                                 \n",
            " dense_77 (Dense)            (None, 64)                50240     \n",
            "                                                                 \n",
            " batch_normalization_20 (Bat  (None, 64)               256       \n",
            " chNormalization)                                                \n",
            "                                                                 \n",
            " leaky_re_lu_14 (LeakyReLU)  (None, 64)                0         \n",
            "                                                                 \n",
            " dense_78 (Dense)            (None, 32)                2080      \n",
            "                                                                 \n",
            " batch_normalization_21 (Bat  (None, 32)               128       \n",
            " chNormalization)                                                \n",
            "                                                                 \n",
            " leaky_re_lu_15 (LeakyReLU)  (None, 32)                0         \n",
            "                                                                 \n",
            " dense_79 (Dense)            (None, 10)                330       \n",
            "                                                                 \n",
            "=================================================================\n",
            "Total params: 53,034\n",
            "Trainable params: 52,842\n",
            "Non-trainable params: 192\n",
            "_________________________________________________________________\n"
          ]
        }
      ]
    },
    {
      "cell_type": "markdown",
      "source": [
        "- model_a, b, c를 동일한 조건으로 10번의 epoch동안 훈련한 후에 수렴 속도 확인\n",
        " - Model A : Dense 레이어 + ReLU 활성화 함수\n",
        " - Model B : Dense 레이어 + 배치 정규화\n",
        " - Model C : Dense 레이어 + 배치정규화 + LeakyReLU(0.2) 활성화 함수"
      ],
      "metadata": {
        "id": "sfYWuIDeU6W0"
      }
    },
    {
      "cell_type": "code",
      "source": [
        "model_a.compile(optimizer='adam', loss='sparse_categorical_crossentropy', metrics=['accuracy'])\n",
        "model_b.compile(optimizer='adam', loss='sparse_categorical_crossentropy', metrics=['accuracy'])\n",
        "model_c.compile(optimizer='adam', loss='sparse_categorical_crossentropy', metrics=['accuracy'])\n",
        "\n",
        "# Model A : Dense + ReLU\n",
        "history_a = model_a.fit(x_train, y_train, validation_data=(x_test, y_test),\n",
        "                        epochs=10)\n",
        "\n",
        "# Model B : Dense + BatchNorm + ReLU\n",
        "history_b = model_a.fit(x_train, y_train, validation_data=(x_test, y_test),\n",
        "                        epochs=10)\n",
        "\n",
        "# Model C : Dense + BatchNorm + LeakyReLU(0.1)\n",
        "history_c = model_a.fit(x_train, y_train, validation_data=(x_test, y_test),\n",
        "                        epochs=10)\n"
      ],
      "metadata": {
        "colab": {
          "base_uri": "https://localhost:8080/"
        },
        "id": "LmXOj3_hUzQL",
        "outputId": "264232f9-7e38-4001-bcdc-a9b7bf57f614"
      },
      "execution_count": 80,
      "outputs": [
        {
          "output_type": "stream",
          "name": "stdout",
          "text": [
            "Epoch 1/10\n",
            "1875/1875 [==============================] - 6s 3ms/step - loss: 0.2870 - accuracy: 0.9177 - val_loss: 0.1566 - val_accuracy: 0.9518\n",
            "Epoch 2/10\n",
            "1875/1875 [==============================] - 5s 3ms/step - loss: 0.1334 - accuracy: 0.9598 - val_loss: 0.1189 - val_accuracy: 0.9654\n",
            "Epoch 3/10\n",
            "1875/1875 [==============================] - 5s 3ms/step - loss: 0.0968 - accuracy: 0.9711 - val_loss: 0.1032 - val_accuracy: 0.9686\n",
            "Epoch 4/10\n",
            "1875/1875 [==============================] - 5s 3ms/step - loss: 0.0764 - accuracy: 0.9768 - val_loss: 0.0951 - val_accuracy: 0.9712\n",
            "Epoch 5/10\n",
            "1875/1875 [==============================] - 5s 3ms/step - loss: 0.0632 - accuracy: 0.9803 - val_loss: 0.0945 - val_accuracy: 0.9700\n",
            "Epoch 6/10\n",
            "1875/1875 [==============================] - 5s 3ms/step - loss: 0.0532 - accuracy: 0.9837 - val_loss: 0.0912 - val_accuracy: 0.9755\n",
            "Epoch 7/10\n",
            "1875/1875 [==============================] - 5s 3ms/step - loss: 0.0448 - accuracy: 0.9856 - val_loss: 0.0868 - val_accuracy: 0.9757\n",
            "Epoch 8/10\n",
            "1875/1875 [==============================] - 5s 3ms/step - loss: 0.0390 - accuracy: 0.9876 - val_loss: 0.0940 - val_accuracy: 0.9728\n",
            "Epoch 9/10\n",
            "1875/1875 [==============================] - 5s 3ms/step - loss: 0.0345 - accuracy: 0.9887 - val_loss: 0.1089 - val_accuracy: 0.9710\n",
            "Epoch 10/10\n",
            "1875/1875 [==============================] - 5s 3ms/step - loss: 0.0286 - accuracy: 0.9906 - val_loss: 0.1157 - val_accuracy: 0.9698\n",
            "Epoch 1/10\n",
            "1875/1875 [==============================] - 5s 3ms/step - loss: 0.0262 - accuracy: 0.9914 - val_loss: 0.1078 - val_accuracy: 0.9737\n",
            "Epoch 2/10\n",
            "1875/1875 [==============================] - 6s 3ms/step - loss: 0.0232 - accuracy: 0.9923 - val_loss: 0.1037 - val_accuracy: 0.9755\n",
            "Epoch 3/10\n",
            "1875/1875 [==============================] - 6s 3ms/step - loss: 0.0215 - accuracy: 0.9930 - val_loss: 0.1222 - val_accuracy: 0.9720\n",
            "Epoch 4/10\n",
            "1875/1875 [==============================] - 6s 3ms/step - loss: 0.0185 - accuracy: 0.9937 - val_loss: 0.1096 - val_accuracy: 0.9739\n",
            "Epoch 5/10\n",
            "1875/1875 [==============================] - 6s 3ms/step - loss: 0.0167 - accuracy: 0.9943 - val_loss: 0.1348 - val_accuracy: 0.9718\n",
            "Epoch 6/10\n",
            "1875/1875 [==============================] - 5s 3ms/step - loss: 0.0150 - accuracy: 0.9949 - val_loss: 0.1237 - val_accuracy: 0.9727\n",
            "Epoch 7/10\n",
            "1875/1875 [==============================] - 5s 3ms/step - loss: 0.0169 - accuracy: 0.9942 - val_loss: 0.1321 - val_accuracy: 0.9735\n",
            "Epoch 8/10\n",
            "1875/1875 [==============================] - 5s 3ms/step - loss: 0.0151 - accuracy: 0.9949 - val_loss: 0.1355 - val_accuracy: 0.9730\n",
            "Epoch 9/10\n",
            "1875/1875 [==============================] - 5s 3ms/step - loss: 0.0133 - accuracy: 0.9956 - val_loss: 0.1373 - val_accuracy: 0.9738\n",
            "Epoch 10/10\n",
            "1875/1875 [==============================] - 5s 3ms/step - loss: 0.0114 - accuracy: 0.9961 - val_loss: 0.1359 - val_accuracy: 0.9769\n",
            "Epoch 1/10\n",
            "1875/1875 [==============================] - 6s 3ms/step - loss: 0.0115 - accuracy: 0.9958 - val_loss: 0.1444 - val_accuracy: 0.9737\n",
            "Epoch 2/10\n",
            "1875/1875 [==============================] - 5s 3ms/step - loss: 0.0117 - accuracy: 0.9962 - val_loss: 0.1402 - val_accuracy: 0.9764\n",
            "Epoch 3/10\n",
            "1875/1875 [==============================] - 5s 3ms/step - loss: 0.0130 - accuracy: 0.9954 - val_loss: 0.1466 - val_accuracy: 0.9744\n",
            "Epoch 4/10\n",
            "1875/1875 [==============================] - 5s 3ms/step - loss: 0.0088 - accuracy: 0.9970 - val_loss: 0.1376 - val_accuracy: 0.9749\n",
            "Epoch 5/10\n",
            "1875/1875 [==============================] - 5s 3ms/step - loss: 0.0119 - accuracy: 0.9963 - val_loss: 0.1419 - val_accuracy: 0.9752\n",
            "Epoch 6/10\n",
            "1875/1875 [==============================] - 5s 3ms/step - loss: 0.0098 - accuracy: 0.9966 - val_loss: 0.1509 - val_accuracy: 0.9727\n",
            "Epoch 7/10\n",
            "1875/1875 [==============================] - 5s 3ms/step - loss: 0.0109 - accuracy: 0.9964 - val_loss: 0.1448 - val_accuracy: 0.9761\n",
            "Epoch 8/10\n",
            "1875/1875 [==============================] - 5s 3ms/step - loss: 0.0096 - accuracy: 0.9969 - val_loss: 0.1752 - val_accuracy: 0.9736\n",
            "Epoch 9/10\n",
            "1875/1875 [==============================] - 5s 3ms/step - loss: 0.0090 - accuracy: 0.9970 - val_loss: 0.1589 - val_accuracy: 0.9750\n",
            "Epoch 10/10\n",
            "1875/1875 [==============================] - 5s 3ms/step - loss: 0.0073 - accuracy: 0.9974 - val_loss: 0.1689 - val_accuracy: 0.9734\n"
          ]
        }
      ]
    },
    {
      "cell_type": "code",
      "source": [
        "import matplotlib.pyplot as plt\n",
        "import numpy as np\n",
        "\n",
        "plt.figure(figsize=(12,9))\n",
        "plt.plot(np.arange(1,11), history_a.history['val_loss'], color='navy', linestyle=':')\n",
        "plt.plot(np.arange(1,11), history_b.history['val_loss'], color='tomato', linestyle='-.')\n",
        "plt.plot(np.arange(1,11), history_c.history['val_loss'], color='green', linestyle='-')\n",
        "\n",
        "plt.title('Losses', fontsize=20)\n",
        "plt.xlabel('epochs')\n",
        "plt.ylabel('Losses')\n",
        "plt.legend(['ReLU', 'BatchNorm+ReLU', 'batchnorm+LeakyReLU'],fontsize=12)\n",
        "plt.show()"
      ],
      "metadata": {
        "colab": {
          "base_uri": "https://localhost:8080/",
          "height": 572
        },
        "id": "xw3dnF6DV9Uc",
        "outputId": "afec010e-d348-4822-b612-f0da2d92b1bf"
      },
      "execution_count": 82,
      "outputs": [
        {
          "output_type": "display_data",
          "data": {
            "text/plain": [
              "<Figure size 864x648 with 1 Axes>"
            ],
            "image/png": "[encoded data removed]"
          },
          "metadata": {
            "needs_background": "light"
          }
        }
      ]
    }
  ]
}