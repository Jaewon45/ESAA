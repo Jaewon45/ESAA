{
  "nbformat": 4,
  "nbformat_minor": 0,
  "metadata": {
    "colab": {
      "name": "0314_numpyconcept.ipynb",
      "provenance": [],
      "authorship_tag": "ABX9TyO13ZafLy8sMbe/6dH8tXr7",
      "include_colab_link": true
    },
    "kernelspec": {
      "name": "python3",
      "display_name": "Python 3"
    },
    "language_info": {
      "name": "python"
    }
  },
  "cells": [
    {
      "cell_type": "markdown",
      "metadata": {
        "id": "view-in-github",
        "colab_type": "text"
      },
      "source": [
        "<a href=\"https://colab.research.google.com/github/Jaewon45/ESAA-practice/blob/main/0314_numpyconcept.ipynb\" target=\"_parent\"><img src=\"https://colab.research.google.com/assets/colab-badge.svg\" alt=\"Open In Colab\"/></a>"
      ]
    },
    {
      "cell_type": "markdown",
      "source": [
        "# 01. 파이썬 기반의 머신러닝과 생태계 이해\n",
        "\n",
        "## 01. 머신러닝의 개념\n",
        "* 애플리케이션을 수정하지 않고도 데이터를 기반으로 패턴을 학습하고 결과를 예측하는 알고리즘 기법\n",
        "* 복잡한 조건으로 기존 소프트웨어 코드로 해결하기 어려웠던 많은 문제점들을 해결 가능\n",
        "* 머신러닝 알고리즘은 데이터를 기반으로 통계적인 신뢰도를 강화하고 에측 오류를 최소화하기 위한 다양한 수학적 기법을 적용해 데이터 내의 패턴을 학습하고, 이에 기반한 예측을 수행\n",
        "\n",
        "### 1. 머신러닝의 분류\n",
        "* 지도학습 (supervised learning) : 분류, 회귀, 추천 시스템, 시각/음성 감지/인지, 테스트분석, NLP, 클러스터링, 차원축소, 강화학습\n",
        "### 2. 데이터 전쟁\n",
        "* 머신러닝의 가장 큰 단점은 데이터에 매우 의존적이라는 점. 좋은 품질의 데이터를 갖추어야 머신러닝의 수행결과가 좋을 수 있음 \n",
        "### 3. 파이썬과 R 기반의 머신러닝 비교\n",
        "* R : 통계 전용 프로그램 언어, 다양하고 많은 통계 패키지 보유\n",
        "* 파이썬 : 다양한 영역에서 사용되는 개발 전문 프로그램 언어. 직관적 문법과 객체지향과 함수형 프로그래밍을 포괄하는 프로그램 아키텍처, 다양한 라이브러리 등의 강점을 가짐\n",
        "\n",
        "## 02. 파이썬 머신러닝 생태계를 구성하는 주요 패키지\n",
        "* 머신러닝 패키지 : 사이킷런 (scikit learn)\n",
        "* 행렬/선형대수/통계 패키지 : 넘파이(numpy)\n",
        "* 데이터 핸들링 : 판다스 (pandas)\n",
        "* 시각화 : 맷플롯립, 시본 (seaborn)\n",
        "* 주피터 노트북 (jupyter notebook) : 아이파이썬 지원 툴\n",
        "\n",
        "\n",
        "\n",
        "## 03. 넘파이\n",
        "##### 머신러닝의 주요 알고리즘이 바탕으로 하는 선형대수 기반 프로그램을 만들 수 있도록 지원하는 파이썬 패키지. 빠른 배열 연산 속도를 보장하며 저수준 언어 기반의 호환 API (C/C++)를 제공함. 많은 머신러닝 알고리즘이 넘파이 기반으로 작성돼 있음\n",
        "\n",
        "### 1. 넘파이 ndarray 개요\n",
        "* ndarray : 넘파이의 기반 데이터 타입, 다차원배열을 쉽게 생성 가능\n",
        "\n",
        "* array() 함수 : 다양한 인자를 입력받아 ndarray로 변환, shape 변수를 통해 행과 열의 수 (차원)를 튜플 형태로 알 수 있음"
      ],
      "metadata": {
        "id": "JNZbNcvN8qgr"
      }
    },
    {
      "cell_type": "code",
      "source": [
        "import numpy as np\n",
        "\n",
        "array1 = np.array([1, 2, 3])\n",
        "print('array1 type:', type(array1))\n",
        "print('array1 array 형태:', array1.shape)\n",
        "\n",
        "array2 = np.array([[1, 2, 3],\n",
        "                  [2, 3, 4]])\n",
        "print('array2 type:', type(array2))\n",
        "print('array2 array 형태:', array2.shape)\n",
        "\n",
        "array3 = np.array([[1, 2, 3]])\n",
        "print('array3 type:', type(array3))\n",
        "print('array3 array 형태:', array3.shape)\n",
        "\n",
        "print('array1: {:0}차원, array2: {:1}차원, array3: {:2}차원'.format(array1.ndim, array2.ndim, array3.ndim))"
      ],
      "metadata": {
        "colab": {
          "base_uri": "https://localhost:8080/"
        },
        "id": "yAIQxLVEAMbx",
        "outputId": "602f622a-7fe6-43a1-ba74-c5c817a4d46e"
      },
      "execution_count": 2,
      "outputs": [
        {
          "output_type": "stream",
          "name": "stdout",
          "text": [
            "array1 type: <class 'numpy.ndarray'>\n",
            "array1 array 형태: (3,)\n",
            "array2 type: <class 'numpy.ndarray'>\n",
            "array2 array 형태: (2, 3)\n",
            "array3 type: <class 'numpy.ndarray'>\n",
            "array3 array 형태: (1, 3)\n",
            "array1: 1차원, array2: 2차원, array3:  2차원\n"
          ]
        }
      ]
    },
    {
      "cell_type": "markdown",
      "source": [
        "### 2. ndarray의 데이터 타입\n",
        "* 숫자 값, 문자열 값, 불 값이 가능하며, 연산 특성상 같은 데이터 타입만 가능함\n",
        "* 다른 데이터 유형이 섞여 있는 리스트를 ndarray로 변경시 데이터 크기가 더 큰 데이터 타입으로 형 변환을 일괄 적용함\n",
        " * int형 + string형은 문자열 값, int형 + float형은 float형으로 변한됨\n",
        "\n",
        "* astype() 안에 인자로 원하는 타입을 문자열로 지정하면 ndarray 내 데이터값의 타입 변경 가능\n"
      ],
      "metadata": {
        "id": "A5ciBwCc9YU9"
      }
    },
    {
      "cell_type": "code",
      "source": [
        "list1 = [1, 2, 3]\n",
        "print(type(list1))\n",
        "array1 = np.array(list1)\n",
        "print(type(array1))\n",
        "print(array1, array1.dtype)"
      ],
      "metadata": {
        "id": "d2yjtx5CAyl2",
        "colab": {
          "base_uri": "https://localhost:8080/"
        },
        "outputId": "060a30c7-9cf4-4e4d-88be-8ab99e013f7a"
      },
      "execution_count": 5,
      "outputs": [
        {
          "output_type": "stream",
          "name": "stdout",
          "text": [
            "<class 'list'>\n",
            "<class 'numpy.ndarray'>\n",
            "[1 2 3] int64\n"
          ]
        }
      ]
    },
    {
      "cell_type": "code",
      "source": [
        "list2 = [1, 2, 'test']\n",
        "array2 = np.array(list2)\n",
        "print(array2, array2.dtype)\n",
        "list3 = [1, 2, 3.0]\n",
        "array3 = np.array(list3)\n",
        "print(array3, array3.dtype)\n",
        "\n"
      ],
      "metadata": {
        "colab": {
          "base_uri": "https://localhost:8080/"
        },
        "id": "LrxpgBDv_sID",
        "outputId": "bbece2c2-f924-4be8-af97-c070c70bfc17"
      },
      "execution_count": 9,
      "outputs": [
        {
          "output_type": "stream",
          "name": "stdout",
          "text": [
            "['1' '2' 'test'] <U21\n",
            "[1. 2. 3.] float64\n"
          ]
        }
      ]
    },
    {
      "cell_type": "code",
      "source": [
        "array_int = np.array([1, 2, 3])\n",
        "array_float = array_int.astype('float64')\n",
        "print(array_float, array_float.dtype)\n",
        "\n",
        "array_int1 = array_float.astype('int32')\n",
        "print(array_int1, array_int1.dtype)\n",
        "\n",
        "array_float1=np.array([1.1, 2.1, 3.1])\n",
        "array_int2 = array_float1.astype('int32')\n",
        "print(array_int2, array_int2.dtype)"
      ],
      "metadata": {
        "colab": {
          "base_uri": "https://localhost:8080/"
        },
        "id": "rlkMNenmAq2e",
        "outputId": "56939eb7-4908-4baf-f5dd-17ca882ca281"
      },
      "execution_count": 10,
      "outputs": [
        {
          "output_type": "stream",
          "name": "stdout",
          "text": [
            "[1. 2. 3.] float64\n",
            "[1 2 3] int32\n",
            "[1 2 3] int32\n"
          ]
        }
      ]
    },
    {
      "cell_type": "markdown",
      "source": [
        "### 3. ndarray를 편리하게 생성하기 - arange, zeros, ones\n",
        "* 특정 크기, 차원의 ndarray를 연속값이나 0 또는 1로 초기화해 쉽게 생성 가능"
      ],
      "metadata": {
        "id": "EHemx8d1Arx8"
      }
    },
    {
      "cell_type": "code",
      "source": [
        "sequence_array = np.arange(10)\n",
        "print(sequence_array)\n",
        "print(sequence_array.dtype, sequence_array.shape)"
      ],
      "metadata": {
        "colab": {
          "base_uri": "https://localhost:8080/"
        },
        "id": "IyfjKfXDArle",
        "outputId": "e19775d2-5128-40df-ef4f-fb1a28b7291c"
      },
      "execution_count": 12,
      "outputs": [
        {
          "output_type": "stream",
          "name": "stdout",
          "text": [
            "[0 1 2 3 4 5 6 7 8 9]\n",
            "int64 (10,)\n"
          ]
        }
      ]
    },
    {
      "cell_type": "code",
      "source": [
        "zero_array = np.zeros((3,2), dtype = 'int32')\n",
        "print(zero_array)\n",
        "print(zero_array.dtype, zero_array.shape)\n",
        "\n",
        "one_array = np.ones((3,2))\n",
        "print(one_array)\n",
        "print(one_array.dtype, one_array.shape)"
      ],
      "metadata": {
        "colab": {
          "base_uri": "https://localhost:8080/"
        },
        "id": "RfooPJZGCBWp",
        "outputId": "0e71788f-d0ac-40ca-d181-c72354a11533"
      },
      "execution_count": 13,
      "outputs": [
        {
          "output_type": "stream",
          "name": "stdout",
          "text": [
            "[[0 0]\n",
            " [0 0]\n",
            " [0 0]]\n",
            "int32 (3, 2)\n",
            "[[1. 1.]\n",
            " [1. 1.]\n",
            " [1. 1.]]\n",
            "float64 (3, 2)\n"
          ]
        }
      ]
    },
    {
      "cell_type": "markdown",
      "source": [
        "### 4. ndarray의 차원과 크기를 변경하는 reshape()\n",
        "* reshape()는 ndarray를 특정 차원 및 크기로 변환, 변환을 원하는 크기를 함수 인자로 부여 가능함. 만약 지정된 사이즈로 변경이 불가능하면 오류 발생\n",
        "* 인자로 -1를 적용하는 경우 ndarray와 호환되는 새로운 shape로 변환해줌"
      ],
      "metadata": {
        "id": "Ix994K87CgKB"
      }
    },
    {
      "cell_type": "code",
      "source": [
        "array1 = np.arange(10) \n",
        "print('array1:\\n', array1) \n",
        "\n",
        "array2 = array1.reshape(2, 5) \n",
        "print('array2:\\n', array2) \n",
        "\n",
        "array3 = array1 .reshape(5, 2) \n",
        "print( 'array3:\\n', array3)"
      ],
      "metadata": {
        "colab": {
          "base_uri": "https://localhost:8080/"
        },
        "id": "Fs3BCPKvCxKR",
        "outputId": "17fbaf4b-2637-4a30-96a8-4f47ac737d44"
      },
      "execution_count": 20,
      "outputs": [
        {
          "output_type": "stream",
          "name": "stdout",
          "text": [
            "array1:\n",
            " [0 1 2 3 4 5 6 7 8 9]\n",
            "array2:\n",
            " [[0 1 2 3 4]\n",
            " [5 6 7 8 9]]\n",
            "array3:\n",
            " [[0 1]\n",
            " [2 3]\n",
            " [4 5]\n",
            " [6 7]\n",
            " [8 9]]\n"
          ]
        }
      ]
    },
    {
      "cell_type": "code",
      "source": [
        "array1 = np.arange(10) \n",
        "print(array1) \n",
        "array2 = array1.reshape(-1, 5) \n",
        "print('array2 shape:', array2.shape) \n",
        "array3 = array1.reshape(5, -1) \n",
        "print('array3 shape:', array3.shape)"
      ],
      "metadata": {
        "colab": {
          "base_uri": "https://localhost:8080/"
        },
        "id": "h7znTC2XDq9J",
        "outputId": "0fb54298-a271-430b-e4b6-290b7230ea44"
      },
      "execution_count": 21,
      "outputs": [
        {
          "output_type": "stream",
          "name": "stdout",
          "text": [
            "[0 1 2 3 4 5 6 7 8 9]\n",
            "array2 shape: (2, 5)\n",
            "array3 shape: (5, 2)\n"
          ]
        }
      ]
    },
    {
      "cell_type": "code",
      "source": [
        "# 오류 발생\n",
        "array1=np.arange(10)\n",
        "array4=array1.reshape(-1,4)"
      ],
      "metadata": {
        "colab": {
          "base_uri": "https://localhost:8080/",
          "height": 208
        },
        "id": "ChjB9acNEcY0",
        "outputId": "0bf6b1c7-17c0-410e-9c3d-a9ed6fec7fe6"
      },
      "execution_count": 23,
      "outputs": [
        {
          "output_type": "error",
          "ename": "ValueError",
          "evalue": "ignored",
          "traceback": [
            "\u001b[0;31m---------------------------------------------------------------------------\u001b[0m",
            "\u001b[0;31mValueError\u001b[0m                                Traceback (most recent call last)",
            "\u001b[0;32m<ipython-input-23-dd104663928e>\u001b[0m in \u001b[0;36m<module>\u001b[0;34m()\u001b[0m\n\u001b[1;32m      1\u001b[0m \u001b[0;31m# 오류 발생\u001b[0m\u001b[0;34m\u001b[0m\u001b[0;34m\u001b[0m\u001b[0;34m\u001b[0m\u001b[0m\n\u001b[1;32m      2\u001b[0m \u001b[0marray1\u001b[0m\u001b[0;34m=\u001b[0m\u001b[0mnp\u001b[0m\u001b[0;34m.\u001b[0m\u001b[0marange\u001b[0m\u001b[0;34m(\u001b[0m\u001b[0;36m10\u001b[0m\u001b[0;34m)\u001b[0m\u001b[0;34m\u001b[0m\u001b[0;34m\u001b[0m\u001b[0m\n\u001b[0;32m----> 3\u001b[0;31m \u001b[0marray4\u001b[0m\u001b[0;34m=\u001b[0m\u001b[0marray1\u001b[0m\u001b[0;34m.\u001b[0m\u001b[0mreshape\u001b[0m\u001b[0;34m(\u001b[0m\u001b[0;34m-\u001b[0m\u001b[0;36m1\u001b[0m\u001b[0;34m,\u001b[0m\u001b[0;36m4\u001b[0m\u001b[0;34m)\u001b[0m\u001b[0;34m\u001b[0m\u001b[0;34m\u001b[0m\u001b[0m\n\u001b[0m",
            "\u001b[0;31mValueError\u001b[0m: cannot reshape array of size 10 into shape (4)"
          ]
        }
      ]
    },
    {
      "cell_type": "code",
      "source": [
        "array1= np.arange(8) \n",
        "array3d= array1.reshape((2, 2, 2)) \n",
        "print('array3d:\\n', array3d.tolist()) \n",
        "\n",
        "#3차원 ndarray를 2차원 ndarray로 변환 \n",
        "array5 = array3d. reshape(-1, 1) \n",
        "print('array5:\\n', array5. tolist()) \n",
        "print('array5 shape:', array5. shape) \n",
        "\n",
        "#1차원 ndarray를 2차원 ndarray로 변환 \n",
        "array6 = array1 .reshape(-1, 1) \n",
        "print('array6:\\n', array6.tolist()) \n",
        "print('array6 shape:', array6 .shape)"
      ],
      "metadata": {
        "colab": {
          "base_uri": "https://localhost:8080/"
        },
        "id": "_iQG7hmoEZaA",
        "outputId": "d87290c6-3493-4fb9-e142-857e50c6eb04"
      },
      "execution_count": 22,
      "outputs": [
        {
          "output_type": "stream",
          "name": "stdout",
          "text": [
            "array3d:\n",
            " [[[0, 1], [2, 3]], [[4, 5], [6, 7]]]\n",
            "array5:\n",
            " [[0], [1], [2], [3], [4], [5], [6], [7]]\n",
            "array5 shape: (8, 1)\n",
            "array6:\n",
            " [[0], [1], [2], [3], [4], [5], [6], [7]]\n",
            "array6 shape: (8, 1)\n"
          ]
        }
      ]
    },
    {
      "cell_type": "markdown",
      "source": [
        "### 5. 넘파이의 ndarray의 데이터세트 선택하기 - 인덱싱(indexing)\n",
        "\n",
        "* 1. 특정한 데이터만 추출 : 원하는 위치의 인덱스값 지정하면 해당 위치의 데이터 반환\n"
      ],
      "metadata": {
        "id": "LRf2CpUkEkg_"
      }
    },
    {
      "cell_type": "code",
      "source": [
        "#1부터 9까지의 1차원 ndarray 생성\n",
        "array1=np.arange(start=1,stop=10)\n",
        "print('array1:',array1)\n",
        "\n",
        "#index는 0부터 시작하므로 array1[2]는 3번째 index 위치의 데이터값을 의미\n",
        "value=array1[2]\n",
        "print('value:',value)\n",
        "print(type(value))\n",
        "\n",
        "print('맨 뒤의 값:',array1[-1],'맨 뒤에서 두 번째 값:',array1[-2])\n",
        "\n",
        "# 단일 인덱스를 이용한 ndarray 내의 데이터값 수정\n",
        "array1[0]=9\n",
        "array1[8]=0\n",
        "print('array1:',array1)"
      ],
      "metadata": {
        "colab": {
          "base_uri": "https://localhost:8080/"
        },
        "id": "rMosTKHnFiYM",
        "outputId": "08d032d9-e0c8-4286-9c59-0a0e4f228be3"
      },
      "execution_count": 25,
      "outputs": [
        {
          "output_type": "stream",
          "name": "stdout",
          "text": [
            "array1: [1 2 3 4 5 6 7 8 9]\n",
            "value: 3\n",
            "<class 'numpy.int64'>\n",
            "맨 뒤의 값: 9 맨 뒤에서 두 번째 값: 8\n",
            "array1: [9 2 3 4 5 6 7 8 0]\n"
          ]
        }
      ]
    },
    {
      "cell_type": "code",
      "source": [
        "array1d=np.arange(start=1,stop=10)\n",
        "array2d=array1d.reshape(3,3)\n",
        "print(array2d)\n",
        "\n",
        "print('(row=0,col=0) index 가리키는 값:',array2d[0,0])\n",
        "print('(row=0,col=1) index 가리키는 값:',array2d[0,1])\n",
        "print('(row=1,col=0) index 가리키는 값:',array2d[1,0])\n",
        "print('(row=2,col=2) index 가리키는 값:',array2d[2,2])"
      ],
      "metadata": {
        "colab": {
          "base_uri": "https://localhost:8080/"
        },
        "id": "TD1dSXR6F4c5",
        "outputId": "5bdaa33a-2984-4f34-877e-419e2d9fd000"
      },
      "execution_count": 26,
      "outputs": [
        {
          "output_type": "stream",
          "name": "stdout",
          "text": [
            "[[1 2 3]\n",
            " [4 5 6]\n",
            " [7 8 9]]\n",
            "(row=0,col=0) index 가리키는 값: 1\n",
            "(row=0,col=1) index 가리키는 값: 2\n",
            "(row=1,col=0) index 가리키는 값: 4\n",
            "(row=2,col=2) index 가리키는 값: 9\n"
          ]
        }
      ]
    },
    {
      "cell_type": "markdown",
      "source": [
        "* 2. 슬라이싱 (slicing) : 연속된 인덱스상의 ndarray 추출. ':' 기호 사이에 시작인덱스와 종료인덱스를 표시하면 시작인덱스에서 종료인덱스-1 위치에 있는 데이터의 ndarray 반환\n",
        "  * 2차원 ndarray에서 뒤에 오는 인덱스를 없애면 1차원ndarray를 반환 "
      ],
      "metadata": {
        "id": "WvQt8GajF_tk"
      }
    },
    {
      "cell_type": "code",
      "source": [
        "array1=np.arange(start=1,stop=10)\n",
        "array3=array1[0:3]\n",
        "print(array3)\n",
        "print(type(array3))\n",
        "\n",
        "#슬라이싱 기호 ':' 사이의 시작, 종료 인덱스 생략 가능\n",
        "array1=np.arange(start=1,stop=10)\n",
        "array4=array1[:3]\n",
        "print(array4)\n",
        "\n",
        "array5=array1[3:]\n",
        "print(array5)\n",
        "\n",
        "array6=array1[:]\n",
        "print(array6)"
      ],
      "metadata": {
        "colab": {
          "base_uri": "https://localhost:8080/"
        },
        "id": "OIgYtsryGAvm",
        "outputId": "c3b6f251-0ccf-426a-e0ac-0048cdc81644"
      },
      "execution_count": 28,
      "outputs": [
        {
          "output_type": "stream",
          "name": "stdout",
          "text": [
            "[1 2 3]\n",
            "<class 'numpy.ndarray'>\n",
            "[1 2 3]\n",
            "[4 5 6 7 8 9]\n",
            "[1 2 3 4 5 6 7 8 9]\n"
          ]
        }
      ]
    },
    {
      "cell_type": "code",
      "source": [
        "array1d=np.arange(start=1,stop=10)\n",
        "array2d=array1d.reshape(3,3)\n",
        "print('array2d:\\n',array2d)\n",
        "\n",
        "print('array2d[0:2,0:2] \\n',array2d[0:2,0:2])\n",
        "print('array2d[1:3,0:3] \\n',array2d[1:3,0:3])\n",
        "print('array2d[1:3,:] \\n',array2d[1:3,:])\n",
        "print('array2d[:,:] \\n',array2d[:,:])\n",
        "print('array2d[:2,1:] \\n',array2d[:2,1:])\n",
        "print('array2d[:2,0] \\n',array2d[:2,0])"
      ],
      "metadata": {
        "colab": {
          "base_uri": "https://localhost:8080/"
        },
        "id": "gIIqzQhzGg4P",
        "outputId": "1f65152d-b02f-4884-ebcd-9636fca2e9ee"
      },
      "execution_count": 29,
      "outputs": [
        {
          "output_type": "stream",
          "name": "stdout",
          "text": [
            "array2d:\n",
            " [[1 2 3]\n",
            " [4 5 6]\n",
            " [7 8 9]]\n",
            "array2d[0:2,0:2] \n",
            " [[1 2]\n",
            " [4 5]]\n",
            "array2d[1:3,0:3] \n",
            " [[4 5 6]\n",
            " [7 8 9]]\n",
            "array2d[1:3,:] \n",
            " [[4 5 6]\n",
            " [7 8 9]]\n",
            "array2d[:,:] \n",
            " [[1 2 3]\n",
            " [4 5 6]\n",
            " [7 8 9]]\n",
            "array2d[:2,1:] \n",
            " [[2 3]\n",
            " [5 6]]\n",
            "array2d[:2,0] \n",
            " [1 4]\n"
          ]
        }
      ]
    },
    {
      "cell_type": "code",
      "source": [
        "print(array2d[0])\n",
        "print(array2d[1])\n",
        "print('array2d[0] shape:',array2d[0].shape,'array2d[1] shape:',array2d[1].shape)"
      ],
      "metadata": {
        "colab": {
          "base_uri": "https://localhost:8080/"
        },
        "id": "3_kXFTE4H14W",
        "outputId": "370e30c9-4705-408f-c740-abae169551cf"
      },
      "execution_count": 30,
      "outputs": [
        {
          "output_type": "stream",
          "name": "stdout",
          "text": [
            "[1 2 3]\n",
            "[4 5 6]\n",
            "array2d[0] shape: (3,) array2d[1] shape: (3,)\n"
          ]
        }
      ]
    },
    {
      "cell_type": "markdown",
      "source": [
        "* 3. 팬시 인덱싱(fancy indexing) : 일정한 인덱싱 집합을 리스트 또는 ndarray 형태로 지정해 해당 위치에 있는 데이터의 ndarray를 반환\n"
      ],
      "metadata": {
        "id": "m1ZNf0sBIIEV"
      }
    },
    {
      "cell_type": "code",
      "source": [
        "array1d=np.arange(start=1,stop=10)\n",
        "array2d=array1d.reshape(3,3)\n",
        "\n",
        "array3=array2d[[0,1],2]\n",
        "print('array2d[[0,1],2] -> ',array3.tolist())\n",
        "\n",
        "array4=array2d[[0,1],0:2]\n",
        "print('array2d[[0,1],0:2] -> ',array4.tolist())\n",
        "\n",
        "array5=array2d[[0,1]]\n",
        "print('array2d[[0,1]] -> ',array5.tolist())"
      ],
      "metadata": {
        "colab": {
          "base_uri": "https://localhost:8080/"
        },
        "id": "kn3FUZPPIHxu",
        "outputId": "8a1c3156-660a-4f78-b58e-32399910836e"
      },
      "execution_count": 31,
      "outputs": [
        {
          "output_type": "stream",
          "name": "stdout",
          "text": [
            "array2d[[0,1],2] ->  [3, 6]\n",
            "array2d[[0,1],0:2] ->  [[1, 2], [4, 5]]\n",
            "array2d[[0,1]] ->  [[1, 2, 3], [4, 5, 6]]\n"
          ]
        }
      ]
    },
    {
      "cell_type": "markdown",
      "source": [
        "* 4. 불린 인덱싱(boolean indexing) : 특정 조건에 해당하는지 여부인 True/False 값 인덱싱 집합을 기반으로 True에 해당하는 인덱스 위치에 있는 데이터의 ndarray를 반환, 3차원 ndarray에서 뒤에 오는 인덱스를 없애면 2차원 ndarray를 반환함\n"
      ],
      "metadata": {
        "id": "xfuPl23eIfMP"
      }
    },
    {
      "cell_type": "code",
      "source": [
        "array1d=np.arange(start=1,stop=10)\n",
        "#[]안에 array1d>5 Voolean indexing을 적용\n",
        "array3=array1d[array1d>5]\n",
        "print('array1d>5 불린 인덱싱 결과 값:',array3)\n",
        "array1d>5"
      ],
      "metadata": {
        "colab": {
          "base_uri": "https://localhost:8080/"
        },
        "id": "lUyyeZDqIev_",
        "outputId": "118afff0-170d-4bde-a7ed-120d2dfb239b"
      },
      "execution_count": 32,
      "outputs": [
        {
          "output_type": "stream",
          "name": "stdout",
          "text": [
            "array1d>5 불린 인덱싱 결과 값: [6 7 8 9]\n"
          ]
        }
      ]
    },
    {
      "cell_type": "code",
      "source": [
        "boolean_indexes=np.array([False,False,False,False,False,True,True,True,True])\n",
        "array3=array1d[boolean_indexes]\n",
        "print('불린 인덱스로 필터링 결과:',array3)"
      ],
      "metadata": {
        "colab": {
          "base_uri": "https://localhost:8080/"
        },
        "id": "o2n5DZ5xIosv",
        "outputId": "47fe4b1a-fc60-42a7-ec10-9c3c6404fcdd"
      },
      "execution_count": 33,
      "outputs": [
        {
          "output_type": "stream",
          "name": "stdout",
          "text": [
            "불린 인덱스로 필터링 결과: [6 7 8 9]\n"
          ]
        }
      ]
    },
    {
      "cell_type": "code",
      "source": [
        "indexes=np.array([5,6,7,8])\n",
        "array4=array1d[indexes]\n",
        "print('일반 인덱스로 필터링 결과:',array4)"
      ],
      "metadata": {
        "colab": {
          "base_uri": "https://localhost:8080/"
        },
        "id": "6ieYiCjtIsn6",
        "outputId": "8c79bc13-44d7-49d3-fc2c-6cd081a22d8c"
      },
      "execution_count": 34,
      "outputs": [
        {
          "output_type": "stream",
          "name": "stdout",
          "text": [
            "일반 인덱스로 필터링 결과: [6 7 8 9]\n"
          ]
        }
      ]
    },
    {
      "cell_type": "markdown",
      "source": [
        "### 6. 행렬의 정렬 - sort()와 argsort()\n",
        "* 행렬 정렬\n",
        " * np.sort() : 원 행렬은 그대로 유지한 채 원 행렬의 정렬된 행렬 반환\n",
        " * ndarray.sort() : 행렬 자체를 정렬한 형태로 변환하며 반환값은 None"
      ],
      "metadata": {
        "id": "bofdx4FgI29Y"
      }
    },
    {
      "cell_type": "code",
      "source": [
        "org_array = np.array([3, 1, 9, 5])\n",
        "print('원본 행렬:', org_array)\n",
        "#np.sort()로 정렬\n",
        "sort_array1 = np.sort(org_array)\n",
        "print('np.sort() 호출 후 반환된 정렬 행렬:', sort_array1)\n",
        "print('np.sort() 호출 후 원본 행렬:', org_array)\n",
        "#ndarray.sort()로 정렬\n",
        "sort_array2 = org_array.sort()\n",
        "print('org_array.sort() 호출 후 반환된 행렬:', sort_array2)\n",
        "print('org_array.sort() 호출 후 원본 행렬:', org_array)"
      ],
      "metadata": {
        "colab": {
          "base_uri": "https://localhost:8080/"
        },
        "id": "BKjzw0_ELXW4",
        "outputId": "db8fcab1-2548-4db8-c826-80f44964cf10"
      },
      "execution_count": 38,
      "outputs": [
        {
          "output_type": "stream",
          "name": "stdout",
          "text": [
            "원본 행렬: [3 1 9 5]\n",
            "np.sort() 호출 후 반환된 정렬 행렬: [1 3 5 9]\n",
            "np.sort() 호출 후 원본 행렬: [3 1 9 5]\n",
            "org_array.sort() 호출 후 반환된 행렬: None\n",
            "org_array.sort() 호출 후 원본 행렬: [1 3 5 9]\n"
          ]
        }
      ]
    },
    {
      "cell_type": "code",
      "source": [
        "#내림차순 정렬\n",
        "sort_array1_desc = np.sort(org_array)[::-1]\n",
        "print('내림차순으로 정렬:', sort_array1_desc)"
      ],
      "metadata": {
        "colab": {
          "base_uri": "https://localhost:8080/"
        },
        "id": "qLqEuSRlLpMw",
        "outputId": "8a772f2b-70f3-4fc7-ab2f-7a706fe39cd7"
      },
      "execution_count": 40,
      "outputs": [
        {
          "output_type": "stream",
          "name": "stdout",
          "text": [
            "내림차순으로 정렬: [9 5 3 1]\n"
          ]
        }
      ]
    },
    {
      "cell_type": "code",
      "source": [
        "array2d=np.array([[8,12],\n",
        "                  [7,1]])\n",
        "\n",
        "sort_array2d_axis0=np.sort(array2d,axis=0)\n",
        "print('로우 방향으로 정렬:\\n',sort_array2d_axis0)\n",
        "\n",
        "sort_array2d_axis1=np.sort(array2d,axis=1)\n",
        "print('칼럼 방향으로 정렬:\\n',sort_array2d_axis1)"
      ],
      "metadata": {
        "colab": {
          "base_uri": "https://localhost:8080/"
        },
        "id": "46N5hn5fMY9l",
        "outputId": "cace580e-5f06-45e2-fbcf-4e10d47389c8"
      },
      "execution_count": 41,
      "outputs": [
        {
          "output_type": "stream",
          "name": "stdout",
          "text": [
            "로우 방향으로 정렬:\n",
            " [[ 7  1]\n",
            " [ 8 12]]\n",
            "칼럼 방향으로 정렬:\n",
            " [[ 8 12]\n",
            " [ 1  7]]\n"
          ]
        }
      ]
    },
    {
      "cell_type": "markdown",
      "source": [
        "* 정렬된 행렬의 인덱스 반환\n",
        " * np.argsort() : 정렬 향렬의 원본 행렬 인덱스를 ndarray 형으로 반환. 넘파이에서 매우 활용도가 높음. 넘파이의 ndarray는 메타 데이터를 가질 수 없기 때문"
      ],
      "metadata": {
        "id": "HfBaEop7MpeE"
      }
    },
    {
      "cell_type": "code",
      "source": [
        "org_array = np.array([3, 1, 9, 5])\n",
        "sort_indices = np.argsort(org_array)\n",
        "print(type(sort_indices))\n",
        "print('행렬 정렬 시 원본 행렬의 인덱스:', sort_indices)"
      ],
      "metadata": {
        "colab": {
          "base_uri": "https://localhost:8080/"
        },
        "id": "9jj8rMATMY3F",
        "outputId": "f81d5c18-8372-4bf2-b5b1-5def71280fb7"
      },
      "execution_count": 42,
      "outputs": [
        {
          "output_type": "stream",
          "name": "stdout",
          "text": [
            "<class 'numpy.ndarray'>\n",
            "행렬 정렬 시 원본 행렬의 인덱스: [1 0 3 2]\n"
          ]
        }
      ]
    },
    {
      "cell_type": "code",
      "source": [
        "org_array = np.array([3, 1, 9, 5])\n",
        "sort_indices_desc = np.argsort(org_array)[::-1]\n",
        "print('행렬 내림차순 정렬 시 원본 행렬의 인덱스:', sort_indices_desc)"
      ],
      "metadata": {
        "colab": {
          "base_uri": "https://localhost:8080/"
        },
        "id": "bxOz-_HaM_Cy",
        "outputId": "4765331b-841d-4990-d304-3b35c6bac337"
      },
      "execution_count": 44,
      "outputs": [
        {
          "output_type": "stream",
          "name": "stdout",
          "text": [
            "행렬 내림차순 정렬 시 원본 행렬의 인덱스: [2 3 0 1]\n"
          ]
        }
      ]
    },
    {
      "cell_type": "code",
      "source": [
        "import numpy as np\n",
        "\n",
        "name_array=np.array(['John','Mike','Sarah','Kate','Samuel'])\n",
        "score_array=np.array([78,95,84,98,88])\n",
        "\n",
        "sort_indices_asc=np.argsort(score_array)\n",
        "print('성적 오름차순 정렬 시 score_array의 인덱스:',sort_indices_asc)\n",
        "print('성적 오름차순으로 name_array의 이름 출력:',name_array[sort_indices_asc])"
      ],
      "metadata": {
        "colab": {
          "base_uri": "https://localhost:8080/"
        },
        "id": "AD14II6RNVlQ",
        "outputId": "a617468a-e41a-4c16-cb6d-57d6ba715552"
      },
      "execution_count": 45,
      "outputs": [
        {
          "output_type": "stream",
          "name": "stdout",
          "text": [
            "성적 오름차순 정렬 시 score_array의 인덱스: [0 2 4 1 3]\n",
            "성적 오름차순으로 name_array의 이름 출력: ['John' 'Sarah' 'Samuel' 'Mike' 'Kate']\n"
          ]
        }
      ]
    },
    {
      "cell_type": "markdown",
      "source": [
        "\n",
        "### 7. 선형대수 연산 - 행렬 내적과 전치행렬 구하기\n",
        "* 행렬 내적 (행렬 곱)\n"
      ],
      "metadata": {
        "id": "RNsdcZfuNdON"
      }
    },
    {
      "cell_type": "code",
      "source": [
        "A=np.array([[1,2,3],[4,5,6]])\n",
        "B=np.array([[7,8],[9,10],[11,12]])\n",
        "\n",
        "dot_product=np.dot(A,B)\n",
        "print('행렬 내적 결과:\\n',dot_product)"
      ],
      "metadata": {
        "colab": {
          "base_uri": "https://localhost:8080/"
        },
        "id": "G_YdDJELNiO5",
        "outputId": "d0ac4625-cbef-4be3-c624-558ce1d308c5"
      },
      "execution_count": 46,
      "outputs": [
        {
          "output_type": "stream",
          "name": "stdout",
          "text": [
            "행렬 내적 결과:\n",
            " [[ 58  64]\n",
            " [139 154]]\n"
          ]
        }
      ]
    },
    {
      "cell_type": "markdown",
      "source": [
        "* 전치 행렬"
      ],
      "metadata": {
        "id": "ij5-TG_vNpar"
      }
    },
    {
      "cell_type": "code",
      "source": [
        "A=np.array([[1,2],[3,4]])\n",
        "transpose_mat=np.transpose(A)\n",
        "print('A의 전치 행렬:\\n',transpose_mat)"
      ],
      "metadata": {
        "colab": {
          "base_uri": "https://localhost:8080/"
        },
        "id": "1WIR_wSYNoLu",
        "outputId": "335f7920-cf21-46ad-d16b-b72268094692"
      },
      "execution_count": 48,
      "outputs": [
        {
          "output_type": "stream",
          "name": "stdout",
          "text": [
            "A의 전치 행렬:\n",
            " [[1 3]\n",
            " [2 4]]\n"
          ]
        }
      ]
    }
  ]
}