{
 "cells": [
  {
   "cell_type": "markdown",
   "id": "5eeb355b",
   "metadata": {},
   "source": [
    "## 12. 시계열 데이터\n",
    "\n",
    "* 일정 시간 간격으로 어떤 값을 기록한 데이터에서 중요\n",
    "* datetime 라이브러리 : 날짜와 시간을 처리하는 등 다양한 기능을 제공\n",
    " * date 오브젝트 : 날짜를 처리\n",
    " * time 오브젝트 : 시간을 처리\n",
    " * datetime 오브젝트 : 날짜와 시간을 모두 처리\n"
   ]
  },
  {
   "cell_type": "code",
   "execution_count": 4,
   "id": "f2c9fb83",
   "metadata": {},
   "outputs": [
    {
     "name": "stdout",
     "output_type": "stream",
     "text": [
      "2022-04-09 02:15:12.907949\n",
      "2022-04-09 02:15:12.908947\n",
      "2022-04-09 02:15:12.908947\n",
      "1970-01-01 00:00:00\n",
      "1970-12-12 13:24:34\n",
      "19091 days, 2:15:12.908947\n",
      "<class 'datetime.timedelta'>\n",
      "-19092 days, 21:44:47.091053\n",
      "<class 'datetime.timedelta'>\n"
     ]
    }
   ],
   "source": [
    "# 라이브러리 호출\n",
    "from datetime import datetime\n",
    "\n",
    "\n",
    "# now, today 메서드로 현재시간 출력\n",
    "now1 = datetime.now()\n",
    "print(now1)\n",
    "\n",
    "now2 = datetime.today()\n",
    "print(now2)\n",
    "\n",
    "\n",
    "# 시간을 직접 입력하여 인자로 전달\n",
    "t1=datetime.now()\n",
    "t2=datetime(1970, 1, 1)\n",
    "t3=datetime(1970, 12, 12, 13, 24, 34)\n",
    "\n",
    "print(t1)\n",
    "print(t2)\n",
    "print(t3)\n",
    "\n",
    "\n",
    "# 시간 계산\n",
    "diff1 = t1-t2\n",
    "print(diff1)\n",
    "print(type(diff1))\n",
    "\n",
    "diff2 = t2-t1\n",
    "print(diff2)\n",
    "print(type(diff2))"
   ]
  },
  {
   "cell_type": "markdown",
   "id": "a2c86d1d",
   "metadata": {},
   "source": [
    "1. get_date_quanal 메서드에 TSLA라는 문자열을 전달해 테슬라의 주식 데이터를 내려 받은 다음 to_csv 메서드룰 사용하여 data 폴더 안에 'tesIa_stock_quandl.csv' 라는 이름으로 저장"
   ]
  },
  {
   "cell_type": "code",
   "execution_count": 5,
   "id": "04dd27af",
   "metadata": {},
   "outputs": [
    {
     "name": "stdout",
     "output_type": "stream",
     "text": [
      "              Open    High     Low   Close      Volume  ExDividend  \\\n",
      "Date                                                                 \n",
      "2018-03-27  304.00  304.27  277.18  279.18  13696168.0         0.0   \n",
      "2018-03-26  307.34  307.59  291.36  304.18   8324639.0         0.0   \n",
      "2018-03-23  311.25  311.61  300.45  301.54   6600538.0         0.0   \n",
      "2018-03-22  313.89  318.82  308.18  309.10   4914307.0         0.0   \n",
      "2018-03-21  310.25  322.44  310.19  316.53   5927881.0         0.0   \n",
      "\n",
      "            SplitRatio  AdjOpen  AdjHigh  AdjLow  AdjClose   AdjVolume  \n",
      "Date                                                                    \n",
      "2018-03-27         1.0   304.00   304.27  277.18    279.18  13696168.0  \n",
      "2018-03-26         1.0   307.34   307.59  291.36    304.18   8324639.0  \n",
      "2018-03-23         1.0   311.25   311.61  300.45    301.54   6600538.0  \n",
      "2018-03-22         1.0   313.89   318.82  308.18    309.10   4914307.0  \n",
      "2018-03-21         1.0   310.25   322.44  310.19    316.53   5927881.0  \n"
     ]
    }
   ],
   "source": [
    "import pandas as pd\n",
    "pd.core.common.is_list_like = pd.api.types.is_list_like\n",
    "import pandas_datareader as pdr\n",
    "\n",
    "# tesla에는 데이터프레임 저장\n",
    "tesla = pdr.get_data_quandl('TSLA', api_key = '9LRnE9y4Yr4Hx2NoKEaf')\n",
    "\n",
    "# tesla에 저장된 데이터프레임을 파일로 저장\n",
    "tesla.to_csv('C:/Users/Jaewon/ESAA/tesla_stock_quandl.csv')\n",
    "\n",
    "print(tesla.head())"
   ]
  },
  {
   "cell_type": "markdown",
   "id": "80583038",
   "metadata": {},
   "source": [
    "2. tesla 데이터프레임에 문자열로 저장된 Date 열을 datetime 오브젝트로 자료형 변환 \n",
    "3. read_csv 메서드로 데이터 집합(tesla_stock_quandl.csv)를 불러올 때 parse_date인자에 date 열을 전달해 Date 열을 datetime 형으로 변환"
   ]
  },
  {
   "cell_type": "code",
   "execution_count": 6,
   "id": "86baedc9",
   "metadata": {},
   "outputs": [
    {
     "name": "stdout",
     "output_type": "stream",
     "text": [
      "<class 'pandas.core.frame.DataFrame'>\n",
      "RangeIndex: 242 entries, 0 to 241\n",
      "Data columns (total 13 columns):\n",
      " #   Column      Non-Null Count  Dtype         \n",
      "---  ------      --------------  -----         \n",
      " 0   Date        242 non-null    datetime64[ns]\n",
      " 1   Open        242 non-null    float64       \n",
      " 2   High        242 non-null    float64       \n",
      " 3   Low         242 non-null    float64       \n",
      " 4   Close       242 non-null    float64       \n",
      " 5   Volume      242 non-null    float64       \n",
      " 6   ExDividend  242 non-null    float64       \n",
      " 7   SplitRatio  242 non-null    float64       \n",
      " 8   AdjOpen     242 non-null    float64       \n",
      " 9   AdjHigh     242 non-null    float64       \n",
      " 10  AdjLow      242 non-null    float64       \n",
      " 11  AdjClose    242 non-null    float64       \n",
      " 12  AdjVolume   242 non-null    float64       \n",
      "dtypes: datetime64[ns](1), float64(12)\n",
      "memory usage: 24.7 KB\n",
      "None\n"
     ]
    }
   ],
   "source": [
    "tesla = pd.read_csv('C:/Users/Jaewon/ESAA/tesla_stock_quandl.csv', parse_dates=[0])\n",
    "print(tesla.info())"
   ]
  },
  {
   "cell_type": "code",
   "execution_count": 7,
   "id": "c5d15131",
   "metadata": {},
   "outputs": [
    {
     "data": {
      "text/html": [
       "<div>\n",
       "<style scoped>\n",
       "    .dataframe tbody tr th:only-of-type {\n",
       "        vertical-align: middle;\n",
       "    }\n",
       "\n",
       "    .dataframe tbody tr th {\n",
       "        vertical-align: top;\n",
       "    }\n",
       "\n",
       "    .dataframe thead th {\n",
       "        text-align: right;\n",
       "    }\n",
       "</style>\n",
       "<table border=\"1\" class=\"dataframe\">\n",
       "  <thead>\n",
       "    <tr style=\"text-align: right;\">\n",
       "      <th></th>\n",
       "      <th>Date</th>\n",
       "      <th>Open</th>\n",
       "      <th>High</th>\n",
       "      <th>Low</th>\n",
       "      <th>Close</th>\n",
       "      <th>Volume</th>\n",
       "      <th>ExDividend</th>\n",
       "      <th>SplitRatio</th>\n",
       "      <th>AdjOpen</th>\n",
       "      <th>AdjHigh</th>\n",
       "      <th>AdjLow</th>\n",
       "      <th>AdjClose</th>\n",
       "      <th>AdjVolume</th>\n",
       "    </tr>\n",
       "  </thead>\n",
       "  <tbody>\n",
       "    <tr>\n",
       "      <th>237</th>\n",
       "      <td>2017-04-17</td>\n",
       "      <td>302.70</td>\n",
       "      <td>304.0000</td>\n",
       "      <td>298.68</td>\n",
       "      <td>301.44</td>\n",
       "      <td>4138736.0</td>\n",
       "      <td>0.0</td>\n",
       "      <td>1.0</td>\n",
       "      <td>302.70</td>\n",
       "      <td>304.0000</td>\n",
       "      <td>298.68</td>\n",
       "      <td>301.44</td>\n",
       "      <td>4138736.0</td>\n",
       "    </tr>\n",
       "    <tr>\n",
       "      <th>238</th>\n",
       "      <td>2017-04-13</td>\n",
       "      <td>296.70</td>\n",
       "      <td>307.3900</td>\n",
       "      <td>295.30</td>\n",
       "      <td>304.00</td>\n",
       "      <td>9284634.0</td>\n",
       "      <td>0.0</td>\n",
       "      <td>1.0</td>\n",
       "      <td>296.70</td>\n",
       "      <td>307.3900</td>\n",
       "      <td>295.30</td>\n",
       "      <td>304.00</td>\n",
       "      <td>9284634.0</td>\n",
       "    </tr>\n",
       "    <tr>\n",
       "      <th>239</th>\n",
       "      <td>2017-04-12</td>\n",
       "      <td>306.34</td>\n",
       "      <td>308.4481</td>\n",
       "      <td>296.32</td>\n",
       "      <td>296.84</td>\n",
       "      <td>6050682.0</td>\n",
       "      <td>0.0</td>\n",
       "      <td>1.0</td>\n",
       "      <td>306.34</td>\n",
       "      <td>308.4481</td>\n",
       "      <td>296.32</td>\n",
       "      <td>296.84</td>\n",
       "      <td>6050682.0</td>\n",
       "    </tr>\n",
       "    <tr>\n",
       "      <th>240</th>\n",
       "      <td>2017-04-11</td>\n",
       "      <td>313.38</td>\n",
       "      <td>313.4700</td>\n",
       "      <td>305.50</td>\n",
       "      <td>308.71</td>\n",
       "      <td>5724577.0</td>\n",
       "      <td>0.0</td>\n",
       "      <td>1.0</td>\n",
       "      <td>313.38</td>\n",
       "      <td>313.4700</td>\n",
       "      <td>305.50</td>\n",
       "      <td>308.71</td>\n",
       "      <td>5724577.0</td>\n",
       "    </tr>\n",
       "    <tr>\n",
       "      <th>241</th>\n",
       "      <td>2017-04-10</td>\n",
       "      <td>309.15</td>\n",
       "      <td>313.7299</td>\n",
       "      <td>308.71</td>\n",
       "      <td>312.39</td>\n",
       "      <td>7664458.0</td>\n",
       "      <td>0.0</td>\n",
       "      <td>1.0</td>\n",
       "      <td>309.15</td>\n",
       "      <td>313.7299</td>\n",
       "      <td>308.71</td>\n",
       "      <td>312.39</td>\n",
       "      <td>7664458.0</td>\n",
       "    </tr>\n",
       "  </tbody>\n",
       "</table>\n",
       "</div>"
      ],
      "text/plain": [
       "          Date    Open      High     Low   Close     Volume  ExDividend  \\\n",
       "237 2017-04-17  302.70  304.0000  298.68  301.44  4138736.0         0.0   \n",
       "238 2017-04-13  296.70  307.3900  295.30  304.00  9284634.0         0.0   \n",
       "239 2017-04-12  306.34  308.4481  296.32  296.84  6050682.0         0.0   \n",
       "240 2017-04-11  313.38  313.4700  305.50  308.71  5724577.0         0.0   \n",
       "241 2017-04-10  309.15  313.7299  308.71  312.39  7664458.0         0.0   \n",
       "\n",
       "     SplitRatio  AdjOpen   AdjHigh  AdjLow  AdjClose  AdjVolume  \n",
       "237         1.0   302.70  304.0000  298.68    301.44  4138736.0  \n",
       "238         1.0   296.70  307.3900  295.30    304.00  9284634.0  \n",
       "239         1.0   306.34  308.4481  296.32    296.84  6050682.0  \n",
       "240         1.0   313.38  313.4700  305.50    308.71  5724577.0  \n",
       "241         1.0   309.15  313.7299  308.71    312.39  7664458.0  "
      ]
     },
     "execution_count": 7,
     "metadata": {},
     "output_type": "execute_result"
    }
   ],
   "source": [
    "tesla.tail()"
   ]
  },
  {
   "cell_type": "markdown",
   "id": "67ff663c",
   "metadata": {},
   "source": [
    "4. dt 접근자를 사용할 수 있게 됨"
   ]
  },
  {
   "cell_type": "code",
   "execution_count": 8,
   "id": "7eff0579",
   "metadata": {},
   "outputs": [
    {
     "name": "stdout",
     "output_type": "stream",
     "text": [
      "          Date     Open      High       Low   Close      Volume  ExDividend  \\\n",
      "184 2017-06-30  363.710  366.7674  359.6187  361.61   5759458.0         0.0   \n",
      "185 2017-06-29  370.610  371.0000  354.1000  360.75   8180408.0         0.0   \n",
      "186 2017-06-28  366.680  371.7400  362.5200  371.24   6245040.0         0.0   \n",
      "187 2017-06-27  376.400  376.4000  362.0200  362.37   6884529.0         0.0   \n",
      "188 2017-06-26  386.690  386.9500  373.1000  377.49   6575285.0         0.0   \n",
      "189 2017-06-23  382.450  386.9900  379.3450  383.45   6176578.0         0.0   \n",
      "190 2017-06-22  377.990  385.0000  373.5700  382.61   7485677.0         0.0   \n",
      "191 2017-06-21  374.350  376.9900  368.0200  376.40   4900356.0         0.0   \n",
      "192 2017-06-20  376.670  378.8800  369.7300  372.24   7396357.0         0.0   \n",
      "193 2017-06-19  375.000  376.7000  367.8000  369.80   6392331.0         0.0   \n",
      "194 2017-06-16  377.975  378.0100  370.1000  371.40   6259666.0         0.0   \n",
      "195 2017-06-15  372.500  375.4600  366.4900  375.34  10371559.0         0.0   \n",
      "196 2017-06-14  381.085  384.2500  376.3100  380.66  12731997.0         0.0   \n",
      "197 2017-06-13  367.620  376.0000  366.6100  375.95  11693404.0         0.0   \n",
      "198 2017-06-12  357.990  364.5000  350.6200  359.01  10476833.0         0.0   \n",
      "199 2017-06-09  374.420  376.8700  354.8000  357.32  17160231.0         0.0   \n",
      "200 2017-06-08  363.750  371.9000  360.2200  370.00   8975028.0         0.0   \n",
      "201 2017-06-07  356.340  360.5000  355.1400  359.65   9287888.0         0.0   \n",
      "202 2017-06-06  344.700  359.4929  339.9700  352.85  10951473.0         0.0   \n",
      "203 2017-06-05  338.500  348.4400  334.2100  347.32   6737855.0         0.0   \n",
      "204 2017-06-02  339.770  342.8800  335.9300  339.85   5570256.0         0.0   \n",
      "205 2017-06-01  344.000  344.8800  337.2900  340.37   7580447.0         0.0   \n",
      "\n",
      "     SplitRatio  AdjOpen   AdjHigh    AdjLow  AdjClose   AdjVolume  \n",
      "184         1.0  363.710  366.7674  359.6187    361.61   5759458.0  \n",
      "185         1.0  370.610  371.0000  354.1000    360.75   8180408.0  \n",
      "186         1.0  366.680  371.7400  362.5200    371.24   6245040.0  \n",
      "187         1.0  376.400  376.4000  362.0200    362.37   6884529.0  \n",
      "188         1.0  386.690  386.9500  373.1000    377.49   6575285.0  \n",
      "189         1.0  382.450  386.9900  379.3450    383.45   6176578.0  \n",
      "190         1.0  377.990  385.0000  373.5700    382.61   7485677.0  \n",
      "191         1.0  374.350  376.9900  368.0200    376.40   4900356.0  \n",
      "192         1.0  376.670  378.8800  369.7300    372.24   7396357.0  \n",
      "193         1.0  375.000  376.7000  367.8000    369.80   6392331.0  \n",
      "194         1.0  377.975  378.0100  370.1000    371.40   6259666.0  \n",
      "195         1.0  372.500  375.4600  366.4900    375.34  10371559.0  \n",
      "196         1.0  381.085  384.2500  376.3100    380.66  12731997.0  \n",
      "197         1.0  367.620  376.0000  366.6100    375.95  11693404.0  \n",
      "198         1.0  357.990  364.5000  350.6200    359.01  10476833.0  \n",
      "199         1.0  374.420  376.8700  354.8000    357.32  17160231.0  \n",
      "200         1.0  363.750  371.9000  360.2200    370.00   8975028.0  \n",
      "201         1.0  356.340  360.5000  355.1400    359.65   9287888.0  \n",
      "202         1.0  344.700  359.4929  339.9700    352.85  10951473.0  \n",
      "203         1.0  338.500  348.4400  334.2100    347.32   6737855.0  \n",
      "204         1.0  339.770  342.8800  335.9300    339.85   5570256.0  \n",
      "205         1.0  344.000  344.8800  337.2900    340.37   7580447.0  \n"
     ]
    }
   ],
   "source": [
    "# 2017년 6월의 데이터만 추출\n",
    "print(tesla.loc[(tesla.Date.dt.year == 2017) & (tesla.Date.dt.month == 6)])"
   ]
  },
  {
   "cell_type": "markdown",
   "id": "76b0ea75",
   "metadata": {},
   "source": [
    "### datetime 오브젝트와 인덱스 一 Datetimeindex\n",
    "- datetime 오브젝트를 데이터프레임의 인덱스로 설정하면 원하는 시간의 데이터를 바로 추출할 수 있음\n",
    "\n",
    "1. Date 열을 tesla 데이터프레임의 인덱스로 지정"
   ]
  },
  {
   "cell_type": "code",
   "execution_count": 9,
   "id": "c448d6a8",
   "metadata": {},
   "outputs": [
    {
     "name": "stdout",
     "output_type": "stream",
     "text": [
      "DatetimeIndex(['2018-03-27', '2018-03-26', '2018-03-23', '2018-03-22',\n",
      "               '2018-03-21', '2018-03-20', '2018-03-19', '2018-03-16',\n",
      "               '2018-03-15', '2018-03-14',\n",
      "               ...\n",
      "               '2017-04-24', '2017-04-21', '2017-04-20', '2017-04-19',\n",
      "               '2017-04-18', '2017-04-17', '2017-04-13', '2017-04-12',\n",
      "               '2017-04-11', '2017-04-10'],\n",
      "              dtype='datetime64[ns]', name='Date', length=242, freq=None)\n"
     ]
    }
   ],
   "source": [
    "tesla.index = tesla['Date']\n",
    "print(tesla.index)"
   ]
  },
  {
   "cell_type": "markdown",
   "id": "5ba84daf",
   "metadata": {},
   "source": [
    "2. 2017년의 데이터 추출"
   ]
  },
  {
   "cell_type": "code",
   "execution_count": 10,
   "id": "0928409d",
   "metadata": {},
   "outputs": [
    {
     "name": "stdout",
     "output_type": "stream",
     "text": [
      "                 Date    Open      High     Low   Close\n",
      "Date                                                   \n",
      "2017-12-29 2017-12-29  316.18  316.4100  310.00  311.35\n",
      "2017-12-28 2017-12-28  311.75  315.8200  309.54  315.36\n",
      "2017-12-27 2017-12-27  316.00  317.6800  310.75  311.64\n",
      "2017-12-26 2017-12-26  323.83  323.9400  316.58  317.29\n",
      "2017-12-22 2017-12-22  329.51  330.9214  324.82  325.20\n"
     ]
    }
   ],
   "source": [
    "print(tesla.loc['2017'].iloc[:5,:5])"
   ]
  },
  {
   "cell_type": "markdown",
   "id": "ce6d59e7",
   "metadata": {},
   "source": [
    "2. 2017년 6월의 데이터 추출"
   ]
  },
  {
   "cell_type": "code",
   "execution_count": 11,
   "id": "c919b987",
   "metadata": {},
   "outputs": [
    {
     "name": "stdout",
     "output_type": "stream",
     "text": [
      "                 Date    Open      High       Low   Close\n",
      "Date                                                     \n",
      "2017-06-30 2017-06-30  363.71  366.7674  359.6187  361.61\n",
      "2017-06-29 2017-06-29  370.61  371.0000  354.1000  360.75\n",
      "2017-06-28 2017-06-28  366.68  371.7400  362.5200  371.24\n",
      "2017-06-27 2017-06-27  376.40  376.4000  362.0200  362.37\n",
      "2017-06-26 2017-06-26  386.69  386.9500  373.1000  377.49\n"
     ]
    }
   ],
   "source": [
    "print(tesla.loc['2017-06'].iloc[:5,:5])"
   ]
  },
  {
   "cell_type": "markdown",
   "id": "9faac3c1",
   "metadata": {},
   "source": [
    "## 시간 간격과 인덱스 - TimedeltaIndex\n",
    "- 시간 간격을 인덱스로 지정해 데이터 호출하기\n",
    "\n",
    "1. Date 열에서 Date 열의 최솟값 (2010-06-29)를 빼 데이터를 수집한 이후에 시간이 얼마나 흘렀는지 파악, 이를 ref_date열로 추가"
   ]
  },
  {
   "cell_type": "code",
   "execution_count": 12,
   "id": "cae2cc57",
   "metadata": {},
   "outputs": [
    {
     "name": "stdout",
     "output_type": "stream",
     "text": [
      "                 Date    Open    High     Low   Close      Volume  ExDividend  \\\n",
      "Date                                                                            \n",
      "2018-03-27 2018-03-27  304.00  304.27  277.18  279.18  13696168.0         0.0   \n",
      "2018-03-26 2018-03-26  307.34  307.59  291.36  304.18   8324639.0         0.0   \n",
      "2018-03-23 2018-03-23  311.25  311.61  300.45  301.54   6600538.0         0.0   \n",
      "2018-03-22 2018-03-22  313.89  318.82  308.18  309.10   4914307.0         0.0   \n",
      "2018-03-21 2018-03-21  310.25  322.44  310.19  316.53   5927881.0         0.0   \n",
      "\n",
      "            SplitRatio  AdjOpen  AdjHigh  AdjLow  AdjClose   AdjVolume  \\\n",
      "Date                                                                     \n",
      "2018-03-27         1.0   304.00   304.27  277.18    279.18  13696168.0   \n",
      "2018-03-26         1.0   307.34   307.59  291.36    304.18   8324639.0   \n",
      "2018-03-23         1.0   311.25   311.61  300.45    301.54   6600538.0   \n",
      "2018-03-22         1.0   313.89   318.82  308.18    309.10   4914307.0   \n",
      "2018-03-21         1.0   310.25   322.44  310.19    316.53   5927881.0   \n",
      "\n",
      "           ref_date  \n",
      "Date                 \n",
      "2018-03-27 351 days  \n",
      "2018-03-26 350 days  \n",
      "2018-03-23 347 days  \n",
      "2018-03-22 346 days  \n",
      "2018-03-21 345 days  \n"
     ]
    }
   ],
   "source": [
    "tesla['ref_date'] = tesla['Date'] - tesla['Date'].min( ) \n",
    "print(tesla.head( ))"
   ]
  },
  {
   "cell_type": "markdown",
   "id": "b408942f",
   "metadata": {},
   "source": [
    "2. ref_date 열을 인덱스로 지정해 시간 간격을 이용하여 데이터 추출"
   ]
  },
  {
   "cell_type": "code",
   "execution_count": 13,
   "id": "d5691cd5",
   "metadata": {},
   "outputs": [
    {
     "name": "stdout",
     "output_type": "stream",
     "text": [
      "               Date    Open    High     Low   Close\n",
      "ref_date                                           \n",
      "351 days 2018-03-27  304.00  304.27  277.18  279.18\n",
      "350 days 2018-03-26  307.34  307.59  291.36  304.18\n",
      "347 days 2018-03-23  311.25  311.61  300.45  301.54\n",
      "346 days 2018-03-22  313.89  318.82  308.18  309.10\n",
      "345 days 2018-03-21  310.25  322.44  310.19  316.53\n"
     ]
    }
   ],
   "source": [
    "tesla.index = tesla['ref_date']\n",
    "print(tesla.iloc[:5,:5])"
   ]
  },
  {
   "cell_type": "markdown",
   "id": "4159f950",
   "metadata": {},
   "source": [
    "3. 데이터 수집 이후 최초 5일의 데이터 추출"
   ]
  },
  {
   "cell_type": "code",
   "execution_count": 14,
   "id": "a18bf0a9",
   "metadata": {},
   "outputs": [
    {
     "name": "stdout",
     "output_type": "stream",
     "text": [
      "               Date    Open      High     Low   Close\n",
      "ref_date                                             \n",
      "3 days   2017-04-13  296.70  307.3900  295.30  304.00\n",
      "2 days   2017-04-12  306.34  308.4481  296.32  296.84\n",
      "1 days   2017-04-11  313.38  313.4700  305.50  308.71\n",
      "0 days   2017-04-10  309.15  313.7299  308.71  312.39\n"
     ]
    }
   ],
   "source": [
    "print(tesla['5 days':].iloc[:5,:5])"
   ]
  },
  {
   "cell_type": "markdown",
   "id": "fe8983a0",
   "metadata": {},
   "source": [
    "## 시간 범위와 인덱스\n",
    "- 특정 일에 누락된 데이터도 포함시켜 데이터를 살펴보기 위해 임의로 시간 범위 생성하여 인덱스로 지정\n",
    "\n",
    "1. 에볼라 데이터 집합의 앞쪽에 2015년 01월 01일의 데이터 누락 확인"
   ]
  },
  {
   "cell_type": "code",
   "execution_count": 17,
   "id": "be59a143",
   "metadata": {
    "scrolled": true
   },
   "outputs": [
    {
     "name": "stdout",
     "output_type": "stream",
     "text": [
      "        Date  Day  Cases_Guinea  Cases_Liberia  Cases_SierraLeone\n",
      "0 2015-01-05  289        2776.0            NaN            10030.0\n",
      "1 2015-01-04  288        2775.0            NaN             9780.0\n",
      "2 2015-01-03  287        2769.0         8166.0             9722.0\n",
      "3 2015-01-02  286           NaN         8157.0                NaN\n",
      "4 2014-12-31  284        2730.0         8115.0             9633.0\n",
      "          Date  Day  Cases_Guinea  Cases_Liberia  Cases_SierraLeone\n",
      "117 2014-03-27    5         103.0            8.0                6.0\n",
      "118 2014-03-26    4          86.0            NaN                NaN\n",
      "119 2014-03-25    3          86.0            NaN                NaN\n",
      "120 2014-03-24    2          86.0            NaN                NaN\n",
      "121 2014-03-22    0          49.0            NaN                NaN\n"
     ]
    }
   ],
   "source": [
    "ebola = pd.read_csv('C:/Users/Jaewon/ESAA/country_timeseries.csv', parse_dates=[0])\n",
    "print(ebola.iloc[:5,:5])\n",
    "print(ebola.iloc[-5:,:5])\n",
    "\n",
    "# 2015년 1월 1일, 2014년 3월 23일 데이터 누락"
   ]
  },
  {
   "cell_type": "markdown",
   "id": "d75bc7c1",
   "metadata": {},
   "source": [
    "2. date_range 메서드를 사용해 2014년 12월 31일부터 2015년 1월 5일 사이의 시간 인덱스(Datetime Index) 생성"
   ]
  },
  {
   "cell_type": "code",
   "execution_count": 18,
   "id": "09ce7071",
   "metadata": {},
   "outputs": [
    {
     "name": "stdout",
     "output_type": "stream",
     "text": [
      "DatetimeIndex(['2014-12-31', '2015-01-01', '2015-01-02', '2015-01-03',\n",
      "               '2015-01-04', '2015-01-05'],\n",
      "              dtype='datetime64[ns]', freq='D')\n"
     ]
    }
   ],
   "source": [
    "head_range = pd.date_range(start='2014-12-31', end='2015-01-05')\n",
    "print(head_range)"
   ]
  },
  {
   "cell_type": "markdown",
   "id": "2a818e6c",
   "metadata": {},
   "source": [
    "3. 원본데이터 손상을 방지하기 위해 데이터프레임 앞쪽 5개의 데이터를 추출해 새로운 데이터프레임 생성\n",
    "- Date 열을 인덱스로 먼저 지정하지 않으면 오류 발생"
   ]
  },
  {
   "cell_type": "code",
   "execution_count": 19,
   "id": "7f69399f",
   "metadata": {},
   "outputs": [
    {
     "name": "stdout",
     "output_type": "stream",
     "text": [
      "                 Date  Day  Cases_Guinea  Cases_Liberia  Cases_SierraLeone\n",
      "Date                                                                      \n",
      "2015-01-05 2015-01-05  289        2776.0            NaN            10030.0\n",
      "2015-01-04 2015-01-04  288        2775.0            NaN             9780.0\n",
      "2015-01-03 2015-01-03  287        2769.0         8166.0             9722.0\n",
      "2015-01-02 2015-01-02  286           NaN         8157.0                NaN\n",
      "2014-12-31 2014-12-31  284        2730.0         8115.0             9633.0\n"
     ]
    }
   ],
   "source": [
    "# Date 열을 인덱스로 지정 후 2에서 생성한 시간 범위 인덱스로 지정\n",
    "ebola_5 = ebola.head()\n",
    "ebola_5.index = ebola_5['Date']\n",
    "ebola_5.reindex(head_range)\n",
    "print(ebola_5.iloc[:5, :5])"
   ]
  },
  {
   "cell_type": "markdown",
   "id": "70128a93",
   "metadata": {},
   "source": [
    "- 시간 범위의 주기 설정하기\n",
    " - 시간 범위를 인덱스로 지정시 DatetimeIndex 자료형 생성\n",
    " - DatetimeIndex에는 freq 속성 포함. freq 속성값을 지정해 DatetimeIndex 생성 가능\n",
    " - 사용 가능한 시간 주기  \n",
    "1) B : 평일만 포함  \n",
    "2) C : 사용자가 지정한 평일만 포함  \n",
    "3) D : 달력 일자 단위  \n",
    "4) W : 주간 단위  \n",
    "5) M : 월 마지막 날만 포함  \n",
    "6) SM : 15일과 월 마지막 날만 포함  \n",
    "7) BM : M 주기의 값이 휴일이면 제외하고 평일만 포함  \n",
    "8) CBM : BM에 사용자 정의 평일을 적용  \n",
    "9) MS : 월 시작일만 포함\n",
    "10) SMS : 월 시작일과 15일만 포함\n",
    "11) BMS :MS 주기의 값어 휴일어면 제외하고 평일만 포함\n",
    "12) CBMS : BMS에 사용자 정의 평일을 적용  \n",
    "13) Q : 3.6, 9, 12월 분기 마지막 날만 포함  \n",
    "14) BQ : 3. 6, 9. 12월 분기 마지막 날이 휴얼어면 제외하고 평일만 포함  \n",
    "15) QS : 3. 6, 9, 12월 분기 시작일만 포함  \n",
    "16) BQS : 3, 6, 9, 12월 분기 시작일어 휴일이면 제외하고 평일만 포함  \n",
    "17) A : 년의 마지막 날만 포함  \n",
    "18) BA : 년의 아지막 날어 휴일어면 제외하고 평일만 포함 \n",
    "19) AS : 년의 시작일만 포함  \n",
    "19) BAS : 년의 시작일이 휴일이면 제외하고 평일만 포함 \n",
    "20) BH : 평일을 시간 단위로 포함(09：00 - 16：00)  \n",
    "21) H : 시간 단위로 포함(00：00 - 00：00)"
   ]
  }
 ],
 "metadata": {
  "kernelspec": {
   "display_name": "Python 3 (ipykernel)",
   "language": "python",
   "name": "python3"
  },
  "language_info": {
   "codemirror_mode": {
    "name": "ipython",
    "version": 3
   },
   "file_extension": ".py",
   "mimetype": "text/x-python",
   "name": "python",
   "nbconvert_exporter": "python",
   "pygments_lexer": "ipython3",
   "version": "3.9.7"
  }
 },
 "nbformat": 4,
 "nbformat_minor": 5
}
