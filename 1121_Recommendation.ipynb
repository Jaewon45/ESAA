{
  "nbformat": 4,
  "nbformat_minor": 0,
  "metadata": {
    "colab": {
      "provenance": [],
      "toc_visible": true,
      "authorship_tag": "ABX9TyOk6MVqAu0RoD7pG6dhjuPY",
      "include_colab_link": true
    },
    "kernelspec": {
      "name": "python3",
      "display_name": "Python 3"
    },
    "language_info": {
      "name": "python"
    }
  },
  "cells": [
    {
      "cell_type": "markdown",
      "metadata": {
        "id": "view-in-github",
        "colab_type": "text"
      },
      "source": [
        "<a href=\"https://colab.research.google.com/github/Jaewon45/ESAA_2022/blob/main/1121_Recommendation.ipynb\" target=\"_parent\"><img src=\"https://colab.research.google.com/assets/colab-badge.svg\" alt=\"Open In Colab\"/></a>"
      ]
    },
    {
      "cell_type": "markdown",
      "source": [
        "## 08. 파이썬 추천 시스템 패키지 - Surprise\n",
        "### Surprise 패키지 소개\n",
        "- 파이썬 기반의 추천 시스템 구축을 위한 전용 패키지 중 하나로 파이썬 기반에서 사이킷런과 유사한 API와 프레임워크를 제공\n",
        "- 다양한 추천 알고리즘. 예를 들어 사용자 또는 아이템 기반 최근접 이웃 협업 필터링, SVD, SVD++, NMF 기반의 잠재 요인 협업 필터링을 쉽게 적용해 추천 시스템을 구축할 수 있음"
      ],
      "metadata": {
        "id": "QY40fnG1q6k9"
      }
    },
    {
      "cell_type": "code",
      "source": [
        "pip install scikit-surprise"
      ],
      "metadata": {
        "colab": {
          "base_uri": "https://localhost:8080/"
        },
        "id": "jdMooGxjrKwB",
        "outputId": "33655a96-6a17-4067-ef6d-03cd94c9d53c"
      },
      "execution_count": 2,
      "outputs": [
        {
          "output_type": "stream",
          "name": "stdout",
          "text": [
            "Looking in indexes: https://pypi.org/simple, https://us-python.pkg.dev/colab-wheels/public/simple/\n",
            "Collecting scikit-surprise\n",
            "  Downloading scikit-surprise-1.1.1.tar.gz (11.8 MB)\n",
            "\u001b[K     |████████████████████████████████| 11.8 MB 23.7 MB/s \n",
            "\u001b[?25hRequirement already satisfied: joblib>=0.11 in /usr/local/lib/python3.7/dist-packages (from scikit-surprise) (1.2.0)\n",
            "Requirement already satisfied: numpy>=1.11.2 in /usr/local/lib/python3.7/dist-packages (from scikit-surprise) (1.21.6)\n",
            "Requirement already satisfied: scipy>=1.0.0 in /usr/local/lib/python3.7/dist-packages (from scikit-surprise) (1.7.3)\n",
            "Requirement already satisfied: six>=1.10.0 in /usr/local/lib/python3.7/dist-packages (from scikit-surprise) (1.15.0)\n",
            "Building wheels for collected packages: scikit-surprise\n",
            "  Building wheel for scikit-surprise (setup.py) ... \u001b[?25l\u001b[?25hdone\n",
            "  Created wheel for scikit-surprise: filename=scikit_surprise-1.1.1-cp37-cp37m-linux_x86_64.whl size=1633981 sha256=cf1753974d054859092e3cede0258a530f894c53d9002d9e7bf514b6160f7ca5\n",
            "  Stored in directory: /root/.cache/pip/wheels/76/44/74/b498c42be47b2406bd27994e16c5188e337c657025ab400c1c\n",
            "Successfully built scikit-surprise\n",
            "Installing collected packages: scikit-surprise\n",
            "Successfully installed scikit-surprise-1.1.1\n"
          ]
        }
      ]
    },
    {
      "cell_type": "markdown",
      "source": [
        "### Surprise를 이용한 추천 시스템 구축\n",
        "- https://surpsrise.readthedocs.io/en/stable/ 참고"
      ],
      "metadata": {
        "id": "ep30JssmrdEv"
      }
    },
    {
      "cell_type": "code",
      "source": [
        "from surprise import SVD\n",
        "from surprise import Dataset\n",
        "from surprise import accuracy\n",
        "from surprise.model_selection import train_test_split"
      ],
      "metadata": {
        "id": "GqX4xDWUrNDN"
      },
      "execution_count": 3,
      "outputs": []
    },
    {
      "cell_type": "markdown",
      "source": [
        "- Surprise에서의 데이터로딩은 Dataset의 클래스를 이용해서만 가능함\n",
        "- userId, movieId, rating과 같은 주요 데이터가 row 레벨 형태로 되어있는 포맷의 데이터만 처리함\n",
        "- load_builtin() : 무비렌즈 사이트에서 제공하는 과거 버전 데이터 세트 로딩"
      ],
      "metadata": {
        "id": "BYmEbUoUsnln"
      }
    },
    {
      "cell_type": "code",
      "source": [
        "data = Dataset.load_builtin('ml-100k') # 10만개 평점데이터\n",
        "# 수행 시마다 동일하게 데이터를 내려받기 위해 random_state값 부여\n",
        "trainset, testset = train_test_split(data, test_size=0.25, random_state=0)"
      ],
      "metadata": {
        "id": "tR64t3wOs8Ox",
        "colab": {
          "base_uri": "https://localhost:8080/"
        },
        "outputId": "a9140ae4-834e-4e05-ea11-20f1a31d14f8"
      },
      "execution_count": 5,
      "outputs": [
        {
          "output_type": "stream",
          "name": "stdout",
          "text": [
            "Dataset ml-100k could not be found. Do you want to download it? [Y/n] Y\n",
            "Trying to download dataset from http://files.grouplens.org/datasets/movielens/ml-100k.zip...\n",
            "Done! Dataset ml-100k has been saved to /root/.surprise_data/ml-100k\n"
          ]
        }
      ]
    },
    {
      "cell_type": "markdown",
      "source": [
        "- 한번 로컬 디렉터리에 데이터 저장 후에는 load_builtin 호출시 무비렌즈 사이트에 접속하지 않고 저장된 데이터 세트를 로딩\n",
        "- Surprise는 자체적으로 로우 레벨의 데이터를 칼럼 레벨의 데이터로 변경하므로 원본인 로우 레벨의 사용자-아이템 평점 데이터를 데이터 세트로 적용해야 함"
      ],
      "metadata": {
        "id": "IU-zMu5EqdC0"
      }
    },
    {
      "cell_type": "code",
      "source": [
        "# SVD로 잠재 요인 협업 필터링 수행\n",
        "# algo = SVD()와 같이 알고리즘 객체를 생성 후 fit(학습 데이터 세트)을 수행해 학습 데이터 세트 기반으로 추천 알고리즘을 학습\n",
        "algo = SVD()\n",
        "algo.fit(trainset)"
      ],
      "metadata": {
        "colab": {
          "base_uri": "https://localhost:8080/"
        },
        "id": "AXTK0u8fqWeY",
        "outputId": "6b14534e-0b9d-4cb1-a95a-f987352969af"
      },
      "execution_count": 6,
      "outputs": [
        {
          "output_type": "execute_result",
          "data": {
            "text/plain": [
              "<surprise.prediction_algorithms.matrix_factorization.SVD at 0x7f6f1e82f3d0>"
            ]
          },
          "metadata": {},
          "execution_count": 6
        }
      ]
    },
    {
      "cell_type": "code",
      "source": [
        "predictions = algo.test(testset)\n",
        "print('prediction type:', type(predictions), ' size:', len(predictions))\n",
        "print( 'prediction 결과의 최초 5개 추출')\n",
        "predictions[:5]"
      ],
      "metadata": {
        "colab": {
          "base_uri": "https://localhost:8080/"
        },
        "id": "o7tM5wObrDFZ",
        "outputId": "692b2e7f-582e-42b4-9062-ebba73c8f0cb"
      },
      "execution_count": 8,
      "outputs": [
        {
          "output_type": "stream",
          "name": "stdout",
          "text": [
            "prediction type: <class 'list'>  size: 25000\n",
            "prediction 결과의 최초 5개 추출\n"
          ]
        },
        {
          "output_type": "execute_result",
          "data": {
            "text/plain": [
              "[Prediction(uid='120', iid='282', r_ui=4.0, est=3.755134317135357, details={'was_impossible': False}),\n",
              " Prediction(uid='882', iid='291', r_ui=4.0, est=3.9259829386686036, details={'was_impossible': False}),\n",
              " Prediction(uid='535', iid='507', r_ui=5.0, est=3.9464110125896705, details={'was_impossible': False}),\n",
              " Prediction(uid='697', iid='244', r_ui=5.0, est=3.636541760055754, details={'was_impossible': False}),\n",
              " Prediction(uid='751', iid='385', r_ui=4.0, est=3.405112926172189, details={'was_impossible': False})]"
            ]
          },
          "metadata": {},
          "execution_count": 8
        }
      ]
    },
    {
      "cell_type": "markdown",
      "source": [
        "- 호출 결과는 리스트\n",
        "- 호출 결과로 반환된 리스트 객체는 25000개의 Prediction 객체를 내부에 가짐\n",
        "- Prediction 객체는 Surprise 패키지에서 제공하는 데이터 타입이며 개별 사용자 아이디(uid), 영화 아이디(iid)와 실제 평점 정보(r_ui)에 기반해 Surprise의 추천 예측 평점(est)데이터를 튜플 형태로 가짐\n",
        "- Prediction 객체의 details 속성이 True라면 내부 처리시 추천 예측값을 생성할 수 없는 데이터라는 의미"
      ],
      "metadata": {
        "id": "WDpogoRTrddb"
      }
    },
    {
      "cell_type": "code",
      "source": [
        "# Prediction 객체에서 uid, iid, est 속성 추출\n",
        "[ (pred.uid, pred.iid, pred.est) for pred in predictions[:3]]"
      ],
      "metadata": {
        "colab": {
          "base_uri": "https://localhost:8080/"
        },
        "id": "fhhIE4dErTFa",
        "outputId": "70445515-215e-4b52-d3e0-3b2f299dad16"
      },
      "execution_count": 9,
      "outputs": [
        {
          "output_type": "execute_result",
          "data": {
            "text/plain": [
              "[('120', '282', 3.755134317135357),\n",
              " ('882', '291', 3.9259829386686036),\n",
              " ('535', '507', 3.9464110125896705)]"
            ]
          },
          "metadata": {},
          "execution_count": 9
        }
      ]
    },
    {
      "cell_type": "code",
      "source": [
        "# 사용자의 아이템에 대한 추천 평점을 예측하는 predict() 메서드\n",
        "# 사용자 아이디, 아이템 아이디는 문자열로 입력해야 함\n",
        "uid = str(196)\n",
        "iid = str(302)\n",
        "pred = algo.predict(uid, iid)\n",
        "print(pred)"
      ],
      "metadata": {
        "colab": {
          "base_uri": "https://localhost:8080/"
        },
        "id": "oVXcrPr8sIkd",
        "outputId": "88ed4b34-5ad7-4d28-83a0-8a03b53af18b"
      },
      "execution_count": 10,
      "outputs": [
        {
          "output_type": "stream",
          "name": "stdout",
          "text": [
            "user: 196        item: 302        r_ui = None   est = 4.30   {'was_impossible': False}\n"
          ]
        }
      ]
    },
    {
      "cell_type": "markdown",
      "source": [
        "- 개별 사용자와 아이템 정보 입력시 추천 예측 평점을 est로 반환\n",
        "- test()는 데이터세트의 모든 사용자와 아이템 아이디에 대해서 predict()를 반복적으로 수행한 결과"
      ],
      "metadata": {
        "id": "pm9tHxf4sgp_"
      }
    },
    {
      "cell_type": "code",
      "source": [
        "accuracy.rmse(predictions)"
      ],
      "metadata": {
        "colab": {
          "base_uri": "https://localhost:8080/"
        },
        "id": "mk4fhXynsdeF",
        "outputId": "01645b40-fcb2-4df7-ad6e-473c7b6dcf1a"
      },
      "execution_count": 11,
      "outputs": [
        {
          "output_type": "stream",
          "name": "stdout",
          "text": [
            "RMSE: 0.9511\n"
          ]
        },
        {
          "output_type": "execute_result",
          "data": {
            "text/plain": [
              "0.9510524104101946"
            ]
          },
          "metadata": {},
          "execution_count": 11
        }
      ]
    },
    {
      "cell_type": "markdown",
      "source": [
        "### Surprise 주요 모듈 소개"
      ],
      "metadata": {
        "id": "C05cJq3sw29Z"
      }
    },
    {
      "cell_type": "markdown",
      "source": [
        "#### 1) Dataset\n",
        "- user_id, item_id, rating 데이터가 로우레벨로 된 데이터 세트에만 적용 가능\n",
        "- 네번째 칼럼부터는 아예 로딩을 수행하지 않고 제외함\n",
        "- API\n",
        " - Dataset.load_builtin() : 무비렌즈 아카이브 FTP 서버에서 무비렌즈 데이터를 내려받음\n",
        " - Dataset.load_from_file(file_path, reader) : OS 파일에서 데이터를 로딩할 때 사용\n",
        " - Dataset.load_from_df(df, reader) : 판다스의 DataFrame에서 데이터를 로딩\n",
        "\n",
        "#### 2) OS 파일 데이터를 Surprise 데이터 세트로 로딩\n",
        "- Surprise에 OS 파일 로딩시 데이터 파일에 칼럼명을 가지는 헤더 문자열이 있어서는 안됨"
      ],
      "metadata": {
        "id": "H8ouaCNvs3Uc"
      }
    },
    {
      "cell_type": "code",
      "source": [
        "import pandas as pd\n",
        "\n",
        "ratings = pd.read_csv('ratings.csv')\n",
        "# ratings_noh.csv 파일로 업로드 시 인덱스와 헤더를 모두 제거한 새로운 파일 생성\n",
        "ratings.to_csv('ratings_noh.csv', index = False, header = False)"
      ],
      "metadata": {
        "id": "q7vp2OLdsxqq"
      },
      "execution_count": 12,
      "outputs": []
    },
    {
      "cell_type": "markdown",
      "source": [
        "- Reader 클래스 : 로딩될 데이터 파일의 파싱 포맷 정의"
      ],
      "metadata": {
        "id": "3sR7e7mLvW2m"
      }
    },
    {
      "cell_type": "code",
      "source": [
        "from surprise import Reader\n",
        "\n",
        "reader = Reader(line_format = 'user item rating timestamp', sep = ',', rating_scale = (0.5, 5))\n",
        "# 칼럼 헤더가 없고, 4개의 칼럼이 콤마로만 분리됨\n",
        "# 각 필드의 칼럼명과 칼럼 분리 문자, 최소~최대 평점을 입력해 객체로 생성\n",
        "data = Dataset.load_from_file('ratings_noh.csv', reader = reader)\n",
        "# reader 객체를 참조해 데이터 파일 파싱하며 진행\n",
        "# 앞의 3개 칼럼만 로딩되고 timestamp 칼럼은 제외됨"
      ],
      "metadata": {
        "id": "bHTR-7S-vQmn"
      },
      "execution_count": 13,
      "outputs": []
    },
    {
      "cell_type": "markdown",
      "source": [
        "- Surpsrise 데이터 세트는 기본적으로 무비렌즈 데이터 형식을 따르므로 무비렌즈 데이터 형식이 아닌 다른 OS 파일의 경우 Reader 클래스를 먼저 설정해야 함\n",
        "- Reader 클래스의 주요 생성 파라미터\n",
        " - line_format(string) : 칼럼을 순서대로 나열, 입력된 문자열을 공백으로 분리해 칼럼으로 인식\n",
        " - sep(char) : 칼럼을 분리하는 분리자, 디폴트는 \\t\n",
        " - rating_scale (tuple, optional) : 평점 값의 최소 ~ 최대 평점을 설정, 디폴트는 (1, 5)"
      ],
      "metadata": {
        "id": "_eo5mOGfvQaJ"
      }
    },
    {
      "cell_type": "code",
      "source": [
        "trainset, testset = train_test_split(data, test_size = .25, random_state = 0)\n",
        "\n",
        "# 수행 시마다 동일한 결과를 도출하기 위해 random_state 설정\n",
        "# n_factors : 잠재 요인 크기 K 값을 의미\n",
        "algo = SVD(n_factors = 50, random_state = 0)\n",
        "\n",
        "# 학습 데이터 세트로 학습하고 나서 테스트 데이터 세트로 평점 예측 후 RMSE 평가\n",
        "algo.fit(trainset)\n",
        "predictions = algo.test( testset )\n",
        "accuracy.rmse(predictions)"
      ],
      "metadata": {
        "colab": {
          "base_uri": "https://localhost:8080/"
        },
        "id": "hJ5ahuJSwHTL",
        "outputId": "166e8570-fb3a-48e5-e3eb-3060943dba7f"
      },
      "execution_count": 14,
      "outputs": [
        {
          "output_type": "stream",
          "name": "stdout",
          "text": [
            "RMSE: 0.8682\n"
          ]
        },
        {
          "output_type": "execute_result",
          "data": {
            "text/plain": [
              "0.8681952927143516"
            ]
          },
          "metadata": {},
          "execution_count": 14
        }
      ]
    },
    {
      "cell_type": "markdown",
      "source": [
        "#### 3) 판다스 DataFrame에서 Surpsrise 데이터 세트로 로딩\n",
        "- DataFrame 역시 사용자 아이디, 아이템 아이디, 평점 칼럼의 형식을 지켜야 함"
      ],
      "metadata": {
        "id": "sN-reChRwS-1"
      }
    },
    {
      "cell_type": "code",
      "source": [
        "import pandas as pd\n",
        "from surprise import Reader, Dataset\n",
        "\n",
        "ratings = pd.read_csv('ratings.csv')\n",
        "reader = Reader(rating_scale = (0.5, 5.0))\n",
        "\n",
        "# ratings DataFrame에서 칼럼은 사용자 아이디, 아이템 아이디, 평점 순서를 지켜야 합니다\n",
        "data = Dataset.load_from_df(ratings[['userId', 'movieId', 'rating']], reader) # 파라미터로 입력\n",
        "trainset, testset = train_test_split(data, test_size = .25, random_state = 0)\n",
        "\n",
        "algo = SVD(n_factors = 50, random_state = 0)\n",
        "algo.fit(trainset)\n",
        "predictions = algo.test( testset )\n",
        "accuracy.rmse(predictions)"
      ],
      "metadata": {
        "colab": {
          "base_uri": "https://localhost:8080/"
        },
        "id": "D8boH2EiwRl9",
        "outputId": "8b6683bf-f028-4276-8bed-11f4fd6b1f97"
      },
      "execution_count": 15,
      "outputs": [
        {
          "output_type": "stream",
          "name": "stdout",
          "text": [
            "RMSE: 0.8682\n"
          ]
        },
        {
          "output_type": "execute_result",
          "data": {
            "text/plain": [
              "0.8681952927143516"
            ]
          },
          "metadata": {},
          "execution_count": 15
        }
      ]
    },
    {
      "cell_type": "markdown",
      "source": [
        "## Surprise 추천 알고리즘 클래스\n",
        "- Surprise에서 추천 예측을 위해 자주 사용되는 추천 알고리즘 클래스\n",
        "1. SVD : 행렬 분해를 통핸 잠재 요인 협업 필터링을 위한 SVD 알고리즘\n",
        " - 비용함수 : 사용자 베이스라인 편향성을 감안한 평점 예측에 Regularization 적용\n",
        " - 입력 파라미터\n",
        "    - n_factors : 잠재 요인 K의 개수. 커질수록 정확도가 높아질 수 있으나, 과적합 문제가 발생할 수 있음\n",
        "    - n_epochs : SGD(확률적 경사하강법) 수행 시 반복 횟수, 디폴트 20\n",
        "    - biased : 베이스라인 사용자 편향 적용 여부, 디폴트 True\n",
        "2. KNNBasic : 최근접 이웃 협업 필터링을 위한 KNN 알고리즘\n",
        "3. BaselineOnly : 사용자 Bias와 아이템 Bias를 감안한 SGD 베이스라인 알고리즘\n",
        "- 그외 https://surpsrise.readthedocs.io/en/stable/prediction_algorithms_package.html 참고\n",
        "- 예측 성능 벤치마크 결과 : http://surpriselib.com/\n",
        " - SVD++알고리즘의 RMSE, MAE 성적이 가장 좋지만 상대적으로 시간이 너무 오래 걸려 데이터가 조금만 더 커져도 사용하기 어려울 것으로 보임\n",
        " - SVD, k-NN Baseline이 가장 성능 평가 수치가 좋음 \n",
        "  - Baseline : 각 개인이 평점을 부여하는 성향을 반영해 평점을 계산\n",
        "\n",
        "## 베이스라인 평점\n",
        "- Baseline Rating: 개인의 성향을 반영해 아이템 평가에 편향성 요소를 반영하여 평점을 부과\n",
        "- 보통 전체 평균 평점 + 사용자 편향 점수 + 아이템 편향 점수 공식으로 계산\n",
        " - 전체 평균 평점 : 모든 사용자의 아이템에 대한 평점을 평균한 값\n",
        " - 사용자 편향 점수 : 사용자별 아이템 평점 평균 값 - 전체 평균 평점\n",
        " - 아이템 편향 점수 : 아이템별 평점 평균 값 - 전체 평균 평점\n",
        "\n",
        "## 교차 검증과 하이퍼 파라미터 튜닝\n",
        "- cross_validate() : 폴드된 데이터 세트의 개수와 성능측정방법을 명시해 교차 검증을 수행"
      ],
      "metadata": {
        "id": "yxe2c6bHwnA0"
      }
    },
    {
      "cell_type": "code",
      "source": [
        "from surprise.model_selection import cross_validate\n",
        "\n",
        "# 판다스 DataFrame에서 Surprise 데이터 세트로 데이터 로딩\n",
        "ratings = pd.read_csv('ratings.csv')    # reading data in pandas df\n",
        "reader = Reader(rating_scale = (0.5, 5.0))\n",
        "data = Dataset.load_from_df(ratings[['userId', 'movieId', 'rating']], reader)\n",
        "\n",
        "algo = SVD(random_state = 0)\n",
        "# 알고리즘 객체, 데이터, 성능 평가 방법, 폴드 데이터 개수 객체로 입력\n",
        "cross_validate(algo, data, measures = ['RMSE', 'MAE'], cv = 5, verbose = True)"
      ],
      "metadata": {
        "colab": {
          "base_uri": "https://localhost:8080/"
        },
        "id": "LxJa8QVtwlSt",
        "outputId": "fb2838db-47f2-4d59-95a1-cb4212942593"
      },
      "execution_count": 16,
      "outputs": [
        {
          "output_type": "stream",
          "name": "stdout",
          "text": [
            "Evaluating RMSE, MAE of algorithm SVD on 5 split(s).\n",
            "\n",
            "                  Fold 1  Fold 2  Fold 3  Fold 4  Fold 5  Mean    Std     \n",
            "RMSE (testset)    0.8723  0.8724  0.8816  0.8695  0.8752  0.8742  0.0041  \n",
            "MAE (testset)     0.6699  0.6696  0.6753  0.6697  0.6712  0.6711  0.0022  \n",
            "Fit time          4.15    3.97    4.57    3.96    4.02    4.13    0.23    \n",
            "Test time         0.10    0.12    0.10    0.29    0.11    0.14    0.07    \n"
          ]
        },
        {
          "output_type": "execute_result",
          "data": {
            "text/plain": [
              "{'test_rmse': array([0.87227182, 0.87240587, 0.88157693, 0.86948009, 0.87520966]),\n",
              " 'test_mae': array([0.66993614, 0.66955838, 0.67533374, 0.66971094, 0.67117386]),\n",
              " 'fit_time': (4.149383068084717,\n",
              "  3.973351240158081,\n",
              "  4.573880434036255,\n",
              "  3.957689046859741,\n",
              "  4.015574216842651),\n",
              " 'test_time': (0.10131335258483887,\n",
              "  0.1193842887878418,\n",
              "  0.09818506240844727,\n",
              "  0.2856006622314453,\n",
              "  0.11205339431762695)}"
            ]
          },
          "metadata": {},
          "execution_count": 16
        }
      ]
    },
    {
      "cell_type": "markdown",
      "source": [
        "- SVD의 경우 주로 SGD의 반복횟수를 지정하는 n_epochs와 SVD의 잠재요인 K의 크기를 지정하는 n_factors를 튜닝"
      ],
      "metadata": {
        "id": "As9UKYe91jFJ"
      }
    },
    {
      "cell_type": "code",
      "source": [
        "from surprise.model_selection import GridSearchCV\n",
        "\n",
        "# 최적화할 파라미터를 딕셔너리 형태로 지정\n",
        "param_grid = {'n_epochs' : [20, 40, 60], 'n_factors' : [50, 100, 200]}\n",
        "\n",
        "# CV를 3개 폴드 세트로 지정, 성능 평가는 rmse, mae로 수행하도록 GridSearchCV 구성\n",
        "gs = GridSearchCV(SVD, param_grid, measures = ['rmse', 'mae'], cv = 3)\n",
        "gs.fit(data)\n",
        "\n",
        "# 최고 RMSE Evaluation 점수와 그때의 하이퍼 파라미터\n",
        "print(gs.best_score['rmse'])\n",
        "print(gs.best_params['rmse'])"
      ],
      "metadata": {
        "colab": {
          "base_uri": "https://localhost:8080/"
        },
        "id": "xFIU2-sq1Y25",
        "outputId": "fd51e4a5-cfae-4d75-c1f6-4009f7f20fa1"
      },
      "execution_count": 17,
      "outputs": [
        {
          "output_type": "stream",
          "name": "stdout",
          "text": [
            "0.8768122366285537\n",
            "{'n_epochs': 20, 'n_factors': 50}\n"
          ]
        }
      ]
    },
    {
      "cell_type": "markdown",
      "source": [
        "## Surprise를 이용한 개인화 영화 추천 시스템 구축\n",
        "- Surprise로 학습된 추천 알고리즘을 기반으로 특정 사용자가 아직 평점을 매기지 않은(관람하지 않은) 영화 중에서 개인 취향에 가장 적절한 영화를 추천\n",
        "- Surprise는 데이터세트를 train_test_split()을 이용해 내부에서 사용하는 TrainSet 클래스 객체로 변환하지 않으면 fit()을 통해 학습할 수가 없음, 데이터세트를 그대로 fit()에 적용시 오류 발생"
      ],
      "metadata": {
        "id": "mSvssgFa2gp0"
      }
    },
    {
      "cell_type": "code",
      "source": [
        "# 다음 코드는 train_test_split()으로 분리되지 않는 데이터 세트에 fit()을 호출해 오류가 발생\n",
        "data = Dataset.load_from_df(ratings[['userId', 'movieId', 'rating']], reader)\n",
        "algo = SVD(n_factors = 50, random_state = 0)\n",
        "algo.fit(data)"
      ],
      "metadata": {
        "colab": {
          "base_uri": "https://localhost:8080/",
          "height": 284
        },
        "id": "XdXRH99L2e8E",
        "outputId": "967316c9-8401-4635-c3db-526e1394c6b8"
      },
      "execution_count": 18,
      "outputs": [
        {
          "output_type": "error",
          "ename": "AttributeError",
          "evalue": "ignored",
          "traceback": [
            "\u001b[0;31m---------------------------------------------------------------------------\u001b[0m",
            "\u001b[0;31mAttributeError\u001b[0m                            Traceback (most recent call last)",
            "\u001b[0;32m<ipython-input-18-c19b1d318ede>\u001b[0m in \u001b[0;36m<module>\u001b[0;34m\u001b[0m\n\u001b[1;32m      2\u001b[0m \u001b[0mdata\u001b[0m \u001b[0;34m=\u001b[0m \u001b[0mDataset\u001b[0m\u001b[0;34m.\u001b[0m\u001b[0mload_from_df\u001b[0m\u001b[0;34m(\u001b[0m\u001b[0mratings\u001b[0m\u001b[0;34m[\u001b[0m\u001b[0;34m[\u001b[0m\u001b[0;34m'userId'\u001b[0m\u001b[0;34m,\u001b[0m \u001b[0;34m'movieId'\u001b[0m\u001b[0;34m,\u001b[0m \u001b[0;34m'rating'\u001b[0m\u001b[0;34m]\u001b[0m\u001b[0;34m]\u001b[0m\u001b[0;34m,\u001b[0m \u001b[0mreader\u001b[0m\u001b[0;34m)\u001b[0m\u001b[0;34m\u001b[0m\u001b[0;34m\u001b[0m\u001b[0m\n\u001b[1;32m      3\u001b[0m \u001b[0malgo\u001b[0m \u001b[0;34m=\u001b[0m \u001b[0mSVD\u001b[0m\u001b[0;34m(\u001b[0m\u001b[0mn_factors\u001b[0m \u001b[0;34m=\u001b[0m \u001b[0;36m50\u001b[0m\u001b[0;34m,\u001b[0m \u001b[0mrandom_state\u001b[0m \u001b[0;34m=\u001b[0m \u001b[0;36m0\u001b[0m\u001b[0;34m)\u001b[0m\u001b[0;34m\u001b[0m\u001b[0;34m\u001b[0m\u001b[0m\n\u001b[0;32m----> 4\u001b[0;31m \u001b[0malgo\u001b[0m\u001b[0;34m.\u001b[0m\u001b[0mfit\u001b[0m\u001b[0;34m(\u001b[0m\u001b[0mdata\u001b[0m\u001b[0;34m)\u001b[0m\u001b[0;34m\u001b[0m\u001b[0;34m\u001b[0m\u001b[0m\n\u001b[0m",
            "\u001b[0;32m/usr/local/lib/python3.7/dist-packages/surprise/prediction_algorithms/matrix_factorization.pyx\u001b[0m in \u001b[0;36msurprise.prediction_algorithms.matrix_factorization.SVD.fit\u001b[0;34m()\u001b[0m\n",
            "\u001b[0;32m/usr/local/lib/python3.7/dist-packages/surprise/prediction_algorithms/matrix_factorization.pyx\u001b[0m in \u001b[0;36msurprise.prediction_algorithms.matrix_factorization.SVD.sgd\u001b[0;34m()\u001b[0m\n",
            "\u001b[0;31mAttributeError\u001b[0m: 'DatasetAutoFolds' object has no attribute 'global_mean'"
          ]
        }
      ]
    },
    {
      "cell_type": "markdown",
      "source": [
        "- 데이터 세트 전체를 학습 데이터로 사용하려면 DatasetAutoFolds 클래스 이용\n",
        "- DatasetAutoFolds 객체 생성 후 build_full_trainset() 메서드 호출시 전체 데이터를 학습 데이터 세트로 만들 수 있음"
      ],
      "metadata": {
        "id": "NmYzZjvA3Apc"
      }
    },
    {
      "cell_type": "code",
      "source": [
        "from surprise.dataset import DatasetAutoFolds\n",
        "\n",
        "reader = Reader(line_format = 'user item rating timestamp', sep = ',', rating_scale = (0.5, 5))\n",
        "# DatasetAutoFolds 클래스를 ratings_noh.csv 파일 기반으로 생성\n",
        "data_folds = DatasetAutoFolds(ratings_file = 'ratings_noh.csv', reader = reader)\n",
        "\n",
        "# 전체 데이터를 학습 데이터로 생성함\n",
        "trainset = data_folds.build_full_trainset()"
      ],
      "metadata": {
        "id": "v9pdQk2Q29dY"
      },
      "execution_count": 19,
      "outputs": []
    },
    {
      "cell_type": "code",
      "source": [
        "algo = SVD(n_epochs = 20, n_factors = 50, random_state = 0)\n",
        "algo.fit(trainset)"
      ],
      "metadata": {
        "colab": {
          "base_uri": "https://localhost:8080/"
        },
        "id": "jMjWry4A3Vzt",
        "outputId": "1727b21b-86c2-49a0-85ee-8268d347b25e"
      },
      "execution_count": 20,
      "outputs": [
        {
          "output_type": "execute_result",
          "data": {
            "text/plain": [
              "<surprise.prediction_algorithms.matrix_factorization.SVD at 0x7f6f15589950>"
            ]
          },
          "metadata": {},
          "execution_count": 20
        }
      ]
    },
    {
      "cell_type": "markdown",
      "source": [
        "- userId 9가 아직 평점을 매기지 않은 영화를 movieId 42로 선정한 뒤에 예측 평점 계산"
      ],
      "metadata": {
        "id": "-NtHCqw53qrl"
      }
    },
    {
      "cell_type": "code",
      "source": [
        "# 영화에 대한 상세 속성 정보 DataFrame 로딩\n",
        "movies = pd.read_csv('movies.csv')\n",
        "\n",
        "# userId = 9의 movieId 데이터를 추출해 movieId = 42 데이터가 있는지 확인\n",
        "movieIds = ratings[ratings['userId'] == 9]['movieId']\n",
        "if movieIds[movieIds == 42].count() == 0:\n",
        "  print('사용자 아이디 9는 영화 아이디 42의 평점 없음')\n",
        "print(movies[movies['movieId'] == 42])"
      ],
      "metadata": {
        "colab": {
          "base_uri": "https://localhost:8080/"
        },
        "id": "O5FoBX2B3XiM",
        "outputId": "77f35011-c7ce-4e71-c86e-2f86627185bf"
      },
      "execution_count": 21,
      "outputs": [
        {
          "output_type": "stream",
          "name": "stdout",
          "text": [
            "사용자 아이디 9는 영화 아이디 42의 평점 없음\n",
            "    movieId                   title              genres\n",
            "38       42  Dead Presidents (1995)  Action|Crime|Drama\n"
          ]
        }
      ]
    },
    {
      "cell_type": "code",
      "source": [
        "# 문자열 값으로 사용자 아이디와 아이템 아이디 입력해 예측값 계산\n",
        "uid = str(9)\n",
        "iid = str(42)\n",
        "\n",
        "pred = algo.predict(uid, iid, verbose = True)"
      ],
      "metadata": {
        "colab": {
          "base_uri": "https://localhost:8080/"
        },
        "id": "JGlBlGsu3lxn",
        "outputId": "76c0bdc9-2156-4e58-8cb9-63ec664d6010"
      },
      "execution_count": 22,
      "outputs": [
        {
          "output_type": "stream",
          "name": "stdout",
          "text": [
            "user: 9          item: 42         r_ui = None   est = 3.13   {'was_impossible': False}\n"
          ]
        }
      ]
    },
    {
      "cell_type": "markdown",
      "source": [
        "- 사용자가 평점을 매기지 않은 전체 영화를 추출한 뒤에 예측 평점 순으로 영화를 추천"
      ],
      "metadata": {
        "id": "FWfpCRnr4Agc"
      }
    },
    {
      "cell_type": "code",
      "source": [
        "def get_unseen_surprise(ratings, movies, userId):\n",
        "  # 입력값으로 들어온 userId에 해당하는 사용자가 평점을 매긴 모든 영화를 리스트로 생성\n",
        "  seen_movies = ratings[ratings['userId'] == userId]['movieId'].tolist()\n",
        "\n",
        "  # 모든 영화의 movieId를 리스트로 생성\n",
        "  total_movies = movies['movieId'].tolist()\n",
        "\n",
        "  # 모든 영화의 movieId 중 이미 평점을 매긴 영화의 movieId를 제외한 후 리스트로 생성\n",
        "  unseen_movies = [movie for movie in total_movies if movie not in seen_movies]\n",
        "  print('평점 매긴 영화 수 :', len(seen_movies), '추천 대상 영화 수 :', len(unseen_movies),\n",
        "        '전체 영화 수 :', len(total_movies))\n",
        "  \n",
        "  return unseen_movies\n",
        "\n",
        "unseen_movies = get_unseen_surprise(ratings, movies, 9)"
      ],
      "metadata": {
        "colab": {
          "base_uri": "https://localhost:8080/"
        },
        "id": "lRjdFZxl36_n",
        "outputId": "45ebcdc2-0514-431f-d7a5-01bd4cd9f807"
      },
      "execution_count": 23,
      "outputs": [
        {
          "output_type": "stream",
          "name": "stdout",
          "text": [
            "평점 매긴 영화 수 : 46 추천 대상 영화 수 : 9696 전체 영화 수 : 9742\n"
          ]
        }
      ]
    },
    {
      "cell_type": "markdown",
      "source": [
        "- 사용자 아이디 9는 전체 9742개 영화중 46개만 평점을 매겼으므로 나머지 영화 중 높은 예측 평점을 가진 순으로 영화 추천"
      ],
      "metadata": {
        "id": "6pIaQBoH4RPB"
      }
    },
    {
      "cell_type": "code",
      "source": [
        "def recomm_movie_by_surprise(algo, userId, unseen_movies, top_n = 10):\n",
        "  # 알고리즘 객체의 predict() 메서드를 평점이 없는 영화에 반복 수행한 후 결과를 list 객체로 저장\n",
        "  predictions = [algo.predict(str(userId), str(movieId)) for movieId in unseen_movies]\n",
        "\n",
        "  # predictions list 객체는 surprise의 Predictions 객체를 원소로 가지고 있음\n",
        "  # 이를 est 값으로 정렬하기 위해서 아래의 sortkey_est 함수를 정의함\n",
        "  # sortkey_est 함수는 list 객체의 sort() 함수의 키 값으로 사용되어 정렬 수행\n",
        "  def sortkey_est(pred):\n",
        "    return pred.est\n",
        "\n",
        "  # sortkey_est() 반환값의 내림 차순으로 정렬 수행하고 top_n개의 최상위 값 추출\n",
        "  predictions.sort(key = sortkey_est, reverse = True)\n",
        "  top_predictions = predictions[:top_n]\n",
        "\n",
        "  # top_n으로 추출된 영화의 정보 추출. 영화 아이디, 추천 예상 평점, 제목 추출\n",
        "  top_movie_ids = [ int(pred.iid) for pred in top_predictions ]\n",
        "  top_movie_rating = [ pred.est for pred in top_predictions ]\n",
        "  top_movie_titles = movies[movies.movieId.isin(top_movie_ids)]['title']\n",
        "\n",
        "  top_movie_preds = [ (id, title, rating) for id, title, rating in\n",
        "                     zip(top_movie_ids, top_movie_titles, top_movie_rating) ]\n",
        "\n",
        "  return top_movie_preds\n",
        "\n",
        "unseen_movies = get_unseen_surprise(ratings, movies, 9)\n",
        "top_movie_preds = recomm_movie_by_surprise(algo, 9, unseen_movies, top_n = 10)\n",
        "\n",
        "print('##### Top-10 추천 영화 리스트 #####')\n",
        "for top_movie in top_movie_preds:\n",
        "  print(top_movie[1], \":\", top_movie[2])"
      ],
      "metadata": {
        "colab": {
          "base_uri": "https://localhost:8080/"
        },
        "id": "XwjUa6-W4LjS",
        "outputId": "45a1b4f1-7b41-4dc3-ae94-5db18d42d79b"
      },
      "execution_count": 24,
      "outputs": [
        {
          "output_type": "stream",
          "name": "stdout",
          "text": [
            "평점 매긴 영화 수 : 46 추천 대상 영화 수 : 9696 전체 영화 수 : 9742\n",
            "##### Top-10 추천 영화 리스트 #####\n",
            "Usual Suspects, The (1995) : 4.306302135700814\n",
            "Star Wars: Episode IV - A New Hope (1977) : 4.281663842987387\n",
            "Pulp Fiction (1994) : 4.278152632122759\n",
            "Silence of the Lambs, The (1991) : 4.226073566460876\n",
            "Godfather, The (1972) : 4.1918097904381995\n",
            "Streetcar Named Desire, A (1951) : 4.154746591122658\n",
            "Star Wars: Episode V - The Empire Strikes Back (1980) : 4.122016128534504\n",
            "Star Wars: Episode VI - Return of the Jedi (1983) : 4.108009609093436\n",
            "Goodfellas (1990) : 4.083464936588478\n",
            "Glory (1989) : 4.07887165526957\n"
          ]
        }
      ]
    }
  ]
}