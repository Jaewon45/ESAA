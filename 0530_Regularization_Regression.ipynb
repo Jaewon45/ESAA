{
 "cells": [
  {
   "cell_type": "markdown",
   "id": "5b7f6555",
   "metadata": {},
   "source": [
    "### 06 규제 선형 모델 - 릿지, 라쏘, 엘라스틱넷\n",
    "#### 1) 규제 선형 모델의 개요\n",
    "\n",
    "- 회귀모델은 적절히 데이터에 적합하면서도 회귀계수가 기하급수적으로 커지는 것을 제어할 수 있어야 함\n",
    "- 이전까지 선형 모델은 비용함수인 RSS를 최소화하는 것만을 고려해 학습 데이터에 지나치게 맞추게 되고, 회귀계수가 쉽게 커짐\n",
    " - 변동성이 오히려 심해져서 테스트 데이터 세트에서는 예측 성능이 저하되기 쉬움\n",
    " - RSS 최소화 방법과 과적합을 방지하는 방법이 서로 균형을 이뤄야 함\n",
    "- 비용 함수 목표 = $Min ( RSS(W) + alpha* ||W||^2_2)$\n",
    " - alpha : 학습 데이터 적합 정도와 회귀 계수 값의 크기 제어를 수행하는 튜닝 파라미터\n",
    "alpha가 0(또는 매우 작은 값)이라면 비용함수 식은 기존과 동일한 Min ( RSS(W) + 0), alpha가 무한대(또는 매우 큰 값)라면 비용 함수 식은 RSS(W)에 비해 $alpha*||W||^2_2$ 값이 너무 커지게 되므로 W값을 0(또는 매우 작게)으로 만들어야 Cost가 최소화되는 비용 함수 목표 달성 가능\n",
    " - alpha값을 크게 하면 비용함수는 회귀 계수 W의 값을 작게 해 과적합을 개선, alpha값을 작게 하면 회귀 계수 W의 값이 커져도 어느정도 상쇄가 가능하므로 학습 데이터 적합을 더 개선 가능\n",
    "- 이처럼 alpha 값으로 비용 함수에 페널티를 부여해 회귀 계수 값의 크기를 감소시켜 과적합을 개선하는 방식을 **규제(Regularization)** 라고 함\n",
    "1. L2 규제 : $alpha*||W||^2_2$와 같이 W의 제곱에 대해 페널티를 부여하는 방식. 이를 적용한 회귀는 **릿지(Ridge)** 회귀\n",
    "2. L1 규제 : $alpha*||W||_1$와 같이 W의 절댓값에 대해 페널티를 부여하는 방식. 이를 적용한 회귀는 **라쏘(Lasso)** 회귀로 영향력이 크지 않은 회귀 계수 값을 0으로 변환\n",
    "\n",
    "#### 2) 릿지 회귀\n",
    "- 사이킷런은 Ridge 클래스를 통해 릿지 회귀 구현\n",
    " - 주요 생성 파라미터는 alpha"
   ]
  },
  {
   "cell_type": "code",
   "execution_count": 2,
   "id": "fff3fb2f",
   "metadata": {},
   "outputs": [
    {
     "name": "stdout",
     "output_type": "stream",
     "text": [
      " 5 folds 의 개별 Negative MSE scores :  [-11.422 -24.294 -28.144 -74.599 -28.517]\n",
      " 5 folds 의 개별 RMSE scores :  [3.38  4.929 5.305 8.637 5.34 ]\n",
      " 5 folds 의 평균 RMSE : 5.518 \n"
     ]
    }
   ],
   "source": [
    "from sklearn.linear_model import Ridge\n",
    "from sklearn.model_selection import cross_val_score\n",
    "import numpy as np\n",
    "import pandas as pd\n",
    "\n",
    "# 보스턴 주택 가격 예제 이용\n",
    "from sklearn.datasets import load_boston\n",
    "boston = load_boston()\n",
    "bostonDF = pd.DataFrame(boston.data, columns = boston.feature_names)\n",
    "\n",
    "# boston 데이터 세트의 target 배열은 주택 가격임. 이를 PRICE 칼럼으로 DataFrame에 추가함\n",
    "bostonDF['PRICE']=boston.target\n",
    "y_target = bostonDF['PRICE']\n",
    "X_data = bostonDF.drop('PRICE', axis=1, inplace = False)\n",
    "\n",
    "# alpha=10으로 설정해 릿지 회귀 수행\n",
    "ridge = Ridge(alpha = 10)\n",
    "neg_mse_scores = cross_val_score(ridge, X_data, y_target, scoring = \"neg_mean_squared_error\", cv = 5)\n",
    "rmse_scores  = np.sqrt(-1 * neg_mse_scores)\n",
    "avg_rmse = np.mean(rmse_scores)\n",
    "\n",
    "print(' 5 folds 의 개별 Negative MSE scores : ', np.round(neg_mse_scores, 3))\n",
    "print(' 5 folds 의 개별 RMSE scores : ', np.round(rmse_scores, 3))\n",
    "print(' 5 folds 의 평균 RMSE : {0:.3f} '.format(avg_rmse))"
   ]
  },
  {
   "cell_type": "markdown",
   "id": "0cf0ddc3",
   "metadata": {},
   "source": [
    "- 릿지의 5개 폴드 세트의 평균 RMSE는 5.518로 앞에서 학습한 규제가 없는 LinearRegression의 평균 RMSE 값인 5.829보다 작음. 더 뛰어난 예측 성능"
   ]
  },
  {
   "cell_type": "code",
   "execution_count": 3,
   "id": "01081eb8",
   "metadata": {},
   "outputs": [
    {
     "name": "stdout",
     "output_type": "stream",
     "text": [
      "alpha 0 일 때 5 folds의 평균 RMSE : 5.829 \n",
      "alpha 0.1 일 때 5 folds의 평균 RMSE : 5.788 \n",
      "alpha 1 일 때 5 folds의 평균 RMSE : 5.653 \n",
      "alpha 10 일 때 5 folds의 평균 RMSE : 5.518 \n",
      "alpha 100 일 때 5 folds의 평균 RMSE : 5.330 \n"
     ]
    }
   ],
   "source": [
    "# alpha값을 0, 0.1, 1, 10, 100 으로 변경하면서 RMSE 측정\n",
    "\n",
    "# Ridge에 사용될 alpha 파라미터의 값을 정의\n",
    "alphas = [0, 0.1, 1, 10, 100]\n",
    "\n",
    "# alphas list 값을 반복하면서 alpha에 따른 평균 rmse 구함\n",
    "for alpha in alphas :\n",
    "    ridge = Ridge(alpha = alpha)\n",
    "\n",
    "    # cross_val_score를 이용하여 5 fold의 평균 RMSE 계산\n",
    "    neg_mse_scores = cross_val_score(ridge, X_data, y_target, scoring = \"neg_mean_squared_error\", cv = 5)\n",
    "    avg_rmse = np.mean(np.sqrt(-1 * neg_mse_scores))\n",
    "    print('alpha {0} 일 때 5 folds의 평균 RMSE : {1:.3f} '.format(alpha,avg_rmse))"
   ]
  },
  {
   "cell_type": "markdown",
   "id": "c89472ee",
   "metadata": {},
   "source": [
    "- alpha가 100일 때, 평균 RMSE가 5.330으로 가장 작음"
   ]
  },
  {
   "cell_type": "code",
   "execution_count": 6,
   "id": "f50ae0ea",
   "metadata": {},
   "outputs": [
    {
     "data": {
      "image/png": "[encoded data removed]",
      "text/plain": [
       "<Figure size 1296x432 with 5 Axes>"
      ]
     },
     "metadata": {
      "needs_background": "light"
     },
     "output_type": "display_data"
    }
   ],
   "source": [
    "import matplotlib.pyplot as plt\n",
    "import seaborn as sns\n",
    "\n",
    "# 각 alpha에 따른 Feature의 회귀 계수 값을 가로 막대 그래프로 시각화\n",
    "# 5개의 열로 된 matplotlib 축 생성  \n",
    "fig, axs = plt.subplots(figsize = (18 ,6) , nrows = 1 , ncols = 5)\n",
    "# 각 alpha에 따른 회귀 계수 값을 데이터로 저장하기 위한 DataFrame 생성  \n",
    "coeff_df = pd.DataFrame()\n",
    "\n",
    "# alphas 리스트 값을 차례로 입력해 회귀 계수 값 시각화 및 데이터 저장. pos는 axis의 위치 지정\n",
    "for pos , alpha in enumerate(alphas) :\n",
    "    ridge = Ridge(alpha = alpha)\n",
    "    ridge.fit(X_data, y_target)\n",
    "    # alpha에 따른 Feature 별 회귀 계수를 Series로 변환하고 이를 DataFrame의 컬럼으로 추가 \n",
    "    coeff = pd.Series(data = ridge.coef_, index = X_data.columns )\n",
    "    colname = 'alpha : '+str(alpha)\n",
    "    coeff_df[colname] = coeff\n",
    "    # 막대 그래프로 각 alpha 값에서의 회귀 계수를 시각화. 회귀 계수 값이 높은 순으로 표현\n",
    "    coeff = coeff.sort_values(ascending = False) \n",
    "    axs[pos].set_title(colname)\n",
    "    axs[pos].set_xlim(-3 ,6)\n",
    "    sns.barplot(x = coeff.values , y = coeff.index, ax = axs[pos])\n",
    "\n",
    "# for 문 바깥에서 맷플롯립의 show 호출 및 alpha에 따른 피처별 화귀계수를 DataFrame으로 표시\n",
    "plt.show()"
   ]
  },
  {
   "cell_type": "markdown",
   "id": "c1ed2d3f",
   "metadata": {},
   "source": [
    "- alpha 값을 증가시킬수록 회귀 계수 값이 작아짐\n",
    "- 특히 Nox Feature의 경우, alpha 값을 증가시킴에 따라 회귀 계수가 눈에 띄게 작아짐"
   ]
  },
  {
   "cell_type": "code",
   "execution_count": 7,
   "id": "b1f75d08",
   "metadata": {},
   "outputs": [
    {
     "data": {
      "text/html": [
       "<div>\n",
       "<style scoped>\n",
       "    .dataframe tbody tr th:only-of-type {\n",
       "        vertical-align: middle;\n",
       "    }\n",
       "\n",
       "    .dataframe tbody tr th {\n",
       "        vertical-align: top;\n",
       "    }\n",
       "\n",
       "    .dataframe thead th {\n",
       "        text-align: right;\n",
       "    }\n",
       "</style>\n",
       "<table border=\"1\" class=\"dataframe\">\n",
       "  <thead>\n",
       "    <tr style=\"text-align: right;\">\n",
       "      <th></th>\n",
       "      <th>alpha : 0</th>\n",
       "      <th>alpha : 0.1</th>\n",
       "      <th>alpha : 1</th>\n",
       "      <th>alpha : 10</th>\n",
       "      <th>alpha : 100</th>\n",
       "    </tr>\n",
       "  </thead>\n",
       "  <tbody>\n",
       "    <tr>\n",
       "      <th>RM</th>\n",
       "      <td>3.809865</td>\n",
       "      <td>3.818233</td>\n",
       "      <td>3.854000</td>\n",
       "      <td>3.702272</td>\n",
       "      <td>2.334536</td>\n",
       "    </tr>\n",
       "    <tr>\n",
       "      <th>CHAS</th>\n",
       "      <td>2.686734</td>\n",
       "      <td>2.670019</td>\n",
       "      <td>2.552393</td>\n",
       "      <td>1.952021</td>\n",
       "      <td>0.638335</td>\n",
       "    </tr>\n",
       "    <tr>\n",
       "      <th>RAD</th>\n",
       "      <td>0.306049</td>\n",
       "      <td>0.303515</td>\n",
       "      <td>0.290142</td>\n",
       "      <td>0.279596</td>\n",
       "      <td>0.315358</td>\n",
       "    </tr>\n",
       "    <tr>\n",
       "      <th>ZN</th>\n",
       "      <td>0.046420</td>\n",
       "      <td>0.046572</td>\n",
       "      <td>0.047443</td>\n",
       "      <td>0.049579</td>\n",
       "      <td>0.054496</td>\n",
       "    </tr>\n",
       "    <tr>\n",
       "      <th>INDUS</th>\n",
       "      <td>0.020559</td>\n",
       "      <td>0.015999</td>\n",
       "      <td>-0.008805</td>\n",
       "      <td>-0.042962</td>\n",
       "      <td>-0.052826</td>\n",
       "    </tr>\n",
       "    <tr>\n",
       "      <th>B</th>\n",
       "      <td>0.009312</td>\n",
       "      <td>0.009368</td>\n",
       "      <td>0.009673</td>\n",
       "      <td>0.010037</td>\n",
       "      <td>0.009393</td>\n",
       "    </tr>\n",
       "    <tr>\n",
       "      <th>AGE</th>\n",
       "      <td>0.000692</td>\n",
       "      <td>-0.000269</td>\n",
       "      <td>-0.005415</td>\n",
       "      <td>-0.010707</td>\n",
       "      <td>0.001212</td>\n",
       "    </tr>\n",
       "    <tr>\n",
       "      <th>TAX</th>\n",
       "      <td>-0.012335</td>\n",
       "      <td>-0.012421</td>\n",
       "      <td>-0.012912</td>\n",
       "      <td>-0.013993</td>\n",
       "      <td>-0.015856</td>\n",
       "    </tr>\n",
       "    <tr>\n",
       "      <th>CRIM</th>\n",
       "      <td>-0.108011</td>\n",
       "      <td>-0.107474</td>\n",
       "      <td>-0.104595</td>\n",
       "      <td>-0.101435</td>\n",
       "      <td>-0.102202</td>\n",
       "    </tr>\n",
       "    <tr>\n",
       "      <th>LSTAT</th>\n",
       "      <td>-0.524758</td>\n",
       "      <td>-0.525966</td>\n",
       "      <td>-0.533343</td>\n",
       "      <td>-0.559366</td>\n",
       "      <td>-0.660764</td>\n",
       "    </tr>\n",
       "    <tr>\n",
       "      <th>PTRATIO</th>\n",
       "      <td>-0.952747</td>\n",
       "      <td>-0.940759</td>\n",
       "      <td>-0.876074</td>\n",
       "      <td>-0.797945</td>\n",
       "      <td>-0.829218</td>\n",
       "    </tr>\n",
       "    <tr>\n",
       "      <th>DIS</th>\n",
       "      <td>-1.475567</td>\n",
       "      <td>-1.459626</td>\n",
       "      <td>-1.372654</td>\n",
       "      <td>-1.248808</td>\n",
       "      <td>-1.153390</td>\n",
       "    </tr>\n",
       "    <tr>\n",
       "      <th>NOX</th>\n",
       "      <td>-17.766611</td>\n",
       "      <td>-16.684645</td>\n",
       "      <td>-10.777015</td>\n",
       "      <td>-2.371619</td>\n",
       "      <td>-0.262847</td>\n",
       "    </tr>\n",
       "  </tbody>\n",
       "</table>\n",
       "</div>"
      ],
      "text/plain": [
       "         alpha : 0  alpha : 0.1  alpha : 1  alpha : 10  alpha : 100\n",
       "RM        3.809865     3.818233   3.854000    3.702272     2.334536\n",
       "CHAS      2.686734     2.670019   2.552393    1.952021     0.638335\n",
       "RAD       0.306049     0.303515   0.290142    0.279596     0.315358\n",
       "ZN        0.046420     0.046572   0.047443    0.049579     0.054496\n",
       "INDUS     0.020559     0.015999  -0.008805   -0.042962    -0.052826\n",
       "B         0.009312     0.009368   0.009673    0.010037     0.009393\n",
       "AGE       0.000692    -0.000269  -0.005415   -0.010707     0.001212\n",
       "TAX      -0.012335    -0.012421  -0.012912   -0.013993    -0.015856\n",
       "CRIM     -0.108011    -0.107474  -0.104595   -0.101435    -0.102202\n",
       "LSTAT    -0.524758    -0.525966  -0.533343   -0.559366    -0.660764\n",
       "PTRATIO  -0.952747    -0.940759  -0.876074   -0.797945    -0.829218\n",
       "DIS      -1.475567    -1.459626  -1.372654   -1.248808    -1.153390\n",
       "NOX     -17.766611   -16.684645 -10.777015   -2.371619    -0.262847"
      ]
     },
     "execution_count": 7,
     "metadata": {},
     "output_type": "execute_result"
    }
   ],
   "source": [
    "ridge_alphas = [0, 0.1, 1, 10, 100]\n",
    "sort_column = 'alpha : ' + str(ridge_alphas[0])\n",
    "coeff_df.sort_values(by = sort_column, ascending = False)"
   ]
  },
  {
   "cell_type": "markdown",
   "id": "518a9fbb",
   "metadata": {},
   "source": [
    "- alpha 값을 증가시킬수록 회귀 계수가 지속적으로 작아짐\n",
    "- 릿지 회귀의 경우 회귀계수를 0으로 만들지는 않음\n",
    "\n",
    "#### 3) 라쏘 회귀\n",
    "- W의 절댓값에 페널티를 부여하는 L1 규제를 선형 회귀에 적용한 것이 라쏘(Lasso) 회귀\n",
    "- L1 규제는 $alpha*||W||_1$를 의미하며, 라쏘 회귀 비용 함수의 목표는 RSS(W)+$alpha*||W||_1$를 최소화하는 W를 찾는 것\n",
    "- L2 규제는 회귀 계수의 크기를 감소시키는 반면, L1 규제는 불필요한 회귀 계수를 급격하게 감소시켜 0으로 만들고 제거 \n",
    " - =>  L1 규제는 적절한 Feature만 회귀에 포함시키는 Feature 선택을 수행\n",
    "- 사이킷런은 Lasso 클래스를 통해 라쏘 회귀를 구현\n",
    " - Lasso 클래스의 주요 생성 파라미터는 alpha"
   ]
  },
  {
   "cell_type": "code",
   "execution_count": 22,
   "id": "241640ac",
   "metadata": {},
   "outputs": [],
   "source": [
    "from sklearn.linear_model import Lasso, ElasticNet\n",
    "\n",
    "# alpha값에 따른 회귀 모델의 폴드 평균 RMSE를 출력하고 회귀 계수값들을 DataFrame으로 반환 \n",
    "from sklearn.linear_model import Lasso, ElasticNet\n",
    "def get_linear_reg_eval(model_name, params=None, X_data_n=None, y_target_n=None, verbose=True):\n",
    "    coeff_df = pd.DataFrame()\n",
    "    if verbose : print(\"#######\", model_name, \"#######\")\n",
    "    for param in params:\n",
    "        if model_name == \"Ridge\" : model = Ridge(alpha=param)\n",
    "        elif model_name == \"Lasso\" : model = Lasso(alpha=param)\n",
    "        elif model_name == \"ElasticNet\" : model = ElasticNet(alpha=param, l1_ratio=0.7)\n",
    "        neg_mse_scores = cross_val_score(model, X_data_n, y_target_n, scoring=\"neg_mean_squared_error\", cv=5)\n",
    "        mse_scores = -1 * neg_mse_scores\n",
    "        rmse_scores = np.sqrt(mse_scores)\n",
    "        avg_rmse = np.mean(rmse_scores)\n",
    "        print(\"alpha {0} 일 때, 5 folds 의 평균 RMSE: {1:.3f}\".format(param, avg_rmse))\n",
    "\n",
    "        # cross_val_score는 evaluation metric만 반환하므로 모델을 다시 학습하여 회귀 계수를 추출\n",
    "        model.fit(X_data, y_target)\n",
    "        \n",
    "        # alpha에 따른 피처별 회귀 계수를 Series로변환하고 이를 DataFrame의 칼럼으로 추가\n",
    "        coeff = pd.Series(data=model.coef_, index=X_data.columns)\n",
    "        colname = \"alpha\" + str(param)\n",
    "        coeff_df[colname] = coeff\n",
    "\n",
    "    return coeff_df"
   ]
  },
  {
   "cell_type": "code",
   "execution_count": 9,
   "id": "8f13bb27",
   "metadata": {},
   "outputs": [
    {
     "name": "stdout",
     "output_type": "stream",
     "text": [
      "#######  Lasso #######\n",
      "alpha 0.07일 때 5 폴드 세트의 평균 RMSE : 5.612 \n",
      "alpha 0.1일 때 5 폴드 세트의 평균 RMSE : 5.615 \n",
      "alpha 0.5일 때 5 폴드 세트의 평균 RMSE : 5.669 \n",
      "alpha 1일 때 5 폴드 세트의 평균 RMSE : 5.776 \n",
      "alpha 3일 때 5 폴드 세트의 평균 RMSE : 6.189 \n"
     ]
    }
   ],
   "source": [
    "# 라쏘에 사용될 alpha 파라미터의 값을 정의하고 get_linear_reg_eval() 함수 호출\n",
    "lasso_alphas = [0.07, 0.1, 0.5, 1, 3]\n",
    "coeff_lasso_df = get_linear_reg_eval('Lasso', params = lasso_alphas, X_data_n = X_data, y_target_n = y_target)"
   ]
  },
  {
   "cell_type": "markdown",
   "id": "119e6b52",
   "metadata": {},
   "source": [
    "- lpha가 0.07 일 때, 평균 RMSE 값이 가장 작음\n",
    "- 릿지 회귀에서의 평균 RMSE 값인 5.330보다는 크지만, 규제가 없는 LinearRegression의 평균 RMSE 값인 5.829보다는 작음"
   ]
  },
  {
   "cell_type": "code",
   "execution_count": 10,
   "id": "2cb0c34e",
   "metadata": {},
   "outputs": [
    {
     "data": {
      "text/html": [
       "<div>\n",
       "<style scoped>\n",
       "    .dataframe tbody tr th:only-of-type {\n",
       "        vertical-align: middle;\n",
       "    }\n",
       "\n",
       "    .dataframe tbody tr th {\n",
       "        vertical-align: top;\n",
       "    }\n",
       "\n",
       "    .dataframe thead th {\n",
       "        text-align: right;\n",
       "    }\n",
       "</style>\n",
       "<table border=\"1\" class=\"dataframe\">\n",
       "  <thead>\n",
       "    <tr style=\"text-align: right;\">\n",
       "      <th></th>\n",
       "      <th>alpha : 0.07</th>\n",
       "      <th>alpha : 0.1</th>\n",
       "      <th>alpha : 0.5</th>\n",
       "      <th>alpha : 1</th>\n",
       "      <th>alpha : 3</th>\n",
       "    </tr>\n",
       "  </thead>\n",
       "  <tbody>\n",
       "    <tr>\n",
       "      <th>RM</th>\n",
       "      <td>3.789725</td>\n",
       "      <td>3.703202</td>\n",
       "      <td>2.498212</td>\n",
       "      <td>0.949811</td>\n",
       "      <td>0.000000</td>\n",
       "    </tr>\n",
       "    <tr>\n",
       "      <th>CHAS</th>\n",
       "      <td>1.434343</td>\n",
       "      <td>0.955190</td>\n",
       "      <td>0.000000</td>\n",
       "      <td>0.000000</td>\n",
       "      <td>0.000000</td>\n",
       "    </tr>\n",
       "    <tr>\n",
       "      <th>RAD</th>\n",
       "      <td>0.270936</td>\n",
       "      <td>0.274707</td>\n",
       "      <td>0.277451</td>\n",
       "      <td>0.264206</td>\n",
       "      <td>0.061864</td>\n",
       "    </tr>\n",
       "    <tr>\n",
       "      <th>ZN</th>\n",
       "      <td>0.049059</td>\n",
       "      <td>0.049211</td>\n",
       "      <td>0.049544</td>\n",
       "      <td>0.049165</td>\n",
       "      <td>0.037231</td>\n",
       "    </tr>\n",
       "    <tr>\n",
       "      <th>B</th>\n",
       "      <td>0.010248</td>\n",
       "      <td>0.010249</td>\n",
       "      <td>0.009469</td>\n",
       "      <td>0.008247</td>\n",
       "      <td>0.006510</td>\n",
       "    </tr>\n",
       "    <tr>\n",
       "      <th>NOX</th>\n",
       "      <td>-0.000000</td>\n",
       "      <td>-0.000000</td>\n",
       "      <td>-0.000000</td>\n",
       "      <td>-0.000000</td>\n",
       "      <td>0.000000</td>\n",
       "    </tr>\n",
       "    <tr>\n",
       "      <th>AGE</th>\n",
       "      <td>-0.011706</td>\n",
       "      <td>-0.010037</td>\n",
       "      <td>0.003604</td>\n",
       "      <td>0.020910</td>\n",
       "      <td>0.042495</td>\n",
       "    </tr>\n",
       "    <tr>\n",
       "      <th>TAX</th>\n",
       "      <td>-0.014290</td>\n",
       "      <td>-0.014570</td>\n",
       "      <td>-0.015442</td>\n",
       "      <td>-0.015212</td>\n",
       "      <td>-0.008602</td>\n",
       "    </tr>\n",
       "    <tr>\n",
       "      <th>INDUS</th>\n",
       "      <td>-0.042120</td>\n",
       "      <td>-0.036619</td>\n",
       "      <td>-0.005253</td>\n",
       "      <td>-0.000000</td>\n",
       "      <td>-0.000000</td>\n",
       "    </tr>\n",
       "    <tr>\n",
       "      <th>CRIM</th>\n",
       "      <td>-0.098193</td>\n",
       "      <td>-0.097894</td>\n",
       "      <td>-0.083289</td>\n",
       "      <td>-0.063437</td>\n",
       "      <td>-0.000000</td>\n",
       "    </tr>\n",
       "    <tr>\n",
       "      <th>LSTAT</th>\n",
       "      <td>-0.560431</td>\n",
       "      <td>-0.568769</td>\n",
       "      <td>-0.656290</td>\n",
       "      <td>-0.761115</td>\n",
       "      <td>-0.807679</td>\n",
       "    </tr>\n",
       "    <tr>\n",
       "      <th>PTRATIO</th>\n",
       "      <td>-0.765107</td>\n",
       "      <td>-0.770654</td>\n",
       "      <td>-0.758752</td>\n",
       "      <td>-0.722966</td>\n",
       "      <td>-0.265072</td>\n",
       "    </tr>\n",
       "    <tr>\n",
       "      <th>DIS</th>\n",
       "      <td>-1.176583</td>\n",
       "      <td>-1.160538</td>\n",
       "      <td>-0.936605</td>\n",
       "      <td>-0.668790</td>\n",
       "      <td>-0.000000</td>\n",
       "    </tr>\n",
       "  </tbody>\n",
       "</table>\n",
       "</div>"
      ],
      "text/plain": [
       "         alpha : 0.07  alpha : 0.1  alpha : 0.5  alpha : 1  alpha : 3\n",
       "RM           3.789725     3.703202     2.498212   0.949811   0.000000\n",
       "CHAS         1.434343     0.955190     0.000000   0.000000   0.000000\n",
       "RAD          0.270936     0.274707     0.277451   0.264206   0.061864\n",
       "ZN           0.049059     0.049211     0.049544   0.049165   0.037231\n",
       "B            0.010248     0.010249     0.009469   0.008247   0.006510\n",
       "NOX         -0.000000    -0.000000    -0.000000  -0.000000   0.000000\n",
       "AGE         -0.011706    -0.010037     0.003604   0.020910   0.042495\n",
       "TAX         -0.014290    -0.014570    -0.015442  -0.015212  -0.008602\n",
       "INDUS       -0.042120    -0.036619    -0.005253  -0.000000  -0.000000\n",
       "CRIM        -0.098193    -0.097894    -0.083289  -0.063437  -0.000000\n",
       "LSTAT       -0.560431    -0.568769    -0.656290  -0.761115  -0.807679\n",
       "PTRATIO     -0.765107    -0.770654    -0.758752  -0.722966  -0.265072\n",
       "DIS         -1.176583    -1.160538    -0.936605  -0.668790  -0.000000"
      ]
     },
     "execution_count": 10,
     "metadata": {},
     "output_type": "execute_result"
    }
   ],
   "source": [
    "# 반환된 coeff_lasso_df를 첫번째 Column 순으로 내림차순 정렬하여 회귀계수 DataFrame 출력\n",
    "sort_column = 'alpha : ' + str(lasso_alphas[0])\n",
    "coeff_lasso_df.sort_values(by = sort_column, ascending = False)"
   ]
  },
  {
   "cell_type": "markdown",
   "id": "a39ecdb2",
   "metadata": {},
   "source": [
    "- alpha의 크기가 증가함에 따라 일부 Feature의 회귀 계수가 아예 0으로 바뀜\n",
    "- NOX 속성은 alpha가 0.07일 때부터 회귀 계수가 0이며, alpha가 증가하면서 INDUS, CHAS와 같은 Feature의 회귀 계수가 0으로 바뀜\n",
    " - 회귀 계수가 0인 Feature는 회귀 식에서 제외되면서, Feature 선택의 효과\n",
    " \n",
    "#### 4) 엘라스틱넷 회귀\n",
    "- 엘라스틱넷(Elastic Net) 회귀는 L2 규제와 L1 규제를 결합한 회귀\n",
    "- $RSS(W) + alpha2*||W||^2_2 + alpha1*||W||_1)$ 식을 최소화하는 W를 찾고자 함\n",
    "- 라쏘 회귀는 서로 상관관계가 높은 Feature들의 경우, 이들 중 중요한 Feature만을 선택하고, 다른 Feature들은 회귀 계수를 모두 0으로 만들기에 alpha 값에 따라 회귀 계수의 값이 급격하게 변할 수 있음 => 이를 완화하기 위해 라쏘 회귀에 L2 규제 추가\n",
    "- 단) L1과 L2를 결합하여 규제를 적용하기 때문에, 수행시간이 상대적으로 오래 걸림\n",
    "- 사이킷런은 ElasticNet 클래스를 통해 엘라스틱넷 회귀를 구현\n",
    " - ElasticNet 클래스의 주요 생성 파라미터는 alpha와 l1_ratio이다.\n",
    " - 엘라스틱넷의 규제는 $a*L1 + b*L2$로 정의됨. 이때 a는 L1 규제의 alpha값, b는 L2 규제의 alpha 값\n",
    " - l1_ratio 파라미터 값은 a/(a+b). l1_ratio가 0이면 L2규제와 동일, l1_ratio가 1이면 L1 규제와 동일"
   ]
  },
  {
   "cell_type": "code",
   "execution_count": 12,
   "id": "4f9b8b80",
   "metadata": {},
   "outputs": [
    {
     "name": "stdout",
     "output_type": "stream",
     "text": [
      "#######  ElasticNet #######\n",
      "alpha 0.07일 때 5 폴드 세트의 평균 RMSE : 5.542 \n",
      "alpha 0.1일 때 5 폴드 세트의 평균 RMSE : 5.526 \n",
      "alpha 0.5일 때 5 폴드 세트의 평균 RMSE : 5.467 \n",
      "alpha 1일 때 5 폴드 세트의 평균 RMSE : 5.597 \n",
      "alpha 3일 때 5 폴드 세트의 평균 RMSE : 6.068 \n"
     ]
    }
   ],
   "source": [
    "# 엘라스틱넷에 사용될 alpha 파라미터의 값들을 정의하고 get_linear_reg_eval() 함수 호출\n",
    "# l1_ratio는 0.7로 고정\n",
    "elastic_alphas = [ 0.07, 0.1, 0.5, 1, 3]\n",
    "coeff_elastic_df = get_linear_reg_eval('ElasticNet', params = elastic_alphas, X_data_n = X_data, y_target_n = y_target)"
   ]
  },
  {
   "cell_type": "code",
   "execution_count": 13,
   "id": "2db2c935",
   "metadata": {},
   "outputs": [
    {
     "data": {
      "text/html": [
       "<div>\n",
       "<style scoped>\n",
       "    .dataframe tbody tr th:only-of-type {\n",
       "        vertical-align: middle;\n",
       "    }\n",
       "\n",
       "    .dataframe tbody tr th {\n",
       "        vertical-align: top;\n",
       "    }\n",
       "\n",
       "    .dataframe thead th {\n",
       "        text-align: right;\n",
       "    }\n",
       "</style>\n",
       "<table border=\"1\" class=\"dataframe\">\n",
       "  <thead>\n",
       "    <tr style=\"text-align: right;\">\n",
       "      <th></th>\n",
       "      <th>alpha : 0.07</th>\n",
       "      <th>alpha : 0.1</th>\n",
       "      <th>alpha : 0.5</th>\n",
       "      <th>alpha : 1</th>\n",
       "      <th>alpha : 3</th>\n",
       "    </tr>\n",
       "  </thead>\n",
       "  <tbody>\n",
       "    <tr>\n",
       "      <th>RM</th>\n",
       "      <td>3.574162</td>\n",
       "      <td>3.414154</td>\n",
       "      <td>1.918419</td>\n",
       "      <td>0.938789</td>\n",
       "      <td>0.000000</td>\n",
       "    </tr>\n",
       "    <tr>\n",
       "      <th>CHAS</th>\n",
       "      <td>1.330724</td>\n",
       "      <td>0.979706</td>\n",
       "      <td>0.000000</td>\n",
       "      <td>0.000000</td>\n",
       "      <td>0.000000</td>\n",
       "    </tr>\n",
       "    <tr>\n",
       "      <th>RAD</th>\n",
       "      <td>0.278880</td>\n",
       "      <td>0.283443</td>\n",
       "      <td>0.300761</td>\n",
       "      <td>0.289299</td>\n",
       "      <td>0.146846</td>\n",
       "    </tr>\n",
       "    <tr>\n",
       "      <th>ZN</th>\n",
       "      <td>0.050107</td>\n",
       "      <td>0.050617</td>\n",
       "      <td>0.052878</td>\n",
       "      <td>0.052136</td>\n",
       "      <td>0.038268</td>\n",
       "    </tr>\n",
       "    <tr>\n",
       "      <th>B</th>\n",
       "      <td>0.010122</td>\n",
       "      <td>0.010067</td>\n",
       "      <td>0.009114</td>\n",
       "      <td>0.008320</td>\n",
       "      <td>0.007020</td>\n",
       "    </tr>\n",
       "    <tr>\n",
       "      <th>AGE</th>\n",
       "      <td>-0.010116</td>\n",
       "      <td>-0.008276</td>\n",
       "      <td>0.007760</td>\n",
       "      <td>0.020348</td>\n",
       "      <td>0.043446</td>\n",
       "    </tr>\n",
       "    <tr>\n",
       "      <th>TAX</th>\n",
       "      <td>-0.014522</td>\n",
       "      <td>-0.014814</td>\n",
       "      <td>-0.016046</td>\n",
       "      <td>-0.016218</td>\n",
       "      <td>-0.011417</td>\n",
       "    </tr>\n",
       "    <tr>\n",
       "      <th>INDUS</th>\n",
       "      <td>-0.044855</td>\n",
       "      <td>-0.042719</td>\n",
       "      <td>-0.023252</td>\n",
       "      <td>-0.000000</td>\n",
       "      <td>-0.000000</td>\n",
       "    </tr>\n",
       "    <tr>\n",
       "      <th>CRIM</th>\n",
       "      <td>-0.099468</td>\n",
       "      <td>-0.099213</td>\n",
       "      <td>-0.089070</td>\n",
       "      <td>-0.073577</td>\n",
       "      <td>-0.019058</td>\n",
       "    </tr>\n",
       "    <tr>\n",
       "      <th>NOX</th>\n",
       "      <td>-0.175072</td>\n",
       "      <td>-0.000000</td>\n",
       "      <td>-0.000000</td>\n",
       "      <td>-0.000000</td>\n",
       "      <td>-0.000000</td>\n",
       "    </tr>\n",
       "    <tr>\n",
       "      <th>LSTAT</th>\n",
       "      <td>-0.574822</td>\n",
       "      <td>-0.587702</td>\n",
       "      <td>-0.693861</td>\n",
       "      <td>-0.760457</td>\n",
       "      <td>-0.800368</td>\n",
       "    </tr>\n",
       "    <tr>\n",
       "      <th>PTRATIO</th>\n",
       "      <td>-0.779498</td>\n",
       "      <td>-0.784725</td>\n",
       "      <td>-0.790969</td>\n",
       "      <td>-0.738672</td>\n",
       "      <td>-0.423065</td>\n",
       "    </tr>\n",
       "    <tr>\n",
       "      <th>DIS</th>\n",
       "      <td>-1.189438</td>\n",
       "      <td>-1.173647</td>\n",
       "      <td>-0.975902</td>\n",
       "      <td>-0.725174</td>\n",
       "      <td>-0.031208</td>\n",
       "    </tr>\n",
       "  </tbody>\n",
       "</table>\n",
       "</div>"
      ],
      "text/plain": [
       "         alpha : 0.07  alpha : 0.1  alpha : 0.5  alpha : 1  alpha : 3\n",
       "RM           3.574162     3.414154     1.918419   0.938789   0.000000\n",
       "CHAS         1.330724     0.979706     0.000000   0.000000   0.000000\n",
       "RAD          0.278880     0.283443     0.300761   0.289299   0.146846\n",
       "ZN           0.050107     0.050617     0.052878   0.052136   0.038268\n",
       "B            0.010122     0.010067     0.009114   0.008320   0.007020\n",
       "AGE         -0.010116    -0.008276     0.007760   0.020348   0.043446\n",
       "TAX         -0.014522    -0.014814    -0.016046  -0.016218  -0.011417\n",
       "INDUS       -0.044855    -0.042719    -0.023252  -0.000000  -0.000000\n",
       "CRIM        -0.099468    -0.099213    -0.089070  -0.073577  -0.019058\n",
       "NOX         -0.175072    -0.000000    -0.000000  -0.000000  -0.000000\n",
       "LSTAT       -0.574822    -0.587702    -0.693861  -0.760457  -0.800368\n",
       "PTRATIO     -0.779498    -0.784725    -0.790969  -0.738672  -0.423065\n",
       "DIS         -1.189438    -1.173647    -0.975902  -0.725174  -0.031208"
      ]
     },
     "execution_count": 13,
     "metadata": {},
     "output_type": "execute_result"
    }
   ],
   "source": [
    "# 반환된 coeff_elastic_df를 내림차순 정렬하여 회귀계수 DataFrame 출력\n",
    "sort_column = 'alpha : ' + str(elastic_alphas[0])\n",
    "coeff_elastic_df.sort_values(by = sort_column, ascending = False)"
   ]
  },
  {
   "cell_type": "markdown",
   "id": "d3c73857",
   "metadata": {},
   "source": [
    "- alpha가 0.5일 때, RMSE가 5.467로 가장 좋은 예측 성능\n",
    "- Feature들의 회귀 계수들 값이 라쏘보다는 상대적으로 0이 되는 값이 적dma\n",
    "\n",
    "1. 규제선형회귀의 기법중 어떤것이 가장 좋은지는 상황에 따라 다름\n",
    "2. 각각의 알고리즘에서 하이퍼파라미터를 변경해가며 최적의 예측 성능을 찾아야 함.\n",
    "3. 선형 회귀의 경우 최적의 하이퍼 파라미터를 찾아내는 것 못지않게 데이터분포도의 정규화와 인코딩 방법이 매우 중요\n",
    "\n",
    "#### 5) 선형 회귀 모델을 위한 데이터 변환"
   ]
  },
  {
   "cell_type": "markdown",
   "id": "8c7dbeb4",
   "metadata": {},
   "source": [
    "- 선형 회귀 모델과 같은 선형 모델은 일반적으로 Feature와 Target 값 간에 선형의 관계가 있다고 가정하고, 데이터들을 가장 잘 표현하는 최적의 선형 함수를 찾아, 결과값을 예측\n",
    "- 선형 회귀 모델은 Feature와 Target 값의 분포로 정규 분포를 선호.\n",
    "- 특히 타깃값의 경우, 특정 값으로 치우친 왜곡(Skew)된 형태의 분포도일 경우, 예측 성능에 부정적인 영향을 미칠 가능성이 높음\n",
    " - 피처값 역시 Target 값보다는 덜하지만, 왜곡된 분포도로 인해 예측 성능에 부정적인 영향을 미칠 수 있음\n",
    " - 따라서 선형 회귀 모델을 적용하기 전에 먼저 데이터를 스케일링하거나 정규화하는 것이 일반적\n",
    "- 일반적으로 중요 피처들이나 타깃값의 분포가 심하게 왜곡되었을 때, 이러한 변환 작업을 수행\n",
    "\n",
    "1. StandardScaler 클래스를 이용해 평균이 0, 분산이 1인 표준 정규 분포를 가진 데이터셋으로 변환하거나 MinMaxScaler 클래스를 이용해 최솟값이 0이고, 최댓값이 1인 값으로 정규화를 수행\n",
    "2. 스케일링/정규화를 수행한 데이터셋에 다시 다항 특성을 적용하여 변환. 보통 1번을 적용했는데도, 예측 성능이 향상되지 않을 경우 이와 같은 방법을 적용\n",
    "3. 원래 값에 log 함수를 적용하면 정규 분포에 가까운 형태로 값이 분포됨. 이러한 변환을 **로그 변환(Log Transformation)** 이라고 부름. 1번 방법은 예측 성능이 크게 향상되기 힘들고, 2번 방법은 피처의 개수가 많을 경우 과적합 이슈가 발생할 수 있기 때문에 실제로 로그 변환이 1, 2번 방법보다 자주 사용됨\n",
    "\n",
    "- 타깃값의 경우 일반적으로 로그 변환 적용\n",
    " - 정규 분포나 다른 값으로 변환하면 변환된 값을 다시 원본 값으로 복원하기 어려움"
   ]
  },
  {
   "cell_type": "code",
   "execution_count": 25,
   "id": "fe3f6b49",
   "metadata": {},
   "outputs": [],
   "source": [
    "from sklearn.preprocessing import StandardScaler, MinMaxScaler, PolynomialFeatures\n",
    "\n",
    "# method는 표준 정규 분포 변환(Standard), 최대값/최소값 정규화(MinMax), 로그변환(Log) 결정\n",
    "# p_degree는 다향식 특성을 추가할 때 적용. p_degree는 2이상 부여하지 않음. \n",
    "from sklearn.preprocessing import StandardScaler, MinMaxScaler, PolynomialFeatures\n",
    "\n",
    "def get_scaled_data(method = 'None', p_degree = None, input_data = None):\n",
    "    if method == 'Standard':\n",
    "        scaled_data = StandardScaler().fit_transform(input_data)\n",
    "    elif method == 'MinMax':\n",
    "        scaled_data = MinMaxScaler().fit_transform(input_data)\n",
    "    elif method == 'Log':\n",
    "        scaled_data = np.log1p(input_data)\n",
    "    else:\n",
    "        scaled_data = input_data\n",
    "    if p_degree != None:\n",
    "        scaled_data = PolynomialFeatures(degree = p_degree, include_bias = False).fit_transform(scaled_data)\n",
    "    return scaled_data"
   ]
  },
  {
   "cell_type": "code",
   "execution_count": 27,
   "id": "266932fa",
   "metadata": {},
   "outputs": [
    {
     "name": "stdout",
     "output_type": "stream",
     "text": [
      "\n",
      "## 변환 유형: None, Polynomial Degree: None\n",
      "alpha 0.1 일 때, 5 folds 의 평균 RMSE: 5.788\n",
      "alpha 1 일 때, 5 folds 의 평균 RMSE: 5.653\n",
      "alpha 10 일 때, 5 folds 의 평균 RMSE: 5.518\n",
      "alpha 100 일 때, 5 folds 의 평균 RMSE: 5.330\n",
      "\n",
      "## 변환 유형: Standard, Polynomial Degree: None\n",
      "alpha 0.1 일 때, 5 folds 의 평균 RMSE: 5.826\n",
      "alpha 1 일 때, 5 folds 의 평균 RMSE: 5.803\n",
      "alpha 10 일 때, 5 folds 의 평균 RMSE: 5.637\n",
      "alpha 100 일 때, 5 folds 의 평균 RMSE: 5.421\n",
      "\n",
      "## 변환 유형: Standard, Polynomial Degree: 2\n",
      "alpha 0.1 일 때, 5 folds 의 평균 RMSE: 8.827\n",
      "alpha 1 일 때, 5 folds 의 평균 RMSE: 6.871\n",
      "alpha 10 일 때, 5 folds 의 평균 RMSE: 5.485\n",
      "alpha 100 일 때, 5 folds 의 평균 RMSE: 4.634\n",
      "\n",
      "## 변환 유형: MinMax, Polynomial Degree: None\n",
      "alpha 0.1 일 때, 5 folds 의 평균 RMSE: 5.764\n",
      "alpha 1 일 때, 5 folds 의 평균 RMSE: 5.465\n",
      "alpha 10 일 때, 5 folds 의 평균 RMSE: 5.754\n",
      "alpha 100 일 때, 5 folds 의 평균 RMSE: 7.635\n",
      "\n",
      "## 변환 유형: MinMax, Polynomial Degree: 2\n",
      "alpha 0.1 일 때, 5 folds 의 평균 RMSE: 5.298\n",
      "alpha 1 일 때, 5 folds 의 평균 RMSE: 4.323\n",
      "alpha 10 일 때, 5 folds 의 평균 RMSE: 5.185\n",
      "alpha 100 일 때, 5 folds 의 평균 RMSE: 6.538\n",
      "\n",
      "## 변환 유형: Log, Polynomial Degree: None\n",
      "alpha 0.1 일 때, 5 folds 의 평균 RMSE: 4.770\n",
      "alpha 1 일 때, 5 folds 의 평균 RMSE: 4.676\n",
      "alpha 10 일 때, 5 folds 의 평균 RMSE: 4.836\n",
      "alpha 100 일 때, 5 folds 의 평균 RMSE: 6.241\n"
     ]
    }
   ],
   "source": [
    "# Ridge의 alpha 값을 다르게 적용하고, 다양한 데이터 변환 방법에 따른 RMSE 추출\n",
    "alphas = [0.1, 1, 10, 100]\n",
    "\n",
    "# 5개 방식으로 변환. 먼저 원본 그대로, 표준정규분포, 표준정규분포 + 다항식 특성\n",
    "# 최대/최소 정규화, 최대/최소 정규화 + 다항식 특성, 로그 변환\n",
    "scale_methods = [(None, None), ('Standard', None), ('Standard', 2), \n",
    "                ('MinMax', None), ('MinMax', 2), ('Log', None)]\n",
    "\n",
    "for scale_method in scale_methods:\n",
    "    X_data_scaled = get_scaled_data(method = scale_method[0], p_degree = scale_method[1], input_data = X_data)\n",
    "    print('\\n## 변환 유형: {0}, Polynomial Degree: {1}'.format(scale_method[0], scale_method[1]))\n",
    "    get_linear_reg_eval('Ridge', params = alphas, X_data_n = X_data_scaled, y_target_n = y_target, verbose = False)"
   ]
  },
  {
   "cell_type": "markdown",
   "id": "fc6b101f",
   "metadata": {},
   "source": [
    "- 표준 정규 분포나 최솟값/최댓값 정규화로 Feature 데이터셋을 변경해도 성능 상의 개선은 없음\n",
    "- 다항식 변환은 Feature 개수가 많을 경우 과적합 때문에 적용하기 힘들며, 계산에 많은 시간이 소모되어 한계가 있음\n",
    "- 로그 변환 결과를 보면 alpha가 0.1, 1, 10일 때, 성능이 개선\n",
    "\n",
    "### 07 로지스틱 회귀\n",
    "- 로지스틱 회귀는 선형 회귀 방식을 분류에 적용한 알고리즘\n",
    "- 로지스틱 역시 가중치 변수(weight)가 선형이기 때문에, 선형 회귀 계열에 속함\n",
    "- 로지스틱 회귀는 선형 함수의 회귀 최적선을 찾는 것이 아니라 시그모이드(Sigmoid) 함수 최적선을 찾고, 이 함수의 반환 값을 확률로 간주해 확률에 따라 분류를 결정\n",
    "- 시그모이드 함수 : 1/(1+exp(-x))\n",
    " - x 값이 무한대로 가더라도, y 값은 항상 0과 1 사이의 값을 반환\n",
    " - x 값이 커지면 1에 근사하고, x 값이 작아지면 0에 근사\n",
    " - x = 0일 때, 함수값은 0.5"
   ]
  },
  {
   "cell_type": "code",
   "execution_count": 28,
   "id": "14b73329",
   "metadata": {},
   "outputs": [],
   "source": [
    "import pandas as pd\n",
    "import matplotlib.pyplot as plt\n",
    "%matplotlib inline\n",
    "\n",
    "from sklearn.datasets import load_breast_cancer\n",
    "from sklearn.linear_model import LogisticRegression\n",
    "\n",
    "cancer = load_breast_cancer()"
   ]
  },
  {
   "cell_type": "code",
   "execution_count": 29,
   "id": "db303d1d",
   "metadata": {},
   "outputs": [],
   "source": [
    "from sklearn.preprocessing import StandardScaler\n",
    "from sklearn.model_selection import train_test_split\n",
    "\n",
    "# StandardScaler()로 평균이 0, 분산 1로 데이터 분포도 변환\n",
    "scaler = StandardScaler()\n",
    "data_scaled = scaler.fit_transform(cancer.data)\n",
    "\n",
    "X_train, X_test, y_train, y_test = train_test_split(data_scaled, cancer.target, test_size = 0.3, random_state = 0)"
   ]
  },
  {
   "cell_type": "code",
   "execution_count": 30,
   "id": "4fd9b5be",
   "metadata": {},
   "outputs": [
    {
     "name": "stdout",
     "output_type": "stream",
     "text": [
      "accuracy : 0.977\n",
      "roc_auc : 0.972\n"
     ]
    }
   ],
   "source": [
    "from sklearn.metrics import accuracy_score, roc_auc_score\n",
    "\n",
    "# 로지스틱 회귀를 이용해 학습 및 예측 수행. \n",
    "lr_clf = LogisticRegression()\n",
    "lr_clf.fit(X_train, y_train)\n",
    "lr_preds = lr_clf.predict(X_test)\n",
    "\n",
    "# 정확도와 roc_auc 측정\n",
    "print('accuracy : {:0.3f}'.format(accuracy_score(y_test, lr_preds)))\n",
    "print('roc_auc : {:0.3f}'.format(roc_auc_score(y_test , lr_preds)))"
   ]
  },
  {
   "cell_type": "markdown",
   "id": "9f2bcf36",
   "metadata": {},
   "source": [
    "- 사이킷런 LogisticRegression 클래스의 주요 하이퍼 파라미터들\n",
    "1. penalty : 규제(Regularization)의 유형을 설정한다. 'l2'이면, L2 규제를, 'l1'이면 L1 규제를 적용. 디폴트는 'l2'\n",
    "2. C : 1/alpha. C값이 작을수록 규제 강도가 큼"
   ]
  },
  {
   "cell_type": "code",
   "execution_count": 35,
   "id": "4b74d4e1",
   "metadata": {},
   "outputs": [
    {
     "name": "stdout",
     "output_type": "stream",
     "text": [
      "최적 하이퍼 파라미터:{'C': 1, 'penalty': 'l2'}, 최적 평균 정확도:0.975\n"
     ]
    }
   ],
   "source": [
    "# 하이퍼파라미터 최적화\n",
    "from sklearn.model_selection import GridSearchCV\n",
    "import warnings\n",
    "warnings.filterwarnings(action='ignore')\n",
    "\n",
    "params={'penalty':['l2', 'l1'],\n",
    "        'C':[0.01, 0.1, 1, 1, 5, 10]}\n",
    "\n",
    "grid_clf = GridSearchCV(lr_clf, param_grid = params, scoring = 'accuracy', cv = 3 )\n",
    "grid_clf.fit(data_scaled, cancer.target)\n",
    "print('최적 하이퍼 파라미터:{0}, 최적 평균 정확도:{1:.3f}'.format(grid_clf.best_params_, grid_clf.best_score_))"
   ]
  },
  {
   "cell_type": "markdown",
   "id": "0b4a09b3",
   "metadata": {},
   "source": [
    "- 로지스틱 회귀는 가볍고 빠르지만, 이진 분류 예측 성능도 좋음\n",
    "- 로지스틱 회귀는 희소한 데이터셋 분류에서도 뛰어난 성능을 보이며, 텍스트 분류에서도 자주 사용됨\n",
    "\n",
    "### 08 회귀 트리\n",
    "- 비선형 회귀 역시 비선형 회귀 함수를 통해 결과값을 예측, 다만 회귀 계수의 결합이 비선형이라는 차이\n",
    "- 머신러닝에서 회귀는 회귀 계수를 기반으로 하는 최적 회귀 함수를 도출하는 것이 주요 목표이다.\n",
    "\n",
    "- 트리 기반의 회귀 : 회귀를 위한 트리를 생성하고, 이를 기반으로 회귀 예측을 한다.\n",
    " - 분류 트리는 특정 클래스 레이블을 결정하지만, 회귀 트리는 리프 노드에 속한 데이터 값의 평균값을 구해 회귀 예측값을 계산\n",
    " - CART(Classification And Regression Tree)는 분류뿐만 아니라 회귀도 가능한 트리 생성 알고리즘. 결정 트리, 랜덤 포레스트, GBM, XGBoost, LightGBM 등의 모든 트리 기반 알고리즘은 회귀도 가능"
   ]
  },
  {
   "cell_type": "code",
   "execution_count": 36,
   "id": "86254220",
   "metadata": {},
   "outputs": [
    {
     "name": "stdout",
     "output_type": "stream",
     "text": [
      " 5 교차 검증의 개별 Negative MSE scores :  [ -7.88 -13.14 -20.57 -46.23 -18.88]\n",
      " 5 교차 검증의 개별 RMSE scores :  [2.81 3.63 4.54 6.8  4.34]\n",
      " 5 교차 검증의 평균 RMSE : 4.423 \n"
     ]
    }
   ],
   "source": [
    "from sklearn.datasets import load_boston\n",
    "from sklearn.model_selection import cross_val_score\n",
    "from sklearn.ensemble import RandomForestRegressor\n",
    "import pandas as pd\n",
    "import numpy as np\n",
    "\n",
    "# 보스턴 데이터 세트 로드\n",
    "boston = load_boston()\n",
    "bostonDF = pd.DataFrame(boston.data, columns = boston.feature_names)\n",
    "\n",
    "bostonDF['PRICE'] = boston.target\n",
    "y_target = bostonDF['PRICE']\n",
    "X_data = bostonDF.drop(['PRICE'], axis=1,inplace=False)\n",
    "\n",
    "rf = RandomForestRegressor(random_state = 0, n_estimators = 1000)\n",
    "neg_mse_scores = cross_val_score(rf, X_data, y_target, scoring = \"neg_mean_squared_error\", cv = 5)\n",
    "rmse_scores  = np.sqrt(-1 * neg_mse_scores)\n",
    "avg_rmse = np.mean(rmse_scores)\n",
    "\n",
    "print(' 5 교차 검증의 개별 Negative MSE scores : ', np.round(neg_mse_scores, 2))\n",
    "print(' 5 교차 검증의 개별 RMSE scores : ', np.round(rmse_scores, 2))\n",
    "print(' 5 교차 검증의 평균 RMSE : {0:.3f} '.format(avg_rmse))"
   ]
  },
  {
   "cell_type": "code",
   "execution_count": 37,
   "id": "fe6b134c",
   "metadata": {},
   "outputs": [],
   "source": [
    "def get_model_cv_prediction(model, X_data, y_target):\n",
    "    neg_mse_scores = cross_val_score(model, X_data, y_target, scoring = \"neg_mean_squared_error\", cv = 5)\n",
    "    rmse_scores  = np.sqrt(-1 * neg_mse_scores)\n",
    "    avg_rmse = np.mean(rmse_scores)\n",
    "\n",
    "    print('##### ', model.__class__.__name__ , ' #####')\n",
    "    print(' 5 교차 검증의 평균 RMSE : {0:.3f} '.format(avg_rmse))"
   ]
  },
  {
   "cell_type": "code",
   "execution_count": 38,
   "id": "f72a2798",
   "metadata": {},
   "outputs": [
    {
     "name": "stdout",
     "output_type": "stream",
     "text": [
      "#####  DecisionTreeRegressor  #####\n",
      " 5 교차 검증의 평균 RMSE : 5.978 \n",
      "#####  RandomForestRegressor  #####\n",
      " 5 교차 검증의 평균 RMSE : 4.423 \n",
      "#####  GradientBoostingRegressor  #####\n",
      " 5 교차 검증의 평균 RMSE : 4.269 \n",
      "#####  XGBRegressor  #####\n",
      " 5 교차 검증의 평균 RMSE : 4.251 \n",
      "#####  LGBMRegressor  #####\n",
      " 5 교차 검증의 평균 RMSE : 4.646 \n"
     ]
    }
   ],
   "source": [
    "from sklearn.tree import DecisionTreeRegressor\n",
    "from sklearn.ensemble import GradientBoostingRegressor\n",
    "from xgboost import XGBRegressor\n",
    "from lightgbm import LGBMRegressor\n",
    "dt_reg = DecisionTreeRegressor(random_state = 0, max_depth = 4)\n",
    "rf_reg = RandomForestRegressor(random_state = 0, n_estimators = 1000)\n",
    "gb_reg = GradientBoostingRegressor(random_state = 0, n_estimators = 1000)\n",
    "xgb_reg = XGBRegressor(n_estimators = 1000)\n",
    "lgb_reg = LGBMRegressor(n_estimators = 1000)\n",
    "\n",
    "# 트리 기반의 회귀 모델을 반복하면서 평가 수행 \n",
    "models = [dt_reg, rf_reg, gb_reg, xgb_reg, lgb_reg]\n",
    "\n",
    "for model in models:  \n",
    "    get_model_cv_prediction(model, X_data, y_target)"
   ]
  },
  {
   "cell_type": "code",
   "execution_count": 39,
   "id": "f267dcbb",
   "metadata": {},
   "outputs": [
    {
     "data": {
      "text/plain": [
       "<AxesSubplot:>"
      ]
     },
     "execution_count": 39,
     "metadata": {},
     "output_type": "execute_result"
    },
    {
     "data": {
      "image/png": "[encoded data removed]",
      "text/plain": [
       "<Figure size 432x288 with 1 Axes>"
      ]
     },
     "metadata": {
      "needs_background": "light"
     },
     "output_type": "display_data"
    }
   ],
   "source": [
    "# 회귀 트리 클래스는 회귀계수를 제공하는 coef_ 속성이 없고 feature_importances_를 이용해 피처별 중요도 시각화 가능\n",
    "\n",
    "import seaborn as sns\n",
    "%matplotlib inline\n",
    "\n",
    "rf_reg = RandomForestRegressor(n_estimators = 1000)\n",
    "\n",
    "# 앞에서 만들어진 X_data, y_target 데이터셋을 적용해 학습  \n",
    "rf_reg.fit(X_data, y_target)\n",
    "\n",
    "feature_series = pd.Series(data = rf_reg.feature_importances_, index = X_data.columns )\n",
    "feature_series = feature_series.sort_values(ascending = False) # 내림차순\n",
    "sns.barplot(x = feature_series, y = feature_series.index)"
   ]
  },
  {
   "cell_type": "code",
   "execution_count": 40,
   "id": "68d75a35",
   "metadata": {},
   "outputs": [
    {
     "name": "stdout",
     "output_type": "stream",
     "text": [
      "(100, 2)\n"
     ]
    },
    {
     "data": {
      "text/plain": [
       "<matplotlib.collections.PathCollection at 0x17f56112310>"
      ]
     },
     "execution_count": 40,
     "metadata": {},
     "output_type": "execute_result"
    },
    {
     "data": {
      "image/png": "[encoded data removed]",
      "text/plain": [
       "<Figure size 432x288 with 1 Axes>"
      ]
     },
     "metadata": {
      "needs_background": "light"
     },
     "output_type": "display_data"
    }
   ],
   "source": [
    "# 회귀 트리 Regressor가 어떻게 예측값을 판단하는지 선형 회귀와 비교화 시각화\n",
    "## 하이퍼파라미터 max_depth 크기를 변화시키며 회귀 트리 예측선이 어떻게 변화하는지 파악\n",
    "# Price와 가장 밀접한 양의 상관관계를 가지는 RM 칼럼만 이용해 선형 회귀와 결정 트리 회귀로  PRICE 예측 회귀선 표현\n",
    "\n",
    "# 보스턴 데이터 세트의 개수를 100개만 샘플리해 RM, PRICE 칼럼만 추출\n",
    "bostonDF_sample = bostonDF[['RM','PRICE']]\n",
    "bostonDF_sample = bostonDF_sample.sample( n =100, random_state = 0)\n",
    "print(bostonDF_sample.shape)\n",
    "plt.figure()\n",
    "plt.scatter(bostonDF_sample.RM, bostonDF_sample.PRICE, c = \"darkorange\")"
   ]
  },
  {
   "cell_type": "code",
   "execution_count": 42,
   "id": "e521ffb1",
   "metadata": {},
   "outputs": [],
   "source": [
    "import numpy as np\n",
    "from sklearn.linear_model import LinearRegression\n",
    "\n",
    "# 선형 회귀와 결정 트리 기반의 Regressor 생성. DecisionTreeRegressor의 max_depth는 각각 2, 7\n",
    "lr_reg = LinearRegression()\n",
    "rf_reg2 = DecisionTreeRegressor(max_depth = 2)\n",
    "rf_reg7 = DecisionTreeRegressor(max_depth = 7)\n",
    "\n",
    "# 실제 예측을 적용할 테스트용 데이터 셋을 4.5 ~ 8.5 까지 100개 테스트 데이터세트로 생성\n",
    "X_test = np.arange(4.5, 8.5, 0.04).reshape(-1, 1)\n",
    "\n",
    "# 보스턴 주택가격 데이터에서 시각화를 위해 피처는 RM만, 결정 데이터인 PRICE 추출\n",
    "X_feature = bostonDF_sample['RM'].values.reshape(-1,1)\n",
    "y_target = bostonDF_sample['PRICE'].values.reshape(-1,1)\n",
    "\n",
    "# 학습과 예측 수행\n",
    "lr_reg.fit(X_feature, y_target)\n",
    "rf_reg2.fit(X_feature, y_target)\n",
    "rf_reg7.fit(X_feature, y_target)\n",
    "\n",
    "pred_lr = lr_reg.predict(X_test)\n",
    "pred_rf2 = rf_reg2.predict(X_test)\n",
    "pred_rf7 = rf_reg7.predict(X_test)"
   ]
  },
  {
   "cell_type": "code",
   "execution_count": 43,
   "id": "c4753376",
   "metadata": {
    "scrolled": false
   },
   "outputs": [
    {
     "data": {
      "text/plain": [
       "[<matplotlib.lines.Line2D at 0x17f5622cb20>]"
      ]
     },
     "execution_count": 43,
     "metadata": {},
     "output_type": "execute_result"
    },
    {
     "data": {
      "image/png": "[encoded data removed]",
      "text/plain": [
       "<Figure size 1008x288 with 3 Axes>"
      ]
     },
     "metadata": {
      "needs_background": "light"
     },
     "output_type": "display_data"
    }
   ],
   "source": [
    "#  LinearRegression과 DecisionTreeRegressor로 학습된 Regressor에서 예측한 PRICE 회귀선 시각화\n",
    "fig , (ax1, ax2, ax3) = plt.subplots(figsize = (14,4), ncols = 3)\n",
    "\n",
    "# X축 값을 4.5~8.5로 변환하여 입력했을 때 선형 회귀와 결정 트리 회귀 예측선 시각환\n",
    "# 선형 회귀로 학습된 모델 회귀 예측선 \n",
    "ax1.set_title('Linear Regression')\n",
    "ax1.scatter(bostonDF_sample.RM, bostonDF_sample.PRICE, c = \"darkorange\")\n",
    "ax1.plot(X_test, pred_lr,label = \"linear\", linewidth = 2 )\n",
    "\n",
    "# DecisionTreeRegressor의 max_depth를 2로 했을 때 회귀 예측선 \n",
    "ax2.set_title('Decision Tree Regression : \\n max_depth = 2')\n",
    "ax2.scatter(bostonDF_sample.RM, bostonDF_sample.PRICE, c = \"darkorange\")\n",
    "ax2.plot(X_test, pred_rf2, label = \"max_depth : 3\", linewidth = 2 )\n",
    "\n",
    "# DecisionTreeRegressor의 max_depth를 7로 했을 때 회귀 예측선 \n",
    "ax3.set_title('Decision Tree Regression : \\n max_depth = 7')\n",
    "ax3.scatter(bostonDF_sample.RM, bostonDF_sample.PRICE, c = \"darkorange\")\n",
    "ax3.plot(X_test, pred_rf7, label = \"max_depth : 7\", linewidth = 2)"
   ]
  },
  {
   "cell_type": "markdown",
   "id": "88d9b210",
   "metadata": {},
   "source": [
    "- 선형 회귀는 직선으로 예측 회귀선을 가지는 반면, 회귀 트리의 경우 분할되는 데이터 지점에 따라 브랜치를 만들면서 계단 형태의 회귀선 생성\n",
    "- DecisionTreeRegressor의 max_depth = 7인 경우 과적합이 되기 쉬운 모델"
   ]
  }
 ],
 "metadata": {
  "kernelspec": {
   "display_name": "Python 3 (ipykernel)",
   "language": "python",
   "name": "python3"
  },
  "language_info": {
   "codemirror_mode": {
    "name": "ipython",
    "version": 3
   },
   "file_extension": ".py",
   "mimetype": "text/x-python",
   "name": "python",
   "nbconvert_exporter": "python",
   "pygments_lexer": "ipython3",
   "version": "3.9.7"
  }
 },
 "nbformat": 4,
 "nbformat_minor": 5
}
